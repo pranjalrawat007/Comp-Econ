{
 "cells": [
  {
   "cell_type": "markdown",
   "id": "266413b7",
   "metadata": {},
   "source": [
    "A statinary Recursive Competetive Equilibrium is ${V(a,z),s(a,z),c(a,z),r,w,k,n,g(a,z)}$\n",
    "\n",
    "(1)Given $G,w,r, F(z'|z)$; $s,c,V$ solve $V(a,z,K)=max_{s}{u(c)+E[V(s,z')|z]}$ such that $s+c=wz+(1+r)a, c\\geq0,s\\geq -B$\n",
    "\n",
    "(2)Given $w,r$; $k, n$ solve $max_{k,n}{k^\\alpha n^{1-\\alpha}-wn-(r+\\delta)k}$\n",
    "\n",
    "(3)$g(a,y)$ is stationary distribution, $g(a,z) = \\int{}{s(a,z)f(s|a)ds}$\n"
   ]
  },
  {
   "cell_type": "code",
   "execution_count": null,
   "id": "23ce02f2",
   "metadata": {},
   "outputs": [],
   "source": []
  }
 ],
 "metadata": {
  "kernelspec": {
   "display_name": "Julia 1.7.2",
   "language": "julia",
   "name": "julia-1.7"
  },
  "language_info": {
   "file_extension": ".jl",
   "mimetype": "application/julia",
   "name": "julia",
   "version": "1.7.2"
  }
 },
 "nbformat": 4,
 "nbformat_minor": 5
}
