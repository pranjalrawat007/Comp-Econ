{
 "cells": [
  {
   "cell_type": "markdown",
   "id": "9b347369",
   "metadata": {},
   "source": [
    "A Recursive Competetive Equilibrium is ${V(a,z,K),a(a,z,K), c(a,z,K), w(K),r(K),k(K),n(K),G}$\n",
    "\n",
    "(1)Given $G,w,r$; $a,c,V$ solve $V(a,z,K)=max_{a'}{u(c)+E[V(a',z',G(K))|z]}$ such that $a'+c=wz+(1+r)a, c\\geq0,a'\\geq -B$\n"
   ]
  },
  {
   "cell_type": "code",
   "execution_count": null,
   "id": "dc803675",
   "metadata": {},
   "outputs": [],
   "source": []
  }
 ],
 "metadata": {
  "kernelspec": {
   "display_name": "Julia 1.7.2",
   "language": "julia",
   "name": "julia-1.7"
  },
  "language_info": {
   "file_extension": ".jl",
   "mimetype": "application/julia",
   "name": "julia",
   "version": "1.7.2"
  }
 },
 "nbformat": 4,
 "nbformat_minor": 5
}
