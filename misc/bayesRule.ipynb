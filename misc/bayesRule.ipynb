{
 "cells": [
  {
   "cell_type": "code",
   "execution_count": null,
   "id": "1ae7c0a9",
   "metadata": {},
   "outputs": [],
   "source": [
    "# Mahmoud A. El-Gamal and David M. Grether (1995)\n",
    "# Are people Bayesian? "
   ]
  },
  {
   "cell_type": "code",
   "execution_count": 5,
   "id": "3343bb22",
   "metadata": {},
   "outputs": [
    {
     "name": "stdout",
     "output_type": "stream",
     "text": [
      "0.6666666666666666\n",
      "0 False\n",
      "1 False\n",
      "2 False\n",
      "3 True\n",
      "4 True\n",
      "5 True\n",
      "6 True\n",
      "0.5\n",
      "0 False\n",
      "1 False\n",
      "2 False\n",
      "3 False\n",
      "4 True\n",
      "5 True\n",
      "6 True\n",
      "0.3333333333333333\n",
      "0 False\n",
      "1 False\n",
      "2 False\n",
      "3 False\n",
      "4 False\n",
      "5 True\n",
      "6 True\n"
     ]
    }
   ],
   "source": [
    "# Calculate Bayes rule cutoffs for original game\n",
    "def conditionCheck(c,p):\n",
    "    a = 2**c * (1/3)**6 * p\n",
    "    b = 0.5**6 * (1-p)\n",
    "    return a/(a+b) >= 0.5\n",
    "\n",
    "P = [2/3,1/2,1/3]\n",
    "C = [0,1,2,3,4,5,6]\n",
    "\n",
    "for p in P:\n",
    "    print(p)\n",
    "    for c in C:\n",
    "        print(c, conditionCheck(c,p))"
   ]
  },
  {
   "cell_type": "code",
   "execution_count": 6,
   "id": "e2b21cc3",
   "metadata": {},
   "outputs": [
    {
     "data": {
      "text/plain": [
       "1.0"
      ]
     },
     "execution_count": 6,
     "metadata": {},
     "output_type": "execute_result"
    }
   ],
   "source": [
    "2/5+8/15+1/15\n"
   ]
  },
  {
   "cell_type": "code",
   "execution_count": 14,
   "id": "3c55737c",
   "metadata": {},
   "outputs": [
    {
     "name": "stdout",
     "output_type": "stream",
     "text": [
      "0.6666666666666666\n",
      "0.6666666666666666 1 0.0\n",
      "0.6666666666666666 2 0.5714285714285714\n",
      "0.6666666666666666 3 0.8421052631578948\n",
      "0.6666666666666666 4 1.0\n",
      "0.5\n",
      "0.5 1 0.0\n",
      "0.5 2 0.4\n",
      "0.5 3 0.7272727272727272\n",
      "0.5 4 1.0\n",
      "0.3333333333333333\n",
      "0.3333333333333333 1 0.0\n",
      "0.3333333333333333 2 0.25\n",
      "0.3333333333333333 3 0.5714285714285714\n",
      "0.3333333333333333 4 1.0\n"
     ]
    }
   ],
   "source": [
    "# Calculate Bayes rule cutoffs for game with 4 draws w/0 replacement\n",
    "\n",
    "def P_X_A(x):\n",
    "    if x == 2:\n",
    "        return 2/5\n",
    "    elif x ==3:\n",
    "        return 8/15\n",
    "    elif x==4:\n",
    "        return 1/15\n",
    "    else:\n",
    "        return 0\n",
    "    \n",
    "def P_X_B(x):\n",
    "    if x == 1:\n",
    "        return 1/5\n",
    "    elif x ==2:\n",
    "        return 3/5\n",
    "    elif x==3:\n",
    "        return 1/5\n",
    "    else:\n",
    "        return 0\n",
    "    \n",
    "def P_A_X(x,p):\n",
    "    return (P_X_A(x)*p)/(P_X_A(x)*p+P_X_B(x)*(1-p))\n",
    "\n",
    "for p in P:\n",
    "    print(p)\n",
    "    for x in [1,2,3,4]:\n",
    "        print(p, x, P_A_X(x,p))"
   ]
  },
  {
   "cell_type": "code",
   "execution_count": null,
   "id": "7ea644e9",
   "metadata": {},
   "outputs": [],
   "source": []
  }
 ],
 "metadata": {
  "kernelspec": {
   "display_name": "Python 3 (ipykernel)",
   "language": "python",
   "name": "python3"
  },
  "language_info": {
   "codemirror_mode": {
    "name": "ipython",
    "version": 3
   },
   "file_extension": ".py",
   "mimetype": "text/x-python",
   "name": "python",
   "nbconvert_exporter": "python",
   "pygments_lexer": "ipython3",
   "version": "3.10.9"
  }
 },
 "nbformat": 4,
 "nbformat_minor": 5
}
