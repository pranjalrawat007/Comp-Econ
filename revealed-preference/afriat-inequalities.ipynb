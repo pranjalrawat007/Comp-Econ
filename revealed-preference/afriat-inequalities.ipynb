{
 "cells": [
  {
   "cell_type": "code",
   "execution_count": 13,
   "id": "b7c65b0e",
   "metadata": {},
   "outputs": [
    {
     "name": "stderr",
     "output_type": "stream",
     "text": [
      "/var/folders/xt/r947d5fd2yz1_fkptq29sn8r0000gn/T/ipykernel_1701/3751579621.py:33: DeprecationWarning: `method='revised simplex'` is deprecated and will be removed in SciPy 1.11.0. Please use one of the HiGHS solvers (e.g. `method='highs'`) in new code.\n",
      "  solution = linprog(-c, A_ub=A, b_ub=b, method='revised simplex')\n"
     ]
    }
   ],
   "source": [
    "import numpy as np\n",
    "from scipy.optimize import linprog\n",
    "\n",
    "# Data - (p1,q1),(q1,q2)\n",
    "# Afriat Inequalities - u1, u2, l1, l2\n",
    "# u1-u1 - l1*p1(q1-q1) < 0\n",
    "# u1-u2 - l2*p2(q1-q2) < 0\n",
    "# u2-u1 - l1*p1(q2-q1) < 0\n",
    "# u2-u2 - l2*p2(q2-q2) < 0\n",
    "# -l1 < 0\n",
    "# -l2 < 0\n",
    "\n",
    "# linear program\n",
    "# max_{x} c'x s.t. Ax<b\n",
    "\n",
    "p1 = 1\n",
    "p2 = 2\n",
    "q1 = 2\n",
    "q2 = 3\n",
    "# init parameters\n",
    "c = np.array([0,0,0,0])\n",
    "A = np.array([[0, 0, 0, 0],\n",
    "              [1, -1, 0, -p2*(q1-q2)], \n",
    "              [-1, 1, -p1*(q2-q1), 0], \n",
    "              [0, 0, 0, 0], \n",
    "              [0, 0, -1, 0], \n",
    "              [0, 0, 0, -1],\n",
    "             ])\n",
    "b = np.array([0,0,0,0,-0.001,-0.001])\n",
    "\n",
    "# Solve the problem\n",
    "# we put a negative sign on the objective as linprog does minimization\n",
    "solution = linprog(-c, A_ub=A, b_ub=b, method='revised simplex')"
   ]
  },
  {
   "cell_type": "code",
   "execution_count": 16,
   "id": "e4e0effa",
   "metadata": {},
   "outputs": [
    {
     "name": "stdout",
     "output_type": "stream",
     "text": [
      "[0 0 0 0]\n",
      "[ 0.     0.     0.     0.    -0.001 -0.001]\n",
      "[[ 0  0  0  0]\n",
      " [ 1 -1  0  2]\n",
      " [-1  1 -1  0]\n",
      " [ 0  0  0  0]\n",
      " [ 0  0 -1  0]\n",
      " [ 0  0  0 -1]]\n"
     ]
    }
   ],
   "source": [
    "print(c)\n",
    "print(b)\n",
    "print(A)"
   ]
  },
  {
   "cell_type": "code",
   "execution_count": 144,
   "id": "66079f38",
   "metadata": {},
   "outputs": [
    {
     "name": "stdout",
     "output_type": "stream",
     "text": [
      "0\n",
      "[[0. 0. 0. 0.]\n",
      " [0. 0. 0. 0.]]\n",
      "0 0\n",
      "[[0. 0. 0. 0.]\n",
      " [0. 0. 0. 0.]]\n",
      "0 1\n",
      "[[0. 0. 0. 0.]\n",
      " [0. 0. 0. 0.]]\n",
      "1 0\n",
      "[[0. 0. 0. 0.]\n",
      " [0. 0. 0. 0.]]\n",
      "edit\n",
      "1 1\n",
      "[[ 0.  0.  0.  0.]\n",
      " [-1.  1.  0.  2.]]\n",
      "edit\n",
      "[[ 0.  0.  0.  0.]\n",
      " [-1.  1.  0.  2.]]\n",
      "1\n",
      "[[0. 0. 0. 0.]\n",
      " [0. 0. 0. 0.]]\n",
      "0 0\n",
      "[[0. 0. 0. 0.]\n",
      " [0. 0. 0. 0.]]\n",
      "edit\n",
      "0 1\n",
      "[[1. 0. 0. 0.]\n",
      " [0. 0. 0. 0.]]\n",
      "edit\n"
     ]
    },
    {
     "ename": "IndexError",
     "evalue": "index 4 is out of bounds for axis 1 with size 4",
     "output_type": "error",
     "traceback": [
      "\u001b[0;31m---------------------------------------------------------------------------\u001b[0m",
      "\u001b[0;31mIndexError\u001b[0m                                Traceback (most recent call last)",
      "Cell \u001b[0;32mIn [144], line 31\u001b[0m\n\u001b[1;32m     29\u001b[0m             temp[i, i] \u001b[38;5;241m=\u001b[39m \u001b[38;5;241m1\u001b[39m\n\u001b[1;32m     30\u001b[0m             \u001b[38;5;28;01mif\u001b[39;00m j \u001b[38;5;241m!=\u001b[39m i:\n\u001b[0;32m---> 31\u001b[0m                 \u001b[43mtemp\u001b[49m\u001b[43m[\u001b[49m\u001b[43mi\u001b[49m\u001b[43m,\u001b[49m\u001b[43m \u001b[49m\u001b[43mN\u001b[49m\u001b[38;5;241;43m+\u001b[39;49m\u001b[38;5;241;43m1\u001b[39;49m\u001b[38;5;241;43m+\u001b[39;49m\u001b[43mj\u001b[49m\u001b[43m]\u001b[49m \u001b[38;5;241m=\u001b[39m p[i]\u001b[38;5;241m*\u001b[39m(q[i] \u001b[38;5;241m-\u001b[39m q[j])\n\u001b[1;32m     32\u001b[0m \u001b[38;5;28mprint\u001b[39m(temp)\n",
      "\u001b[0;31mIndexError\u001b[0m: index 4 is out of bounds for axis 1 with size 4"
     ]
    }
   ],
   "source": [
    "p = np.array([1,2])\n",
    "q = np.array([2,3])\n",
    "N = len(q)\n",
    "c = np.zeros(2*N)\n",
    "b = np.zeros(N*N+N)\n",
    "b[-N:] = -0.001\n",
    "A = np.zeros((N*N+N, N+N))\n",
    "\n",
    "for i in range(N*N+N):\n",
    "    for j in range(N+N):\n",
    "        if i > (N*N-1):\n",
    "            if i-N*N == j-N:\n",
    "                A[i,j] = -1\n",
    "        \n",
    "\n",
    "for a in range(N):\n",
    "    print(a)\n",
    "    temp = A[a*N:a*N+N, 0:2*N]\n",
    "    print(temp)\n",
    "    for i in range(N):\n",
    "        for j in range(N):\n",
    "            print(i, j)\n",
    "            print(temp)\n",
    "            if i == a: \n",
    "                pass\n",
    "            else: \n",
    "                print('edit')\n",
    "                temp[i, j] = -1\n",
    "                temp[i, i] = 1\n",
    "                if j != i:\n",
    "                    temp[i, N+1+j] = p[i]*(q[i] - q[j])\n",
    "    print(temp)\n",
    "    #A[a*N:a*N+N, 0:2*N] = temp\n",
    "           \n",
    "#print(c)\n",
    "#print(b)\n",
    "#print(A)"
   ]
  },
  {
   "cell_type": "code",
   "execution_count": 12,
   "id": "1cb8902c",
   "metadata": {},
   "outputs": [
    {
     "ename": "TypeError",
     "evalue": "Cannot interpret '2' as a data type",
     "output_type": "error",
     "traceback": [
      "\u001b[0;31m---------------------------------------------------------------------------\u001b[0m",
      "\u001b[0;31mTypeError\u001b[0m                                 Traceback (most recent call last)",
      "Cell \u001b[0;32mIn [12], line 28\u001b[0m\n\u001b[1;32m     25\u001b[0m \u001b[38;5;66;03m# init parameters\u001b[39;00m\n\u001b[1;32m     26\u001b[0m c \u001b[38;5;241m=\u001b[39m c \u001b[38;5;241m=\u001b[39m np\u001b[38;5;241m.\u001b[39mzeros(N)\n\u001b[0;32m---> 28\u001b[0m A \u001b[38;5;241m=\u001b[39m \u001b[43mnp\u001b[49m\u001b[38;5;241;43m.\u001b[39;49m\u001b[43mzeros\u001b[49m\u001b[43m(\u001b[49m\u001b[43mN\u001b[49m\u001b[38;5;241;43m*\u001b[39;49m\u001b[43mN\u001b[49m\u001b[38;5;241;43m+\u001b[39;49m\u001b[43mN\u001b[49m\u001b[43m,\u001b[49m\u001b[43m \u001b[49m\u001b[43mN\u001b[49m\u001b[43m)\u001b[49m\n\u001b[1;32m     31\u001b[0m A \u001b[38;5;241m=\u001b[39m np\u001b[38;5;241m.\u001b[39marray([[\u001b[38;5;241m0\u001b[39m, \u001b[38;5;241m0\u001b[39m, \u001b[38;5;241m0\u001b[39m, \u001b[38;5;241m0\u001b[39m],\n\u001b[1;32m     32\u001b[0m               [\u001b[38;5;241m1\u001b[39m, \u001b[38;5;241m-\u001b[39m\u001b[38;5;241m1\u001b[39m, \u001b[38;5;241m0\u001b[39m, \u001b[38;5;241m-\u001b[39mp2\u001b[38;5;241m*\u001b[39m(q1\u001b[38;5;241m-\u001b[39mq2)], \n\u001b[1;32m     33\u001b[0m               [\u001b[38;5;241m-\u001b[39m\u001b[38;5;241m1\u001b[39m, \u001b[38;5;241m1\u001b[39m, \u001b[38;5;241m-\u001b[39mp1\u001b[38;5;241m*\u001b[39m(q2\u001b[38;5;241m-\u001b[39mq1), \u001b[38;5;241m0\u001b[39m], \n\u001b[0;32m   (...)\u001b[0m\n\u001b[1;32m     36\u001b[0m               [\u001b[38;5;241m0\u001b[39m, \u001b[38;5;241m0\u001b[39m, \u001b[38;5;241m0\u001b[39m, \u001b[38;5;241m-\u001b[39m\u001b[38;5;241m1\u001b[39m],\n\u001b[1;32m     37\u001b[0m              ])\n\u001b[1;32m     38\u001b[0m b \u001b[38;5;241m=\u001b[39m np\u001b[38;5;241m.\u001b[39marray([\u001b[38;5;241m0\u001b[39m,\u001b[38;5;241m0\u001b[39m,\u001b[38;5;241m0\u001b[39m,\u001b[38;5;241m0\u001b[39m,\u001b[38;5;241m-\u001b[39m\u001b[38;5;241m0.001\u001b[39m,\u001b[38;5;241m-\u001b[39m\u001b[38;5;241m0.001\u001b[39m])\n",
      "\u001b[0;31mTypeError\u001b[0m: Cannot interpret '2' as a data type"
     ]
    }
   ],
   "source": [
    "import numpy as np\n",
    "from scipy.optimize import linprog\n",
    "\n",
    "# Data - (p1,q1),(q1,q2)\n",
    "# Afriat Inequalities - u1, u2, l1, l2\n",
    "# u1-u1 - l1*p1(q1-q1) < 0\n",
    "# u1-u2 - l2*p2(q1-q2) < 0\n",
    "# u2-u1 - l1*p1(q2-q1) < 0\n",
    "# u2-u2 - l2*p2(q2-q2) < 0\n",
    "# -l1 < 0\n",
    "# -l2 < 0\n",
    "\n",
    "# linear program\n",
    "# max_{x} c'x s.t. Ax<b\n",
    "\n",
    "p1 = 1\n",
    "p2 = 2\n",
    "q1 = 2\n",
    "q2 = 3\n",
    "\n",
    "p = np.array([1,2])\n",
    "q = np.array([2,3])\n",
    "N = len(q)\n",
    "\n",
    "# init parameters\n",
    "c = c = np.zeros(N)\n",
    "\n",
    "A = np.zeros(N*N+N, N)\n",
    "A = np.array([[0, 0, 0, 0],\n",
    "              [1, -1, 0, -p2*(q1-q2)], \n",
    "              [-1, 1, -p1*(q2-q1), 0], \n",
    "              [0, 0, 0, 0], \n",
    "              [0, 0, -1, 0], \n",
    "              [0, 0, 0, -1],\n",
    "             ])\n",
    "b = np.array([0,0,0,0,-0.001,-0.001])\n",
    "\n",
    "# Solve the problem\n",
    "# we put a negative sign on the objective as linprog does minimization\n",
    "solution = linprog(-c, A_ub=A, b_ub=b, method='revised simplex')"
   ]
  },
  {
   "cell_type": "code",
   "execution_count": null,
   "id": "7352f47a",
   "metadata": {},
   "outputs": [],
   "source": []
  }
 ],
 "metadata": {
  "kernelspec": {
   "display_name": "Python 3 (ipykernel)",
   "language": "python",
   "name": "python3"
  },
  "language_info": {
   "codemirror_mode": {
    "name": "ipython",
    "version": 3
   },
   "file_extension": ".py",
   "mimetype": "text/x-python",
   "name": "python",
   "nbconvert_exporter": "python",
   "pygments_lexer": "ipython3",
   "version": "3.10.8"
  }
 },
 "nbformat": 4,
 "nbformat_minor": 5
}
