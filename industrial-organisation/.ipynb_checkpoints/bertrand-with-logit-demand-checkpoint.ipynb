{
 "cells": [
  {
   "cell_type": "code",
   "execution_count": 142,
   "id": "57ceecd4",
   "metadata": {},
   "outputs": [],
   "source": [
    "import numpy as np\n"
   ]
  },
  {
   "cell_type": "code",
   "execution_count": 143,
   "id": "8debe5c5",
   "metadata": {},
   "outputs": [],
   "source": [
    "# Data\n",
    "s = np.array([0.15,0.15,0.3,0.3]) # 0.1 for outside good\n",
    "m = 0.5 # m = (p-c)/p  => c = p(1-m)\n",
    "p = np.array([1,1,1,1])\n",
    "p2f = np.array([1,2,3,4])\n",
    "P = 1\n",
    "Q = 1"
   ]
  },
  {
   "cell_type": "code",
   "execution_count": 144,
   "id": "a0ce932e",
   "metadata": {},
   "outputs": [
    {
     "name": "stdout",
     "output_type": "stream",
     "text": [
      "No. of products: 4\n",
      "No. of firms: 4\n"
     ]
    },
    {
     "data": {
      "text/plain": [
       "array([[1., 0., 0., 0.],\n",
       "       [0., 1., 0., 0.],\n",
       "       [0., 0., 1., 0.],\n",
       "       [0., 0., 0., 1.]])"
      ]
     },
     "execution_count": 144,
     "metadata": {},
     "output_type": "execute_result"
    }
   ],
   "source": [
    "def owner(p2f):\n",
    "    'Converts a vector mapping product-to-firms into the Ownership matrix.'\n",
    "    J = len(p2f) # Number of products\n",
    "    F = len(np.unique(p2f)) # Number of firms\n",
    "    Ω = np.zeros((J,J)) # Ownership matrix\n",
    "    \n",
    "    for i in range(J):\n",
    "        for j in range(J):\n",
    "            if p2f[i] == p2f[j]: # firm producing product i is same firm that produces product j\n",
    "                Ω[i,j] = 1\n",
    "                \n",
    "    print('No. of products:',J)\n",
    "    print('No. of firms:',F)\n",
    "    return  Ω \n",
    "    \n",
    "owner(p2f)"
   ]
  },
  {
   "cell_type": "code",
   "execution_count": 218,
   "id": "5f9a4e14",
   "metadata": {},
   "outputs": [
    {
     "name": "stdout",
     "output_type": "stream",
     "text": [
      "No. of products: 4\n",
      "No. of firms: 4\n",
      "[[-0.1275  0.0225  0.045   0.045 ]\n",
      " [ 0.0225 -0.1275  0.045   0.045 ]\n",
      " [ 0.045   0.045  -0.21    0.09  ]\n",
      " [ 0.045   0.045   0.09   -0.21  ]]\n",
      "2.3529411764705883\n",
      "[[-0.3         0.05294118  0.10588235  0.10588235]\n",
      " [ 0.05294118 -0.3         0.10588235  0.10588235]\n",
      " [ 0.10588235  0.10588235 -0.49411765  0.21176471]\n",
      " [ 0.10588235  0.10588235  0.21176471 -0.49411765]]\n",
      "[0.5        0.5        0.39285714 0.39285714]\n",
      "[[-1.          0.17647059  0.35294118  0.35294118]\n",
      " [ 0.17647059 -1.          0.35294118  0.35294118]\n",
      " [ 0.21428571  0.21428571 -1.          0.42857143]\n",
      " [ 0.21428571  0.21428571  0.42857143 -1.        ]]\n",
      "0.8999999999999999\n",
      "[0.40546511 0.40546511 1.09861229 1.09861229]\n",
      "[2.35294118 2.35294118 2.35294118 2.35294118]\n",
      "[-1.94747607 -1.94747607 -1.25432889 -1.25432889]\n"
     ]
    }
   ],
   "source": [
    "def calibrateLogit(m,s,p,p2f):\n",
    "    '''Input: margin,shares (quantities),prices, product-to-firm map \n",
    "    Output: α price-coeff, a= nonprice value, mc marginal cost,type_j, type,dqdp,div'''\n",
    "    \n",
    "    Ω = owner(p2f)\n",
    "    J = len(p2f)\n",
    "    c1 = p[0]*(1-m)\n",
    "    \n",
    "    # Generate Cross price derivatives\n",
    "    temp = np.outer(s,s) #tcrossprod\n",
    "    np.fill_diagonal(temp, -s*(1-s))\n",
    "    print(temp)\n",
    "    \n",
    "    # Calculate α from the demand\n",
    "    if 1==len(p2f[p2f==1]):\n",
    "        α = 1/(1-s[0])/(p[0]-c1)\n",
    "        print(α)\n",
    "    else:\n",
    "        pass\n",
    "    \n",
    "    # Cross price derivatives\n",
    "    dqdp = temp*α\n",
    "    print(dqdp)\n",
    "    \n",
    "    # Marginal costs\n",
    "    c = p + np.dot(np.linalg.inv(Ω*dqdp.T),s)\n",
    "    print(c)\n",
    "    \n",
    "    # Diversion Matrix D[k,j] = s_k / (1-sj) and -1 on diagonal\n",
    "    div = np.multiply(s,1/(1-s).reshape(-1,1))\n",
    "    np.fill_diagonal(div, -1)\n",
    "    print(div)\n",
    "    \n",
    "    # Mean Valuations\n",
    "    xsi = np.log(s/(1-np.sum(s)))-α*p\n",
    "    print(xsi)\n",
    "        \n",
    "calibrateLogit(m,s,p,p2f)"
   ]
  },
  {
   "cell_type": "code",
   "execution_count": 212,
   "id": "f4a7b3e5",
   "metadata": {},
   "outputs": [
    {
     "ename": "NameError",
     "evalue": "name 'α' is not defined",
     "output_type": "error",
     "traceback": [
      "\u001b[0;31m---------------------------------------------------------------------------\u001b[0m",
      "\u001b[0;31mNameError\u001b[0m                                 Traceback (most recent call last)",
      "Cell \u001b[0;32mIn [212], line 1\u001b[0m\n\u001b[0;32m----> 1\u001b[0m \u001b[43mα\u001b[49m\u001b[38;5;241m*\u001b[39mp\n",
      "\u001b[0;31mNameError\u001b[0m: name 'α' is not defined"
     ]
    }
   ],
   "source": [
    "α*p"
   ]
  },
  {
   "cell_type": "code",
   "execution_count": 200,
   "id": "4f734b4f",
   "metadata": {},
   "outputs": [
    {
     "data": {
      "text/plain": [
       "array([[0.15],\n",
       "       [0.15],\n",
       "       [0.3 ],\n",
       "       [0.3 ]])"
      ]
     },
     "execution_count": 200,
     "metadata": {},
     "output_type": "execute_result"
    }
   ],
   "source": [
    "s.reshape(-1,1)"
   ]
  },
  {
   "cell_type": "code",
   "execution_count": 202,
   "id": "e143db4f",
   "metadata": {},
   "outputs": [
    {
     "data": {
      "text/plain": [
       "array([[1.17647059],\n",
       "       [1.17647059],\n",
       "       [1.42857143],\n",
       "       [1.42857143]])"
      ]
     },
     "execution_count": 202,
     "metadata": {},
     "output_type": "execute_result"
    }
   ],
   "source": [
    "1/(1-s).reshape(-1,1)"
   ]
  },
  {
   "cell_type": "code",
   "execution_count": 204,
   "id": "d70a38a7",
   "metadata": {},
   "outputs": [
    {
     "data": {
      "text/plain": [
       "array([[0.17647059, 0.17647059, 0.35294118, 0.35294118],\n",
       "       [0.17647059, 0.17647059, 0.35294118, 0.35294118],\n",
       "       [0.21428571, 0.21428571, 0.42857143, 0.42857143],\n",
       "       [0.21428571, 0.21428571, 0.42857143, 0.42857143]])"
      ]
     },
     "execution_count": 204,
     "metadata": {},
     "output_type": "execute_result"
    }
   ],
   "source": [
    "np.multiply(s,1/(1-s).reshape(-1,1))"
   ]
  },
  {
   "cell_type": "code",
   "execution_count": 100,
   "id": "8f1174a0",
   "metadata": {},
   "outputs": [
    {
     "name": "stdout",
     "output_type": "stream",
     "text": [
      "Help on ufunc:\n",
      "\n",
      "multiply = <ufunc 'multiply'>\n",
      "    multiply(x1, x2, /, out=None, *, where=True, casting='same_kind', order='K', dtype=None, subok=True[, signature, extobj])\n",
      "    \n",
      "    Multiply arguments element-wise.\n",
      "    \n",
      "    Parameters\n",
      "    ----------\n",
      "    x1, x2 : array_like\n",
      "        Input arrays to be multiplied.\n",
      "        If ``x1.shape != x2.shape``, they must be broadcastable to a common\n",
      "        shape (which becomes the shape of the output).\n",
      "    out : ndarray, None, or tuple of ndarray and None, optional\n",
      "        A location into which the result is stored. If provided, it must have\n",
      "        a shape that the inputs broadcast to. If not provided or None,\n",
      "        a freshly-allocated array is returned. A tuple (possible only as a\n",
      "        keyword argument) must have length equal to the number of outputs.\n",
      "    where : array_like, optional\n",
      "        This condition is broadcast over the input. At locations where the\n",
      "        condition is True, the `out` array will be set to the ufunc result.\n",
      "        Elsewhere, the `out` array will retain its original value.\n",
      "        Note that if an uninitialized `out` array is created via the default\n",
      "        ``out=None``, locations within it where the condition is False will\n",
      "        remain uninitialized.\n",
      "    **kwargs\n",
      "        For other keyword-only arguments, see the\n",
      "        :ref:`ufunc docs <ufuncs.kwargs>`.\n",
      "    \n",
      "    Returns\n",
      "    -------\n",
      "    y : ndarray\n",
      "        The product of `x1` and `x2`, element-wise.\n",
      "        This is a scalar if both `x1` and `x2` are scalars.\n",
      "    \n",
      "    Notes\n",
      "    -----\n",
      "    Equivalent to `x1` * `x2` in terms of array broadcasting.\n",
      "    \n",
      "    Examples\n",
      "    --------\n",
      "    >>> np.multiply(2.0, 4.0)\n",
      "    8.0\n",
      "    \n",
      "    >>> x1 = np.arange(9.0).reshape((3, 3))\n",
      "    >>> x2 = np.arange(3.0)\n",
      "    >>> np.multiply(x1, x2)\n",
      "    array([[  0.,   1.,   4.],\n",
      "           [  0.,   4.,  10.],\n",
      "           [  0.,   7.,  16.]])\n",
      "    \n",
      "    The ``*`` operator can be used as a shorthand for ``np.multiply`` on\n",
      "    ndarrays.\n",
      "    \n",
      "    >>> x1 = np.arange(9.0).reshape((3, 3))\n",
      "    >>> x2 = np.arange(3.0)\n",
      "    >>> x1 * x2\n",
      "    array([[  0.,   1.,   4.],\n",
      "           [  0.,   4.,  10.],\n",
      "           [  0.,   7.,  16.]])\n",
      "\n"
     ]
    }
   ],
   "source": [
    "help(np.multiply)"
   ]
  },
  {
   "cell_type": "code",
   "execution_count": null,
   "id": "26102823",
   "metadata": {},
   "outputs": [],
   "source": []
  }
 ],
 "metadata": {
  "kernelspec": {
   "display_name": "Python 3 (ipykernel)",
   "language": "python",
   "name": "python3"
  },
  "language_info": {
   "codemirror_mode": {
    "name": "ipython",
    "version": 3
   },
   "file_extension": ".py",
   "mimetype": "text/x-python",
   "name": "python",
   "nbconvert_exporter": "python",
   "pygments_lexer": "ipython3",
   "version": "3.10.9"
  }
 },
 "nbformat": 4,
 "nbformat_minor": 5
}
