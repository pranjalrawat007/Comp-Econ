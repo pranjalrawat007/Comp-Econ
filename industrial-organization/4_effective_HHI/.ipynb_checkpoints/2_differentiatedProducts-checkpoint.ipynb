{
 "cells": [
  {
   "cell_type": "markdown",
   "id": "b27a6ed8",
   "metadata": {},
   "source": [
    "# Fully Segmented Markets"
   ]
  },
  {
   "cell_type": "code",
   "execution_count": 409,
   "id": "f80971fa",
   "metadata": {},
   "outputs": [
    {
     "data": {
      "text/plain": [
       "array([0.6 , 0.78, 0.76, 0.74])"
      ]
     },
     "execution_count": 409,
     "metadata": {},
     "output_type": "execute_result"
    }
   ],
   "source": [
    "import numpy as np\n",
    "q = np.array([0.4,0.2,0.2,0.2])\n",
    "p = np.array([0.6, 0.8, 0.8, 0.8])\n",
    "α = np.array([-1.0, -1.1, -1.2, -1.3]) \n",
    "# slope of own-demand curve: dqdp = α, firms prefer larger α (or smaller in magnitude)\n",
    "\n",
    "def D(p):\n",
    "    return 1+α*p\n",
    "\n",
    "def P(q):\n",
    "    return 1+α*q\n",
    "\n",
    "P(q)"
   ]
  },
  {
   "cell_type": "code",
   "execution_count": 410,
   "id": "ec3f4acf",
   "metadata": {},
   "outputs": [
    {
     "data": {
      "text/plain": [
       "0.18000000000000002"
      ]
     },
     "execution_count": 410,
     "metadata": {},
     "output_type": "execute_result"
    }
   ],
   "source": [
    "def AvgP(p,q):\n",
    "    return np.mean(p*q/np.sum(q))\n",
    "    \n",
    "AvgP(p,q)"
   ]
  },
  {
   "cell_type": "code",
   "execution_count": 411,
   "id": "38d6169e",
   "metadata": {},
   "outputs": [
    {
     "data": {
      "text/plain": [
       "array([[-1. ,  0. ,  0. ,  0. ],\n",
       "       [ 0. , -1.1,  0. ,  0. ],\n",
       "       [ 0. ,  0. , -1.2,  0. ],\n",
       "       [ 0. ,  0. ,  0. , -1.3]])"
      ]
     },
     "execution_count": 411,
     "metadata": {},
     "output_type": "execute_result"
    }
   ],
   "source": [
    "def D(p):\n",
    "    return 1-p\n",
    "\n",
    "def demand_derivatives(p, α):\n",
    "    N = p.shape[0]\n",
    "    dqdp = np.zeros((N,N))\n",
    "    np.fill_diagonal(dqdp, α)\n",
    "    return dqdp\n",
    "\n",
    "dqdp = demand_derivatives(p, α)\n",
    "dqdp # no substitution"
   ]
  },
  {
   "cell_type": "code",
   "execution_count": 412,
   "id": "39bdf59c",
   "metadata": {},
   "outputs": [
    {
     "data": {
      "text/plain": [
       "array([[1., 0., 0., 0.],\n",
       "       [0., 1., 0., 0.],\n",
       "       [0., 0., 1., 0.],\n",
       "       [0., 0., 0., 1.]])"
      ]
     },
     "execution_count": 412,
     "metadata": {},
     "output_type": "execute_result"
    }
   ],
   "source": [
    "def ownershipMatrix(p2f):\n",
    "    J = len(p2f)\n",
    "    F = len(np.unique(p2f))\n",
    "    Ω = np.zeros((J,J))\n",
    "    for i in range(J):\n",
    "        for j in range(J):\n",
    "            if p2f[i] == p2f[j]:\n",
    "                Ω[i,j] = 1\n",
    "    return Ω \n",
    "\n",
    "p2f = np.array([0,1,2,3])\n",
    "Ω = ownershipMatrix(p2f)\n",
    "Ω "
   ]
  },
  {
   "cell_type": "code",
   "execution_count": 413,
   "id": "0a62df41",
   "metadata": {},
   "outputs": [
    {
     "data": {
      "text/plain": [
       "0.28"
      ]
     },
     "execution_count": 413,
     "metadata": {},
     "output_type": "execute_result"
    }
   ],
   "source": [
    "def get_hhi(q,p2f):\n",
    "    return np.sum(np.bincount(p2f, weights=q/np.sum(q))**2)\n",
    "\n",
    "get_hhi(q, p2f)"
   ]
  },
  {
   "cell_type": "code",
   "execution_count": 414,
   "id": "1e0991e5",
   "metadata": {},
   "outputs": [
    {
     "data": {
      "text/plain": [
       "array([0.2       , 0.61818182, 0.63333333, 0.64615385])"
      ]
     },
     "execution_count": 414,
     "metadata": {},
     "output_type": "execute_result"
    }
   ],
   "source": [
    "def get_mc(p, q, dqdp):\n",
    "    return p + np.dot(np.linalg.inv(Ω*dqdp.T),q)\n",
    "\n",
    "c = get_mc(p, q, dqdp)\n",
    "c"
   ]
  },
  {
   "cell_type": "code",
   "execution_count": 415,
   "id": "ea613805",
   "metadata": {},
   "outputs": [
    {
     "data": {
      "text/plain": [
       "array([ 0., -0., -0., -0.])"
      ]
     },
     "execution_count": 415,
     "metadata": {},
     "output_type": "execute_result"
    }
   ],
   "source": [
    "def foc(p,c,α,Ω):\n",
    "    q = D(p)\n",
    "    dqdp = demand_derivatives(p, α)\n",
    "    FOC = -p + c - np.dot(np.linalg.inv(Ω*dqdp.T),q)\n",
    "    return np.round(FOC,4)\n",
    "foc(p,c,α,Ω)"
   ]
  },
  {
   "cell_type": "markdown",
   "id": "fee6dff5",
   "metadata": {},
   "source": [
    "# Mergers raise HHI but leave avg. prices untouched. "
   ]
  },
  {
   "cell_type": "code",
   "execution_count": 416,
   "id": "739708fa",
   "metadata": {},
   "outputs": [
    {
     "data": {
      "text/plain": [
       "array([[1., 1., 0., 0.],\n",
       "       [1., 1., 0., 0.],\n",
       "       [0., 0., 1., 0.],\n",
       "       [0., 0., 0., 1.]])"
      ]
     },
     "execution_count": 416,
     "metadata": {},
     "output_type": "execute_result"
    }
   ],
   "source": [
    "p2f_new = np.array([0,0,1,2])\n",
    "Ω_new = ownershipMatrix(p2f_new)\n",
    "Ω_new"
   ]
  },
  {
   "cell_type": "code",
   "execution_count": 417,
   "id": "8cee1d04",
   "metadata": {},
   "outputs": [],
   "source": [
    "import scipy as sp\n",
    "p_new = sp.optimize.fsolve(foc, x0=np.array([0,0,0,0]), args=(c,α,Ω_new))\n",
    "p_new \n",
    "q_new = D(p_new) "
   ]
  },
  {
   "cell_type": "code",
   "execution_count": 418,
   "id": "7be838fc",
   "metadata": {},
   "outputs": [
    {
     "data": {
      "text/plain": [
       "(array([0.59999689, 0.80000988, 0.80000764, 0.79999747]),\n",
       " array([0.40000311, 0.19999012, 0.19999236, 0.20000253]))"
      ]
     },
     "execution_count": 418,
     "metadata": {},
     "output_type": "execute_result"
    }
   ],
   "source": [
    "p_new, q_new"
   ]
  },
  {
   "cell_type": "code",
   "execution_count": 419,
   "id": "2db9099e",
   "metadata": {},
   "outputs": [
    {
     "data": {
      "text/plain": [
       "(0.18000004513990303, 0.4400002874784087)"
      ]
     },
     "execution_count": 419,
     "metadata": {},
     "output_type": "execute_result"
    }
   ],
   "source": [
    "AvgP(p_new,q_new), get_hhi(q_new, p2f_new) # Average Prices same. HHI rises."
   ]
  },
  {
   "cell_type": "markdown",
   "id": "f75788f5",
   "metadata": {},
   "source": [
    "# Cost Increases\n",
    "\n",
    "- avg.prices always rise\n",
    "- low cost firm face cost increase: HHI falls because extremal quantitiy falls\n",
    "- high cost firm face cost increase: HHI rises because avg quantities diverge from extremal values"
   ]
  },
  {
   "cell_type": "code",
   "execution_count": 420,
   "id": "e01584dd",
   "metadata": {
    "scrolled": true
   },
   "outputs": [
    {
     "data": {
      "text/plain": [
       "(0.18618554288268585, 0.26869413362896755)"
      ]
     },
     "execution_count": 420,
     "metadata": {},
     "output_type": "execute_result"
    }
   ],
   "source": [
    "p_new = sp.optimize.fsolve(foc, x0=np.array([0,0,0,0]), args=(c+np.array([0.1,0,0,0]),α,Ω))\n",
    "q_new = D(p_new) \n",
    "p_new, q_new # prices rise, quantities fall\n",
    "AvgP(p_new,q_new), get_hhi(q_new, p2f) # Average Price rises. HHI rises."
   ]
  },
  {
   "cell_type": "code",
   "execution_count": 421,
   "id": "bf6e869c",
   "metadata": {},
   "outputs": [
    {
     "data": {
      "text/plain": [
       "(0.18319758552374887, 0.3194155482548008)"
      ]
     },
     "execution_count": 421,
     "metadata": {},
     "output_type": "execute_result"
    }
   ],
   "source": [
    "p_new = sp.optimize.fsolve(foc, x0=np.array([0,0,0,0]), args=(c+np.array([0,0.1,0.1,0.1]),α,Ω))\n",
    "q_new = D(p_new) \n",
    "p_new, q_new # prices rise, quantities fall\n",
    "AvgP(p_new,q_new), get_hhi(q_new, p2f) # Average Price rises. HHI rises."
   ]
  },
  {
   "cell_type": "markdown",
   "id": "cb0bef3b",
   "metadata": {},
   "source": [
    "# Elasticity (price-sensitivity) falls\n",
    "- |α| is increasing (i.e. it is away from 0, i.e more elastic. Consumers are increasingly price sensitive)\n",
    "- Price-sensitivity rises for leading firm: avg prices fall as leading firm has to reduce prices,raise quantities --> avg prices fall, HHI rises\n",
    "- Price-sensitivity falls for leading firm: avg prices rise as leading firm can raise prices,reduce quantities --> avg prices rise, HHI falls \n",
    "- Price-sensitivity rises for laggard firm: avg prices fall as laggard firms must reduce prices,raise quantities --> avg prices fall, HHI falls\n",
    "- Price-sensitivity falls for laggard firm: avg prices rise as leading firm can raise prices,reduce quantities --> avg prices rise, HHI rises \n"
   ]
  },
  {
   "cell_type": "code",
   "execution_count": 464,
   "id": "c9ef3407",
   "metadata": {},
   "outputs": [
    {
     "name": "stdout",
     "output_type": "stream",
     "text": [
      "0.15123930568877716 0.2514731157668921\n",
      "0.150394304619129 0.2509607479965958\n",
      "0.15209326998505684 0.2522664289574993\n"
     ]
    }
   ],
   "source": [
    "p_new = sp.optimize.fsolve(foc, x0=np.array([0,0,0,0]), args=(np.array([0.3,0.3,0.3,0.3]),\n",
    "                                                              np.array([-1,-1.2,-1.4,-1.6]),Ω))\n",
    "q_new = D(p_new) \n",
    "print(AvgP(p_new,q_new), get_hhi(q_new, p2f))\n",
    "p_new = sp.optimize.fsolve(foc, x0=np.array([0,0,0,0]), args=(np.array([0.3,0.3,0.3,0.3]),\n",
    "                                                              np.array([-1.1,-1.2,-1.4,-1.6]),Ω))\n",
    "q_new = D(p_new) \n",
    "print(AvgP(p_new,q_new), get_hhi(q_new, p2f))\n",
    "p_new = sp.optimize.fsolve(foc, x0=np.array([0,0,0,0]), args=(np.array([0.3,0.3,0.3,0.3]),\n",
    "                                                              np.array([-0.9,-1.2,-1.4,-1.6]),Ω))\n",
    "q_new = D(p_new) \n",
    "print(AvgP(p_new,q_new), get_hhi(q_new, p2f))"
   ]
  },
  {
   "cell_type": "code",
   "execution_count": 465,
   "id": "36a3c1ae",
   "metadata": {},
   "outputs": [
    {
     "name": "stdout",
     "output_type": "stream",
     "text": [
      "0.15123930568877716 0.2514731157668921\n",
      "0.15048754442105788 0.25178741902049545\n",
      "0.15202721290815108 0.2511918819057559\n"
     ]
    }
   ],
   "source": [
    "p_new = sp.optimize.fsolve(foc, x0=np.array([0,0,0,0]), args=(np.array([0.3,0.3,0.3,0.3]),\n",
    "                                                              np.array([-1,-1.2,-1.4,-1.6]),Ω))\n",
    "q_new = D(p_new) \n",
    "print(AvgP(p_new,q_new), get_hhi(q_new, p2f))\n",
    "p_new = sp.optimize.fsolve(foc, x0=np.array([0,0,0,0]), args=(np.array([0.3,0.3,0.3,0.3]),\n",
    "                                                              np.array([-1.0,-1.2,-1.4,-1.7]),Ω))\n",
    "q_new = D(p_new) \n",
    "print(AvgP(p_new,q_new), get_hhi(q_new, p2f))\n",
    "p_new = sp.optimize.fsolve(foc, x0=np.array([0,0,0,0]), args=(np.array([0.3,0.3,0.3,0.3]),\n",
    "                                                              np.array([-1.0,-1.2,-1.4,-1.5]),Ω))\n",
    "q_new = D(p_new) \n",
    "print(AvgP(p_new,q_new), get_hhi(q_new, p2f))"
   ]
  },
  {
   "cell_type": "code",
   "execution_count": null,
   "id": "6b8e771e",
   "metadata": {},
   "outputs": [],
   "source": []
  }
 ],
 "metadata": {
  "kernelspec": {
   "display_name": "Python 3 (ipykernel)",
   "language": "python",
   "name": "python3"
  },
  "language_info": {
   "codemirror_mode": {
    "name": "ipython",
    "version": 3
   },
   "file_extension": ".py",
   "mimetype": "text/x-python",
   "name": "python",
   "nbconvert_exporter": "python",
   "pygments_lexer": "ipython3",
   "version": "3.10.9"
  }
 },
 "nbformat": 4,
 "nbformat_minor": 5
}
