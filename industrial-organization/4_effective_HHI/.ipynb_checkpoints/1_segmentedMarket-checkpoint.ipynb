{
 "cells": [
  {
   "cell_type": "markdown",
   "id": "b27a6ed8",
   "metadata": {},
   "source": [
    "# Single Product Industries"
   ]
  },
  {
   "cell_type": "code",
   "execution_count": 101,
   "id": "dc9198d4",
   "metadata": {},
   "outputs": [],
   "source": [
    "import numpy as np\n",
    "α = 0.5\n",
    "\n",
    "def d(p,α):\n",
    "    # demand curve\n",
    "    return 1-α*p\n",
    "\n",
    "def d_inv(q,α):\n",
    "    # inverse demand curve\n",
    "    return (1-q)/α\n",
    "\n",
    "def dqd(p,α):\n",
    "    # demand derivative\n",
    "    return -α*np.ones(p.shape[0])\n",
    "\n",
    "def dpd(q,α):\n",
    "    # inverse demand derivative\n",
    "    return α**(-1)*np.ones(q.shape[0])\n",
    "\n",
    "def dqdp_inv(p,α):\n",
    "    # inverse of demand derivative\n",
    "    return -1/α*np.ones(p.shape[0])\n",
    "\n",
    "def mc(p,q,α):\n",
    "    # marginal cost from Bertrand nash equation for price, cost and quantities\n",
    "    return p - dpd(q,α)*q\n",
    "\n",
    "def impliedPrice(c,q,α):\n",
    "    # implied price from cost and old quantities\n",
    "    return c - dqdp_inv(c,α)*q\n",
    "\n",
    "def newP(c,α):\n",
    "    # implied price from cost and elasticity\n",
    "    return (c+α**(-1))/2\n",
    "\n",
    "def newQ(c,α):\n",
    "    # implied price from cost and old quantities\n",
    "    return d(newP(c,α),α)\n",
    "\n",
    "def hhi(q):\n",
    "    return np.sum(q**2)"
   ]
  },
  {
   "cell_type": "code",
   "execution_count": 102,
   "id": "044894a2",
   "metadata": {},
   "outputs": [
    {
     "name": "stdout",
     "output_type": "stream",
     "text": [
      "[1 1 1 1] [0.3 0.2 0.2 0.2] [0.4 0.6 0.6 0.6]\n",
      "[1.2 1.3 1.3 1.3] [0.4  0.35 0.35 0.35]\n",
      "[False False False False]\n",
      "[False False False False]\n",
      "0.21000000000000002\n"
     ]
    }
   ],
   "source": [
    "p = np.array([1,1,1, 1])\n",
    "q = np.array([0.3, 0.2, 0.2, 0.2])\n",
    "c = mc(p,q,α)\n",
    "print(p,q,c)\n",
    "print(newP(c,α), newQ(c,α))\n",
    "print(p==newP(c,α))\n",
    "print(p==newQ(c,α))\n",
    "\n",
    "print(hhi(q))"
   ]
  },
  {
   "cell_type": "code",
   "execution_count": 93,
   "id": "fdc9df52",
   "metadata": {},
   "outputs": [
    {
     "data": {
      "text/plain": [
       "(array([0.45, 0.65, 0.65, 0.65]),\n",
       " array([1.225, 1.325, 1.325, 1.325]),\n",
       " array([0.3875, 0.3375, 0.3375, 0.3375]),\n",
       " 0.49187499999999995)"
      ]
     },
     "execution_count": 93,
     "metadata": {},
     "output_type": "execute_result"
    }
   ],
   "source": [
    "# cost increase\n",
    "c_ = c+0.05\n",
    "p_ = newP(c_,α)\n",
    "q_ = newQ(c_,α)\n",
    "c_, p_, q_, hhi(q_)"
   ]
  },
  {
   "cell_type": "code",
   "execution_count": 86,
   "id": "9329e179",
   "metadata": {},
   "outputs": [
    {
     "data": {
      "text/plain": [
       "(array([1.2, 1.3, 1.3, 1.3]), array([0.4 , 0.35, 0.35, 0.35]), 0.5275)"
      ]
     },
     "execution_count": 86,
     "metadata": {},
     "output_type": "execute_result"
    }
   ],
   "source": [
    "# demand elasticity\n",
    "α_ = α-0.1\n",
    "p_ = newP(c,α_)\n",
    "q_ = newQ(c,α_)\n",
    "p_, q_, hhi(q_)"
   ]
  },
  {
   "cell_type": "code",
   "execution_count": null,
   "id": "04cffd88",
   "metadata": {},
   "outputs": [],
   "source": [
    "# as c, α rise we see a "
   ]
  }
 ],
 "metadata": {
  "kernelspec": {
   "display_name": "Python 3 (ipykernel)",
   "language": "python",
   "name": "python3"
  },
  "language_info": {
   "codemirror_mode": {
    "name": "ipython",
    "version": 3
   },
   "file_extension": ".py",
   "mimetype": "text/x-python",
   "name": "python",
   "nbconvert_exporter": "python",
   "pygments_lexer": "ipython3",
   "version": "3.10.9"
  }
 },
 "nbformat": 4,
 "nbformat_minor": 5
}
