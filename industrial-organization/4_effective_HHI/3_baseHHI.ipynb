{
 "cells": [
  {
   "cell_type": "markdown",
   "id": "b27a6ed8",
   "metadata": {},
   "source": [
    "# Differentiation Products"
   ]
  },
  {
   "cell_type": "markdown",
   "id": "533591ed",
   "metadata": {},
   "source": [
    "### Setup"
   ]
  },
  {
   "cell_type": "code",
   "execution_count": 83,
   "id": "f80971fa",
   "metadata": {},
   "outputs": [],
   "source": [
    "# Primitives\n",
    "import numpy as np\n",
    "import scipy as sp\n",
    "\n",
    "def ownership(p2f):\n",
    "    J = len(p2f)\n",
    "    F = len(np.unique(p2f))\n",
    "    Ω = np.zeros((J,J))\n",
    "    for i in range(J):\n",
    "        for j in range(J):\n",
    "            if p2f[i] == p2f[j]:\n",
    "                Ω[i,j] = 1\n",
    "    return Ω  \n",
    "\n",
    "def demand_derivatives(N, α, β):\n",
    "    dqdp = β * np.ones((N,N))\n",
    "    np.fill_diagonal(dqdp, α)\n",
    "    return dqdp\n",
    "\n",
    "def calibrateCost(p, q, dqdp, Ω):\n",
    "    return p + np.dot(np.linalg.inv(Ω*dqdp.T),q)\n",
    "\n",
    "def calibrateA(p, q, dqdp):\n",
    "    return q - np.dot(dqdp,p)\n",
    "\n",
    "def Q(a,p,dqdp):\n",
    "    return a + np.dot(dqdp,p)\n",
    "\n",
    "def P(a,q,dqdp):\n",
    "    return np.dot(np.linalg.inv(dqdp).T,q - a)\n",
    "\n",
    "def foc(p,c,α,β,Ω,a):\n",
    "    dqdp = demand_derivatives(c.shape[0], α, β)\n",
    "    q = Q(a,p,dqdp)\n",
    "    FOC = -p+c-np.dot(np.linalg.inv(Ω*dqdp.T),q)\n",
    "    return np.round(FOC,4)\n",
    "\n",
    "def optimalP(c,α,β,Ω,a):\n",
    "    p = sp.optimize.fsolve(foc, x0=np.zeros(c.shape[0]),args=(c,α,β,Ω,a))\n",
    "    return p\n",
    "\n",
    "def AvgP(p, q):\n",
    "    return np.sum(p*q/np.sum(q))\n",
    "\n",
    "def HHI(q, p2f):\n",
    "    return np.sum(np.bincount(p2f, weights=q/np.sum(q))**2)\n",
    "\n",
    "def UPP(p,q,c,α,β,Ω):\n",
    "    dqdp = demand_derivatives(c.shape[0], α, β)\n",
    "    UPP = c-np.dot(np.linalg.inv(Ω*dqdp.T),q)-p\n",
    "    return np.round(UPP,4)"
   ]
  },
  {
   "cell_type": "code",
   "execution_count": 97,
   "id": "620846b6",
   "metadata": {},
   "outputs": [
    {
     "data": {
      "text/plain": [
       "(array([0.7, 0.7, 0.8, 0.8]), array([1. , 1. , 0.9, 0.9]))"
      ]
     },
     "execution_count": 97,
     "metadata": {},
     "output_type": "execute_result"
    }
   ],
   "source": [
    "N = 4\n",
    "α = -1.0\n",
    "β = 0.1\n",
    "p2f = np.arange(N)\n",
    "Ω = ownership(p2f)\n",
    "dqdp = demand_derivatives(N, α, β)\n",
    "q = np.array([0.3,0.3,0.2,0.2])\n",
    "p = np.array([1,1,1,1])\n",
    "c = calibrateCost(p, q, dqdp, Ω)\n",
    "a = calibrateA(p,q, dqdp) \n",
    "c, a"
   ]
  },
  {
   "cell_type": "code",
   "execution_count": 98,
   "id": "c487cc73",
   "metadata": {},
   "outputs": [
    {
     "data": {
      "text/plain": [
       "array([0.3, 0.3, 0.2, 0.2])"
      ]
     },
     "execution_count": 98,
     "metadata": {},
     "output_type": "execute_result"
    }
   ],
   "source": [
    "Q(a,p,dqdp)"
   ]
  },
  {
   "cell_type": "code",
   "execution_count": 99,
   "id": "ef86552b",
   "metadata": {},
   "outputs": [
    {
     "data": {
      "text/plain": [
       "array([1., 1., 1., 1.])"
      ]
     },
     "execution_count": 99,
     "metadata": {},
     "output_type": "execute_result"
    }
   ],
   "source": [
    "P(a,q,dqdp)"
   ]
  },
  {
   "cell_type": "code",
   "execution_count": 100,
   "id": "63916c80",
   "metadata": {
    "scrolled": true
   },
   "outputs": [
    {
     "data": {
      "text/plain": [
       "array([0., 0., 0., 0.])"
      ]
     },
     "execution_count": 100,
     "metadata": {},
     "output_type": "execute_result"
    }
   ],
   "source": [
    "foc(p,c,α,β,Ω,a)"
   ]
  },
  {
   "cell_type": "code",
   "execution_count": 101,
   "id": "a1c49e13",
   "metadata": {},
   "outputs": [
    {
     "data": {
      "text/plain": [
       "array([1.00000155, 0.99998502, 1.00001068, 1.00001541])"
      ]
     },
     "execution_count": 101,
     "metadata": {},
     "output_type": "execute_result"
    }
   ],
   "source": [
    "optimalP(c,α,β,Ω,a)"
   ]
  },
  {
   "cell_type": "code",
   "execution_count": 102,
   "id": "de202928",
   "metadata": {},
   "outputs": [
    {
     "data": {
      "text/plain": [
       "1.0"
      ]
     },
     "execution_count": 102,
     "metadata": {},
     "output_type": "execute_result"
    }
   ],
   "source": [
    "AvgP(p, q)"
   ]
  },
  {
   "cell_type": "code",
   "execution_count": 103,
   "id": "e7e2145a",
   "metadata": {},
   "outputs": [
    {
     "data": {
      "text/plain": [
       "0.26"
      ]
     },
     "execution_count": 103,
     "metadata": {},
     "output_type": "execute_result"
    }
   ],
   "source": [
    "HHI(q, p2f)"
   ]
  },
  {
   "cell_type": "code",
   "execution_count": 104,
   "id": "d42b261f",
   "metadata": {},
   "outputs": [
    {
     "data": {
      "text/plain": [
       "array([0.1, 0.1, 0.1, 0.1])"
      ]
     },
     "execution_count": 104,
     "metadata": {},
     "output_type": "execute_result"
    }
   ],
   "source": [
    "# cost increase\n",
    "UPP(p,q,c+0.1,α,β,Ω)"
   ]
  },
  {
   "cell_type": "code",
   "execution_count": 105,
   "id": "938756aa",
   "metadata": {},
   "outputs": [
    {
     "data": {
      "text/plain": [
       "array([0., 0., 0., 0.])"
      ]
     },
     "execution_count": 105,
     "metadata": {},
     "output_type": "execute_result"
    }
   ],
   "source": [
    "# cross elasticity increase\n",
    "UPP(p,q,c,α,β+0.3,Ω)"
   ]
  },
  {
   "cell_type": "code",
   "execution_count": 106,
   "id": "28280157",
   "metadata": {},
   "outputs": [
    {
     "data": {
      "text/plain": [
       "array([0.0333, 0.0333, 0.0222, 0.0222])"
      ]
     },
     "execution_count": 106,
     "metadata": {},
     "output_type": "execute_result"
    }
   ],
   "source": [
    "# price sensitivity increase\n",
    "UPP(p,q,c,α+0.1,β,Ω)"
   ]
  },
  {
   "cell_type": "code",
   "execution_count": 138,
   "id": "f751c5f8",
   "metadata": {},
   "outputs": [
    {
     "data": {
      "text/plain": [
       "array([0.0333, 0.0333, 0.    , 0.    ])"
      ]
     },
     "execution_count": 138,
     "metadata": {},
     "output_type": "execute_result"
    }
   ],
   "source": [
    "# Merger first 2\n",
    "Ω_two = ownership(np.array([0,0,1,2]))\n",
    "UPP(p,q,c,α,β,Ω_two)"
   ]
  },
  {
   "cell_type": "code",
   "execution_count": 181,
   "id": "c69967cb",
   "metadata": {},
   "outputs": [
    {
     "data": {
      "text/plain": [
       "array([0.1026, 0.1026, 0.1117, 0.1117])"
      ]
     },
     "execution_count": 181,
     "metadata": {},
     "output_type": "execute_result"
    }
   ],
   "source": [
    "# Merger all four\n",
    "Ω_all = ownership(np.array([0,0,0,0]))\n",
    "UPP(p,q,c,α,β,Ω_all)"
   ]
  },
  {
   "cell_type": "markdown",
   "id": "0421c486",
   "metadata": {},
   "source": [
    "### Analysis"
   ]
  },
  {
   "cell_type": "code",
   "execution_count": 213,
   "id": "6926c9a2",
   "metadata": {},
   "outputs": [],
   "source": [
    "# Primitives\n",
    "c = np.array([0.7, 0.7, 0.8, 0.8])\n",
    "a = np.array([1. , 1. , 0.9, 0.9])\n",
    "α = -1.0\n",
    "β = 0.1\n",
    "p2f = np.arange(N)\n",
    "\n",
    "class industry:\n",
    "    def __init__(self, c, α, β, p2f, a):\n",
    "        self.c = c\n",
    "        self.N = c.shape[0]\n",
    "        self.α = α\n",
    "        self.β = β\n",
    "        self.a = a\n",
    "        self.dqdp = demand_derivatives(c.shape[0], α, β)\n",
    "        self.p2f = p2f\n",
    "        self.Ω = ownership(p2f)\n",
    "        self.p = optimalP(c,α,β,ownership(p2f),a)\n",
    "        self.q = Q(self.a, self.p, self.dqdp)\n",
    "        self.avgP = AvgP(self.p, self.q)\n",
    "        self.hhi = HHI(self.q, self.p2f)\n",
    "        self.ehhi = eHHI1(self.c, self.Ω,self.dqdp,self.q,self.α,self.β)"
   ]
  },
  {
   "cell_type": "code",
   "execution_count": 214,
   "id": "4783b936",
   "metadata": {},
   "outputs": [
    {
     "data": {
      "text/plain": [
       "(0.26000452477916414, 1.0000011882221, 8.008982925199948)"
      ]
     },
     "execution_count": 214,
     "metadata": {},
     "output_type": "execute_result"
    }
   ],
   "source": [
    "# Baseline\n",
    "ind = industry(c, α, β, p2f, a)\n",
    "ind.hhi, ind.avgP, ind.ehhi"
   ]
  },
  {
   "cell_type": "code",
   "execution_count": 215,
   "id": "69e38181",
   "metadata": {},
   "outputs": [
    {
     "data": {
      "text/plain": [
       "(0.26433102386525553, 1.058816926576504, 8.83502215262771)"
      ]
     },
     "execution_count": 215,
     "metadata": {},
     "output_type": "execute_result"
    }
   ],
   "source": [
    "# Cost increase\n",
    "ind = industry(c+0.1, α, β, p2f, a)\n",
    "ind.hhi, ind.avgP, ind.ehhi"
   ]
  },
  {
   "cell_type": "code",
   "execution_count": 216,
   "id": "1c8f6711",
   "metadata": {},
   "outputs": [
    {
     "data": {
      "text/plain": [
       "(0.25623142116102726, 1.083735415725671, 6.6564795600107445)"
      ]
     },
     "execution_count": 216,
     "metadata": {},
     "output_type": "execute_result"
    }
   ],
   "source": [
    "# Own-Price sensitivity rises\n",
    "ind = industry(c, α+0.1, β, p2f, a)\n",
    "ind.hhi, ind.avgP, ind.ehhi"
   ]
  },
  {
   "cell_type": "code",
   "execution_count": 217,
   "id": "52df9252",
   "metadata": {},
   "outputs": [
    {
     "data": {
      "text/plain": [
       "(0.2528993989051034, 1.2142790447989626, 4.8027685316491775)"
      ]
     },
     "execution_count": 217,
     "metadata": {},
     "output_type": "execute_result"
    }
   ],
   "source": [
    "# Cross-Price sensitivity rises\n",
    "ind = industry(c, α, β+0.1, p2f, a)\n",
    "ind.hhi, ind.avgP, ind.ehhi"
   ]
  },
  {
   "cell_type": "code",
   "execution_count": 218,
   "id": "b45ad8d6",
   "metadata": {},
   "outputs": [
    {
     "data": {
      "text/plain": [
       "(0.25655272323124684, 1.0588168299441134, 8.481938988097948)"
      ]
     },
     "execution_count": 218,
     "metadata": {},
     "output_type": "execute_result"
    }
   ],
   "source": [
    "# Baseline Demand rises\n",
    "ind = industry(c, α, β, p2f, a+0.1)\n",
    "ind.hhi, ind.avgP, ind.ehhi"
   ]
  },
  {
   "cell_type": "code",
   "execution_count": 219,
   "id": "6b809b10",
   "metadata": {},
   "outputs": [
    {
     "data": {
      "text/plain": [
       "(1.0, 1.053015211554366, 7.714723758829626)"
      ]
     },
     "execution_count": 219,
     "metadata": {},
     "output_type": "execute_result"
    }
   ],
   "source": [
    "# Full merger\n",
    "ind = industry(c, α, β, np.array([0,0,0,0]), a)\n",
    "ind.hhi, ind.avgP, ind.ehhi"
   ]
  },
  {
   "cell_type": "code",
   "execution_count": 220,
   "id": "d45bf356",
   "metadata": {},
   "outputs": [
    {
     "data": {
      "text/plain": [
       "(0.4288198350483916, 1.0106303597615456, 7.957256409621959)"
      ]
     },
     "execution_count": 220,
     "metadata": {},
     "output_type": "execute_result"
    }
   ],
   "source": [
    "# First two\n",
    "ind = industry(c, α, β, np.array([0,0,1,2]), a)\n",
    "ind.hhi, ind.avgP, ind.ehhi"
   ]
  },
  {
   "cell_type": "markdown",
   "id": "b2299a82",
   "metadata": {},
   "source": [
    "### Comparing Cases\n",
    "\n",
    "- (HHI, p, q) change due to change in primitives. \n",
    "- HHI can change due to c, alpha, beta, a, Omega. \n",
    "- We want EHHI to be a new metric based on HHI. \"Effective HHI\" \n",
    "- We want EHHI to be change ONLY when Omega changes. \n",
    "- We do not want EHHI to change when costs, alpha, beta, a change.\n",
    "- We want to isolate the effect of Mergers only."
   ]
  }
 ],
 "metadata": {
  "kernelspec": {
   "display_name": "Python 3 (ipykernel)",
   "language": "python",
   "name": "python3"
  },
  "language_info": {
   "codemirror_mode": {
    "name": "ipython",
    "version": 3
   },
   "file_extension": ".py",
   "mimetype": "text/x-python",
   "name": "python",
   "nbconvert_exporter": "python",
   "pygments_lexer": "ipython3",
   "version": "3.10.9"
  }
 },
 "nbformat": 4,
 "nbformat_minor": 5
}
