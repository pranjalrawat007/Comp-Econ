{
 "cells": [
  {
   "cell_type": "markdown",
   "id": "b27a6ed8",
   "metadata": {},
   "source": [
    "# Differentiation Products"
   ]
  },
  {
   "cell_type": "code",
   "execution_count": 162,
   "id": "f80971fa",
   "metadata": {},
   "outputs": [
    {
     "data": {
      "text/plain": [
       "array([0.6 , 0.56, 0.88, 0.87])"
      ]
     },
     "execution_count": 162,
     "metadata": {},
     "output_type": "execute_result"
    }
   ],
   "source": [
    "import numpy as np\n",
    "q = np.array([0.4,0.4,0.1,0.1])\n",
    "p = np.array([0.6 , 0.56, 0.88, 0.87])\n",
    "α = np.array([-1.0, -1.1, -1.2, -1.3]) \n",
    "β = 0.5\n",
    "# slope of own-demand curve: dqdp = α, firms prefer larger α (or smaller in magnitude)\n",
    "\n",
    "def D(p):\n",
    "    return 1+α*p\n",
    "\n",
    "def P(q):\n",
    "    return 1+α*q\n",
    "\n",
    "P(q)"
   ]
  },
  {
   "cell_type": "code",
   "execution_count": 163,
   "id": "ec3f4acf",
   "metadata": {},
   "outputs": [
    {
     "data": {
      "text/plain": [
       "0.15975"
      ]
     },
     "execution_count": 163,
     "metadata": {},
     "output_type": "execute_result"
    }
   ],
   "source": [
    "def AvgP(p,q):\n",
    "    return np.mean(p*q/np.sum(q))\n",
    "    \n",
    "AvgP(p,q)"
   ]
  },
  {
   "cell_type": "code",
   "execution_count": 164,
   "id": "38d6169e",
   "metadata": {},
   "outputs": [
    {
     "data": {
      "text/plain": [
       "array([[-1. ,  0.5,  0.5,  0.5],\n",
       "       [ 0.5, -1.1,  0.5,  0.5],\n",
       "       [ 0.5,  0.5, -1.2,  0.5],\n",
       "       [ 0.5,  0.5,  0.5, -1.3]])"
      ]
     },
     "execution_count": 164,
     "metadata": {},
     "output_type": "execute_result"
    }
   ],
   "source": [
    "def D(p):\n",
    "    return 1-p\n",
    "\n",
    "def demand_derivatives(p, α, β):\n",
    "    N = p.shape[0]\n",
    "    dqdp = β * np.ones((N,N))\n",
    "    np.fill_diagonal(dqdp, α)\n",
    "    return dqdp\n",
    "\n",
    "dqdp = demand_derivatives(p, α, β)\n",
    "dqdp # no substitution"
   ]
  },
  {
   "cell_type": "code",
   "execution_count": 165,
   "id": "39bdf59c",
   "metadata": {},
   "outputs": [
    {
     "data": {
      "text/plain": [
       "array([[1., 0., 0., 0.],\n",
       "       [0., 1., 0., 0.],\n",
       "       [0., 0., 1., 0.],\n",
       "       [0., 0., 0., 1.]])"
      ]
     },
     "execution_count": 165,
     "metadata": {},
     "output_type": "execute_result"
    }
   ],
   "source": [
    "def ownershipMatrix(p2f):\n",
    "    J = len(p2f)\n",
    "    F = len(np.unique(p2f))\n",
    "    Ω = np.zeros((J,J))\n",
    "    for i in range(J):\n",
    "        for j in range(J):\n",
    "            if p2f[i] == p2f[j]:\n",
    "                Ω[i,j] = 1\n",
    "    return Ω \n",
    "\n",
    "p2f = np.array([0,1,2,3])\n",
    "Ω = ownershipMatrix(p2f)\n",
    "Ω "
   ]
  },
  {
   "cell_type": "code",
   "execution_count": 166,
   "id": "0a62df41",
   "metadata": {},
   "outputs": [
    {
     "data": {
      "text/plain": [
       "0.3400000000000001"
      ]
     },
     "execution_count": 166,
     "metadata": {},
     "output_type": "execute_result"
    }
   ],
   "source": [
    "def get_hhi(q,p2f):\n",
    "    return np.sum(np.bincount(p2f, weights=q/np.sum(q))**2)\n",
    "\n",
    "get_hhi(q, p2f)"
   ]
  },
  {
   "cell_type": "code",
   "execution_count": 167,
   "id": "1e0991e5",
   "metadata": {},
   "outputs": [
    {
     "data": {
      "text/plain": [
       "array([0.2       , 0.19636364, 0.79666667, 0.79307692])"
      ]
     },
     "execution_count": 167,
     "metadata": {},
     "output_type": "execute_result"
    }
   ],
   "source": [
    "def get_mc(p, q, dqdp):\n",
    "    return p + np.dot(np.linalg.inv(Ω*dqdp.T),q)\n",
    "\n",
    "c = get_mc(p, q, dqdp)\n",
    "c"
   ]
  },
  {
   "cell_type": "code",
   "execution_count": 168,
   "id": "ea613805",
   "metadata": {},
   "outputs": [
    {
     "data": {
      "text/plain": [
       "array([0.    , 0.0364, 0.0167, 0.0231])"
      ]
     },
     "execution_count": 168,
     "metadata": {},
     "output_type": "execute_result"
    }
   ],
   "source": [
    "def foc(p,c,α,β,Ω):\n",
    "    q = D(p)\n",
    "    dqdp = demand_derivatives(p, α, β)\n",
    "    FOC = -p + c - np.dot(np.linalg.inv(Ω*dqdp.T),q)\n",
    "    return np.round(FOC,4)\n",
    "foc(p,c,α,β,Ω)"
   ]
  },
  {
   "cell_type": "code",
   "execution_count": 169,
   "id": "92bd2be8",
   "metadata": {},
   "outputs": [
    {
     "data": {
      "text/plain": [
       "(0.15975, 0.3400000000000001)"
      ]
     },
     "execution_count": 169,
     "metadata": {},
     "output_type": "execute_result"
    }
   ],
   "source": [
    "AvgP(p,q), get_hhi(q, p2f)"
   ]
  },
  {
   "cell_type": "code",
   "execution_count": 170,
   "id": "eaacfa03",
   "metadata": {},
   "outputs": [
    {
     "ename": "SyntaxError",
     "evalue": "expected ':' (830766313.py, line 1)",
     "output_type": "error",
     "traceback": [
      "\u001b[0;36m  Cell \u001b[0;32mIn [170], line 1\u001b[0;36m\u001b[0m\n\u001b[0;31m    def effectiveHHI(p,q)\u001b[0m\n\u001b[0m                         ^\u001b[0m\n\u001b[0;31mSyntaxError\u001b[0m\u001b[0;31m:\u001b[0m expected ':'\n"
     ]
    }
   ],
   "source": [
    "def effectiveHHI(p, q, α, β, p2f):\n",
    "    dqdp = demand_derivatives(p, α, β)\n",
    "    Ω = ownershipMatrix(p2f)\n",
    "    c = get_mc(p, q, dqdp)\n",
    "    \n",
    "    \n",
    "    "
   ]
  },
  {
   "cell_type": "markdown",
   "id": "fee6dff5",
   "metadata": {},
   "source": [
    "# Mergers between Leaders"
   ]
  },
  {
   "cell_type": "code",
   "execution_count": 146,
   "id": "739708fa",
   "metadata": {},
   "outputs": [
    {
     "data": {
      "text/plain": [
       "array([[1., 1., 0., 0.],\n",
       "       [1., 1., 0., 0.],\n",
       "       [0., 0., 1., 0.],\n",
       "       [0., 0., 0., 1.]])"
      ]
     },
     "execution_count": 146,
     "metadata": {},
     "output_type": "execute_result"
    }
   ],
   "source": [
    "p2f_new = np.array([0,0,1,2])\n",
    "Ω_new = ownershipMatrix(p2f_new)\n",
    "Ω_new"
   ]
  },
  {
   "cell_type": "code",
   "execution_count": 147,
   "id": "8cee1d04",
   "metadata": {},
   "outputs": [],
   "source": [
    "import scipy as sp\n",
    "p_new = sp.optimize.fsolve(foc, x0=np.array([0,0,0,0]), args=(c,α,β,Ω_new))\n",
    "p_new \n",
    "q_new = D(p_new) "
   ]
  },
  {
   "cell_type": "code",
   "execution_count": 148,
   "id": "7be838fc",
   "metadata": {},
   "outputs": [
    {
     "data": {
      "text/plain": [
       "(array([0.72703351, 0.70451636, 0.88907737, 0.88302793]),\n",
       " array([0.27296649, 0.29548364, 0.11092263, 0.11697207]))"
      ]
     },
     "execution_count": 148,
     "metadata": {},
     "output_type": "execute_result"
    }
   ],
   "source": [
    "p_new, q_new"
   ]
  },
  {
   "cell_type": "code",
   "execution_count": 149,
   "id": "2db9099e",
   "metadata": {},
   "outputs": [
    {
     "data": {
      "text/plain": [
       "(0.1910407477885206, 0.5505220282983005)"
      ]
     },
     "execution_count": 149,
     "metadata": {},
     "output_type": "execute_result"
    }
   ],
   "source": [
    "AvgP(p_new,q_new), get_hhi(q_new, p2f_new) # Average Prices same. HHI rises."
   ]
  },
  {
   "cell_type": "markdown",
   "id": "b3cae0e0",
   "metadata": {},
   "source": [
    "# Mergers between laggards"
   ]
  },
  {
   "cell_type": "code",
   "execution_count": 150,
   "id": "bc702283",
   "metadata": {},
   "outputs": [
    {
     "data": {
      "text/plain": [
       "array([[1., 0., 0., 0.],\n",
       "       [0., 1., 0., 0.],\n",
       "       [0., 0., 1., 1.],\n",
       "       [0., 0., 1., 1.]])"
      ]
     },
     "execution_count": 150,
     "metadata": {},
     "output_type": "execute_result"
    }
   ],
   "source": [
    "p2f_new = np.array([0,1,2,2])\n",
    "Ω_new = ownershipMatrix(p2f_new)\n",
    "Ω_new"
   ]
  },
  {
   "cell_type": "code",
   "execution_count": 151,
   "id": "35818e8d",
   "metadata": {},
   "outputs": [],
   "source": [
    "import scipy as sp\n",
    "p_new = sp.optimize.fsolve(foc, x0=np.array([0,0,0,0]), args=(c,α,β,Ω_new))\n",
    "p_new \n",
    "q_new = D(p_new) "
   ]
  },
  {
   "cell_type": "code",
   "execution_count": 152,
   "id": "2791fd22",
   "metadata": {},
   "outputs": [
    {
     "data": {
      "text/plain": [
       "(array([0.60000444, 0.57906102, 0.91542254, 0.90884376]),\n",
       " array([0.39999556, 0.42093898, 0.08457746, 0.09115624]))"
      ]
     },
     "execution_count": 152,
     "metadata": {},
     "output_type": "execute_result"
    }
   ],
   "source": [
    "p_new, q_new"
   ]
  },
  {
   "cell_type": "code",
   "execution_count": 153,
   "id": "e07e549e",
   "metadata": {},
   "outputs": [
    {
     "data": {
      "text/plain": [
       "(0.16154306340148014, 0.37053334995879417)"
      ]
     },
     "execution_count": 153,
     "metadata": {},
     "output_type": "execute_result"
    }
   ],
   "source": [
    "AvgP(p_new,q_new), get_hhi(q_new, p2f_new) # Average Prices same. HHI rises."
   ]
  },
  {
   "cell_type": "markdown",
   "id": "f75788f5",
   "metadata": {},
   "source": [
    "# Cost Increases\n",
    "\n",
    "- avg.prices always rise\n",
    "- low cost firm face cost increase: HHI falls because extremal quantitiy falls\n",
    "- high cost firm face cost increase: HHI rises because avg quantities diverge from extremal values"
   ]
  },
  {
   "cell_type": "code",
   "execution_count": 158,
   "id": "e01584dd",
   "metadata": {
    "scrolled": true
   },
   "outputs": [
    {
     "data": {
      "text/plain": [
       "(0.174896438130207, 0.3174134154130151)"
      ]
     },
     "execution_count": 158,
     "metadata": {},
     "output_type": "execute_result"
    }
   ],
   "source": [
    "p_new = sp.optimize.fsolve(foc, x0=np.array([0,0,0,0]), args=(c+np.array([0.1,0.1,0,0]),α,β,Ω))\n",
    "q_new = D(p_new) \n",
    "p_new, q_new # prices rise, quantities fall\n",
    "AvgP(p_new,q_new), get_hhi(q_new, p2f) # Average Price rises. HHI rises."
   ]
  },
  {
   "cell_type": "code",
   "execution_count": 159,
   "id": "bf6e869c",
   "metadata": {},
   "outputs": [
    {
     "data": {
      "text/plain": [
       "(0.15827980960910001, 0.3912146751163883)"
      ]
     },
     "execution_count": 159,
     "metadata": {},
     "output_type": "execute_result"
    }
   ],
   "source": [
    "p_new = sp.optimize.fsolve(foc, x0=np.array([0,0,0,0]), args=(c+np.array([0,0,0.1,0.1]),α,β,Ω))\n",
    "q_new = D(p_new) \n",
    "p_new, q_new # prices rise, quantities fall\n",
    "AvgP(p_new,q_new), get_hhi(q_new, p2f) # Average Price rises. HHI rises."
   ]
  },
  {
   "cell_type": "markdown",
   "id": "cb0bef3b",
   "metadata": {},
   "source": [
    "# Elasticity (price-sensitivity) falls\n",
    "- |α| is increasing (i.e. it is away from 0, i.e more elastic. Consumers are increasingly price sensitive)\n",
    "- Price-sensitivity rises for leading firm: avg prices fall as leading firm has to reduce prices,raise quantities --> avg prices fall, HHI rises\n",
    "- Price-sensitivity falls for leading firm: avg prices rise as leading firm can raise prices,reduce quantities --> avg prices rise, HHI falls \n",
    "- Price-sensitivity rises for laggard firm: avg prices fall as laggard firms must reduce prices,raise quantities --> avg prices fall, HHI falls\n",
    "- Price-sensitivity falls for laggard firm: avg prices rise as leading firm can raise prices,reduce quantities --> avg prices rise, HHI rises \n"
   ]
  },
  {
   "cell_type": "code",
   "execution_count": 160,
   "id": "c9ef3407",
   "metadata": {},
   "outputs": [
    {
     "name": "stdout",
     "output_type": "stream",
     "text": [
      "0.15123930568877716 0.2514731157668921\n",
      "0.150394304619129 0.2509607479965958\n",
      "0.15209326998505684 0.2522664289574993\n"
     ]
    }
   ],
   "source": [
    "p_new = sp.optimize.fsolve(foc, x0=np.array([0,0,0,0]), args=(np.array([0.3,0.3,0.3,0.3]),\n",
    "                                                              np.array([-1,-1.2,-1.4,-1.6]),β,Ω))\n",
    "q_new = D(p_new) \n",
    "print(AvgP(p_new,q_new), get_hhi(q_new, p2f))\n",
    "p_new = sp.optimize.fsolve(foc, x0=np.array([0,0,0,0]), args=(np.array([0.3,0.3,0.3,0.3]),\n",
    "                                                              np.array([-1.1,-1.2,-1.4,-1.6]),β,Ω))\n",
    "q_new = D(p_new) \n",
    "print(AvgP(p_new,q_new), get_hhi(q_new, p2f))\n",
    "p_new = sp.optimize.fsolve(foc, x0=np.array([0,0,0,0]), args=(np.array([0.3,0.3,0.3,0.3]),\n",
    "                                                              np.array([-0.9,-1.2,-1.4,-1.6]),β,Ω))\n",
    "q_new = D(p_new) \n",
    "print(AvgP(p_new,q_new), get_hhi(q_new, p2f))"
   ]
  },
  {
   "cell_type": "code",
   "execution_count": 161,
   "id": "36a3c1ae",
   "metadata": {},
   "outputs": [
    {
     "name": "stdout",
     "output_type": "stream",
     "text": [
      "0.15123930568877716 0.2514731157668921\n",
      "0.15048754442105788 0.25178741902049545\n",
      "0.15202721290815108 0.2511918819057559\n"
     ]
    }
   ],
   "source": [
    "p_new = sp.optimize.fsolve(foc, x0=np.array([0,0,0,0]), args=(np.array([0.3,0.3,0.3,0.3]),\n",
    "                                                              np.array([-1,-1.2,-1.4,-1.6]),β,Ω))\n",
    "q_new = D(p_new) \n",
    "print(AvgP(p_new,q_new), get_hhi(q_new, p2f))\n",
    "p_new = sp.optimize.fsolve(foc, x0=np.array([0,0,0,0]), args=(np.array([0.3,0.3,0.3,0.3]),\n",
    "                                                              np.array([-1.0,-1.2,-1.4,-1.7]),β,Ω))\n",
    "q_new = D(p_new) \n",
    "print(AvgP(p_new,q_new), get_hhi(q_new, p2f))\n",
    "p_new = sp.optimize.fsolve(foc, x0=np.array([0,0,0,0]), args=(np.array([0.3,0.3,0.3,0.3]),\n",
    "                                                              np.array([-1.0,-1.2,-1.4,-1.5]),β,Ω))\n",
    "q_new = D(p_new) \n",
    "print(AvgP(p_new,q_new), get_hhi(q_new, p2f))"
   ]
  },
  {
   "cell_type": "code",
   "execution_count": null,
   "id": "6b8e771e",
   "metadata": {},
   "outputs": [],
   "source": []
  }
 ],
 "metadata": {
  "kernelspec": {
   "display_name": "Python 3 (ipykernel)",
   "language": "python",
   "name": "python3"
  },
  "language_info": {
   "codemirror_mode": {
    "name": "ipython",
    "version": 3
   },
   "file_extension": ".py",
   "mimetype": "text/x-python",
   "name": "python",
   "nbconvert_exporter": "python",
   "pygments_lexer": "ipython3",
   "version": "3.10.9"
  }
 },
 "nbformat": 4,
 "nbformat_minor": 5
}
