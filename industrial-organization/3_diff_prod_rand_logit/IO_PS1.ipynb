{
 "cells": [
  {
   "cell_type": "markdown",
   "metadata": {
    "colab_type": "text",
    "id": "view-in-github"
   },
   "source": [
    "<a href=\"https://colab.research.google.com/github/rawatpranjal/Structural-Economics/blob/main/IO_PS1.ipynb\" target=\"_parent\"><img src=\"https://colab.research.google.com/assets/colab-badge.svg\" alt=\"Open In Colab\"/></a>"
   ]
  },
  {
   "cell_type": "markdown",
   "metadata": {
    "id": "OIKDxuMT4aIt"
   },
   "source": [
    "### Preliminaries"
   ]
  },
  {
   "cell_type": "code",
   "execution_count": 2,
   "metadata": {
    "id": "2UAtI1pBNmHj"
   },
   "outputs": [],
   "source": [
    "import numpy as np\n",
    "import pandas as pd\n",
    "import statsmodels.formula.api as sm\n",
    "import statsmodels \n",
    "from statsmodels.sandbox.regression.gmm import GMM, IV2SLS, IVGMM\n",
    "from pandas.testing import assert_index_equal"
   ]
  },
  {
   "cell_type": "code",
   "execution_count": 4,
   "metadata": {
    "id": "vDaJmYJqNmHk"
   },
   "outputs": [],
   "source": [
    "df = pd.read_csv(\"rcl_data_4.csv\")\n",
    "df.set_index(keys=['mktid','firmid', 'prodid'], inplace=True)\n",
    "shares = df['share']"
   ]
  },
  {
   "cell_type": "markdown",
   "metadata": {
    "id": "DnBhW5HVNmHk"
   },
   "source": [
    "## Summary statistics"
   ]
  },
  {
   "cell_type": "code",
   "execution_count": 5,
   "metadata": {
    "colab": {
     "base_uri": "https://localhost:8080/",
     "height": 708
    },
    "id": "jKv2K6cnNmHl",
    "outputId": "f4bba537-d9ae-4d38-c4eb-1725f6358ec4"
   },
   "outputs": [
    {
     "data": {
      "text/html": [
       "\n",
       "  <div id=\"df-9a381c3d-66a2-466e-898a-43e92930a261\">\n",
       "    <div class=\"colab-df-container\">\n",
       "      <div>\n",
       "<style scoped>\n",
       "    .dataframe tbody tr th:only-of-type {\n",
       "        vertical-align: middle;\n",
       "    }\n",
       "\n",
       "    .dataframe tbody tr th {\n",
       "        vertical-align: top;\n",
       "    }\n",
       "\n",
       "    .dataframe thead th {\n",
       "        text-align: right;\n",
       "    }\n",
       "</style>\n",
       "<table border=\"1\" class=\"dataframe\">\n",
       "  <thead>\n",
       "    <tr style=\"text-align: right;\">\n",
       "      <th></th>\n",
       "      <th>#Firms</th>\n",
       "      <th>#Products</th>\n",
       "      <th>price_mean</th>\n",
       "      <th>share_mean</th>\n",
       "      <th>xvar_mean</th>\n",
       "      <th>wvar_mean</th>\n",
       "      <th>price_std</th>\n",
       "      <th>share_std</th>\n",
       "      <th>xvar_std</th>\n",
       "      <th>wvar_std</th>\n",
       "    </tr>\n",
       "    <tr>\n",
       "      <th>mktid</th>\n",
       "      <th></th>\n",
       "      <th></th>\n",
       "      <th></th>\n",
       "      <th></th>\n",
       "      <th></th>\n",
       "      <th></th>\n",
       "      <th></th>\n",
       "      <th></th>\n",
       "      <th></th>\n",
       "      <th></th>\n",
       "    </tr>\n",
       "  </thead>\n",
       "  <tbody>\n",
       "    <tr>\n",
       "      <th>1</th>\n",
       "      <td>7</td>\n",
       "      <td>7</td>\n",
       "      <td>2.606675</td>\n",
       "      <td>0.149334</td>\n",
       "      <td>1.952670</td>\n",
       "      <td>-0.370695</td>\n",
       "      <td>2.750983</td>\n",
       "      <td>0.118469</td>\n",
       "      <td>1.945542</td>\n",
       "      <td>-0.293838</td>\n",
       "    </tr>\n",
       "    <tr>\n",
       "      <th>2</th>\n",
       "      <td>7</td>\n",
       "      <td>7</td>\n",
       "      <td>2.430668</td>\n",
       "      <td>0.070118</td>\n",
       "      <td>2.685479</td>\n",
       "      <td>-0.564728</td>\n",
       "      <td>2.608820</td>\n",
       "      <td>0.136178</td>\n",
       "      <td>2.631723</td>\n",
       "      <td>-0.270162</td>\n",
       "    </tr>\n",
       "    <tr>\n",
       "      <th>3</th>\n",
       "      <td>7</td>\n",
       "      <td>7</td>\n",
       "      <td>2.844954</td>\n",
       "      <td>0.082008</td>\n",
       "      <td>2.660057</td>\n",
       "      <td>-0.126529</td>\n",
       "      <td>3.098984</td>\n",
       "      <td>0.128079</td>\n",
       "      <td>2.576645</td>\n",
       "      <td>0.065384</td>\n",
       "    </tr>\n",
       "    <tr>\n",
       "      <th>4</th>\n",
       "      <td>11</td>\n",
       "      <td>11</td>\n",
       "      <td>3.326305</td>\n",
       "      <td>0.009768</td>\n",
       "      <td>1.946938</td>\n",
       "      <td>0.218622</td>\n",
       "      <td>3.530610</td>\n",
       "      <td>0.072886</td>\n",
       "      <td>1.983285</td>\n",
       "      <td>0.168326</td>\n",
       "    </tr>\n",
       "    <tr>\n",
       "      <th>5</th>\n",
       "      <td>11</td>\n",
       "      <td>11</td>\n",
       "      <td>2.663987</td>\n",
       "      <td>0.027104</td>\n",
       "      <td>1.946938</td>\n",
       "      <td>-0.089058</td>\n",
       "      <td>2.854352</td>\n",
       "      <td>0.082693</td>\n",
       "      <td>1.801961</td>\n",
       "      <td>-0.154398</td>\n",
       "    </tr>\n",
       "    <tr>\n",
       "      <th>6</th>\n",
       "      <td>8</td>\n",
       "      <td>8</td>\n",
       "      <td>2.698184</td>\n",
       "      <td>0.039247</td>\n",
       "      <td>1.949804</td>\n",
       "      <td>0.131254</td>\n",
       "      <td>2.950200</td>\n",
       "      <td>0.106947</td>\n",
       "      <td>1.940615</td>\n",
       "      <td>0.029890</td>\n",
       "    </tr>\n",
       "    <tr>\n",
       "      <th>7</th>\n",
       "      <td>6</td>\n",
       "      <td>6</td>\n",
       "      <td>2.966885</td>\n",
       "      <td>0.122192</td>\n",
       "      <td>2.030004</td>\n",
       "      <td>0.142384</td>\n",
       "      <td>2.868110</td>\n",
       "      <td>0.121251</td>\n",
       "      <td>1.825464</td>\n",
       "      <td>-0.006352</td>\n",
       "    </tr>\n",
       "    <tr>\n",
       "      <th>8</th>\n",
       "      <td>12</td>\n",
       "      <td>12</td>\n",
       "      <td>3.088131</td>\n",
       "      <td>0.014099</td>\n",
       "      <td>2.077402</td>\n",
       "      <td>0.061042</td>\n",
       "      <td>3.062927</td>\n",
       "      <td>0.073310</td>\n",
       "      <td>2.144377</td>\n",
       "      <td>0.101264</td>\n",
       "    </tr>\n",
       "    <tr>\n",
       "      <th>9</th>\n",
       "      <td>10</td>\n",
       "      <td>10</td>\n",
       "      <td>3.246889</td>\n",
       "      <td>0.021610</td>\n",
       "      <td>1.957790</td>\n",
       "      <td>0.171797</td>\n",
       "      <td>3.361858</td>\n",
       "      <td>0.076573</td>\n",
       "      <td>2.155827</td>\n",
       "      <td>0.141241</td>\n",
       "    </tr>\n",
       "    <tr>\n",
       "      <th>10</th>\n",
       "      <td>10</td>\n",
       "      <td>10</td>\n",
       "      <td>3.289496</td>\n",
       "      <td>0.004131</td>\n",
       "      <td>2.249770</td>\n",
       "      <td>-0.123245</td>\n",
       "      <td>3.136753</td>\n",
       "      <td>0.092536</td>\n",
       "      <td>2.318149</td>\n",
       "      <td>-0.148347</td>\n",
       "    </tr>\n",
       "    <tr>\n",
       "      <th>11</th>\n",
       "      <td>10</td>\n",
       "      <td>10</td>\n",
       "      <td>3.049307</td>\n",
       "      <td>0.026473</td>\n",
       "      <td>2.075104</td>\n",
       "      <td>0.190220</td>\n",
       "      <td>3.145455</td>\n",
       "      <td>0.085516</td>\n",
       "      <td>2.222370</td>\n",
       "      <td>0.251135</td>\n",
       "    </tr>\n",
       "    <tr>\n",
       "      <th>12</th>\n",
       "      <td>9</td>\n",
       "      <td>9</td>\n",
       "      <td>3.382363</td>\n",
       "      <td>0.006263</td>\n",
       "      <td>2.202134</td>\n",
       "      <td>-0.093903</td>\n",
       "      <td>3.082844</td>\n",
       "      <td>0.097801</td>\n",
       "      <td>2.174316</td>\n",
       "      <td>-0.152491</td>\n",
       "    </tr>\n",
       "    <tr>\n",
       "      <th>13</th>\n",
       "      <td>6</td>\n",
       "      <td>6</td>\n",
       "      <td>3.541219</td>\n",
       "      <td>0.083761</td>\n",
       "      <td>1.905272</td>\n",
       "      <td>0.322942</td>\n",
       "      <td>3.445309</td>\n",
       "      <td>0.085021</td>\n",
       "      <td>1.722379</td>\n",
       "      <td>0.334948</td>\n",
       "    </tr>\n",
       "    <tr>\n",
       "      <th>14</th>\n",
       "      <td>11</td>\n",
       "      <td>11</td>\n",
       "      <td>2.718769</td>\n",
       "      <td>0.011318</td>\n",
       "      <td>2.202134</td>\n",
       "      <td>0.181608</td>\n",
       "      <td>2.808752</td>\n",
       "      <td>0.085931</td>\n",
       "      <td>2.216398</td>\n",
       "      <td>0.113575</td>\n",
       "    </tr>\n",
       "    <tr>\n",
       "      <th>15</th>\n",
       "      <td>11</td>\n",
       "      <td>11</td>\n",
       "      <td>3.183973</td>\n",
       "      <td>0.011356</td>\n",
       "      <td>1.952670</td>\n",
       "      <td>0.111708</td>\n",
       "      <td>3.342637</td>\n",
       "      <td>0.081644</td>\n",
       "      <td>2.005500</td>\n",
       "      <td>0.093831</td>\n",
       "    </tr>\n",
       "    <tr>\n",
       "      <th>16</th>\n",
       "      <td>11</td>\n",
       "      <td>11</td>\n",
       "      <td>2.749118</td>\n",
       "      <td>0.007573</td>\n",
       "      <td>1.952670</td>\n",
       "      <td>0.193548</td>\n",
       "      <td>2.819015</td>\n",
       "      <td>0.084264</td>\n",
       "      <td>2.003645</td>\n",
       "      <td>-0.007891</td>\n",
       "    </tr>\n",
       "    <tr>\n",
       "      <th>17</th>\n",
       "      <td>9</td>\n",
       "      <td>9</td>\n",
       "      <td>2.717297</td>\n",
       "      <td>0.045649</td>\n",
       "      <td>1.968643</td>\n",
       "      <td>-0.140500</td>\n",
       "      <td>2.795841</td>\n",
       "      <td>0.099764</td>\n",
       "      <td>1.943064</td>\n",
       "      <td>-0.127777</td>\n",
       "    </tr>\n",
       "    <tr>\n",
       "      <th>18</th>\n",
       "      <td>8</td>\n",
       "      <td>8</td>\n",
       "      <td>3.180640</td>\n",
       "      <td>0.059409</td>\n",
       "      <td>1.903772</td>\n",
       "      <td>0.150187</td>\n",
       "      <td>3.214309</td>\n",
       "      <td>0.090613</td>\n",
       "      <td>1.909153</td>\n",
       "      <td>-0.002098</td>\n",
       "    </tr>\n",
       "    <tr>\n",
       "      <th>19</th>\n",
       "      <td>12</td>\n",
       "      <td>12</td>\n",
       "      <td>2.973293</td>\n",
       "      <td>0.004870</td>\n",
       "      <td>2.248998</td>\n",
       "      <td>0.002854</td>\n",
       "      <td>3.049069</td>\n",
       "      <td>0.077683</td>\n",
       "      <td>2.179259</td>\n",
       "      <td>0.006176</td>\n",
       "    </tr>\n",
       "    <tr>\n",
       "      <th>20</th>\n",
       "      <td>12</td>\n",
       "      <td>12</td>\n",
       "      <td>3.995450</td>\n",
       "      <td>0.003017</td>\n",
       "      <td>2.248998</td>\n",
       "      <td>0.002854</td>\n",
       "      <td>4.230510</td>\n",
       "      <td>0.054307</td>\n",
       "      <td>2.179259</td>\n",
       "      <td>0.006176</td>\n",
       "    </tr>\n",
       "  </tbody>\n",
       "</table>\n",
       "</div>\n",
       "      <button class=\"colab-df-convert\" onclick=\"convertToInteractive('df-9a381c3d-66a2-466e-898a-43e92930a261')\"\n",
       "              title=\"Convert this dataframe to an interactive table.\"\n",
       "              style=\"display:none;\">\n",
       "        \n",
       "  <svg xmlns=\"http://www.w3.org/2000/svg\" height=\"24px\"viewBox=\"0 0 24 24\"\n",
       "       width=\"24px\">\n",
       "    <path d=\"M0 0h24v24H0V0z\" fill=\"none\"/>\n",
       "    <path d=\"M18.56 5.44l.94 2.06.94-2.06 2.06-.94-2.06-.94-.94-2.06-.94 2.06-2.06.94zm-11 1L8.5 8.5l.94-2.06 2.06-.94-2.06-.94L8.5 2.5l-.94 2.06-2.06.94zm10 10l.94 2.06.94-2.06 2.06-.94-2.06-.94-.94-2.06-.94 2.06-2.06.94z\"/><path d=\"M17.41 7.96l-1.37-1.37c-.4-.4-.92-.59-1.43-.59-.52 0-1.04.2-1.43.59L10.3 9.45l-7.72 7.72c-.78.78-.78 2.05 0 2.83L4 21.41c.39.39.9.59 1.41.59.51 0 1.02-.2 1.41-.59l7.78-7.78 2.81-2.81c.8-.78.8-2.07 0-2.86zM5.41 20L4 18.59l7.72-7.72 1.47 1.35L5.41 20z\"/>\n",
       "  </svg>\n",
       "      </button>\n",
       "      \n",
       "  <style>\n",
       "    .colab-df-container {\n",
       "      display:flex;\n",
       "      flex-wrap:wrap;\n",
       "      gap: 12px;\n",
       "    }\n",
       "\n",
       "    .colab-df-convert {\n",
       "      background-color: #E8F0FE;\n",
       "      border: none;\n",
       "      border-radius: 50%;\n",
       "      cursor: pointer;\n",
       "      display: none;\n",
       "      fill: #1967D2;\n",
       "      height: 32px;\n",
       "      padding: 0 0 0 0;\n",
       "      width: 32px;\n",
       "    }\n",
       "\n",
       "    .colab-df-convert:hover {\n",
       "      background-color: #E2EBFA;\n",
       "      box-shadow: 0px 1px 2px rgba(60, 64, 67, 0.3), 0px 1px 3px 1px rgba(60, 64, 67, 0.15);\n",
       "      fill: #174EA6;\n",
       "    }\n",
       "\n",
       "    [theme=dark] .colab-df-convert {\n",
       "      background-color: #3B4455;\n",
       "      fill: #D2E3FC;\n",
       "    }\n",
       "\n",
       "    [theme=dark] .colab-df-convert:hover {\n",
       "      background-color: #434B5C;\n",
       "      box-shadow: 0px 1px 3px 1px rgba(0, 0, 0, 0.15);\n",
       "      filter: drop-shadow(0px 1px 2px rgba(0, 0, 0, 0.3));\n",
       "      fill: #FFFFFF;\n",
       "    }\n",
       "  </style>\n",
       "\n",
       "      <script>\n",
       "        const buttonEl =\n",
       "          document.querySelector('#df-9a381c3d-66a2-466e-898a-43e92930a261 button.colab-df-convert');\n",
       "        buttonEl.style.display =\n",
       "          google.colab.kernel.accessAllowed ? 'block' : 'none';\n",
       "\n",
       "        async function convertToInteractive(key) {\n",
       "          const element = document.querySelector('#df-9a381c3d-66a2-466e-898a-43e92930a261');\n",
       "          const dataTable =\n",
       "            await google.colab.kernel.invokeFunction('convertToInteractive',\n",
       "                                                     [key], {});\n",
       "          if (!dataTable) return;\n",
       "\n",
       "          const docLinkHtml = 'Like what you see? Visit the ' +\n",
       "            '<a target=\"_blank\" href=https://colab.research.google.com/notebooks/data_table.ipynb>data table notebook</a>'\n",
       "            + ' to learn more about interactive tables.';\n",
       "          element.innerHTML = '';\n",
       "          dataTable['output_type'] = 'display_data';\n",
       "          await google.colab.output.renderOutput(dataTable, element);\n",
       "          const docLink = document.createElement('div');\n",
       "          docLink.innerHTML = docLinkHtml;\n",
       "          element.appendChild(docLink);\n",
       "        }\n",
       "      </script>\n",
       "    </div>\n",
       "  </div>\n",
       "  "
      ],
      "text/plain": [
       "       #Firms  #Products  price_mean  share_mean  xvar_mean  wvar_mean  \\\n",
       "mktid                                                                    \n",
       "1           7          7    2.606675    0.149334   1.952670  -0.370695   \n",
       "2           7          7    2.430668    0.070118   2.685479  -0.564728   \n",
       "3           7          7    2.844954    0.082008   2.660057  -0.126529   \n",
       "4          11         11    3.326305    0.009768   1.946938   0.218622   \n",
       "5          11         11    2.663987    0.027104   1.946938  -0.089058   \n",
       "6           8          8    2.698184    0.039247   1.949804   0.131254   \n",
       "7           6          6    2.966885    0.122192   2.030004   0.142384   \n",
       "8          12         12    3.088131    0.014099   2.077402   0.061042   \n",
       "9          10         10    3.246889    0.021610   1.957790   0.171797   \n",
       "10         10         10    3.289496    0.004131   2.249770  -0.123245   \n",
       "11         10         10    3.049307    0.026473   2.075104   0.190220   \n",
       "12          9          9    3.382363    0.006263   2.202134  -0.093903   \n",
       "13          6          6    3.541219    0.083761   1.905272   0.322942   \n",
       "14         11         11    2.718769    0.011318   2.202134   0.181608   \n",
       "15         11         11    3.183973    0.011356   1.952670   0.111708   \n",
       "16         11         11    2.749118    0.007573   1.952670   0.193548   \n",
       "17          9          9    2.717297    0.045649   1.968643  -0.140500   \n",
       "18          8          8    3.180640    0.059409   1.903772   0.150187   \n",
       "19         12         12    2.973293    0.004870   2.248998   0.002854   \n",
       "20         12         12    3.995450    0.003017   2.248998   0.002854   \n",
       "\n",
       "       price_std  share_std  xvar_std  wvar_std  \n",
       "mktid                                            \n",
       "1       2.750983   0.118469  1.945542 -0.293838  \n",
       "2       2.608820   0.136178  2.631723 -0.270162  \n",
       "3       3.098984   0.128079  2.576645  0.065384  \n",
       "4       3.530610   0.072886  1.983285  0.168326  \n",
       "5       2.854352   0.082693  1.801961 -0.154398  \n",
       "6       2.950200   0.106947  1.940615  0.029890  \n",
       "7       2.868110   0.121251  1.825464 -0.006352  \n",
       "8       3.062927   0.073310  2.144377  0.101264  \n",
       "9       3.361858   0.076573  2.155827  0.141241  \n",
       "10      3.136753   0.092536  2.318149 -0.148347  \n",
       "11      3.145455   0.085516  2.222370  0.251135  \n",
       "12      3.082844   0.097801  2.174316 -0.152491  \n",
       "13      3.445309   0.085021  1.722379  0.334948  \n",
       "14      2.808752   0.085931  2.216398  0.113575  \n",
       "15      3.342637   0.081644  2.005500  0.093831  \n",
       "16      2.819015   0.084264  2.003645 -0.007891  \n",
       "17      2.795841   0.099764  1.943064 -0.127777  \n",
       "18      3.214309   0.090613  1.909153 -0.002098  \n",
       "19      3.049069   0.077683  2.179259  0.006176  \n",
       "20      4.230510   0.054307  2.179259  0.006176  "
      ]
     },
     "execution_count": 5,
     "metadata": {},
     "output_type": "execute_result"
    }
   ],
   "source": [
    "df_widxs = df.copy()\n",
    "df_widxs['firmid'] = df_widxs.index.get_level_values('firmid')\n",
    "df_widxs['prodid'] = df_widxs.index.get_level_values('prodid')\n",
    "stats_mktlvl = df_widxs.groupby(by=['mktid']).aggregate({'firmid': 'count', 'prodid': 'count'})\n",
    "stats_mktlvl.rename(columns={\"firmid\": \"#Firms\", \"prodid\": \"#Products\"}, inplace=True)\n",
    "nfirms = stats_mktlvl[\"#Firms\"]\n",
    "nprods = stats_mktlvl[\"#Products\"]\n",
    "df_std = df.groupby('mktid').mean()\n",
    "df_mean = df.groupby('mktid').median()\n",
    "stats_mktlvl.join(df_mean.join(df_std,rsuffix='_std',lsuffix='_mean'))"
   ]
  },
  {
   "cell_type": "markdown",
   "metadata": {
    "id": "-2D-DCJvWmlQ"
   },
   "source": [
    "### Market Summaries"
   ]
  },
  {
   "cell_type": "code",
   "execution_count": 6,
   "metadata": {
    "id": "9fkHrC5JWwmG"
   },
   "outputs": [],
   "source": [
    "import seaborn as sns\n",
    "sns.set_theme(style=\"ticks\", palette=\"pastel\")\n",
    "sns.set(rc={'figure.figsize':(15,6)})"
   ]
  },
  {
   "cell_type": "code",
   "execution_count": 7,
   "metadata": {
    "colab": {
     "base_uri": "https://localhost:8080/",
     "height": 412
    },
    "id": "lR6nGkP9XUyt",
    "outputId": "f2b6a725-adaa-4b66-f244-7326fb3ae725"
   },
   "outputs": [
    {
     "data": {
      "text/plain": [
       "<matplotlib.axes._subplots.AxesSubplot at 0x7fc602bab160>"
      ]
     },
     "execution_count": 7,
     "metadata": {},
     "output_type": "execute_result"
    },
    {
     "data": {
      "image/png": "[encoded data removed]",
      "text/plain": [
       "<Figure size 1080x432 with 1 Axes>"
      ]
     },
     "metadata": {},
     "output_type": "display_data"
    }
   ],
   "source": [
    "# Shares by Market\n",
    "sns.boxplot(x=\"mktid\", y=\"share\",data=df.reset_index())"
   ]
  },
  {
   "cell_type": "code",
   "execution_count": 8,
   "metadata": {
    "colab": {
     "base_uri": "https://localhost:8080/",
     "height": 412
    },
    "id": "lnKSKf3dVMf1",
    "outputId": "b3d7041b-89eb-4609-c488-70c32c2ee74e"
   },
   "outputs": [
    {
     "data": {
      "text/plain": [
       "<matplotlib.axes._subplots.AxesSubplot at 0x7fc6029652b0>"
      ]
     },
     "execution_count": 8,
     "metadata": {},
     "output_type": "execute_result"
    },
    {
     "data": {
      "image/png": "[encoded data removed]",
      "text/plain": [
       "<Figure size 1080x432 with 1 Axes>"
      ]
     },
     "metadata": {},
     "output_type": "display_data"
    }
   ],
   "source": [
    "# Prices by Market\n",
    "sns.boxplot(x=\"mktid\", y=\"price\",data=df.reset_index())"
   ]
  },
  {
   "cell_type": "code",
   "execution_count": 9,
   "metadata": {
    "colab": {
     "base_uri": "https://localhost:8080/",
     "height": 412
    },
    "id": "49pLvCjTWWiL",
    "outputId": "c46caf58-56c0-48b7-d619-d873f0caaf4f"
   },
   "outputs": [
    {
     "data": {
      "text/plain": [
       "<matplotlib.axes._subplots.AxesSubplot at 0x7fc6023610a0>"
      ]
     },
     "execution_count": 9,
     "metadata": {},
     "output_type": "execute_result"
    },
    {
     "data": {
      "image/png": "[encoded data removed]",
      "text/plain": [
       "<Figure size 1080x432 with 1 Axes>"
      ]
     },
     "metadata": {},
     "output_type": "display_data"
    }
   ],
   "source": [
    "# Costs by Market\n",
    "sns.boxplot(x=\"mktid\", y=\"wvar\",data=df.reset_index())"
   ]
  },
  {
   "cell_type": "code",
   "execution_count": 10,
   "metadata": {
    "colab": {
     "base_uri": "https://localhost:8080/",
     "height": 412
    },
    "id": "AtDrOBkjV9Tj",
    "outputId": "16ce322f-4cfd-43d5-a709-df0cfe883170"
   },
   "outputs": [
    {
     "data": {
      "text/plain": [
       "<matplotlib.axes._subplots.AxesSubplot at 0x7fc602149970>"
      ]
     },
     "execution_count": 10,
     "metadata": {},
     "output_type": "execute_result"
    },
    {
     "data": {
      "image/png": "[encoded data removed]",
      "text/plain": [
       "<Figure size 1080x432 with 1 Axes>"
      ]
     },
     "metadata": {},
     "output_type": "display_data"
    }
   ],
   "source": [
    "# Characteristics by Market\n",
    "sns.boxplot(x=\"mktid\", y=\"xvar\",data=df.reset_index())"
   ]
  },
  {
   "cell_type": "code",
   "execution_count": 11,
   "metadata": {
    "colab": {
     "base_uri": "https://localhost:8080/",
     "height": 412
    },
    "id": "5r9GV6FrWh7g",
    "outputId": "60a006e7-4294-4d46-b741-cc50518396d4"
   },
   "outputs": [
    {
     "data": {
      "text/plain": [
       "<matplotlib.axes._subplots.AxesSubplot at 0x7fc601f264c0>"
      ]
     },
     "execution_count": 11,
     "metadata": {},
     "output_type": "execute_result"
    },
    {
     "data": {
      "image/png": "[encoded data removed]",
      "text/plain": [
       "<Figure size 1080x432 with 1 Axes>"
      ]
     },
     "metadata": {},
     "output_type": "display_data"
    }
   ],
   "source": [
    "# Characteristics by Market\n",
    "sns.boxplot(x=\"mktid\", y=\"wvar\",data=df.reset_index())"
   ]
  },
  {
   "cell_type": "markdown",
   "metadata": {
    "id": "nKbE44IWW6WM"
   },
   "source": [
    "### Firm Summaries"
   ]
  },
  {
   "cell_type": "code",
   "execution_count": 12,
   "metadata": {
    "colab": {
     "base_uri": "https://localhost:8080/",
     "height": 109
    },
    "id": "ghhLI39HW_6k",
    "outputId": "5ae40a11-d398-4bf3-d3e8-07e13bd96219"
   },
   "outputs": [
    {
     "data": {
      "text/plain": [
       "<matplotlib.axes._subplots.AxesSubplot at 0x7fc601d75d00>"
      ]
     },
     "execution_count": 12,
     "metadata": {},
     "output_type": "execute_result"
    },
    {
     "data": {
      "image/png": "[encoded data removed]",
      "text/plain": [
       "<Figure size 1080x432 with 1 Axes>"
      ]
     },
     "metadata": {},
     "output_type": "display_data"
    }
   ],
   "source": [
    "# Prices by Firm\n",
    "sns.boxplot(x=\"firmid\", y=\"price\",data=df.reset_index())"
   ]
  },
  {
   "cell_type": "code",
   "execution_count": 13,
   "metadata": {
    "colab": {
     "base_uri": "https://localhost:8080/",
     "height": 109
    },
    "id": "BM1oHJMgXJwN",
    "outputId": "cfcf12d7-c181-4a8b-f52e-bd7e4e027d8c"
   },
   "outputs": [
    {
     "data": {
      "text/plain": [
       "<matplotlib.axes._subplots.AxesSubplot at 0x7fc601cedbe0>"
      ]
     },
     "execution_count": 13,
     "metadata": {},
     "output_type": "execute_result"
    },
    {
     "data": {
      "image/png": "[encoded data removed]",
      "text/plain": [
       "<Figure size 1080x432 with 1 Axes>"
      ]
     },
     "metadata": {},
     "output_type": "display_data"
    }
   ],
   "source": [
    "# Costs by Firm\n",
    "sns.boxplot(x=\"firmid\", y=\"wvar\",data=df.reset_index())"
   ]
  },
  {
   "cell_type": "code",
   "execution_count": 14,
   "metadata": {
    "colab": {
     "base_uri": "https://localhost:8080/",
     "height": 109
    },
    "id": "UpZFBUW1XMav",
    "outputId": "e38e6ce5-1a70-4a59-9b23-6a09f9555d35"
   },
   "outputs": [
    {
     "data": {
      "text/plain": [
       "<matplotlib.axes._subplots.AxesSubplot at 0x7fc601c8f430>"
      ]
     },
     "execution_count": 14,
     "metadata": {},
     "output_type": "execute_result"
    },
    {
     "data": {
      "image/png": "[encoded data removed]",
      "text/plain": [
       "<Figure size 1080x432 with 1 Axes>"
      ]
     },
     "metadata": {},
     "output_type": "display_data"
    }
   ],
   "source": [
    "# Characteristics by Firm\n",
    "sns.boxplot(x=\"firmid\", y=\"xvar\",data=df.reset_index())"
   ]
  },
  {
   "cell_type": "markdown",
   "metadata": {
    "id": "0H_OA3StXhlZ"
   },
   "source": [
    "### Product Summaries"
   ]
  },
  {
   "cell_type": "code",
   "execution_count": 15,
   "metadata": {
    "colab": {
     "base_uri": "https://localhost:8080/",
     "height": 109
    },
    "id": "PDgm5eMwXldJ",
    "outputId": "e327cc12-9a95-4d08-cb6d-d9bdafd88c69"
   },
   "outputs": [
    {
     "data": {
      "text/plain": [
       "<matplotlib.axes._subplots.AxesSubplot at 0x7fc601c21ee0>"
      ]
     },
     "execution_count": 15,
     "metadata": {},
     "output_type": "execute_result"
    },
    {
     "data": {
      "image/png": "[encoded data removed]",
      "text/plain": [
       "<Figure size 1080x432 with 1 Axes>"
      ]
     },
     "metadata": {},
     "output_type": "display_data"
    }
   ],
   "source": [
    "# Prices by Prod\n",
    "sns.boxplot(x=\"prodid\", y=\"price\",data=df.reset_index())"
   ]
  },
  {
   "cell_type": "code",
   "execution_count": 16,
   "metadata": {
    "colab": {
     "base_uri": "https://localhost:8080/",
     "height": 109
    },
    "id": "SXJCU6r0Xv4e",
    "outputId": "716c7695-e2dd-4416-d2e0-daeb691a9121"
   },
   "outputs": [
    {
     "data": {
      "text/plain": [
       "<matplotlib.axes._subplots.AxesSubplot at 0x7fc601a5cc10>"
      ]
     },
     "execution_count": 16,
     "metadata": {},
     "output_type": "execute_result"
    },
    {
     "data": {
      "image/png": "[encoded data removed]",
      "text/plain": [
       "<Figure size 1080x432 with 1 Axes>"
      ]
     },
     "metadata": {},
     "output_type": "display_data"
    }
   ],
   "source": [
    "# Costs by Prod\n",
    "sns.boxplot(x=\"prodid\", y=\"wvar\",data=df.reset_index())"
   ]
  },
  {
   "cell_type": "markdown",
   "metadata": {
    "id": "gx6mO0bpNmHm"
   },
   "source": [
    "## Logit model warmup"
   ]
  },
  {
   "cell_type": "markdown",
   "metadata": {
    "id": "7pPnQrZ5egIQ"
   },
   "source": [
    "### OLS"
   ]
  },
  {
   "cell_type": "code",
   "execution_count": 17,
   "metadata": {
    "colab": {
     "base_uri": "https://localhost:8080/"
    },
    "id": "sSD7QafwNmHm",
    "outputId": "6bd0ac51-0c4b-4d8c-ad0d-f4d4259cf0fa"
   },
   "outputs": [
    {
     "name": "stdout",
     "output_type": "stream",
     "text": [
      "                            OLS Regression Results                            \n",
      "==============================================================================\n",
      "Dep. Variable:              log_share   R-squared:                       0.786\n",
      "Model:                            OLS   Adj. R-squared:                  0.784\n",
      "Method:                 Least Squares   F-statistic:                     340.1\n",
      "Date:                Sat, 28 Jan 2023   Prob (F-statistic):           1.07e-62\n",
      "Time:                        05:38:40   Log-Likelihood:                -274.26\n",
      "No. Observations:                 188   AIC:                             554.5\n",
      "Df Residuals:                     185   BIC:                             564.2\n",
      "Df Model:                           2                                         \n",
      "Covariance Type:            nonrobust                                         \n",
      "==============================================================================\n",
      "                 coef    std err          t      P>|t|      [0.025      0.975]\n",
      "------------------------------------------------------------------------------\n",
      "Intercept      1.4678      0.360      4.073      0.000       0.757       2.179\n",
      "xvar           1.3368      0.124     10.752      0.000       1.091       1.582\n",
      "price         -2.6518      0.103    -25.831      0.000      -2.854      -2.449\n",
      "==============================================================================\n",
      "Omnibus:                        4.238   Durbin-Watson:                   0.727\n",
      "Prob(Omnibus):                  0.120   Jarque-Bera (JB):                4.125\n",
      "Skew:                           0.363   Prob(JB):                        0.127\n",
      "Kurtosis:                       2.988   Cond. No.                         19.3\n",
      "==============================================================================\n",
      "\n",
      "Notes:\n",
      "[1] Standard Errors assume that the covariance matrix of the errors is correctly specified.\n"
     ]
    }
   ],
   "source": [
    "df[\"log_share\"] = np.log(df[\"share\"])\n",
    "logit_ols = sm.ols(formula=\"log_share ~ xvar + price\", data=df).fit()\n",
    "print(logit_ols.summary())"
   ]
  },
  {
   "cell_type": "code",
   "execution_count": 18,
   "metadata": {
    "colab": {
     "base_uri": "https://localhost:8080/",
     "height": 423
    },
    "id": "I3EUsGQQYqUa",
    "outputId": "25cde8eb-3faf-4361-cffc-35dc1cfb3e29"
   },
   "outputs": [
    {
     "data": {
      "image/png": "[encoded data removed]",
      "text/plain": [
       "<Figure size 1080x432 with 1 Axes>"
      ]
     },
     "metadata": {},
     "output_type": "display_data"
    }
   ],
   "source": [
    "# Partial Regression Plot of logshare-E[logshare|xvar] on price-E[price|xvar]\n",
    "import statsmodels.api as sm_\n",
    "fig = sm_.graphics.plot_partregress(\"log_share\", \"price\", [\"xvar\"], data=df, obs_labels = False)\n",
    "fig.tight_layout(pad=1.0)"
   ]
  },
  {
   "cell_type": "markdown",
   "metadata": {
    "id": "gfMJ3QY6NmHm"
   },
   "source": [
    "### 2SLS"
   ]
  },
  {
   "cell_type": "code",
   "execution_count": 20,
   "metadata": {
    "colab": {
     "base_uri": "https://localhost:8080/"
    },
    "id": "vfdj5CH9NmHn",
    "outputId": "cade6d0c-c569-4c72-c808-be81c698359f"
   },
   "outputs": [
    {
     "name": "stdout",
     "output_type": "stream",
     "text": [
      "                          IV2SLS Regression Results                           \n",
      "==============================================================================\n",
      "Dep. Variable:              log_share   R-squared:                       0.785\n",
      "Model:                         IV2SLS   Adj. R-squared:                  0.783\n",
      "Method:                     Two Stage   F-statistic:                     86.48\n",
      "                        Least Squares   Prob (F-statistic):           3.04e-27\n",
      "Date:                Sat, 28 Jan 2023                                         \n",
      "Time:                        05:38:51                                         \n",
      "No. Observations:                 188                                         \n",
      "Df Residuals:                     185                                         \n",
      "Df Model:                           2                                         \n",
      "==============================================================================\n",
      "                 coef    std err          t      P>|t|      [0.025      0.975]\n",
      "------------------------------------------------------------------------------\n",
      "const          1.6599      0.583      2.846      0.005       0.509       2.811\n",
      "xvar           1.3640      0.140      9.711      0.000       1.087       1.641\n",
      "price         -2.7314      0.216    -12.652      0.000      -3.157      -2.305\n",
      "==============================================================================\n",
      "Omnibus:                        5.445   Durbin-Watson:                   0.653\n",
      "Prob(Omnibus):                  0.066   Jarque-Bera (JB):                5.340\n",
      "Skew:                           0.413   Prob(JB):                       0.0693\n",
      "Kurtosis:                       3.025   Cond. No.                         19.3\n",
      "==============================================================================\n"
     ]
    },
    {
     "name": "stderr",
     "output_type": "stream",
     "text": [
      "/usr/local/lib/python3.8/dist-packages/statsmodels/tsa/tsatools.py:142: FutureWarning: In a future version of pandas all arguments of concat except for the argument 'objs' will be keyword-only\n",
      "  x = pd.concat(x[::order], 1)\n"
     ]
    }
   ],
   "source": [
    "import statsmodels.api as sm_\n",
    "Y = df[\"log_share\"]\n",
    "X = sm_.add_constant(df[[\"xvar\", \"price\"]])\n",
    "Z = sm_.add_constant(df[[\"xvar\", \"wvar\"]])\n",
    "logit_2sls = IV2SLS(endog=Y,exog=X, instrument=Z).fit()\n",
    "constant, alpha, beta = logit_2sls.params\n",
    "print(logit_2sls.summary())"
   ]
  },
  {
   "cell_type": "markdown",
   "metadata": {
    "id": "bR0bUy0Ueicb"
   },
   "source": [
    "### GMM"
   ]
  },
  {
   "cell_type": "markdown",
   "metadata": {
    "id": "Nwyv1iYsbYLM"
   },
   "source": [
    "3. With GMM: When we have strong instruments, GMM is more efficient than 2SLS under heteroskedasticity because computes the 'optimal weighing matrix' to weigh sample moments. "
   ]
  },
  {
   "cell_type": "code",
   "execution_count": 23,
   "metadata": {
    "colab": {
     "base_uri": "https://localhost:8080/"
    },
    "id": "nwQajbG1bd4b",
    "outputId": "43cfb79e-5632-4fe0-e27e-b63542764bd3"
   },
   "outputs": [
    {
     "name": "stdout",
     "output_type": "stream",
     "text": [
      "Optimization terminated successfully.\n",
      "         Current function value: 0.000000\n",
      "         Iterations: 8\n",
      "         Function evaluations: 10\n",
      "         Gradient evaluations: 10\n",
      "Optimization terminated successfully.\n",
      "         Current function value: 0.000000\n",
      "         Iterations: 0\n",
      "         Function evaluations: 1\n",
      "         Gradient evaluations: 1\n",
      "Optimization terminated successfully.\n",
      "         Current function value: 0.000000\n",
      "         Iterations: 0\n",
      "         Function evaluations: 1\n",
      "         Gradient evaluations: 1\n",
      "Optimization terminated successfully.\n",
      "         Current function value: 0.000000\n",
      "         Iterations: 0\n",
      "         Function evaluations: 1\n",
      "         Gradient evaluations: 1\n",
      "                                IVGMM Results                                 \n",
      "==============================================================================\n",
      "Dep. Variable:              log_share   Hansen J:                    1.403e-11\n",
      "Model:                          IVGMM   Prob (Hansen J):                   nan\n",
      "Method:                           GMM                                         \n",
      "Date:                Sat, 28 Jan 2023                                         \n",
      "Time:                        05:38:59                                         \n",
      "No. Observations:                 188                                         \n",
      "==============================================================================\n",
      "                 coef    std err          z      P>|z|      [0.025      0.975]\n",
      "------------------------------------------------------------------------------\n",
      "const          1.6599      0.549      3.024      0.002       0.584       2.736\n",
      "xvar           1.3640      0.148      9.215      0.000       1.074       1.654\n",
      "price         -2.7314      0.218    -12.538      0.000      -3.158      -2.304\n",
      "==============================================================================\n"
     ]
    },
    {
     "name": "stderr",
     "output_type": "stream",
     "text": [
      "/usr/local/lib/python3.8/dist-packages/statsmodels/tsa/tsatools.py:142: FutureWarning: In a future version of pandas all arguments of concat except for the argument 'objs' will be keyword-only\n",
      "  x = pd.concat(x[::order], 1)\n"
     ]
    }
   ],
   "source": [
    "import statsmodels.api as sm_\n",
    "Y = df[\"log_share\"]\n",
    "X = sm_.add_constant(df[[\"xvar\", \"price\"]])\n",
    "Z = sm_.add_constant(df[[\"xvar\", \"wvar\"]])\n",
    "logit_gmm = IVGMM(endog=Y,exog=X,instrument=Z).fit();\n",
    "constant, alpha, beta = logit_gmm.params;\n",
    "print(logit_gmm.summary());"
   ]
  },
  {
   "cell_type": "markdown",
   "metadata": {
    "id": "4SA02TNoqu33"
   },
   "source": [
    "### Double Machine Learning \n"
   ]
  },
  {
   "cell_type": "markdown",
   "metadata": {
    "id": "7Imn5BZGuwTD"
   },
   "source": [
    "$log(s)=αp+g(x)+e, E[e|x,w]=0$\n",
    " - Here $g$ is estimated by flexible machine learning methods\n",
    " - and $[x,w]$ are instruments"
   ]
  },
  {
   "cell_type": "code",
   "execution_count": 25,
   "metadata": {
    "colab": {
     "base_uri": "https://localhost:8080/"
    },
    "id": "n8B2IWY_qt79",
    "outputId": "24ae8bfc-557d-4524-923e-7f3284c8d8db"
   },
   "outputs": [
    {
     "name": "stdout",
     "output_type": "stream",
     "text": [
      "Looking in indexes: https://pypi.org/simple, https://us-python.pkg.dev/colab-wheels/public/simple/\n",
      "Collecting doubleml\n",
      "  Downloading DoubleML-0.5.2-py3-none-any.whl (126 kB)\n",
      "\u001b[2K     \u001b[90m━━━━━━━━━━━━━━━━━━━━━━━━━━━━━━━━━━━━━━━\u001b[0m \u001b[32m126.4/126.4 KB\u001b[0m \u001b[31m3.9 MB/s\u001b[0m eta \u001b[36m0:00:00\u001b[0m\n",
      "\u001b[?25hRequirement already satisfied: scikit-learn in /usr/local/lib/python3.8/dist-packages (from doubleml) (1.0.2)\n",
      "Requirement already satisfied: pandas in /usr/local/lib/python3.8/dist-packages (from doubleml) (1.3.5)\n",
      "Requirement already satisfied: statsmodels in /usr/local/lib/python3.8/dist-packages (from doubleml) (0.12.2)\n",
      "Requirement already satisfied: numpy in /usr/local/lib/python3.8/dist-packages (from doubleml) (1.21.6)\n",
      "Requirement already satisfied: scipy in /usr/local/lib/python3.8/dist-packages (from doubleml) (1.7.3)\n",
      "Requirement already satisfied: joblib in /usr/local/lib/python3.8/dist-packages (from doubleml) (1.2.0)\n",
      "Requirement already satisfied: pytz>=2017.3 in /usr/local/lib/python3.8/dist-packages (from pandas->doubleml) (2022.7)\n",
      "Requirement already satisfied: python-dateutil>=2.7.3 in /usr/local/lib/python3.8/dist-packages (from pandas->doubleml) (2.8.2)\n",
      "Requirement already satisfied: threadpoolctl>=2.0.0 in /usr/local/lib/python3.8/dist-packages (from scikit-learn->doubleml) (3.1.0)\n",
      "Requirement already satisfied: patsy>=0.5 in /usr/local/lib/python3.8/dist-packages (from statsmodels->doubleml) (0.5.3)\n",
      "Requirement already satisfied: six in /usr/local/lib/python3.8/dist-packages (from patsy>=0.5->statsmodels->doubleml) (1.15.0)\n",
      "Installing collected packages: doubleml\n",
      "Successfully installed doubleml-0.5.2\n",
      "          coef   std err          t         P>|t|     2.5 %    97.5 %\n",
      "price -2.81427  0.172634 -16.301921  9.563766e-60 -3.152627 -2.475913\n"
     ]
    }
   ],
   "source": [
    "%pip install doubleml\n",
    "from doubleml import DoubleMLData, DoubleMLPLIV\n",
    "from sklearn.ensemble import RandomForestRegressor\n",
    "l = RandomForestRegressor() # Model for E[Y|X] = E[θD+g(X)]\n",
    "g = RandomForestRegressor() # Model for E[Y - θD|X]=g(X)\n",
    "m = RandomForestRegressor() # Model for E[D|X]\n",
    "data = DoubleMLData(df, y_col=\"log_share\",d_cols=[\"price\"], x_cols=[\"xvar\"],z_cols=[ \"wvar\"])\n",
    "DML = DoubleMLPLIV(data, l, m, g, n_folds=5, apply_cross_fitting=True)\n",
    "DML.fit();\n",
    "print(DML.summary)\n",
    "import numpy as np\n",
    "beta = np.array(DML.summary).reshape(-1).tolist()[0]"
   ]
  },
  {
   "cell_type": "markdown",
   "metadata": {
    "id": "bT9LPnqv2EW_"
   },
   "source": [
    "### Why do we need Instruments? "
   ]
  },
  {
   "cell_type": "markdown",
   "metadata": {
    "id": "o-Ao6ARsezy6"
   },
   "source": [
    "Let demand curve be: $q=βp+d$ where $d$ is a random demand shifter (e.g. random holiday). Since demand shifters are likely to effect price (as price and quantity determined simultaneously), $E[dp] \\not= 0$. \n",
    "\n",
    "- $q=βp+d, E[dp] \\not= 0 \\implies β \\not= E[x^2]^{-1}E[yx]$\n",
    "- So $\\hat{β}=(\\sum_{i}x_{i}^2)^{-1}(\\sum_{i}y_{i}x_{i})$ will not converge to $β$\n",
    "\n",
    "But if we have access to a supply/cost shifter $c$ (e.g. weather) that is exogenous to demand,\n",
    "\n",
    "- $c \\perp d$ \n",
    "- $q=p+c$. \n",
    "\n",
    "We can solve for price to get: \n",
    "\n",
    "- $p= \\theta_{1}c + \\theta_{2}d$\n",
    "\n",
    "Thus  $c$  will influence both price and quantity but be uncorrelated with demand shocks. \n",
    "- $E[dc] = 0, E[pc] \\not=0 \\implies β = E[xc]^{-1}E[yc]$\n",
    "\n",
    "Thus these are the two conditions for $c$ to be a valid instrument: \n",
    "- (untestable) $E[dc] = 0$ \n",
    "- (testable) $E[pc] \\not= 0$. \n",
    "\n",
    "Examples of other Instruments: \n",
    "- Cost shifters: marginal costs, wages, fixed costs, input prices, prices in other markets (Hausman)\n",
    "- Markup shifters: product characteristics, entry/exit events, merger/collusion event, "
   ]
  },
  {
   "cell_type": "markdown",
   "metadata": {
    "id": "Nqg9pnQFelKR"
   },
   "source": [
    "### Elasticities "
   ]
  },
  {
   "cell_type": "code",
   "execution_count": 26,
   "metadata": {
    "id": "AX_OqarWNmHn"
   },
   "outputs": [],
   "source": [
    "def get_logit_elasticities(mktid: int) -> pd.DataFrame:\n",
    "    df_mkt = df[df.index.get_level_values('mktid')==mktid].droplevel('mktid')\n",
    "    mkt_elst = -alpha*np.dot(np.ones((nfirms.loc[mktid],1)), (df_mkt[\"price\"]*df_mkt[\"share\"]).to_numpy().reshape((1,nfirms.loc[mktid]))) + alpha*np.diag(df_mkt[\"price\"])\n",
    "    return pd.DataFrame(mkt_elst, index=df_mkt.index, columns=df_mkt.index)"
   ]
  },
  {
   "cell_type": "markdown",
   "metadata": {
    "id": "aIKFSQK4NmHn"
   },
   "source": [
    "Matrix of own and cross-price elasticities for market 1:"
   ]
  },
  {
   "cell_type": "code",
   "execution_count": 27,
   "metadata": {
    "colab": {
     "base_uri": "https://localhost:8080/",
     "height": 332
    },
    "id": "W0TRU6pVNmHn",
    "outputId": "905d773e-2ceb-475f-c94f-5411d6d87d1c"
   },
   "outputs": [
    {
     "data": {
      "text/html": [
       "\n",
       "  <div id=\"df-d193d71f-c87a-4ca3-b04b-616e8b30634c\">\n",
       "    <div class=\"colab-df-container\">\n",
       "      <div>\n",
       "<style scoped>\n",
       "    .dataframe tbody tr th:only-of-type {\n",
       "        vertical-align: middle;\n",
       "    }\n",
       "\n",
       "    .dataframe tbody tr th {\n",
       "        vertical-align: top;\n",
       "    }\n",
       "\n",
       "    .dataframe thead tr th {\n",
       "        text-align: left;\n",
       "    }\n",
       "\n",
       "    .dataframe thead tr:last-of-type th {\n",
       "        text-align: right;\n",
       "    }\n",
       "</style>\n",
       "<table border=\"1\" class=\"dataframe\">\n",
       "  <thead>\n",
       "    <tr>\n",
       "      <th></th>\n",
       "      <th>firmid</th>\n",
       "      <th>1</th>\n",
       "      <th colspan=\"2\" halign=\"left\">2</th>\n",
       "      <th>3</th>\n",
       "      <th colspan=\"3\" halign=\"left\">4</th>\n",
       "    </tr>\n",
       "    <tr>\n",
       "      <th></th>\n",
       "      <th>prodid</th>\n",
       "      <th>5</th>\n",
       "      <th>7</th>\n",
       "      <th>8</th>\n",
       "      <th>14</th>\n",
       "      <th>16</th>\n",
       "      <th>17</th>\n",
       "      <th>18</th>\n",
       "    </tr>\n",
       "    <tr>\n",
       "      <th>firmid</th>\n",
       "      <th>prodid</th>\n",
       "      <th></th>\n",
       "      <th></th>\n",
       "      <th></th>\n",
       "      <th></th>\n",
       "      <th></th>\n",
       "      <th></th>\n",
       "      <th></th>\n",
       "    </tr>\n",
       "  </thead>\n",
       "  <tbody>\n",
       "    <tr>\n",
       "      <th>1</th>\n",
       "      <th>5</th>\n",
       "      <td>2.747569</td>\n",
       "      <td>-0.082290</td>\n",
       "      <td>-0.597102</td>\n",
       "      <td>-0.488058</td>\n",
       "      <td>-0.656011</td>\n",
       "      <td>-0.143866</td>\n",
       "      <td>-0.147731</td>\n",
       "    </tr>\n",
       "    <tr>\n",
       "      <th rowspan=\"2\" valign=\"top\">2</th>\n",
       "      <th>7</th>\n",
       "      <td>-0.807944</td>\n",
       "      <td>5.078138</td>\n",
       "      <td>-0.597102</td>\n",
       "      <td>-0.488058</td>\n",
       "      <td>-0.656011</td>\n",
       "      <td>-0.143866</td>\n",
       "      <td>-0.147731</td>\n",
       "    </tr>\n",
       "    <tr>\n",
       "      <th>8</th>\n",
       "      <td>-0.807944</td>\n",
       "      <td>-0.082290</td>\n",
       "      <td>2.810417</td>\n",
       "      <td>-0.488058</td>\n",
       "      <td>-0.656011</td>\n",
       "      <td>-0.143866</td>\n",
       "      <td>-0.147731</td>\n",
       "    </tr>\n",
       "    <tr>\n",
       "      <th>3</th>\n",
       "      <th>14</th>\n",
       "      <td>-0.807944</td>\n",
       "      <td>-0.082290</td>\n",
       "      <td>-0.597102</td>\n",
       "      <td>2.780164</td>\n",
       "      <td>-0.656011</td>\n",
       "      <td>-0.143866</td>\n",
       "      <td>-0.147731</td>\n",
       "    </tr>\n",
       "    <tr>\n",
       "      <th rowspan=\"3\" valign=\"top\">4</th>\n",
       "      <th>16</th>\n",
       "      <td>-0.807944</td>\n",
       "      <td>-0.082290</td>\n",
       "      <td>-0.597102</td>\n",
       "      <td>-0.488058</td>\n",
       "      <td>3.003656</td>\n",
       "      <td>-0.143866</td>\n",
       "      <td>-0.147731</td>\n",
       "    </tr>\n",
       "    <tr>\n",
       "      <th>17</th>\n",
       "      <td>-0.807944</td>\n",
       "      <td>-0.082290</td>\n",
       "      <td>-0.597102</td>\n",
       "      <td>-0.488058</td>\n",
       "      <td>-0.656011</td>\n",
       "      <td>3.920104</td>\n",
       "      <td>-0.147731</td>\n",
       "    </tr>\n",
       "    <tr>\n",
       "      <th>18</th>\n",
       "      <td>-0.807944</td>\n",
       "      <td>-0.082290</td>\n",
       "      <td>-0.597102</td>\n",
       "      <td>-0.488058</td>\n",
       "      <td>-0.656011</td>\n",
       "      <td>-0.143866</td>\n",
       "      <td>3.003402</td>\n",
       "    </tr>\n",
       "  </tbody>\n",
       "</table>\n",
       "</div>\n",
       "      <button class=\"colab-df-convert\" onclick=\"convertToInteractive('df-d193d71f-c87a-4ca3-b04b-616e8b30634c')\"\n",
       "              title=\"Convert this dataframe to an interactive table.\"\n",
       "              style=\"display:none;\">\n",
       "        \n",
       "  <svg xmlns=\"http://www.w3.org/2000/svg\" height=\"24px\"viewBox=\"0 0 24 24\"\n",
       "       width=\"24px\">\n",
       "    <path d=\"M0 0h24v24H0V0z\" fill=\"none\"/>\n",
       "    <path d=\"M18.56 5.44l.94 2.06.94-2.06 2.06-.94-2.06-.94-.94-2.06-.94 2.06-2.06.94zm-11 1L8.5 8.5l.94-2.06 2.06-.94-2.06-.94L8.5 2.5l-.94 2.06-2.06.94zm10 10l.94 2.06.94-2.06 2.06-.94-2.06-.94-.94-2.06-.94 2.06-2.06.94z\"/><path d=\"M17.41 7.96l-1.37-1.37c-.4-.4-.92-.59-1.43-.59-.52 0-1.04.2-1.43.59L10.3 9.45l-7.72 7.72c-.78.78-.78 2.05 0 2.83L4 21.41c.39.39.9.59 1.41.59.51 0 1.02-.2 1.41-.59l7.78-7.78 2.81-2.81c.8-.78.8-2.07 0-2.86zM5.41 20L4 18.59l7.72-7.72 1.47 1.35L5.41 20z\"/>\n",
       "  </svg>\n",
       "      </button>\n",
       "      \n",
       "  <style>\n",
       "    .colab-df-container {\n",
       "      display:flex;\n",
       "      flex-wrap:wrap;\n",
       "      gap: 12px;\n",
       "    }\n",
       "\n",
       "    .colab-df-convert {\n",
       "      background-color: #E8F0FE;\n",
       "      border: none;\n",
       "      border-radius: 50%;\n",
       "      cursor: pointer;\n",
       "      display: none;\n",
       "      fill: #1967D2;\n",
       "      height: 32px;\n",
       "      padding: 0 0 0 0;\n",
       "      width: 32px;\n",
       "    }\n",
       "\n",
       "    .colab-df-convert:hover {\n",
       "      background-color: #E2EBFA;\n",
       "      box-shadow: 0px 1px 2px rgba(60, 64, 67, 0.3), 0px 1px 3px 1px rgba(60, 64, 67, 0.15);\n",
       "      fill: #174EA6;\n",
       "    }\n",
       "\n",
       "    [theme=dark] .colab-df-convert {\n",
       "      background-color: #3B4455;\n",
       "      fill: #D2E3FC;\n",
       "    }\n",
       "\n",
       "    [theme=dark] .colab-df-convert:hover {\n",
       "      background-color: #434B5C;\n",
       "      box-shadow: 0px 1px 3px 1px rgba(0, 0, 0, 0.15);\n",
       "      filter: drop-shadow(0px 1px 2px rgba(0, 0, 0, 0.3));\n",
       "      fill: #FFFFFF;\n",
       "    }\n",
       "  </style>\n",
       "\n",
       "      <script>\n",
       "        const buttonEl =\n",
       "          document.querySelector('#df-d193d71f-c87a-4ca3-b04b-616e8b30634c button.colab-df-convert');\n",
       "        buttonEl.style.display =\n",
       "          google.colab.kernel.accessAllowed ? 'block' : 'none';\n",
       "\n",
       "        async function convertToInteractive(key) {\n",
       "          const element = document.querySelector('#df-d193d71f-c87a-4ca3-b04b-616e8b30634c');\n",
       "          const dataTable =\n",
       "            await google.colab.kernel.invokeFunction('convertToInteractive',\n",
       "                                                     [key], {});\n",
       "          if (!dataTable) return;\n",
       "\n",
       "          const docLinkHtml = 'Like what you see? Visit the ' +\n",
       "            '<a target=\"_blank\" href=https://colab.research.google.com/notebooks/data_table.ipynb>data table notebook</a>'\n",
       "            + ' to learn more about interactive tables.';\n",
       "          element.innerHTML = '';\n",
       "          dataTable['output_type'] = 'display_data';\n",
       "          await google.colab.output.renderOutput(dataTable, element);\n",
       "          const docLink = document.createElement('div');\n",
       "          docLink.innerHTML = docLinkHtml;\n",
       "          element.appendChild(docLink);\n",
       "        }\n",
       "      </script>\n",
       "    </div>\n",
       "  </div>\n",
       "  "
      ],
      "text/plain": [
       "firmid                1         2                   3         4            \\\n",
       "prodid               5         7         8         14        16        17   \n",
       "firmid prodid                                                               \n",
       "1      5       2.747569 -0.082290 -0.597102 -0.488058 -0.656011 -0.143866   \n",
       "2      7      -0.807944  5.078138 -0.597102 -0.488058 -0.656011 -0.143866   \n",
       "       8      -0.807944 -0.082290  2.810417 -0.488058 -0.656011 -0.143866   \n",
       "3      14     -0.807944 -0.082290 -0.597102  2.780164 -0.656011 -0.143866   \n",
       "4      16     -0.807944 -0.082290 -0.597102 -0.488058  3.003656 -0.143866   \n",
       "       17     -0.807944 -0.082290 -0.597102 -0.488058 -0.656011  3.920104   \n",
       "       18     -0.807944 -0.082290 -0.597102 -0.488058 -0.656011 -0.143866   \n",
       "\n",
       "firmid                   \n",
       "prodid               18  \n",
       "firmid prodid            \n",
       "1      5      -0.147731  \n",
       "2      7      -0.147731  \n",
       "       8      -0.147731  \n",
       "3      14     -0.147731  \n",
       "4      16     -0.147731  \n",
       "       17     -0.147731  \n",
       "       18      3.003402  "
      ]
     },
     "execution_count": 27,
     "metadata": {},
     "output_type": "execute_result"
    }
   ],
   "source": [
    "get_logit_elasticities(1)"
   ]
  },
  {
   "cell_type": "markdown",
   "metadata": {
    "id": "Ic41fK8y2O9r"
   },
   "source": [
    "### Hausman Instruments"
   ]
  },
  {
   "cell_type": "markdown",
   "metadata": {
    "id": "JDANh_2q2Xan"
   },
   "source": [
    "Hausman instrument uses prices from other cities when cost data is unavailable. Let $i$ index cities,\n",
    "\n",
    "$p_{i}= \\theta_{1}c_{i} + \\theta_{2}d_{i}$\n",
    "\n",
    "Then $p_{-i}$ can be a valid instrument for $p_{i}$ when,\n",
    "\n",
    "(1) $c_{i}$ is a valid instrument for $p_{i}$\n",
    "\n",
    "(2) $E[c_{-i}c_{i}] \\not=0$: Costs accross cities have a common factor.\n",
    "\n",
    "(2) $E[d_{-i}d_{i}] =0$: Demand innovations accross cities have no common factor and are uncorrelated. \n",
    "\n",
    "**Hauseman (1994)**\n",
    "\n",
    "\"However, at the lower levels where consumers choose among brands, the search for instruments is more difficult since excluded **cost shifting variables at the\n",
    "brand level may be difficult to find**, depending on the given situation...Our approach is to allow for both individual brand fixed effects and city fixed effects, and then to use the prices from one city as instruments for other cities ...The intuition that we use is that prices in each city reflect underlying product costs and city\n",
    "specific factors which vary over time as supermarkets run promotions on a particular product. To the extent that the stochastic city specific factors are independent of each other, prices from one city can serve as instruments\n",
    "for another city.\"\n",
    "\n",
    "$i$: brand, $n$: city, $t$: period, $s_{int}$:revenue share of total segment expenditure, $y_{Gnt}$:segment expenditure, $P_{nt}$:price index, $p_{jnt}$: price, $c_{jt}$:cost, $α_{jn}$:city-specific transport and wage differential, $w_{jnt}$: offers/discounts. \n",
    "\n",
    "(1) Demand: $s_{int}=α_{in}+β_{i}log(y_{Gnt}/P_{nt}+\\sum_{j} γ_{ij}log(p_{jnt})+e_{int}$\n",
    "\n",
    "(4) Pricing: $log(p_{jnt})=δ_{j}log(c_{jt})+α_{jn}+w_{jnt}$\n",
    "\n",
    "\"The specific identifying assumption that we make is\n",
    "that the $w_{jnt}$ are independent across cities...The idea is that prices in one city (after elimination of city\n",
    "and brand specific effects) are driven by underlying costs, $c_{it}$, which provide instrumental variables which are correlated with prices but are\n",
    "uncorrelated with stochastic disturbances in the demand equations, e.g.,\n",
    "$w_{jnt}$ from equation (4) is uncorrelated with $e_{ilt}$ from equation (1) when the cities are different, $n \\not= l$.\""
   ]
  },
  {
   "cell_type": "code",
   "execution_count": 30,
   "metadata": {
    "colab": {
     "base_uri": "https://localhost:8080/"
    },
    "id": "uNAv3sKx34jK",
    "outputId": "024381ce-33ca-43f6-c92c-98f7cc3607b1"
   },
   "outputs": [
    {
     "name": "stdout",
     "output_type": "stream",
     "text": [
      "                          IV2SLS Regression Results                           \n",
      "==============================================================================\n",
      "Dep. Variable:              log_share   R-squared:                       0.976\n",
      "Model:                         IV2SLS   Adj. R-squared:                  0.967\n",
      "Method:                     Two Stage   F-statistic:                       nan\n",
      "                        Least Squares   Prob (F-statistic):                nan\n",
      "Date:                Sat, 28 Jan 2023                                         \n",
      "Time:                        05:40:06                                         \n",
      "No. Observations:                   7                                         \n",
      "Df Residuals:                       5                                         \n",
      "Df Model:                           2                                         \n",
      "==============================================================================\n",
      "                 coef    std err          t      P>|t|      [0.025      0.975]\n",
      "------------------------------------------------------------------------------\n",
      "xvar           1.1033      0.494      2.232      0.076      -0.167       2.374\n",
      "price         -1.6966      0.363     -4.672      0.005      -2.630      -0.763\n",
      "==============================================================================\n",
      "Omnibus:                          nan   Durbin-Watson:                   2.982\n",
      "Prob(Omnibus):                    nan   Jarque-Bera (JB):                0.944\n",
      "Skew:                          -0.867   Prob(JB):                        0.624\n",
      "Kurtosis:                       2.524   Cond. No.                         9.59\n",
      "==============================================================================\n"
     ]
    },
    {
     "name": "stderr",
     "output_type": "stream",
     "text": [
      "/usr/local/lib/python3.8/dist-packages/statsmodels/stats/stattools.py:74: ValueWarning: omni_normtest is not valid with less than 8 observations; 7 samples were given.\n",
      "  warn(\"omni_normtest is not valid with less than 8 observations; %i \"\n"
     ]
    }
   ],
   "source": [
    "def make_hausman_instr(mktid: int) -> pd.DataFrame:\n",
    "    df_mkt = df[df.index.get_level_values('mktid')==mktid].droplevel('mktid')\n",
    "    df_othermkts = df[~df.index.get_level_values('mktid').isin([mktid])]\n",
    "    df_mkt[\"hausman_priceavg\"] = df_othermkts.groupby(by=[\"firmid\", \"prodid\"])[\"price\"].mean()\n",
    "    return df_mkt\n",
    "\n",
    "df_mkt1 = make_hausman_instr(1)\n",
    "logit_haus_2sls = IV2SLS(endog=df_mkt1[\"log_share\"], exog=df_mkt1[[\"xvar\", \"price\"]], instrument=df_mkt1[[\"xvar\", \"hausman_priceavg\"]]).fit()\n",
    "alpha_haus, beta_haus = logit_haus_2sls.params\n",
    "print(logit_haus_2sls.summary())"
   ]
  },
  {
   "cell_type": "markdown",
   "metadata": {
    "id": "9k6L5MztNmHp"
   },
   "source": [
    "## Random Coefficients Logit Model"
   ]
  },
  {
   "cell_type": "code",
   "execution_count": null,
   "metadata": {
    "id": "AyctNV_JNmHp"
   },
   "outputs": [],
   "source": [
    "from scipy.stats import gumbel_r \n",
    "\n",
    "def simulate_consumers(n:int=500, scale:float=1) -> pd.Series:\n",
    "    return pd.Series(data=gumbel_r.rvs(scale=scale, size=n), name='eps')"
   ]
  },
  {
   "cell_type": "code",
   "execution_count": null,
   "metadata": {
    "id": "l1cVd61KNmHp"
   },
   "outputs": [],
   "source": [
    "cons = simulate_consumers()"
   ]
  },
  {
   "cell_type": "code",
   "execution_count": null,
   "metadata": {
    "id": "d3Llt-3TNmHp"
   },
   "outputs": [],
   "source": []
  }
 ],
 "metadata": {
  "colab": {
   "collapsed_sections": [
    "DnBhW5HVNmHk",
    "-2D-DCJvWmlQ",
    "nKbE44IWW6WM",
    "0H_OA3StXhlZ",
    "7pPnQrZ5egIQ",
    "gfMJ3QY6NmHm",
    "bR0bUy0Ueicb",
    "4SA02TNoqu33"
   ],
   "include_colab_link": true,
   "provenance": [],
   "toc_visible": true
  },
  "kernelspec": {
   "display_name": "Python 3 (ipykernel)",
   "language": "python",
   "name": "python3"
  },
  "language_info": {
   "codemirror_mode": {
    "name": "ipython",
    "version": 3
   },
   "file_extension": ".py",
   "mimetype": "text/x-python",
   "name": "python",
   "nbconvert_exporter": "python",
   "pygments_lexer": "ipython3",
   "version": "3.10.9"
  },
  "vscode": {
   "interpreter": {
    "hash": "aee8b7b246df8f9039afb4144a1f6fd8d2ca17a180786b69acc140d282b71a49"
   }
  }
 },
 "nbformat": 4,
 "nbformat_minor": 1
}
