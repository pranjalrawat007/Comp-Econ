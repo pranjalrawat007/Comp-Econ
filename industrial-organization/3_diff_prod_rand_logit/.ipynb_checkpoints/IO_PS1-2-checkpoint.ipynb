{
 "cells": [
  {
   "cell_type": "markdown",
   "metadata": {
    "id": "OIKDxuMT4aIt"
   },
   "source": [
    "### Preliminaries"
   ]
  },
  {
   "cell_type": "code",
   "execution_count": 1,
   "metadata": {
    "id": "2UAtI1pBNmHj"
   },
   "outputs": [],
   "source": [
    "import numpy as np\n",
    "import pandas as pd\n",
    "from pandas.testing import assert_index_equal\n",
    "\n",
    "from tqdm import tqdm\n",
    "from scipy.stats import gumbel_r, multinomial, norm\n",
    "import statsmodels.formula.api as sm\n",
    "import statsmodels \n",
    "from statsmodels.sandbox.regression.gmm import GMM, IV2SLS, IVGMM, GMMResults\n",
    "\n",
    "import seaborn as sns\n",
    "import matplotlib.pyplot as plt"
   ]
  },
  {
   "cell_type": "markdown",
   "metadata": {
    "id": "7stUQ2P3UcQW"
   },
   "source": [
    "Some computation in the GMMResult class used by statsmodel.sandbox.regression.gmm had a strang behavior, so I changed it. Here I just redefine the modified class. Essentially, ignore the following code block"
   ]
  },
  {
   "cell_type": "code",
   "execution_count": 2,
   "metadata": {
    "id": "U0foJK_MUNio"
   },
   "outputs": [],
   "source": [
    "from statsmodels.compat.python import lrange\n",
    "\n",
    "import numpy as np\n",
    "from scipy import optimize, stats\n",
    "\n",
    "from statsmodels.tools.numdiff import approx_fprime\n",
    "from statsmodels.base.model import (Model,\n",
    "                                    LikelihoodModel, LikelihoodModelResults)\n",
    "from statsmodels.regression.linear_model import (OLS, RegressionResults,\n",
    "                                                 RegressionResultsWrapper)\n",
    "import statsmodels.stats.sandwich_covariance as smcov\n",
    "from statsmodels.tools.decorators import cache_readonly\n",
    "from statsmodels.tools.tools import _ensure_2d\n",
    "\n",
    "class GMMResults(LikelihoodModelResults):\n",
    "    '''just a storage class right now'''\n",
    "\n",
    "    use_t = False\n",
    "\n",
    "    def __init__(self, *args, **kwds):\n",
    "        self.__dict__.update(kwds)\n",
    "        self.weights = kwds[\"weights\"]\n",
    "        self.nobs = self.model.nobs\n",
    "        self.df_resid = np.inf\n",
    "\n",
    "        #self.cov_params_default = self._cov_params()\n",
    "\n",
    "    @cache_readonly\n",
    "    def q(self):\n",
    "        \"\"\"Objective function at params\"\"\"\n",
    "        return self.model.gmmobjective(self.params, self.weights)\n",
    "\n",
    "    @cache_readonly\n",
    "    def jval(self):\n",
    "        \"\"\"nobs_moms attached by momcond_mean\"\"\"\n",
    "        return self.q * self.model.nobs_moms\n",
    "\n",
    "    def _cov_params(self, **kwds):\n",
    "        #TODO add options ???)\n",
    "        # this should use by default whatever options have been specified in\n",
    "        # fit\n",
    "\n",
    "        # TODO: do not do this when we want to change options\n",
    "#         if hasattr(self, '_cov_params'):\n",
    "#             #replace with decorator later\n",
    "#             return self._cov_params\n",
    "\n",
    "        # set defaults based on fit arguments\n",
    "        if 'wargs' not in kwds:\n",
    "            # Note: we do not check the keys in wargs, use either all or nothing\n",
    "            kwds['wargs'] = self.wargs\n",
    "        if 'weights_method' not in kwds:\n",
    "            kwds['weights_method'] = self.options_other['weights_method']\n",
    "        if 'has_optimal_weights' not in kwds:\n",
    "            kwds['has_optimal_weights'] = self.options_other['has_optimal_weights']\n",
    "\n",
    "        gradmoms = self.model.gradient_momcond(self.params)\n",
    "        moms = self.model.momcond(self.params)\n",
    "        covparams = self.calc_cov_params(moms, gradmoms, use_weights=True, **kwds)\n",
    "\n",
    "        return covparams\n",
    "\n",
    "\n",
    "    def calc_cov_params(self, moms, gradmoms, weights=None, use_weights=True,\n",
    "                                              has_optimal_weights=True,\n",
    "                                              weights_method='cov', wargs=()):\n",
    "        '''calculate covariance of parameter estimates\n",
    "\n",
    "        not all options tried out yet\n",
    "\n",
    "        If weights matrix is given, then the formula use to calculate cov_params\n",
    "        depends on whether has_optimal_weights is true.\n",
    "        If no weights are given, then the weight matrix is calculated with\n",
    "        the given method, and has_optimal_weights is assumed to be true.\n",
    "\n",
    "        (API Note: The latter assumption could be changed if we allow for\n",
    "        has_optimal_weights=None.)\n",
    "\n",
    "        '''\n",
    "\n",
    "        nobs = moms.shape[0]\n",
    "\n",
    "        if weights is None:\n",
    "            #omegahat = self.model.calc_weightmatrix(moms, method=method, wargs=wargs)\n",
    "            #has_optimal_weights = True\n",
    "            #add other options, Barzen, ...  longrun var estimators\n",
    "            # TODO: this might still be inv_weights after fititer\n",
    "            weights = self.weights\n",
    "        else:\n",
    "            pass\n",
    "            #omegahat = weights   #2 different names used,\n",
    "            #TODO: this is wrong, I need an estimate for omega\n",
    "\n",
    "        if use_weights:\n",
    "            omegahat = weights\n",
    "        else:\n",
    "            omegahat = self.model.calc_weightmatrix(\n",
    "                                                moms,\n",
    "                                                weights_method=weights_method,\n",
    "                                                wargs=wargs,\n",
    "                                                params=self.params)\n",
    "\n",
    "\n",
    "        if has_optimal_weights: #has_optimal_weights:\n",
    "            # TOD0 make has_optimal_weights depend on convergence or iter >2\n",
    "            cov = np.linalg.inv(np.dot(gradmoms.T,\n",
    "                                    np.dot(np.linalg.inv(omegahat), gradmoms)))\n",
    "        else:\n",
    "            gw = np.dot(gradmoms.T, weights)\n",
    "            gwginv = np.linalg.inv(np.dot(gw, gradmoms))\n",
    "            cov = np.dot(np.dot(gwginv, np.dot(np.dot(gw, omegahat), gw.T)), gwginv)\n",
    "            #cov /= nobs\n",
    "\n",
    "        return cov/nobs\n",
    "\n",
    "\n",
    "    @property\n",
    "    def bse_(self):\n",
    "        '''standard error of the parameter estimates\n",
    "        '''\n",
    "        return self.get_bse()\n",
    "\n",
    "    def get_bse(self, **kwds):\n",
    "        '''standard error of the parameter estimates with options\n",
    "\n",
    "        Parameters\n",
    "        ----------\n",
    "        kwds : optional keywords\n",
    "            options for calculating cov_params\n",
    "\n",
    "        Returns\n",
    "        -------\n",
    "        bse : ndarray\n",
    "            estimated standard error of parameter estimates\n",
    "\n",
    "        '''\n",
    "        return np.sqrt(np.diag(self.cov_params(**kwds)))\n",
    "\n",
    "\n",
    "    def jtest(self):\n",
    "        '''overidentification test\n",
    "\n",
    "        I guess this is missing a division by nobs,\n",
    "        what's the normalization in jval ?\n",
    "        '''\n",
    "\n",
    "        jstat = self.jval\n",
    "        nparams = self.params.size #self.nparams\n",
    "        df = self.model.nmoms - nparams\n",
    "        return jstat, stats.chi2.sf(jstat, df), df\n",
    "\n",
    "\n",
    "\n",
    "    def compare_j(self, other):\n",
    "        '''overidentification test for comparing two nested gmm estimates\n",
    "\n",
    "        This assumes that some moment restrictions have been dropped in one\n",
    "        of the GMM estimates relative to the other.\n",
    "\n",
    "        Not tested yet\n",
    "\n",
    "        We are comparing two separately estimated models, that use different\n",
    "        weighting matrices. It is not guaranteed that the resulting\n",
    "        difference is positive.\n",
    "\n",
    "        TODO: Check in which cases Stata programs use the same weigths\n",
    "\n",
    "        '''\n",
    "        jstat1 = self.jval\n",
    "        k_moms1 = self.model.nmoms\n",
    "        jstat2 = other.jval\n",
    "        k_moms2 = other.model.nmoms\n",
    "        jdiff = jstat1 - jstat2\n",
    "        df = k_moms1 - k_moms2\n",
    "        if df < 0:\n",
    "            # possible nested in other way, TODO allow this or not\n",
    "            # flip sign instead of absolute\n",
    "            df = - df\n",
    "            jdiff = - jdiff\n",
    "        return jdiff, stats.chi2.sf(jdiff, df), df\n",
    "\n",
    "\n",
    "    def summary(self, yname=None, xname=None, title=None, alpha=.05):\n",
    "        \"\"\"Summarize the Regression Results\n",
    "\n",
    "        Parameters\n",
    "        ----------\n",
    "        yname : str, optional\n",
    "            Default is `y`\n",
    "        xname : list[str], optional\n",
    "            Default is `var_##` for ## in p the number of regressors\n",
    "        title : str, optional\n",
    "            Title for the top table. If not None, then this replaces the\n",
    "            default title\n",
    "        alpha : float\n",
    "            significance level for the confidence intervals\n",
    "\n",
    "        Returns\n",
    "        -------\n",
    "        smry : Summary instance\n",
    "            this holds the summary tables and text, which can be printed or\n",
    "            converted to various output formats.\n",
    "\n",
    "        See Also\n",
    "        --------\n",
    "        statsmodels.iolib.summary.Summary : class to hold summary\n",
    "            results\n",
    "        \"\"\"\n",
    "        #TODO: add a summary text for options that have been used\n",
    "\n",
    "        jvalue, jpvalue, jdf = self.jtest()\n",
    "\n",
    "        top_left = [('Dep. Variable:', None),\n",
    "                    ('Model:', None),\n",
    "                    ('Method:', ['GMM']),\n",
    "                    ('Date:', None),\n",
    "                    ('Time:', None),\n",
    "                    ('No. Observations:', None),\n",
    "                    #('Df Residuals:', None), #[self.df_resid]), #TODO: spelling\n",
    "                    #('Df Model:', None), #[self.df_model])\n",
    "                    ]\n",
    "\n",
    "        top_right = [#('R-squared:', [\"%#8.3f\" % self.rsquared]),\n",
    "                     #('Adj. R-squared:', [\"%#8.3f\" % self.rsquared_adj]),\n",
    "                     ('Hansen J:', [\"%#8.4g\" % jvalue] ),\n",
    "                     ('Prob (Hansen J):', [\"%#6.3g\" % jpvalue]),\n",
    "                     #('F-statistic:', [\"%#8.4g\" % self.fvalue] ),\n",
    "                     #('Prob (F-statistic):', [\"%#6.3g\" % self.f_pvalue]),\n",
    "                     #('Log-Likelihood:', None), #[\"%#6.4g\" % self.llf]),\n",
    "                     #('AIC:', [\"%#8.4g\" % self.aic]),\n",
    "                     #('BIC:', [\"%#8.4g\" % self.bic])\n",
    "                     ]\n",
    "\n",
    "        if title is None:\n",
    "            title = self.model.__class__.__name__ + ' ' + \"Results\"\n",
    "\n",
    "        # create summary table instance\n",
    "        from statsmodels.iolib.summary import Summary\n",
    "        smry = Summary()\n",
    "        smry.add_table_2cols(self, gleft=top_left, gright=top_right,\n",
    "                             yname=yname, xname=xname, title=title)\n",
    "        smry.add_table_params(self, yname=yname, xname=xname, alpha=alpha,\n",
    "                              use_t=self.use_t)\n",
    "\n",
    "        return smry"
   ]
  },
  {
   "cell_type": "code",
   "execution_count": 4,
   "metadata": {
    "id": "vDaJmYJqNmHk"
   },
   "outputs": [],
   "source": [
    "df = pd.read_csv(\"rcl_data_4.csv\")\n",
    "df.set_index(keys=['mktid','firmid', 'prodid'], inplace=True)\n",
    "df[\"log_share\"] = np.log(df[\"share\"])"
   ]
  },
  {
   "cell_type": "code",
   "execution_count": 5,
   "metadata": {
    "colab": {
     "base_uri": "https://localhost:8080/",
     "height": 708
    },
    "id": "aUrui4U2nQAz",
    "outputId": "cf2220ea-b567-450e-ea91-4a98fdf4eb31"
   },
   "outputs": [
    {
     "data": {
      "text/html": [
       "<div>\n",
       "<style scoped>\n",
       "    .dataframe tbody tr th:only-of-type {\n",
       "        vertical-align: middle;\n",
       "    }\n",
       "\n",
       "    .dataframe tbody tr th {\n",
       "        vertical-align: top;\n",
       "    }\n",
       "\n",
       "    .dataframe thead th {\n",
       "        text-align: right;\n",
       "    }\n",
       "</style>\n",
       "<table border=\"1\" class=\"dataframe\">\n",
       "  <thead>\n",
       "    <tr style=\"text-align: right;\">\n",
       "      <th></th>\n",
       "      <th></th>\n",
       "      <th></th>\n",
       "      <th>price</th>\n",
       "      <th>share</th>\n",
       "      <th>xvar</th>\n",
       "      <th>wvar</th>\n",
       "      <th>log_share</th>\n",
       "    </tr>\n",
       "    <tr>\n",
       "      <th>mktid</th>\n",
       "      <th>firmid</th>\n",
       "      <th>prodid</th>\n",
       "      <th></th>\n",
       "      <th></th>\n",
       "      <th></th>\n",
       "      <th></th>\n",
       "      <th></th>\n",
       "    </tr>\n",
       "  </thead>\n",
       "  <tbody>\n",
       "    <tr>\n",
       "      <th rowspan=\"7\" valign=\"top\">1</th>\n",
       "      <th>1</th>\n",
       "      <th>5</th>\n",
       "      <td>2.606675</td>\n",
       "      <td>0.227237</td>\n",
       "      <td>2.202134</td>\n",
       "      <td>-0.273457</td>\n",
       "      <td>-1.481762</td>\n",
       "    </tr>\n",
       "    <tr>\n",
       "      <th rowspan=\"2\" valign=\"top\">2</th>\n",
       "      <th>7</th>\n",
       "      <td>3.783296</td>\n",
       "      <td>0.015946</td>\n",
       "      <td>2.755761</td>\n",
       "      <td>0.164740</td>\n",
       "      <td>-4.138520</td>\n",
       "    </tr>\n",
       "    <tr>\n",
       "      <th>8</th>\n",
       "      <td>2.498175</td>\n",
       "      <td>0.175231</td>\n",
       "      <td>1.952670</td>\n",
       "      <td>-0.370695</td>\n",
       "      <td>-1.741651</td>\n",
       "    </tr>\n",
       "    <tr>\n",
       "      <th>3</th>\n",
       "      <th>14</th>\n",
       "      <td>2.396051</td>\n",
       "      <td>0.149334</td>\n",
       "      <td>1.860606</td>\n",
       "      <td>-0.561297</td>\n",
       "      <td>-1.901567</td>\n",
       "    </tr>\n",
       "    <tr>\n",
       "      <th rowspan=\"3\" valign=\"top\">4</th>\n",
       "      <th>16</th>\n",
       "      <td>2.683033</td>\n",
       "      <td>0.179254</td>\n",
       "      <td>2.317975</td>\n",
       "      <td>-0.640421</td>\n",
       "      <td>-1.718950</td>\n",
       "    </tr>\n",
       "    <tr>\n",
       "      <th>17</th>\n",
       "      <td>2.979443</td>\n",
       "      <td>0.035400</td>\n",
       "      <td>1.857874</td>\n",
       "      <td>0.055792</td>\n",
       "      <td>-3.341030</td>\n",
       "    </tr>\n",
       "    <tr>\n",
       "      <th>18</th>\n",
       "      <td>2.310209</td>\n",
       "      <td>0.046882</td>\n",
       "      <td>0.671772</td>\n",
       "      <td>-0.431524</td>\n",
       "      <td>-3.060126</td>\n",
       "    </tr>\n",
       "    <tr>\n",
       "      <th rowspan=\"7\" valign=\"top\">2</th>\n",
       "      <th>1</th>\n",
       "      <th>1</th>\n",
       "      <td>1.934322</td>\n",
       "      <td>0.409148</td>\n",
       "      <td>2.685479</td>\n",
       "      <td>-0.564728</td>\n",
       "      <td>-0.893679</td>\n",
       "    </tr>\n",
       "    <tr>\n",
       "      <th rowspan=\"2\" valign=\"top\">2</th>\n",
       "      <th>7</th>\n",
       "      <td>3.441117</td>\n",
       "      <td>0.002398</td>\n",
       "      <td>2.755761</td>\n",
       "      <td>-0.626923</td>\n",
       "      <td>-6.033243</td>\n",
       "    </tr>\n",
       "    <tr>\n",
       "      <th>9</th>\n",
       "      <td>2.679644</td>\n",
       "      <td>0.052214</td>\n",
       "      <td>3.009212</td>\n",
       "      <td>-0.616621</td>\n",
       "      <td>-2.952399</td>\n",
       "    </tr>\n",
       "    <tr>\n",
       "      <th rowspan=\"2\" valign=\"top\">3</th>\n",
       "      <th>11</th>\n",
       "      <td>2.430070</td>\n",
       "      <td>0.070118</td>\n",
       "      <td>2.652435</td>\n",
       "      <td>0.338161</td>\n",
       "      <td>-2.657577</td>\n",
       "    </tr>\n",
       "    <tr>\n",
       "      <th>12</th>\n",
       "      <td>2.430668</td>\n",
       "      <td>0.128018</td>\n",
       "      <td>3.143323</td>\n",
       "      <td>0.162294</td>\n",
       "      <td>-2.055586</td>\n",
       "    </tr>\n",
       "    <tr>\n",
       "      <th rowspan=\"2\" valign=\"top\">4</th>\n",
       "      <th>16</th>\n",
       "      <td>1.733794</td>\n",
       "      <td>0.291040</td>\n",
       "      <td>2.317975</td>\n",
       "      <td>-1.286910</td>\n",
       "      <td>-1.234293</td>\n",
       "    </tr>\n",
       "    <tr>\n",
       "      <th>17</th>\n",
       "      <td>3.612128</td>\n",
       "      <td>0.000308</td>\n",
       "      <td>1.857874</td>\n",
       "      <td>0.703590</td>\n",
       "      <td>-8.086862</td>\n",
       "    </tr>\n",
       "    <tr>\n",
       "      <th rowspan=\"6\" valign=\"top\">3</th>\n",
       "      <th>1</th>\n",
       "      <th>1</th>\n",
       "      <td>2.844954</td>\n",
       "      <td>0.082008</td>\n",
       "      <td>2.685479</td>\n",
       "      <td>-0.148087</td>\n",
       "      <td>-2.500937</td>\n",
       "    </tr>\n",
       "    <tr>\n",
       "      <th rowspan=\"2\" valign=\"top\">2</th>\n",
       "      <th>8</th>\n",
       "      <td>3.612048</td>\n",
       "      <td>0.001502</td>\n",
       "      <td>1.952670</td>\n",
       "      <td>0.369254</td>\n",
       "      <td>-6.500751</td>\n",
       "    </tr>\n",
       "    <tr>\n",
       "      <th>9</th>\n",
       "      <td>4.166480</td>\n",
       "      <td>0.001445</td>\n",
       "      <td>3.009212</td>\n",
       "      <td>0.214118</td>\n",
       "      <td>-6.539659</td>\n",
       "    </tr>\n",
       "    <tr>\n",
       "      <th rowspan=\"3\" valign=\"top\">3</th>\n",
       "      <th>11</th>\n",
       "      <td>3.803514</td>\n",
       "      <td>0.003670</td>\n",
       "      <td>2.652435</td>\n",
       "      <td>1.012786</td>\n",
       "      <td>-5.607631</td>\n",
       "    </tr>\n",
       "    <tr>\n",
       "      <th>12</th>\n",
       "      <td>2.789962</td>\n",
       "      <td>0.234272</td>\n",
       "      <td>3.143323</td>\n",
       "      <td>-0.126529</td>\n",
       "      <td>-1.451273</td>\n",
       "    </tr>\n",
       "    <tr>\n",
       "      <th>15</th>\n",
       "      <td>2.012440</td>\n",
       "      <td>0.203939</td>\n",
       "      <td>1.933339</td>\n",
       "      <td>-0.626037</td>\n",
       "      <td>-1.589934</td>\n",
       "    </tr>\n",
       "  </tbody>\n",
       "</table>\n",
       "</div>"
      ],
      "text/plain": [
       "                        price     share      xvar      wvar  log_share\n",
       "mktid firmid prodid                                                   \n",
       "1     1      5       2.606675  0.227237  2.202134 -0.273457  -1.481762\n",
       "      2      7       3.783296  0.015946  2.755761  0.164740  -4.138520\n",
       "             8       2.498175  0.175231  1.952670 -0.370695  -1.741651\n",
       "      3      14      2.396051  0.149334  1.860606 -0.561297  -1.901567\n",
       "      4      16      2.683033  0.179254  2.317975 -0.640421  -1.718950\n",
       "             17      2.979443  0.035400  1.857874  0.055792  -3.341030\n",
       "             18      2.310209  0.046882  0.671772 -0.431524  -3.060126\n",
       "2     1      1       1.934322  0.409148  2.685479 -0.564728  -0.893679\n",
       "      2      7       3.441117  0.002398  2.755761 -0.626923  -6.033243\n",
       "             9       2.679644  0.052214  3.009212 -0.616621  -2.952399\n",
       "      3      11      2.430070  0.070118  2.652435  0.338161  -2.657577\n",
       "             12      2.430668  0.128018  3.143323  0.162294  -2.055586\n",
       "      4      16      1.733794  0.291040  2.317975 -1.286910  -1.234293\n",
       "             17      3.612128  0.000308  1.857874  0.703590  -8.086862\n",
       "3     1      1       2.844954  0.082008  2.685479 -0.148087  -2.500937\n",
       "      2      8       3.612048  0.001502  1.952670  0.369254  -6.500751\n",
       "             9       4.166480  0.001445  3.009212  0.214118  -6.539659\n",
       "      3      11      3.803514  0.003670  2.652435  1.012786  -5.607631\n",
       "             12      2.789962  0.234272  3.143323 -0.126529  -1.451273\n",
       "             15      2.012440  0.203939  1.933339 -0.626037  -1.589934"
      ]
     },
     "execution_count": 5,
     "metadata": {},
     "output_type": "execute_result"
    }
   ],
   "source": [
    "df.head(20)"
   ]
  },
  {
   "cell_type": "markdown",
   "metadata": {
    "id": "DnBhW5HVNmHk"
   },
   "source": [
    "## Summary statistics"
   ]
  },
  {
   "cell_type": "code",
   "execution_count": 6,
   "metadata": {
    "colab": {
     "base_uri": "https://localhost:8080/",
     "height": 708
    },
    "id": "jKv2K6cnNmHl",
    "outputId": "c20376ed-02a1-412c-fb90-ef61c37370d9"
   },
   "outputs": [
    {
     "data": {
      "text/html": [
       "<div>\n",
       "<style scoped>\n",
       "    .dataframe tbody tr th:only-of-type {\n",
       "        vertical-align: middle;\n",
       "    }\n",
       "\n",
       "    .dataframe tbody tr th {\n",
       "        vertical-align: top;\n",
       "    }\n",
       "\n",
       "    .dataframe thead th {\n",
       "        text-align: right;\n",
       "    }\n",
       "</style>\n",
       "<table border=\"1\" class=\"dataframe\">\n",
       "  <thead>\n",
       "    <tr style=\"text-align: right;\">\n",
       "      <th></th>\n",
       "      <th>#Firms</th>\n",
       "      <th>#Products</th>\n",
       "      <th>price_mean</th>\n",
       "      <th>share_mean</th>\n",
       "      <th>xvar_mean</th>\n",
       "      <th>wvar_mean</th>\n",
       "      <th>log_share_mean</th>\n",
       "      <th>price_std</th>\n",
       "      <th>share_std</th>\n",
       "      <th>xvar_std</th>\n",
       "      <th>wvar_std</th>\n",
       "      <th>log_share_std</th>\n",
       "    </tr>\n",
       "    <tr>\n",
       "      <th>mktid</th>\n",
       "      <th></th>\n",
       "      <th></th>\n",
       "      <th></th>\n",
       "      <th></th>\n",
       "      <th></th>\n",
       "      <th></th>\n",
       "      <th></th>\n",
       "      <th></th>\n",
       "      <th></th>\n",
       "      <th></th>\n",
       "      <th></th>\n",
       "      <th></th>\n",
       "    </tr>\n",
       "  </thead>\n",
       "  <tbody>\n",
       "    <tr>\n",
       "      <th>1</th>\n",
       "      <td>4</td>\n",
       "      <td>7</td>\n",
       "      <td>2.606675</td>\n",
       "      <td>0.149334</td>\n",
       "      <td>1.952670</td>\n",
       "      <td>-0.370695</td>\n",
       "      <td>-1.901567</td>\n",
       "      <td>2.750983</td>\n",
       "      <td>0.118469</td>\n",
       "      <td>1.945542</td>\n",
       "      <td>-0.293838</td>\n",
       "      <td>-2.483372</td>\n",
       "    </tr>\n",
       "    <tr>\n",
       "      <th>2</th>\n",
       "      <td>4</td>\n",
       "      <td>7</td>\n",
       "      <td>2.430668</td>\n",
       "      <td>0.070118</td>\n",
       "      <td>2.685479</td>\n",
       "      <td>-0.564728</td>\n",
       "      <td>-2.657577</td>\n",
       "      <td>2.608820</td>\n",
       "      <td>0.136178</td>\n",
       "      <td>2.631723</td>\n",
       "      <td>-0.270162</td>\n",
       "      <td>-3.416234</td>\n",
       "    </tr>\n",
       "    <tr>\n",
       "      <th>3</th>\n",
       "      <td>4</td>\n",
       "      <td>7</td>\n",
       "      <td>2.844954</td>\n",
       "      <td>0.082008</td>\n",
       "      <td>2.660057</td>\n",
       "      <td>-0.126529</td>\n",
       "      <td>-2.500937</td>\n",
       "      <td>3.098984</td>\n",
       "      <td>0.128079</td>\n",
       "      <td>2.576645</td>\n",
       "      <td>0.065384</td>\n",
       "      <td>-3.597887</td>\n",
       "    </tr>\n",
       "    <tr>\n",
       "      <th>4</th>\n",
       "      <td>4</td>\n",
       "      <td>11</td>\n",
       "      <td>3.326305</td>\n",
       "      <td>0.009768</td>\n",
       "      <td>1.946938</td>\n",
       "      <td>0.218622</td>\n",
       "      <td>-4.628668</td>\n",
       "      <td>3.530610</td>\n",
       "      <td>0.072886</td>\n",
       "      <td>1.983285</td>\n",
       "      <td>0.168326</td>\n",
       "      <td>-4.950860</td>\n",
       "    </tr>\n",
       "    <tr>\n",
       "      <th>5</th>\n",
       "      <td>4</td>\n",
       "      <td>11</td>\n",
       "      <td>2.663987</td>\n",
       "      <td>0.027104</td>\n",
       "      <td>1.946938</td>\n",
       "      <td>-0.089058</td>\n",
       "      <td>-3.608089</td>\n",
       "      <td>2.854352</td>\n",
       "      <td>0.082693</td>\n",
       "      <td>1.801961</td>\n",
       "      <td>-0.154398</td>\n",
       "      <td>-3.747254</td>\n",
       "    </tr>\n",
       "    <tr>\n",
       "      <th>6</th>\n",
       "      <td>4</td>\n",
       "      <td>8</td>\n",
       "      <td>2.698184</td>\n",
       "      <td>0.039247</td>\n",
       "      <td>1.949804</td>\n",
       "      <td>0.131254</td>\n",
       "      <td>-3.252579</td>\n",
       "      <td>2.950200</td>\n",
       "      <td>0.106947</td>\n",
       "      <td>1.940615</td>\n",
       "      <td>0.029890</td>\n",
       "      <td>-3.461575</td>\n",
       "    </tr>\n",
       "    <tr>\n",
       "      <th>7</th>\n",
       "      <td>3</td>\n",
       "      <td>6</td>\n",
       "      <td>2.966885</td>\n",
       "      <td>0.122192</td>\n",
       "      <td>2.030004</td>\n",
       "      <td>0.142384</td>\n",
       "      <td>-2.121575</td>\n",
       "      <td>2.868110</td>\n",
       "      <td>0.121251</td>\n",
       "      <td>1.825464</td>\n",
       "      <td>-0.006352</td>\n",
       "      <td>-2.290008</td>\n",
       "    </tr>\n",
       "    <tr>\n",
       "      <th>8</th>\n",
       "      <td>4</td>\n",
       "      <td>12</td>\n",
       "      <td>3.088131</td>\n",
       "      <td>0.014099</td>\n",
       "      <td>2.077402</td>\n",
       "      <td>0.061042</td>\n",
       "      <td>-4.261649</td>\n",
       "      <td>3.062927</td>\n",
       "      <td>0.073310</td>\n",
       "      <td>2.144377</td>\n",
       "      <td>0.101264</td>\n",
       "      <td>-3.847605</td>\n",
       "    </tr>\n",
       "    <tr>\n",
       "      <th>9</th>\n",
       "      <td>4</td>\n",
       "      <td>10</td>\n",
       "      <td>3.246889</td>\n",
       "      <td>0.021610</td>\n",
       "      <td>1.957790</td>\n",
       "      <td>0.171797</td>\n",
       "      <td>-3.875696</td>\n",
       "      <td>3.361858</td>\n",
       "      <td>0.076573</td>\n",
       "      <td>2.155827</td>\n",
       "      <td>0.141241</td>\n",
       "      <td>-3.888033</td>\n",
       "    </tr>\n",
       "    <tr>\n",
       "      <th>10</th>\n",
       "      <td>4</td>\n",
       "      <td>10</td>\n",
       "      <td>3.289496</td>\n",
       "      <td>0.004131</td>\n",
       "      <td>2.249770</td>\n",
       "      <td>-0.123245</td>\n",
       "      <td>-5.498564</td>\n",
       "      <td>3.136753</td>\n",
       "      <td>0.092536</td>\n",
       "      <td>2.318149</td>\n",
       "      <td>-0.148347</td>\n",
       "      <td>-4.670029</td>\n",
       "    </tr>\n",
       "    <tr>\n",
       "      <th>11</th>\n",
       "      <td>3</td>\n",
       "      <td>10</td>\n",
       "      <td>3.049307</td>\n",
       "      <td>0.026473</td>\n",
       "      <td>2.075104</td>\n",
       "      <td>0.190220</td>\n",
       "      <td>-3.668197</td>\n",
       "      <td>3.145455</td>\n",
       "      <td>0.085516</td>\n",
       "      <td>2.222370</td>\n",
       "      <td>0.251135</td>\n",
       "      <td>-3.755170</td>\n",
       "    </tr>\n",
       "    <tr>\n",
       "      <th>12</th>\n",
       "      <td>4</td>\n",
       "      <td>9</td>\n",
       "      <td>3.382363</td>\n",
       "      <td>0.006263</td>\n",
       "      <td>2.202134</td>\n",
       "      <td>-0.093903</td>\n",
       "      <td>-5.073068</td>\n",
       "      <td>3.082844</td>\n",
       "      <td>0.097801</td>\n",
       "      <td>2.174316</td>\n",
       "      <td>-0.152491</td>\n",
       "      <td>-4.104786</td>\n",
       "    </tr>\n",
       "    <tr>\n",
       "      <th>13</th>\n",
       "      <td>3</td>\n",
       "      <td>6</td>\n",
       "      <td>3.541219</td>\n",
       "      <td>0.083761</td>\n",
       "      <td>1.905272</td>\n",
       "      <td>0.322942</td>\n",
       "      <td>-2.479976</td>\n",
       "      <td>3.445309</td>\n",
       "      <td>0.085021</td>\n",
       "      <td>1.722379</td>\n",
       "      <td>0.334948</td>\n",
       "      <td>-2.791546</td>\n",
       "    </tr>\n",
       "    <tr>\n",
       "      <th>14</th>\n",
       "      <td>4</td>\n",
       "      <td>11</td>\n",
       "      <td>2.718769</td>\n",
       "      <td>0.011318</td>\n",
       "      <td>2.202134</td>\n",
       "      <td>0.181608</td>\n",
       "      <td>-4.481382</td>\n",
       "      <td>2.808752</td>\n",
       "      <td>0.085931</td>\n",
       "      <td>2.216398</td>\n",
       "      <td>0.113575</td>\n",
       "      <td>-4.371929</td>\n",
       "    </tr>\n",
       "    <tr>\n",
       "      <th>15</th>\n",
       "      <td>4</td>\n",
       "      <td>11</td>\n",
       "      <td>3.183973</td>\n",
       "      <td>0.011356</td>\n",
       "      <td>1.952670</td>\n",
       "      <td>0.111708</td>\n",
       "      <td>-4.478030</td>\n",
       "      <td>3.342637</td>\n",
       "      <td>0.081644</td>\n",
       "      <td>2.005500</td>\n",
       "      <td>0.093831</td>\n",
       "      <td>-5.008356</td>\n",
       "    </tr>\n",
       "    <tr>\n",
       "      <th>16</th>\n",
       "      <td>4</td>\n",
       "      <td>11</td>\n",
       "      <td>2.749118</td>\n",
       "      <td>0.007573</td>\n",
       "      <td>1.952670</td>\n",
       "      <td>0.193548</td>\n",
       "      <td>-4.883203</td>\n",
       "      <td>2.819015</td>\n",
       "      <td>0.084264</td>\n",
       "      <td>2.003645</td>\n",
       "      <td>-0.007891</td>\n",
       "      <td>-4.065059</td>\n",
       "    </tr>\n",
       "    <tr>\n",
       "      <th>17</th>\n",
       "      <td>4</td>\n",
       "      <td>9</td>\n",
       "      <td>2.717297</td>\n",
       "      <td>0.045649</td>\n",
       "      <td>1.968643</td>\n",
       "      <td>-0.140500</td>\n",
       "      <td>-3.086778</td>\n",
       "      <td>2.795841</td>\n",
       "      <td>0.099764</td>\n",
       "      <td>1.943064</td>\n",
       "      <td>-0.127777</td>\n",
       "      <td>-3.803674</td>\n",
       "    </tr>\n",
       "    <tr>\n",
       "      <th>18</th>\n",
       "      <td>3</td>\n",
       "      <td>8</td>\n",
       "      <td>3.180640</td>\n",
       "      <td>0.059409</td>\n",
       "      <td>1.903772</td>\n",
       "      <td>0.150187</td>\n",
       "      <td>-2.825769</td>\n",
       "      <td>3.214309</td>\n",
       "      <td>0.090613</td>\n",
       "      <td>1.909153</td>\n",
       "      <td>-0.002098</td>\n",
       "      <td>-3.369957</td>\n",
       "    </tr>\n",
       "    <tr>\n",
       "      <th>19</th>\n",
       "      <td>4</td>\n",
       "      <td>12</td>\n",
       "      <td>2.973293</td>\n",
       "      <td>0.004870</td>\n",
       "      <td>2.248998</td>\n",
       "      <td>0.002854</td>\n",
       "      <td>-5.339791</td>\n",
       "      <td>3.049069</td>\n",
       "      <td>0.077683</td>\n",
       "      <td>2.179259</td>\n",
       "      <td>0.006176</td>\n",
       "      <td>-4.699955</td>\n",
       "    </tr>\n",
       "    <tr>\n",
       "      <th>20</th>\n",
       "      <td>4</td>\n",
       "      <td>12</td>\n",
       "      <td>3.995450</td>\n",
       "      <td>0.003017</td>\n",
       "      <td>2.248998</td>\n",
       "      <td>0.002854</td>\n",
       "      <td>-5.907872</td>\n",
       "      <td>4.230510</td>\n",
       "      <td>0.054307</td>\n",
       "      <td>2.179259</td>\n",
       "      <td>0.006176</td>\n",
       "      <td>-5.513530</td>\n",
       "    </tr>\n",
       "  </tbody>\n",
       "</table>\n",
       "</div>"
      ],
      "text/plain": [
       "       #Firms  #Products  price_mean  share_mean  xvar_mean  wvar_mean  \\\n",
       "mktid                                                                    \n",
       "1           4          7    2.606675    0.149334   1.952670  -0.370695   \n",
       "2           4          7    2.430668    0.070118   2.685479  -0.564728   \n",
       "3           4          7    2.844954    0.082008   2.660057  -0.126529   \n",
       "4           4         11    3.326305    0.009768   1.946938   0.218622   \n",
       "5           4         11    2.663987    0.027104   1.946938  -0.089058   \n",
       "6           4          8    2.698184    0.039247   1.949804   0.131254   \n",
       "7           3          6    2.966885    0.122192   2.030004   0.142384   \n",
       "8           4         12    3.088131    0.014099   2.077402   0.061042   \n",
       "9           4         10    3.246889    0.021610   1.957790   0.171797   \n",
       "10          4         10    3.289496    0.004131   2.249770  -0.123245   \n",
       "11          3         10    3.049307    0.026473   2.075104   0.190220   \n",
       "12          4          9    3.382363    0.006263   2.202134  -0.093903   \n",
       "13          3          6    3.541219    0.083761   1.905272   0.322942   \n",
       "14          4         11    2.718769    0.011318   2.202134   0.181608   \n",
       "15          4         11    3.183973    0.011356   1.952670   0.111708   \n",
       "16          4         11    2.749118    0.007573   1.952670   0.193548   \n",
       "17          4          9    2.717297    0.045649   1.968643  -0.140500   \n",
       "18          3          8    3.180640    0.059409   1.903772   0.150187   \n",
       "19          4         12    2.973293    0.004870   2.248998   0.002854   \n",
       "20          4         12    3.995450    0.003017   2.248998   0.002854   \n",
       "\n",
       "       log_share_mean  price_std  share_std  xvar_std  wvar_std  log_share_std  \n",
       "mktid                                                                           \n",
       "1           -1.901567   2.750983   0.118469  1.945542 -0.293838      -2.483372  \n",
       "2           -2.657577   2.608820   0.136178  2.631723 -0.270162      -3.416234  \n",
       "3           -2.500937   3.098984   0.128079  2.576645  0.065384      -3.597887  \n",
       "4           -4.628668   3.530610   0.072886  1.983285  0.168326      -4.950860  \n",
       "5           -3.608089   2.854352   0.082693  1.801961 -0.154398      -3.747254  \n",
       "6           -3.252579   2.950200   0.106947  1.940615  0.029890      -3.461575  \n",
       "7           -2.121575   2.868110   0.121251  1.825464 -0.006352      -2.290008  \n",
       "8           -4.261649   3.062927   0.073310  2.144377  0.101264      -3.847605  \n",
       "9           -3.875696   3.361858   0.076573  2.155827  0.141241      -3.888033  \n",
       "10          -5.498564   3.136753   0.092536  2.318149 -0.148347      -4.670029  \n",
       "11          -3.668197   3.145455   0.085516  2.222370  0.251135      -3.755170  \n",
       "12          -5.073068   3.082844   0.097801  2.174316 -0.152491      -4.104786  \n",
       "13          -2.479976   3.445309   0.085021  1.722379  0.334948      -2.791546  \n",
       "14          -4.481382   2.808752   0.085931  2.216398  0.113575      -4.371929  \n",
       "15          -4.478030   3.342637   0.081644  2.005500  0.093831      -5.008356  \n",
       "16          -4.883203   2.819015   0.084264  2.003645 -0.007891      -4.065059  \n",
       "17          -3.086778   2.795841   0.099764  1.943064 -0.127777      -3.803674  \n",
       "18          -2.825769   3.214309   0.090613  1.909153 -0.002098      -3.369957  \n",
       "19          -5.339791   3.049069   0.077683  2.179259  0.006176      -4.699955  \n",
       "20          -5.907872   4.230510   0.054307  2.179259  0.006176      -5.513530  "
      ]
     },
     "execution_count": 6,
     "metadata": {},
     "output_type": "execute_result"
    }
   ],
   "source": [
    "df_widxs = df.copy()\n",
    "df_widxs['firmid'] = df_widxs.index.get_level_values('firmid')\n",
    "df_widxs['prodid'] = df_widxs.index.get_level_values('prodid')\n",
    "stats_mktlvl = df_widxs.groupby(by=['mktid']).aggregate({'firmid': 'nunique', 'prodid': 'nunique'})\n",
    "stats_mktlvl.rename(columns={\"firmid\": \"#Firms\", \"prodid\": \"#Products\"}, inplace=True)\n",
    "nfirms = stats_mktlvl[\"#Firms\"]\n",
    "nprods = stats_mktlvl[\"#Products\"]\n",
    "df_std = df.groupby('mktid').mean()\n",
    "df_mean = df.groupby('mktid').median()\n",
    "stats_mktlvl.join(df_mean.join(df_std,rsuffix='_std',lsuffix='_mean'))"
   ]
  },
  {
   "cell_type": "code",
   "execution_count": 7,
   "metadata": {
    "id": "dDzUNS43TGtb"
   },
   "outputs": [
    {
     "name": "stderr",
     "output_type": "stream",
     "text": [
      "/var/folders/xt/r947d5fd2yz1_fkptq29sn8r0000gn/T/ipykernel_1333/3817662116.py:3: FutureWarning: In future versions `DataFrame.to_latex` is expected to utilise the base implementation of `Styler.to_latex` for formatting and rendering. The arguments signature may therefore change. It is recommended instead to use `DataFrame.style.to_latex` which also contains additional functionality.\n",
      "  tf.write(stats_mktlvl.to_latex())\n",
      "/var/folders/xt/r947d5fd2yz1_fkptq29sn8r0000gn/T/ipykernel_1333/3817662116.py:9: FutureWarning: In future versions `DataFrame.to_latex` is expected to utilise the base implementation of `Styler.to_latex` for formatting and rendering. The arguments signature may therefore change. It is recommended instead to use `DataFrame.style.to_latex` which also contains additional functionality.\n",
      "  tf.write(stats_full.to_latex())\n"
     ]
    }
   ],
   "source": [
    "# Export num firms num products to Latex\n",
    "with open('table_1a.tex','w') as tf:\n",
    "    tf.write(stats_mktlvl.to_latex())\n",
    "    tf.close()\n",
    "\n",
    "# Export stat table to Latex\n",
    "stats_full = stats_mktlvl.join(df_mean.join(df_std,rsuffix='_std',lsuffix='_mean'))\n",
    "with open('table_1b.tex','w') as tf:\n",
    "    tf.write(stats_full.to_latex())\n",
    "    tf.close()"
   ]
  },
  {
   "cell_type": "markdown",
   "metadata": {
    "id": "-2D-DCJvWmlQ"
   },
   "source": [
    "### Market Summaries"
   ]
  },
  {
   "cell_type": "code",
   "execution_count": 8,
   "metadata": {
    "id": "9fkHrC5JWwmG"
   },
   "outputs": [],
   "source": [
    "import seaborn as sns\n",
    "sns.set_theme(style=\"ticks\", palette=\"pastel\")\n",
    "sns.set(rc={'figure.figsize':(15,6)})"
   ]
  },
  {
   "cell_type": "code",
   "execution_count": 9,
   "metadata": {
    "colab": {
     "base_uri": "https://localhost:8080/",
     "height": 410
    },
    "id": "lR6nGkP9XUyt",
    "outputId": "88d0cb35-ece1-43bc-e67a-de59a5b2c932"
   },
   "outputs": [
    {
     "data": {
      "image/png": "[encoded data removed]",
      "text/plain": [
       "<Figure size 1500x600 with 1 Axes>"
      ]
     },
     "metadata": {},
     "output_type": "display_data"
    }
   ],
   "source": [
    "# Shares by Market\n",
    "sns.boxplot(x=\"mktid\", y=\"share\",data=df.reset_index()).set(title='Shares by Market')\n",
    "plt.savefig(\"sharesbymkt.png\")"
   ]
  },
  {
   "cell_type": "code",
   "execution_count": 10,
   "metadata": {
    "colab": {
     "base_uri": "https://localhost:8080/",
     "height": 410
    },
    "id": "lnKSKf3dVMf1",
    "outputId": "6101ef67-325b-42fd-cf4d-4bc00327fcc5"
   },
   "outputs": [
    {
     "data": {
      "image/png": "[encoded data removed]",
      "text/plain": [
       "<Figure size 1500x600 with 1 Axes>"
      ]
     },
     "metadata": {},
     "output_type": "display_data"
    }
   ],
   "source": [
    "# Prices by Market\n",
    "sns.boxplot(x=\"mktid\", y=\"price\",data=df.reset_index()).set(title='Prices by Market')\n",
    "plt.savefig(\"pricesbymkt.png\")"
   ]
  },
  {
   "cell_type": "code",
   "execution_count": 11,
   "metadata": {
    "colab": {
     "base_uri": "https://localhost:8080/",
     "height": 410
    },
    "id": "49pLvCjTWWiL",
    "outputId": "6c3b3e07-bc77-457e-d732-49930f74f1d0"
   },
   "outputs": [
    {
     "data": {
      "image/png": "[encoded data removed]",
      "text/plain": [
       "<Figure size 1500x600 with 1 Axes>"
      ]
     },
     "metadata": {},
     "output_type": "display_data"
    }
   ],
   "source": [
    "# Costs by Market\n",
    "sns.boxplot(x=\"mktid\", y=\"wvar\",data=df.reset_index()).set(title='Costs by Market')\n",
    "plt.savefig(\"costsbymkt.png\")"
   ]
  },
  {
   "cell_type": "code",
   "execution_count": 12,
   "metadata": {
    "colab": {
     "base_uri": "https://localhost:8080/",
     "height": 410
    },
    "id": "AtDrOBkjV9Tj",
    "outputId": "f98970d0-2bd5-413d-d65c-81dee4c2a33a"
   },
   "outputs": [
    {
     "data": {
      "image/png": "[encoded data removed]",
      "text/plain": [
       "<Figure size 1500x600 with 1 Axes>"
      ]
     },
     "metadata": {},
     "output_type": "display_data"
    }
   ],
   "source": [
    "# Characteristics by Market\n",
    "sns.boxplot(x=\"mktid\", y=\"xvar\",data=df.reset_index()).set(title='Product Characteristics by Market')\n",
    "plt.savefig(\"xvarbymkt.png\")"
   ]
  },
  {
   "cell_type": "code",
   "execution_count": 13,
   "metadata": {
    "colab": {
     "base_uri": "https://localhost:8080/",
     "height": 410
    },
    "id": "5r9GV6FrWh7g",
    "outputId": "17b0f9f2-03db-4de0-c1f0-f84e64cb44df"
   },
   "outputs": [
    {
     "data": {
      "image/png": "[encoded data removed]",
      "text/plain": [
       "<Figure size 1500x600 with 1 Axes>"
      ]
     },
     "metadata": {},
     "output_type": "display_data"
    }
   ],
   "source": [
    "# Characteristics by Market\n",
    "sns.boxplot(x=\"mktid\", y=\"wvar\",data=df.reset_index()).set(title='Cost Shifter by Market')\n",
    "plt.savefig(\"wvarbymkt.png\")"
   ]
  },
  {
   "cell_type": "markdown",
   "metadata": {
    "id": "nKbE44IWW6WM"
   },
   "source": [
    "### Firm Summaries"
   ]
  },
  {
   "cell_type": "code",
   "execution_count": 14,
   "metadata": {
    "colab": {
     "base_uri": "https://localhost:8080/",
     "height": 410
    },
    "id": "ghhLI39HW_6k",
    "outputId": "80a8b429-6142-4923-bb9e-b2298b8b06b6"
   },
   "outputs": [
    {
     "data": {
      "image/png": "[encoded data removed]",
      "text/plain": [
       "<Figure size 1500x600 with 1 Axes>"
      ]
     },
     "metadata": {},
     "output_type": "display_data"
    }
   ],
   "source": [
    "# Prices by Firm\n",
    "sns.boxplot(x=\"firmid\", y=\"price\",data=df.reset_index()).set(title='Prices by Firm')\n",
    "plt.savefig(\"pricesbyfirm.png\")"
   ]
  },
  {
   "cell_type": "code",
   "execution_count": 15,
   "metadata": {
    "colab": {
     "base_uri": "https://localhost:8080/",
     "height": 410
    },
    "id": "BM1oHJMgXJwN",
    "outputId": "377a93fa-d951-4416-9b10-ab0eb109bed6"
   },
   "outputs": [
    {
     "data": {
      "image/png": "[encoded data removed]",
      "text/plain": [
       "<Figure size 1500x600 with 1 Axes>"
      ]
     },
     "metadata": {},
     "output_type": "display_data"
    }
   ],
   "source": [
    "# Costs by Firm\n",
    "sns.boxplot(x=\"firmid\", y=\"wvar\",data=df.reset_index()).set(title='Cost Shifter by Firm')\n",
    "plt.savefig(\"costsbyfirm.png\")"
   ]
  },
  {
   "cell_type": "code",
   "execution_count": 16,
   "metadata": {
    "colab": {
     "base_uri": "https://localhost:8080/",
     "height": 410
    },
    "id": "UpZFBUW1XMav",
    "outputId": "bb1ca5a7-8c0c-4d9d-8344-7786cfac27db"
   },
   "outputs": [
    {
     "data": {
      "image/png": "[encoded data removed]",
      "text/plain": [
       "<Figure size 1500x600 with 1 Axes>"
      ]
     },
     "metadata": {},
     "output_type": "display_data"
    }
   ],
   "source": [
    "# Characteristics by Firm\n",
    "sns.boxplot(x=\"firmid\", y=\"xvar\",data=df.reset_index()).set(title='Product Characteristics by Firm')\n",
    "plt.savefig(\"xvarbyfirm.png\")"
   ]
  },
  {
   "cell_type": "markdown",
   "metadata": {
    "id": "0H_OA3StXhlZ"
   },
   "source": [
    "### Product Summaries"
   ]
  },
  {
   "cell_type": "code",
   "execution_count": 17,
   "metadata": {
    "colab": {
     "base_uri": "https://localhost:8080/",
     "height": 410
    },
    "id": "PDgm5eMwXldJ",
    "outputId": "1e138796-610b-4c33-a53d-732b7561a9ea"
   },
   "outputs": [
    {
     "data": {
      "image/png": "[encoded data removed]",
      "text/plain": [
       "<Figure size 1500x600 with 1 Axes>"
      ]
     },
     "metadata": {},
     "output_type": "display_data"
    }
   ],
   "source": [
    "# Prices by Prod\n",
    "sns.boxplot(x=\"prodid\", y=\"price\",data=df.reset_index()).set(title='Prices by Product')\n",
    "plt.savefig(\"pricesbyprod.png\")"
   ]
  },
  {
   "cell_type": "code",
   "execution_count": 18,
   "metadata": {
    "colab": {
     "base_uri": "https://localhost:8080/",
     "height": 410
    },
    "id": "SXJCU6r0Xv4e",
    "outputId": "feff9879-1a22-4b51-c457-7ea1e0f55a10"
   },
   "outputs": [
    {
     "data": {
      "image/png": "[encoded data removed]",
      "text/plain": [
       "<Figure size 1500x600 with 1 Axes>"
      ]
     },
     "metadata": {},
     "output_type": "display_data"
    }
   ],
   "source": [
    "# Costs by Prod\n",
    "sns.boxplot(x=\"prodid\", y=\"wvar\",data=df.reset_index()).set(title='Costs by Product')\n",
    "plt.savefig(\"costsbyprod.png\")"
   ]
  },
  {
   "cell_type": "markdown",
   "metadata": {
    "id": "gx6mO0bpNmHm"
   },
   "source": [
    "## Logit model warmup"
   ]
  },
  {
   "cell_type": "code",
   "execution_count": 19,
   "metadata": {
    "id": "-GhGjVkNPNQI"
   },
   "outputs": [],
   "source": [
    "import statsmodels.api as sm_\n",
    "\n",
    "def run_2SLS(df:pd.DataFrame, instrument:list):\n",
    "  Y = df[\"log_share\"]\n",
    "  X = sm_.add_constant(df[[\"price\", \"xvar\"]])\n",
    "  Z = sm_.add_constant(df[instrument + [\"xvar\"]])\n",
    "  logit_2sls = IV2SLS(endog=Y,exog=X, instrument=Z).fit()\n",
    "  constant, alpha, beta = logit_2sls.params\n",
    "  print(logit_2sls.summary())\n",
    "  return logit_2sls\n",
    "\n",
    "def run_2SGMM(df:pd.DataFrame, instrument:list):\n",
    "  Y = df[\"log_share\"]\n",
    "  X = sm_.add_constant(df[[\"price\", \"xvar\"]])\n",
    "  Z = sm_.add_constant(df[instrument + [\"xvar\"]])\n",
    "  logit_2sgmm = IVGMM(endog=Y,exog=X,instrument=Z).fit();\n",
    "  constant, alpha, beta = logit_2sls.params\n",
    "  print(logit_2sgmm.summary())\n",
    "  return logit_2sgmm"
   ]
  },
  {
   "cell_type": "markdown",
   "metadata": {
    "id": "7pPnQrZ5egIQ"
   },
   "source": [
    "### OLS"
   ]
  },
  {
   "cell_type": "code",
   "execution_count": 20,
   "metadata": {
    "colab": {
     "base_uri": "https://localhost:8080/"
    },
    "id": "sSD7QafwNmHm",
    "outputId": "dbe01158-3db0-4535-e6e1-034f0e9b6e8f"
   },
   "outputs": [
    {
     "name": "stdout",
     "output_type": "stream",
     "text": [
      "                            OLS Regression Results                            \n",
      "==============================================================================\n",
      "Dep. Variable:              log_share   R-squared:                       0.786\n",
      "Model:                            OLS   Adj. R-squared:                  0.784\n",
      "Method:                 Least Squares   F-statistic:                     340.1\n",
      "Date:                Wed, 01 Feb 2023   Prob (F-statistic):           1.07e-62\n",
      "Time:                        14:09:49   Log-Likelihood:                -274.26\n",
      "No. Observations:                 188   AIC:                             554.5\n",
      "Df Residuals:                     185   BIC:                             564.2\n",
      "Df Model:                           2                                         \n",
      "Covariance Type:            nonrobust                                         \n",
      "==============================================================================\n",
      "                 coef    std err          t      P>|t|      [0.025      0.975]\n",
      "------------------------------------------------------------------------------\n",
      "Intercept      1.4678      0.360      4.073      0.000       0.757       2.179\n",
      "xvar           1.3368      0.124     10.752      0.000       1.091       1.582\n",
      "price         -2.6518      0.103    -25.831      0.000      -2.854      -2.449\n",
      "==============================================================================\n",
      "Omnibus:                        4.238   Durbin-Watson:                   0.727\n",
      "Prob(Omnibus):                  0.120   Jarque-Bera (JB):                4.125\n",
      "Skew:                           0.363   Prob(JB):                        0.127\n",
      "Kurtosis:                       2.988   Cond. No.                         19.3\n",
      "==============================================================================\n",
      "\n",
      "Notes:\n",
      "[1] Standard Errors assume that the covariance matrix of the errors is correctly specified.\n"
     ]
    }
   ],
   "source": [
    "df[\"log_share\"] = np.log(df[\"share\"])\n",
    "logit_ols = sm.ols(formula=\"log_share ~ xvar + price\", data=df).fit()\n",
    "print(logit_ols.summary())"
   ]
  },
  {
   "cell_type": "code",
   "execution_count": 21,
   "metadata": {
    "colab": {
     "base_uri": "https://localhost:8080/",
     "height": 299
    },
    "id": "I3EUsGQQYqUa",
    "outputId": "06393dee-5a98-4062-f980-a3c56fab7866"
   },
   "outputs": [
    {
     "name": "stdout",
     "output_type": "stream",
     "text": [
      "eval_env: 1\n"
     ]
    },
    {
     "data": {
      "image/png": "[encoded data removed]",
      "text/plain": [
       "<Figure size 1500x600 with 1 Axes>"
      ]
     },
     "metadata": {},
     "output_type": "display_data"
    }
   ],
   "source": [
    "# Partial Regression Plot of logshare-E[logshare|xvar] on price-E[price|xvar]\n",
    "import statsmodels.api as sm_\n",
    "fig = sm_.graphics.plot_partregress(\"log_share\", \"price\", [\"xvar\"], data=df, obs_labels = False)\n",
    "fig.tight_layout(pad=1.0)"
   ]
  },
  {
   "cell_type": "markdown",
   "metadata": {
    "id": "gfMJ3QY6NmHm"
   },
   "source": [
    "### 2SLS"
   ]
  },
  {
   "cell_type": "code",
   "execution_count": 22,
   "metadata": {
    "colab": {
     "base_uri": "https://localhost:8080/"
    },
    "id": "bRbETC2pQjJ1",
    "outputId": "f5679cf0-83f9-4b99-d91d-7194fa0abe3f"
   },
   "outputs": [
    {
     "name": "stdout",
     "output_type": "stream",
     "text": [
      "                          IV2SLS Regression Results                           \n",
      "==============================================================================\n",
      "Dep. Variable:              log_share   R-squared:                       0.785\n",
      "Model:                         IV2SLS   Adj. R-squared:                  0.783\n",
      "Method:                     Two Stage   F-statistic:                     86.48\n",
      "                        Least Squares   Prob (F-statistic):           3.04e-27\n",
      "Date:                Wed, 01 Feb 2023                                         \n",
      "Time:                        14:09:50                                         \n",
      "No. Observations:                 188                                         \n",
      "Df Residuals:                     185                                         \n",
      "Df Model:                           2                                         \n",
      "==============================================================================\n",
      "                 coef    std err          t      P>|t|      [0.025      0.975]\n",
      "------------------------------------------------------------------------------\n",
      "const          1.6599      0.583      2.846      0.005       0.509       2.811\n",
      "price         -2.7314      0.216    -12.652      0.000      -3.157      -2.305\n",
      "xvar           1.3640      0.140      9.711      0.000       1.087       1.641\n",
      "==============================================================================\n",
      "Omnibus:                        5.445   Durbin-Watson:                   0.653\n",
      "Prob(Omnibus):                  0.066   Jarque-Bera (JB):                5.340\n",
      "Skew:                           0.413   Prob(JB):                       0.0693\n",
      "Kurtosis:                       3.025   Cond. No.                         19.3\n",
      "==============================================================================\n"
     ]
    }
   ],
   "source": [
    "logit_2sls = run_2SLS(df, [\"wvar\"])"
   ]
  },
  {
   "cell_type": "markdown",
   "metadata": {
    "id": "bR0bUy0Ueicb"
   },
   "source": [
    "### GMM"
   ]
  },
  {
   "cell_type": "markdown",
   "metadata": {
    "id": "Nwyv1iYsbYLM"
   },
   "source": [
    "3. With GMM: When we have strong instruments, GMM is more efficient than 2SLS under heteroskedasticity because computes the 'optimal weighing matrix' to weigh sample moments. "
   ]
  },
  {
   "cell_type": "code",
   "execution_count": 23,
   "metadata": {
    "colab": {
     "base_uri": "https://localhost:8080/"
    },
    "id": "nwQajbG1bd4b",
    "outputId": "92d43489-cf8a-41da-9bd7-2d6e28e8279f"
   },
   "outputs": [
    {
     "name": "stdout",
     "output_type": "stream",
     "text": [
      "Optimization terminated successfully.\n",
      "         Current function value: 0.000000\n",
      "         Iterations: 8\n",
      "         Function evaluations: 10\n",
      "         Gradient evaluations: 10\n",
      "Optimization terminated successfully.\n",
      "         Current function value: 0.000000\n",
      "         Iterations: 0\n",
      "         Function evaluations: 1\n",
      "         Gradient evaluations: 1\n",
      "Optimization terminated successfully.\n",
      "         Current function value: 0.000000\n",
      "         Iterations: 0\n",
      "         Function evaluations: 1\n",
      "         Gradient evaluations: 1\n",
      "Optimization terminated successfully.\n",
      "         Current function value: 0.000000\n",
      "         Iterations: 0\n",
      "         Function evaluations: 1\n",
      "         Gradient evaluations: 1\n",
      "                                IVGMM Results                                 \n",
      "==============================================================================\n",
      "Dep. Variable:              log_share   Hansen J:                    1.403e-11\n",
      "Model:                          IVGMM   Prob (Hansen J):                   nan\n",
      "Method:                           GMM                                         \n",
      "Date:                Wed, 01 Feb 2023                                         \n",
      "Time:                        14:09:50                                         \n",
      "No. Observations:                 188                                         \n",
      "==============================================================================\n",
      "                 coef    std err          z      P>|z|      [0.025      0.975]\n",
      "------------------------------------------------------------------------------\n",
      "const          1.6599      0.549      3.024      0.002       0.584       2.736\n",
      "price         -2.7314      0.218    -12.538      0.000      -3.158      -2.304\n",
      "xvar           1.3640      0.148      9.215      0.000       1.074       1.654\n",
      "==============================================================================\n"
     ]
    }
   ],
   "source": [
    "logit_2sgmm = run_2SGMM(df, [\"wvar\"])"
   ]
  },
  {
   "cell_type": "markdown",
   "metadata": {
    "id": "4SA02TNoqu33"
   },
   "source": [
    "### Double Machine Learning \n"
   ]
  },
  {
   "cell_type": "markdown",
   "metadata": {
    "id": "7Imn5BZGuwTD"
   },
   "source": [
    "$log(s)=αp+g(x)+e, E[e|x,w]=0$\n",
    " - Here $g$ is estimated by flexible machine learning methods\n",
    " - and $[x,w]$ are instruments"
   ]
  },
  {
   "cell_type": "code",
   "execution_count": 24,
   "metadata": {
    "colab": {
     "base_uri": "https://localhost:8080/"
    },
    "id": "n8B2IWY_qt79",
    "outputId": "e38acc93-590d-4665-b1d7-c303a7bc4a9a"
   },
   "outputs": [
    {
     "name": "stdout",
     "output_type": "stream",
     "text": [
      "Requirement already satisfied: doubleml in /usr/local/lib/python3.10/site-packages (0.5.2)\n",
      "Requirement already satisfied: statsmodels in /usr/local/lib/python3.10/site-packages (from doubleml) (0.13.2)\n",
      "Requirement already satisfied: joblib in /usr/local/lib/python3.10/site-packages (from doubleml) (1.2.0)\n",
      "Requirement already satisfied: numpy in /usr/local/lib/python3.10/site-packages (from doubleml) (1.22.4)\n",
      "Requirement already satisfied: pandas in /usr/local/lib/python3.10/site-packages (from doubleml) (1.5.1)\n",
      "Requirement already satisfied: scikit-learn in /usr/local/lib/python3.10/site-packages (from doubleml) (1.1.3)\n",
      "Requirement already satisfied: scipy in /usr/local/lib/python3.10/site-packages (from doubleml) (1.9.3)\n",
      "Requirement already satisfied: pytz>=2020.1 in /usr/local/lib/python3.10/site-packages (from pandas->doubleml) (2022.5)\n",
      "Requirement already satisfied: python-dateutil>=2.8.1 in /usr/local/lib/python3.10/site-packages (from pandas->doubleml) (2.8.2)\n",
      "Requirement already satisfied: threadpoolctl>=2.0.0 in /usr/local/lib/python3.10/site-packages (from scikit-learn->doubleml) (3.1.0)\n",
      "Requirement already satisfied: packaging>=21.3 in /usr/local/lib/python3.10/site-packages (from statsmodels->doubleml) (21.3)\n",
      "Requirement already satisfied: patsy>=0.5.2 in /usr/local/lib/python3.10/site-packages (from statsmodels->doubleml) (0.5.3)\n",
      "Requirement already satisfied: pyparsing!=3.0.5,>=2.0.2 in /usr/local/lib/python3.10/site-packages (from packaging>=21.3->statsmodels->doubleml) (3.0.9)\n",
      "Requirement already satisfied: six in /usr/local/lib/python3.10/site-packages (from patsy>=0.5.2->statsmodels->doubleml) (1.16.0)\n",
      "\n",
      "\u001b[1m[\u001b[0m\u001b[34;49mnotice\u001b[0m\u001b[1;39;49m]\u001b[0m\u001b[39;49m A new release of pip available: \u001b[0m\u001b[31;49m22.3.1\u001b[0m\u001b[39;49m -> \u001b[0m\u001b[32;49m23.0\u001b[0m\n",
      "\u001b[1m[\u001b[0m\u001b[34;49mnotice\u001b[0m\u001b[1;39;49m]\u001b[0m\u001b[39;49m To update, run: \u001b[0m\u001b[32;49m/usr/local/opt/python@3.10/bin/python3.10 -m pip install --upgrade pip\u001b[0m\n",
      "Note: you may need to restart the kernel to use updated packages.\n",
      "           coef  std err          t         P>|t|     2.5 %    97.5 %\n",
      "price -2.768381  0.18785 -14.737181  3.719897e-49 -3.136561 -2.400202\n"
     ]
    }
   ],
   "source": [
    "%pip install doubleml\n",
    "from doubleml import DoubleMLData, DoubleMLPLIV\n",
    "from sklearn.ensemble import RandomForestRegressor\n",
    "l = RandomForestRegressor() # Model for E[Y|X] = E[θD+g(X)]\n",
    "g = RandomForestRegressor() # Model for E[Y - θD|X]=g(X)\n",
    "m = RandomForestRegressor() # Model for E[D|X]\n",
    "data = DoubleMLData(df, y_col=\"log_share\",d_cols=[\"price\"], x_cols=[\"xvar\"],z_cols=[ \"wvar\"])\n",
    "DML = DoubleMLPLIV(data, l, m, g, n_folds=5, apply_cross_fitting=True)\n",
    "DML.fit();\n",
    "print(DML.summary)\n",
    "import numpy as np\n",
    "beta = np.array(DML.summary).reshape(-1).tolist()[0]"
   ]
  },
  {
   "cell_type": "markdown",
   "metadata": {
    "id": "bT9LPnqv2EW_"
   },
   "source": [
    "### Why do we need Instruments? "
   ]
  },
  {
   "cell_type": "markdown",
   "metadata": {
    "id": "o-Ao6ARsezy6"
   },
   "source": [
    "Let demand curve be: $q=βp+d$ where $d$ is a random demand shifter (e.g. random holiday). Since demand shifters are likely to effect price (as price and quantity determined simultaneously), $E[dp] \\not= 0$. \n",
    "\n",
    "- $q=βp+d, E[dp] \\not= 0 \\implies β \\not= E[x^2]^{-1}E[yx]$\n",
    "- So $\\hat{β}=(\\sum_{i}x_{i}^2)^{-1}(\\sum_{i}y_{i}x_{i})$ will not converge to $β$\n",
    "\n",
    "But if we have access to a supply/cost shifter $c$ (e.g. weather) that is exogenous to demand,\n",
    "\n",
    "- $c \\perp d$ \n",
    "- $q=p+c$. \n",
    "\n",
    "We can solve for price to get: \n",
    "\n",
    "- $p= \\theta_{1}c + \\theta_{2}d$\n",
    "\n",
    "Thus  $c$  will influence both price and quantity but be uncorrelated with demand shocks. \n",
    "- $E[dc] = 0, E[pc] \\not=0 \\implies β = E[xc]^{-1}E[yc]$\n",
    "\n",
    "Thus these are the two conditions for $c$ to be a valid instrument: \n",
    "- (untestable) $E[dc] = 0$ \n",
    "- (testable) $E[pc] \\not= 0$. \n",
    "\n",
    "Examples of other Instruments: \n",
    "- Cost shifters: marginal costs, wages, fixed costs, input prices, prices in other markets (Hausman)\n",
    "- Markup shifters: product characteristics, entry/exit events, merger/collusion event, "
   ]
  },
  {
   "cell_type": "markdown",
   "metadata": {
    "id": "Nqg9pnQFelKR"
   },
   "source": [
    "### Elasticities "
   ]
  },
  {
   "cell_type": "code",
   "execution_count": 25,
   "metadata": {
    "id": "AX_OqarWNmHn"
   },
   "outputs": [],
   "source": [
    "def get_logit_elasticities(mktid: int) -> pd.DataFrame:\n",
    "    constant, alpha, beta = logit_2sgmm.params\n",
    "    df_mkt = df[df.index.get_level_values('mktid')==mktid].droplevel('mktid')\n",
    "    N = df_mkt[\"price\"].shape[0]\n",
    "    print(N)\n",
    "    mkt_elst = -alpha*np.dot(np.ones((N,1)), (df_mkt[\"price\"]*df_mkt[\"share\"]).to_numpy().reshape((1,N))) + alpha*np.diag(df_mkt[\"price\"])\n",
    "    return pd.DataFrame(mkt_elst, index=df_mkt.index, columns=df_mkt.index)\n",
    "\n",
    "def get_demand_derivatives_logit(mktid: int) -> pd.DataFrame:\n",
    "    constant, alpha, beta = logit_2sgmm.params\n",
    "    df_mkt = df[df.index.get_level_values('mktid')==mktid].droplevel('mktid')\n",
    "    N = df_mkt[\"share\"].shape[0]\n",
    "    #dqdp = np.dot(df_mkt[\"share\"],(1-df_mkt[\"share\"])) - alpha*np.ones((N,1)) + alpha*np.diag(df_mkt[\"share\"]*df_mkt[\"share\"])\n",
    "    mkt_elst = -alpha*np.dot(np.ones((N,1)), (df_mkt[\"share\"]*(1-df_mkt[\"share\"])).to_numpy().reshape((1,N))) + alpha*np.diag(df_mkt[\"share\"])\n",
    "    return pd.DataFrame(mkt_elst, index=df_mkt.index, columns=df_mkt.index)"
   ]
  },
  {
   "cell_type": "code",
   "execution_count": 26,
   "metadata": {
    "colab": {
     "base_uri": "https://localhost:8080/",
     "height": 332
    },
    "id": "kd-oKNqSmilA",
    "outputId": "67ab5028-5e42-4960-d41d-392411dc6b5d"
   },
   "outputs": [
    {
     "data": {
      "text/html": [
       "<div>\n",
       "<style scoped>\n",
       "    .dataframe tbody tr th:only-of-type {\n",
       "        vertical-align: middle;\n",
       "    }\n",
       "\n",
       "    .dataframe tbody tr th {\n",
       "        vertical-align: top;\n",
       "    }\n",
       "\n",
       "    .dataframe thead tr th {\n",
       "        text-align: left;\n",
       "    }\n",
       "\n",
       "    .dataframe thead tr:last-of-type th {\n",
       "        text-align: right;\n",
       "    }\n",
       "</style>\n",
       "<table border=\"1\" class=\"dataframe\">\n",
       "  <thead>\n",
       "    <tr>\n",
       "      <th></th>\n",
       "      <th>firmid</th>\n",
       "      <th>1</th>\n",
       "      <th colspan=\"2\" halign=\"left\">2</th>\n",
       "      <th>3</th>\n",
       "      <th colspan=\"3\" halign=\"left\">4</th>\n",
       "    </tr>\n",
       "    <tr>\n",
       "      <th></th>\n",
       "      <th>prodid</th>\n",
       "      <th>5</th>\n",
       "      <th>7</th>\n",
       "      <th>8</th>\n",
       "      <th>14</th>\n",
       "      <th>16</th>\n",
       "      <th>17</th>\n",
       "      <th>18</th>\n",
       "    </tr>\n",
       "    <tr>\n",
       "      <th>firmid</th>\n",
       "      <th>prodid</th>\n",
       "      <th></th>\n",
       "      <th></th>\n",
       "      <th></th>\n",
       "      <th></th>\n",
       "      <th></th>\n",
       "      <th></th>\n",
       "      <th></th>\n",
       "    </tr>\n",
       "  </thead>\n",
       "  <tbody>\n",
       "    <tr>\n",
       "      <th>1</th>\n",
       "      <th>5</th>\n",
       "      <td>-0.141041</td>\n",
       "      <td>0.042862</td>\n",
       "      <td>0.394757</td>\n",
       "      <td>0.346981</td>\n",
       "      <td>0.401851</td>\n",
       "      <td>0.093270</td>\n",
       "      <td>0.122050</td>\n",
       "    </tr>\n",
       "    <tr>\n",
       "      <th rowspan=\"2\" valign=\"top\">2</th>\n",
       "      <th>7</th>\n",
       "      <td>0.479637</td>\n",
       "      <td>-0.000695</td>\n",
       "      <td>0.394757</td>\n",
       "      <td>0.346981</td>\n",
       "      <td>0.401851</td>\n",
       "      <td>0.093270</td>\n",
       "      <td>0.122050</td>\n",
       "    </tr>\n",
       "    <tr>\n",
       "      <th>8</th>\n",
       "      <td>0.479637</td>\n",
       "      <td>0.042862</td>\n",
       "      <td>-0.083870</td>\n",
       "      <td>0.346981</td>\n",
       "      <td>0.401851</td>\n",
       "      <td>0.093270</td>\n",
       "      <td>0.122050</td>\n",
       "    </tr>\n",
       "    <tr>\n",
       "      <th>3</th>\n",
       "      <th>14</th>\n",
       "      <td>0.479637</td>\n",
       "      <td>0.042862</td>\n",
       "      <td>0.394757</td>\n",
       "      <td>-0.060913</td>\n",
       "      <td>0.401851</td>\n",
       "      <td>0.093270</td>\n",
       "      <td>0.122050</td>\n",
       "    </tr>\n",
       "    <tr>\n",
       "      <th rowspan=\"3\" valign=\"top\">4</th>\n",
       "      <th>16</th>\n",
       "      <td>0.479637</td>\n",
       "      <td>0.042862</td>\n",
       "      <td>0.394757</td>\n",
       "      <td>0.346981</td>\n",
       "      <td>-0.087766</td>\n",
       "      <td>0.093270</td>\n",
       "      <td>0.122050</td>\n",
       "    </tr>\n",
       "    <tr>\n",
       "      <th>17</th>\n",
       "      <td>0.479637</td>\n",
       "      <td>0.042862</td>\n",
       "      <td>0.394757</td>\n",
       "      <td>0.346981</td>\n",
       "      <td>0.401851</td>\n",
       "      <td>-0.003423</td>\n",
       "      <td>0.122050</td>\n",
       "    </tr>\n",
       "    <tr>\n",
       "      <th>18</th>\n",
       "      <td>0.479637</td>\n",
       "      <td>0.042862</td>\n",
       "      <td>0.394757</td>\n",
       "      <td>0.346981</td>\n",
       "      <td>0.401851</td>\n",
       "      <td>0.093270</td>\n",
       "      <td>-0.006003</td>\n",
       "    </tr>\n",
       "  </tbody>\n",
       "</table>\n",
       "</div>"
      ],
      "text/plain": [
       "firmid                1         2                   3         4            \\\n",
       "prodid               5         7         8         14        16        17   \n",
       "firmid prodid                                                               \n",
       "1      5      -0.141041  0.042862  0.394757  0.346981  0.401851  0.093270   \n",
       "2      7       0.479637 -0.000695  0.394757  0.346981  0.401851  0.093270   \n",
       "       8       0.479637  0.042862 -0.083870  0.346981  0.401851  0.093270   \n",
       "3      14      0.479637  0.042862  0.394757 -0.060913  0.401851  0.093270   \n",
       "4      16      0.479637  0.042862  0.394757  0.346981 -0.087766  0.093270   \n",
       "       17      0.479637  0.042862  0.394757  0.346981  0.401851 -0.003423   \n",
       "       18      0.479637  0.042862  0.394757  0.346981  0.401851  0.093270   \n",
       "\n",
       "firmid                   \n",
       "prodid               18  \n",
       "firmid prodid            \n",
       "1      5       0.122050  \n",
       "2      7       0.122050  \n",
       "       8       0.122050  \n",
       "3      14      0.122050  \n",
       "4      16      0.122050  \n",
       "       17      0.122050  \n",
       "       18     -0.006003  "
      ]
     },
     "execution_count": 26,
     "metadata": {},
     "output_type": "execute_result"
    }
   ],
   "source": [
    "get_demand_derivatives_logit(1)"
   ]
  },
  {
   "cell_type": "markdown",
   "metadata": {
    "id": "aIKFSQK4NmHn"
   },
   "source": [
    "Matrix of own and cross-price elasticities for market 1:"
   ]
  },
  {
   "cell_type": "code",
   "execution_count": 27,
   "metadata": {
    "colab": {
     "base_uri": "https://localhost:8080/",
     "height": 474
    },
    "id": "W0TRU6pVNmHn",
    "outputId": "378614dd-963d-49bc-ba69-3f0d6519774f"
   },
   "outputs": [
    {
     "name": "stdout",
     "output_type": "stream",
     "text": [
      "11\n"
     ]
    },
    {
     "data": {
      "text/html": [
       "<div>\n",
       "<style scoped>\n",
       "    .dataframe tbody tr th:only-of-type {\n",
       "        vertical-align: middle;\n",
       "    }\n",
       "\n",
       "    .dataframe tbody tr th {\n",
       "        vertical-align: top;\n",
       "    }\n",
       "\n",
       "    .dataframe thead tr th {\n",
       "        text-align: left;\n",
       "    }\n",
       "\n",
       "    .dataframe thead tr:last-of-type th {\n",
       "        text-align: right;\n",
       "    }\n",
       "</style>\n",
       "<table border=\"1\" class=\"dataframe\">\n",
       "  <thead>\n",
       "    <tr>\n",
       "      <th></th>\n",
       "      <th>firmid</th>\n",
       "      <th colspan=\"3\" halign=\"left\">1</th>\n",
       "      <th colspan=\"2\" halign=\"left\">2</th>\n",
       "      <th colspan=\"2\" halign=\"left\">3</th>\n",
       "      <th colspan=\"4\" halign=\"left\">4</th>\n",
       "    </tr>\n",
       "    <tr>\n",
       "      <th></th>\n",
       "      <th>prodid</th>\n",
       "      <th>1</th>\n",
       "      <th>2</th>\n",
       "      <th>4</th>\n",
       "      <th>6</th>\n",
       "      <th>9</th>\n",
       "      <th>11</th>\n",
       "      <th>14</th>\n",
       "      <th>16</th>\n",
       "      <th>17</th>\n",
       "      <th>18</th>\n",
       "      <th>19</th>\n",
       "    </tr>\n",
       "    <tr>\n",
       "      <th>firmid</th>\n",
       "      <th>prodid</th>\n",
       "      <th></th>\n",
       "      <th></th>\n",
       "      <th></th>\n",
       "      <th></th>\n",
       "      <th></th>\n",
       "      <th></th>\n",
       "      <th></th>\n",
       "      <th></th>\n",
       "      <th></th>\n",
       "      <th></th>\n",
       "      <th></th>\n",
       "    </tr>\n",
       "  </thead>\n",
       "  <tbody>\n",
       "    <tr>\n",
       "      <th rowspan=\"3\" valign=\"top\">1</th>\n",
       "      <th>1</th>\n",
       "      <td>-7.233376</td>\n",
       "      <td>0.088745</td>\n",
       "      <td>0.016764</td>\n",
       "      <td>0.005128</td>\n",
       "      <td>0.026804</td>\n",
       "      <td>3.380371</td>\n",
       "      <td>0.000609</td>\n",
       "      <td>0.913498</td>\n",
       "      <td>0.020115</td>\n",
       "      <td>0.145107</td>\n",
       "      <td>0.084013</td>\n",
       "    </tr>\n",
       "    <tr>\n",
       "      <th>2</th>\n",
       "      <td>1.186560</td>\n",
       "      <td>-8.996762</td>\n",
       "      <td>0.016764</td>\n",
       "      <td>0.005128</td>\n",
       "      <td>0.026804</td>\n",
       "      <td>3.380371</td>\n",
       "      <td>0.000609</td>\n",
       "      <td>0.913498</td>\n",
       "      <td>0.020115</td>\n",
       "      <td>0.145107</td>\n",
       "      <td>0.084013</td>\n",
       "    </tr>\n",
       "    <tr>\n",
       "      <th>4</th>\n",
       "      <td>1.186560</td>\n",
       "      <td>0.088745</td>\n",
       "      <td>-11.338957</td>\n",
       "      <td>0.005128</td>\n",
       "      <td>0.026804</td>\n",
       "      <td>3.380371</td>\n",
       "      <td>0.000609</td>\n",
       "      <td>0.913498</td>\n",
       "      <td>0.020115</td>\n",
       "      <td>0.145107</td>\n",
       "      <td>0.084013</td>\n",
       "    </tr>\n",
       "    <tr>\n",
       "      <th rowspan=\"2\" valign=\"top\">2</th>\n",
       "      <th>6</th>\n",
       "      <td>1.186560</td>\n",
       "      <td>0.088745</td>\n",
       "      <td>0.016764</td>\n",
       "      <td>-11.644522</td>\n",
       "      <td>0.026804</td>\n",
       "      <td>3.380371</td>\n",
       "      <td>0.000609</td>\n",
       "      <td>0.913498</td>\n",
       "      <td>0.020115</td>\n",
       "      <td>0.145107</td>\n",
       "      <td>0.084013</td>\n",
       "    </tr>\n",
       "    <tr>\n",
       "      <th>9</th>\n",
       "      <td>1.186560</td>\n",
       "      <td>0.088745</td>\n",
       "      <td>0.016764</td>\n",
       "      <td>0.005128</td>\n",
       "      <td>-12.121171</td>\n",
       "      <td>3.380371</td>\n",
       "      <td>0.000609</td>\n",
       "      <td>0.913498</td>\n",
       "      <td>0.020115</td>\n",
       "      <td>0.145107</td>\n",
       "      <td>0.084013</td>\n",
       "    </tr>\n",
       "    <tr>\n",
       "      <th rowspan=\"2\" valign=\"top\">3</th>\n",
       "      <th>11</th>\n",
       "      <td>1.186560</td>\n",
       "      <td>0.088745</td>\n",
       "      <td>0.016764</td>\n",
       "      <td>0.005128</td>\n",
       "      <td>0.026804</td>\n",
       "      <td>-3.402418</td>\n",
       "      <td>0.000609</td>\n",
       "      <td>0.913498</td>\n",
       "      <td>0.020115</td>\n",
       "      <td>0.145107</td>\n",
       "      <td>0.084013</td>\n",
       "    </tr>\n",
       "    <tr>\n",
       "      <th>14</th>\n",
       "      <td>1.186560</td>\n",
       "      <td>0.088745</td>\n",
       "      <td>0.016764</td>\n",
       "      <td>0.005128</td>\n",
       "      <td>0.026804</td>\n",
       "      <td>3.380371</td>\n",
       "      <td>-13.795075</td>\n",
       "      <td>0.913498</td>\n",
       "      <td>0.020115</td>\n",
       "      <td>0.145107</td>\n",
       "      <td>0.084013</td>\n",
       "    </tr>\n",
       "    <tr>\n",
       "      <th rowspan=\"4\" valign=\"top\">4</th>\n",
       "      <th>16</th>\n",
       "      <td>1.186560</td>\n",
       "      <td>0.088745</td>\n",
       "      <td>0.016764</td>\n",
       "      <td>0.005128</td>\n",
       "      <td>0.026804</td>\n",
       "      <td>3.380371</td>\n",
       "      <td>0.000609</td>\n",
       "      <td>-7.010241</td>\n",
       "      <td>0.020115</td>\n",
       "      <td>0.145107</td>\n",
       "      <td>0.084013</td>\n",
       "    </tr>\n",
       "    <tr>\n",
       "      <th>17</th>\n",
       "      <td>1.186560</td>\n",
       "      <td>0.088745</td>\n",
       "      <td>0.016764</td>\n",
       "      <td>0.005128</td>\n",
       "      <td>0.026804</td>\n",
       "      <td>3.380371</td>\n",
       "      <td>0.000609</td>\n",
       "      <td>0.913498</td>\n",
       "      <td>-10.300239</td>\n",
       "      <td>0.145107</td>\n",
       "      <td>0.084013</td>\n",
       "    </tr>\n",
       "    <tr>\n",
       "      <th>18</th>\n",
       "      <td>1.186560</td>\n",
       "      <td>0.088745</td>\n",
       "      <td>0.016764</td>\n",
       "      <td>0.005128</td>\n",
       "      <td>0.026804</td>\n",
       "      <td>3.380371</td>\n",
       "      <td>0.000609</td>\n",
       "      <td>0.913498</td>\n",
       "      <td>0.020115</td>\n",
       "      <td>-7.259410</td>\n",
       "      <td>0.084013</td>\n",
       "    </tr>\n",
       "    <tr>\n",
       "      <th>19</th>\n",
       "      <td>1.186560</td>\n",
       "      <td>0.088745</td>\n",
       "      <td>0.016764</td>\n",
       "      <td>0.005128</td>\n",
       "      <td>0.026804</td>\n",
       "      <td>3.380371</td>\n",
       "      <td>0.000609</td>\n",
       "      <td>0.913498</td>\n",
       "      <td>0.020115</td>\n",
       "      <td>0.145107</td>\n",
       "      <td>-7.109152</td>\n",
       "    </tr>\n",
       "  </tbody>\n",
       "</table>\n",
       "</div>"
      ],
      "text/plain": [
       "firmid                1                               2                    3  \\\n",
       "prodid               1         2          4          6          9         11   \n",
       "firmid prodid                                                                  \n",
       "1      1      -7.233376  0.088745   0.016764   0.005128   0.026804  3.380371   \n",
       "       2       1.186560 -8.996762   0.016764   0.005128   0.026804  3.380371   \n",
       "       4       1.186560  0.088745 -11.338957   0.005128   0.026804  3.380371   \n",
       "2      6       1.186560  0.088745   0.016764 -11.644522   0.026804  3.380371   \n",
       "       9       1.186560  0.088745   0.016764   0.005128 -12.121171  3.380371   \n",
       "3      11      1.186560  0.088745   0.016764   0.005128   0.026804 -3.402418   \n",
       "       14      1.186560  0.088745   0.016764   0.005128   0.026804  3.380371   \n",
       "4      16      1.186560  0.088745   0.016764   0.005128   0.026804  3.380371   \n",
       "       17      1.186560  0.088745   0.016764   0.005128   0.026804  3.380371   \n",
       "       18      1.186560  0.088745   0.016764   0.005128   0.026804  3.380371   \n",
       "       19      1.186560  0.088745   0.016764   0.005128   0.026804  3.380371   \n",
       "\n",
       "firmid                           4                                 \n",
       "prodid                14        16         17        18        19  \n",
       "firmid prodid                                                      \n",
       "1      1        0.000609  0.913498   0.020115  0.145107  0.084013  \n",
       "       2        0.000609  0.913498   0.020115  0.145107  0.084013  \n",
       "       4        0.000609  0.913498   0.020115  0.145107  0.084013  \n",
       "2      6        0.000609  0.913498   0.020115  0.145107  0.084013  \n",
       "       9        0.000609  0.913498   0.020115  0.145107  0.084013  \n",
       "3      11       0.000609  0.913498   0.020115  0.145107  0.084013  \n",
       "       14     -13.795075  0.913498   0.020115  0.145107  0.084013  \n",
       "4      16       0.000609 -7.010241   0.020115  0.145107  0.084013  \n",
       "       17       0.000609  0.913498 -10.300239  0.145107  0.084013  \n",
       "       18       0.000609  0.913498   0.020115 -7.259410  0.084013  \n",
       "       19       0.000609  0.913498   0.020115  0.145107 -7.109152  "
      ]
     },
     "execution_count": 27,
     "metadata": {},
     "output_type": "execute_result"
    }
   ],
   "source": [
    "get_logit_elasticities(4)"
   ]
  },
  {
   "cell_type": "code",
   "execution_count": 28,
   "metadata": {
    "colab": {
     "base_uri": "https://localhost:8080/"
    },
    "id": "AqpRqTBtyle_",
    "outputId": "02e5b666-0a86-4eae-dc29-9183eb396651"
   },
   "outputs": [
    {
     "name": "stdout",
     "output_type": "stream",
     "text": [
      "11\n"
     ]
    },
    {
     "name": "stderr",
     "output_type": "stream",
     "text": [
      "/var/folders/xt/r947d5fd2yz1_fkptq29sn8r0000gn/T/ipykernel_1333/2073041566.py:5: FutureWarning: In future versions `DataFrame.to_latex` is expected to utilise the base implementation of `Styler.to_latex` for formatting and rendering. The arguments signature may therefore change. It is recommended instead to use `DataFrame.style.to_latex` which also contains additional functionality.\n",
      "  tf.write(matrix_elasticities.to_latex())\n"
     ]
    }
   ],
   "source": [
    "# export elasticities (question 5)\n",
    "matrix_elasticities = get_logit_elasticities(4)\n",
    "\n",
    "with open('table_5.tex','w') as tf:\n",
    "    tf.write(matrix_elasticities.to_latex())\n",
    "    tf.close()"
   ]
  },
  {
   "cell_type": "markdown",
   "metadata": {
    "id": "Ic41fK8y2O9r"
   },
   "source": [
    "### Hausman Instruments"
   ]
  },
  {
   "cell_type": "markdown",
   "metadata": {
    "id": "JDANh_2q2Xan"
   },
   "source": [
    "Hausman instrument uses prices from other cities when cost data is unavailable. Let $i$ index cities,\n",
    "\n",
    "$p_{i}= \\theta_{1}c_{i} + \\theta_{2}d_{i}$\n",
    "\n",
    "Then $p_{-i}$ can be a valid instrument for $p_{i}$ when,\n",
    "\n",
    "(1) $c_{i}$ is a valid instrument for $p_{i}$\n",
    "\n",
    "(2) $E[c_{-i}c_{i}] \\not=0$: Costs accross cities have a common factor.\n",
    "\n",
    "(2) $E[d_{-i}d_{i}] =0$: Demand innovations accross cities have no common factor and are uncorrelated. \n",
    "\n",
    "**Hausman (1994)**\n",
    "\n",
    "\"However, at the lower levels where consumers choose among brands, the search for instruments is more difficult since excluded **cost shifting variables at the\n",
    "brand level may be difficult to find**, depending on the given situation...Our approach is to allow for both individual brand fixed effects and city fixed effects, and then to use the prices from one city as instruments for other cities ...The intuition that we use is that prices in each city reflect underlying product costs and city\n",
    "specific factors which vary over time as supermarkets run promotions on a particular product. To the extent that the stochastic city specific factors are independent of each other, prices from one city can serve as instruments\n",
    "for another city.\"\n",
    "\n",
    "$i$: brand, $n$: city, $t$: period, $s_{int}$:revenue share of total segment expenditure, $y_{Gnt}$:segment expenditure, $P_{nt}$:price index, $p_{jnt}$: price, $c_{jt}$:cost, $α_{jn}$:city-specific transport and wage differential, $w_{jnt}$: offers/discounts. \n",
    "\n",
    "(1) Demand: $s_{int}=α_{in}+β_{i}log(y_{Gnt}/P_{nt}+\\sum_{j} γ_{ij}log(p_{jnt})+e_{int}$\n",
    "\n",
    "(4) Pricing: $log(p_{jnt})=δ_{j}log(c_{jt})+α_{jn}+w_{jnt}$\n",
    "\n",
    "\"The specific identifying assumption that we make is\n",
    "that the $w_{jnt}$ are independent across cities...The idea is that prices in one city (after elimination of city\n",
    "and brand specific effects) are driven by underlying costs, $c_{it}$, which provide instrumental variables which are correlated with prices but are\n",
    "uncorrelated with stochastic disturbances in the demand equations, e.g.,\n",
    "$w_{jnt}$ from equation (4) is uncorrelated with $e_{ilt}$ from equation (1) when the cities are different, $n \\not= l$.\""
   ]
  },
  {
   "cell_type": "code",
   "execution_count": 29,
   "metadata": {
    "id": "uNAv3sKx34jK"
   },
   "outputs": [],
   "source": [
    "def make_hausman_instr(df: pd.DataFrame) -> pd.DataFrame:\n",
    "    hausman_ivs = {}\n",
    "    for mktid, df_mkt in df.groupby(by=\"mktid\"):\n",
    "        df_othermkts = df[~df.index.get_level_values('mktid').isin([mktid])]\n",
    "        hausman_priceavg = df_othermkts.groupby(by=[\"firmid\", \"prodid\"])[\"price\"].mean()\n",
    "        hausman_priceavg = pd.concat([hausman_priceavg], keys=[mktid], names=['mktid'])\n",
    "        hausman_ivs[mktid] = hausman_priceavg\n",
    "    return pd.concat(hausman_ivs.values(), keys=hausman_ivs.keys()).rename('hausman_iv').droplevel(0)"
   ]
  },
  {
   "cell_type": "code",
   "execution_count": 30,
   "metadata": {
    "id": "gqtXGRYrKmn_"
   },
   "outputs": [],
   "source": [
    "hausman_ivs = make_hausman_instr(df)\n",
    "df = pd.merge(left=df, right=hausman_ivs, on=df.index.names)"
   ]
  },
  {
   "cell_type": "code",
   "execution_count": 31,
   "metadata": {
    "colab": {
     "base_uri": "https://localhost:8080/"
    },
    "id": "99QrZKkqKwmN",
    "outputId": "360ab4c9-480f-41a3-bce1-ccb3a467a111"
   },
   "outputs": [
    {
     "name": "stdout",
     "output_type": "stream",
     "text": [
      "                          IV2SLS Regression Results                           \n",
      "==============================================================================\n",
      "Dep. Variable:              log_share   R-squared:                       0.784\n",
      "Model:                         IV2SLS   Adj. R-squared:                  0.781\n",
      "Method:                     Two Stage   F-statistic:                     97.55\n",
      "                        Least Squares   Prob (F-statistic):           2.23e-29\n",
      "Date:                Wed, 01 Feb 2023                                         \n",
      "Time:                        14:09:57                                         \n",
      "No. Observations:                 182                                         \n",
      "Df Residuals:                     179                                         \n",
      "Df Model:                           2                                         \n",
      "==============================================================================\n",
      "                 coef    std err          t      P>|t|      [0.025      0.975]\n",
      "------------------------------------------------------------------------------\n",
      "const          2.3328      0.592      3.941      0.000       1.165       3.501\n",
      "price         -3.0084      0.222    -13.555      0.000      -3.446      -2.570\n",
      "xvar           1.4293      0.143      9.989      0.000       1.147       1.712\n",
      "==============================================================================\n",
      "Omnibus:                       11.850   Durbin-Watson:                   0.515\n",
      "Prob(Omnibus):                  0.003   Jarque-Bera (JB):               12.223\n",
      "Skew:                           0.598   Prob(JB):                      0.00222\n",
      "Kurtosis:                       3.423   Cond. No.                         19.4\n",
      "==============================================================================\n"
     ]
    }
   ],
   "source": [
    "logit_2sls_hausman = run_2SLS(df, [\"hausman_iv\"])"
   ]
  },
  {
   "cell_type": "markdown",
   "metadata": {
    "id": "EIwzC1OnK_s1"
   },
   "source": [
    "### BLP IVs"
   ]
  },
  {
   "cell_type": "markdown",
   "metadata": {
    "id": "g8I7R1koCl9K"
   },
   "source": [
    "BLP propose using:\n",
    "\n",
    "*   (1) Own characteristics\n",
    "*   (2) Sum of characteristics of other products produced by the firm\n",
    "*   (3) Sum of characteristics of competitors products\n",
    "\n",
    "For these instruments to be valid we need observed characteristics to be mean independent of unobserved characteristics. Assumes each attribute is exogenous."
   ]
  },
  {
   "cell_type": "code",
   "execution_count": 32,
   "metadata": {
    "id": "Do1EDdl5T0rs"
   },
   "outputs": [],
   "source": [
    "def BLPIV(df):\n",
    "  df3 = df.reset_index()\n",
    "  T = len(df3.mktid.unique())\n",
    "  J = len(df3.prodid.unique())\n",
    "  N = len(df3.firmid.unique())\n",
    "  D1 = np.zeros((N,T))\n",
    "  D2 = np.zeros((N,T))\n",
    "  D3 = np.zeros((N,J,T))\n",
    "  D4 = np.zeros((N,J,T))\n",
    "\n",
    "  for t in range(1, 21):\n",
    "    for n in range(1, 5):\n",
    "\n",
    "      # BLP1: Number of products owned by competing firm\n",
    "      D1[n-1,t-1] = len(df3[(df3.firmid!=n) & (df3.mktid==t)].prodid.unique())\n",
    "      \n",
    "      # BLP2: Total number of products by market (co-linear in these data)\n",
    "      D2[n-1,t-1] = len(df3[(df3.mktid==t)].prodid.unique())\n",
    "  \n",
    "  for t in range(1, 21):\n",
    "    for n in range(1, 5):\n",
    "      for j in range(1, 21):\n",
    "\n",
    "        # BLP3: Sum of attributes in the market for each product produced by firm excluding product j\n",
    "        D3[n-1,j-1,t-1] = df3[(df3.firmid==n) & (df3.mktid==t) & (df3.prodid!=j)].xvar.sum()\n",
    "        \n",
    "        # BLP4: Sum of attributes of products owned by competing firm\n",
    "        D4[n-1,j-1,t-1] = df3[(df3.firmid!=n) & (df3.mktid==t) & (df3.prodid!=j)].xvar.sum()\n",
    "\n",
    "  # write the D matrices (4,20) back into the dataframe indexed by firmid, mktid\n",
    "  df3['blp1']=0\n",
    "  df3['blp2']=0\n",
    "  df3['blp3']=0\n",
    "  df3['blp4']=0\n",
    "\n",
    "  for t in range(1, 21):\n",
    "    for n in range(1, 5):\n",
    "\n",
    "      df3.loc[(df3.mktid==t) & (df3.firmid==n),'blp1'] = D1[n-1,t-1]\n",
    "      df3.loc[(df3.mktid==t) & (df3.firmid==n),'blp2'] = D2[n-1,t-1]\n",
    "\n",
    "  for t in range(1, 21):\n",
    "    for n in range(1, 5):\n",
    "      for j in range(1, 21):\n",
    "\n",
    "        df3.loc[(df3.mktid==t) & (df3.firmid==n) & (df3.prodid==j),'blp3'] = D3[n-1,j-1,t-1]\n",
    "        df3.loc[(df3.mktid==t) & (df3.firmid==n) & (df3.prodid==j),'blp4'] = D4[n-1,j-1,t-1]\n",
    "\n",
    "  df3 = df3.set_index(['mktid', 'prodid', 'firmid'])\n",
    "  return df3"
   ]
  },
  {
   "cell_type": "markdown",
   "metadata": {
    "id": "6JaPI2o3LezU"
   },
   "source": [
    "### Differentiation IVs\n",
    "\n",
    "- For $p_{jt}$ we construct the following instruments: \n",
    "- (1) Own product characteristic: $x_{jt}$\n",
    "- (2) Other Product distance: $\\sum_{k \\not= j} d_{jkt}= \\sum_{k \\not= j} (d_{jt} - d_{kt})^2$\n",
    "- (3) No. of products within range: $\\sum_{k \\not= j} 1(|d_{jkt}|<\\tau)$\n",
    "\n",
    "\"A folk wisdom that has been “in the air” since BLP is that the correlation between a product’s market share and the entry and exit of products with more or less similar characteristics provide the identifying variation for substitution patterns in mixed logit models. \" \n",
    "\n",
    "\"We refer to this sufficient statistic as the “local market structure” facing a product, which takes the form of the empirical distribution of differences in product characteristics between a given product and its competitors.\"\n"
   ]
  },
  {
   "cell_type": "code",
   "execution_count": 33,
   "metadata": {
    "id": "5hyig1-8MD7e"
   },
   "outputs": [],
   "source": [
    "def differentiationIV(df):\n",
    "    df2 = df.reset_index()\n",
    "    T = len(df2.mktid.unique())\n",
    "    N = len(df2.firmid.unique())\n",
    "    J = len(df2.prodid.unique())\n",
    "    D = np.zeros((J,J,T))\n",
    "\n",
    "    for j in range(J):\n",
    "        for k in range(J):\n",
    "            for t in range(T):\n",
    "                try:\n",
    "                    D[j,k,t] = df2[(df2.prodid==j) & (df2.mktid==t)].xvar.item() - df2[(df2.prodid==k) & (df2.mktid==t)].xvar.item() \n",
    "                except: \n",
    "                    D[j,k,t] = 0\n",
    "\n",
    "    D2 = D**2\n",
    "\n",
    "    df2['prod_char_dist']=0\n",
    "    for t in range(T):\n",
    "        for j in range(J):\n",
    "            temp = 0\n",
    "            for k in range(J):\n",
    "                if k != j:\n",
    "                    temp += D2[j, k, t]**2\n",
    "            df2.loc[(df2.mktid==t) & (df2.prodid==j),'prod_char_dist'] = temp\n",
    "\n",
    "    df2['prod_band0']=0\n",
    "    df2['prod_band1']=0\n",
    "    df2['prod_band2']=0\n",
    "    for t in range(T):\n",
    "        for j in range(J):\n",
    "            q_2 = np.quantile(np.abs(D[j,:,t]), 0.5)\n",
    "            q_5 = np.quantile(np.abs(D[j,:,t]), 0.75)\n",
    "            q_7 = np.quantile(np.abs(D[j,:,t]), 0.95)\n",
    "            #print(q_2, q_5, q_7)\n",
    "            for (i,q) in enumerate([q_2, q_5, q_7]):\n",
    "                temp = 0\n",
    "                for k in range(J):\n",
    "                    if k != j:\n",
    "                        if np.abs(D2[j, k, t]) < q:\n",
    "                            temp += 1\n",
    "                name = 'prod_band' + str(i)\n",
    "                df2.loc[(df2.mktid==t) & (df2.prodid==j), name] = temp\n",
    "                \n",
    "    print(np.mean(df2['prod_char_dist']), np.mean(df2.prod_band0), np.mean(df2.prod_band1), np.mean(df2.prod_band2))\n",
    "    df2 = df2.set_index(['mktid', 'prodid', 'firmid'])\n",
    "    df2 = df2.fillna(0)\n",
    "    df2.rename(columns={'prod_char_dist': 'diff_iv', 'prod_band0': 'diff_iv_prodband0', 'prod_band1': 'diff_iv_prodband1', 'prod_band2': 'diff_iv_prodband2'}, inplace=True)\n",
    "    return df2"
   ]
  },
  {
   "cell_type": "code",
   "execution_count": 34,
   "metadata": {
    "colab": {
     "base_uri": "https://localhost:8080/"
    },
    "id": "-ixw9J7iV8O4",
    "outputId": "a64bd212-50c6-497a-a5b2-3e98ae8d5c8b"
   },
   "outputs": [
    {
     "name": "stdout",
     "output_type": "stream",
     "text": [
      "14.562190736471745 3.2527472527472527 13.873626373626374 15.81868131868132\n"
     ]
    }
   ],
   "source": [
    "df = differentiationIV(df)"
   ]
  },
  {
   "cell_type": "code",
   "execution_count": 35,
   "metadata": {
    "id": "8wop6NoEWIhn"
   },
   "outputs": [],
   "source": [
    "df = BLPIV(df)"
   ]
  },
  {
   "cell_type": "markdown",
   "metadata": {
    "id": "9k6L5MztNmHp"
   },
   "source": [
    "## Random Coefficients Logit Model"
   ]
  },
  {
   "cell_type": "code",
   "execution_count": 36,
   "metadata": {
    "id": "AyctNV_JNmHp"
   },
   "outputs": [
    {
     "ename": "FileNotFoundError",
     "evalue": "[Errno 2] No such file or directory: 'sample_data/census-ageincome-joint-small.csv'",
     "output_type": "error",
     "traceback": [
      "\u001b[0;31m---------------------------------------------------------------------------\u001b[0m",
      "\u001b[0;31mFileNotFoundError\u001b[0m                         Traceback (most recent call last)",
      "Cell \u001b[0;32mIn [36], line 1\u001b[0m\n\u001b[0;32m----> 1\u001b[0m us_census \u001b[38;5;241m=\u001b[39m \u001b[43mpd\u001b[49m\u001b[38;5;241;43m.\u001b[39;49m\u001b[43mread_csv\u001b[49m\u001b[43m(\u001b[49m\u001b[38;5;124;43m\"\u001b[39;49m\u001b[38;5;124;43msample_data/census-ageincome-joint-small.csv\u001b[39;49m\u001b[38;5;124;43m\"\u001b[39;49m\u001b[43m,\u001b[49m\u001b[43m \u001b[49m\u001b[43mindex_col\u001b[49m\u001b[38;5;241;43m=\u001b[39;49m\u001b[38;5;241;43m0\u001b[39;49m\u001b[43m)\u001b[49m\u001b[38;5;241m.\u001b[39mastype(\u001b[38;5;28mint\u001b[39m)\n\u001b[1;32m      2\u001b[0m census_density \u001b[38;5;241m=\u001b[39m (\u001b[38;5;241m1.\u001b[39m\u001b[38;5;241m/\u001b[39mus_census\u001b[38;5;241m.\u001b[39msum()\u001b[38;5;241m.\u001b[39msum())\u001b[38;5;241m*\u001b[39mus_census\n\u001b[1;32m      3\u001b[0m n_age, n_inc \u001b[38;5;241m=\u001b[39m us_census\u001b[38;5;241m.\u001b[39mshape\n",
      "File \u001b[0;32m/usr/local/lib/python3.10/site-packages/pandas/util/_decorators.py:211\u001b[0m, in \u001b[0;36mdeprecate_kwarg.<locals>._deprecate_kwarg.<locals>.wrapper\u001b[0;34m(*args, **kwargs)\u001b[0m\n\u001b[1;32m    209\u001b[0m     \u001b[38;5;28;01melse\u001b[39;00m:\n\u001b[1;32m    210\u001b[0m         kwargs[new_arg_name] \u001b[38;5;241m=\u001b[39m new_arg_value\n\u001b[0;32m--> 211\u001b[0m \u001b[38;5;28;01mreturn\u001b[39;00m \u001b[43mfunc\u001b[49m\u001b[43m(\u001b[49m\u001b[38;5;241;43m*\u001b[39;49m\u001b[43margs\u001b[49m\u001b[43m,\u001b[49m\u001b[43m \u001b[49m\u001b[38;5;241;43m*\u001b[39;49m\u001b[38;5;241;43m*\u001b[39;49m\u001b[43mkwargs\u001b[49m\u001b[43m)\u001b[49m\n",
      "File \u001b[0;32m/usr/local/lib/python3.10/site-packages/pandas/util/_decorators.py:331\u001b[0m, in \u001b[0;36mdeprecate_nonkeyword_arguments.<locals>.decorate.<locals>.wrapper\u001b[0;34m(*args, **kwargs)\u001b[0m\n\u001b[1;32m    325\u001b[0m \u001b[38;5;28;01mif\u001b[39;00m \u001b[38;5;28mlen\u001b[39m(args) \u001b[38;5;241m>\u001b[39m num_allow_args:\n\u001b[1;32m    326\u001b[0m     warnings\u001b[38;5;241m.\u001b[39mwarn(\n\u001b[1;32m    327\u001b[0m         msg\u001b[38;5;241m.\u001b[39mformat(arguments\u001b[38;5;241m=\u001b[39m_format_argument_list(allow_args)),\n\u001b[1;32m    328\u001b[0m         \u001b[38;5;167;01mFutureWarning\u001b[39;00m,\n\u001b[1;32m    329\u001b[0m         stacklevel\u001b[38;5;241m=\u001b[39mfind_stack_level(),\n\u001b[1;32m    330\u001b[0m     )\n\u001b[0;32m--> 331\u001b[0m \u001b[38;5;28;01mreturn\u001b[39;00m \u001b[43mfunc\u001b[49m\u001b[43m(\u001b[49m\u001b[38;5;241;43m*\u001b[39;49m\u001b[43margs\u001b[49m\u001b[43m,\u001b[49m\u001b[43m \u001b[49m\u001b[38;5;241;43m*\u001b[39;49m\u001b[38;5;241;43m*\u001b[39;49m\u001b[43mkwargs\u001b[49m\u001b[43m)\u001b[49m\n",
      "File \u001b[0;32m/usr/local/lib/python3.10/site-packages/pandas/io/parsers/readers.py:950\u001b[0m, in \u001b[0;36mread_csv\u001b[0;34m(filepath_or_buffer, sep, delimiter, header, names, index_col, usecols, squeeze, prefix, mangle_dupe_cols, dtype, engine, converters, true_values, false_values, skipinitialspace, skiprows, skipfooter, nrows, na_values, keep_default_na, na_filter, verbose, skip_blank_lines, parse_dates, infer_datetime_format, keep_date_col, date_parser, dayfirst, cache_dates, iterator, chunksize, compression, thousands, decimal, lineterminator, quotechar, quoting, doublequote, escapechar, comment, encoding, encoding_errors, dialect, error_bad_lines, warn_bad_lines, on_bad_lines, delim_whitespace, low_memory, memory_map, float_precision, storage_options)\u001b[0m\n\u001b[1;32m    935\u001b[0m kwds_defaults \u001b[38;5;241m=\u001b[39m _refine_defaults_read(\n\u001b[1;32m    936\u001b[0m     dialect,\n\u001b[1;32m    937\u001b[0m     delimiter,\n\u001b[0;32m   (...)\u001b[0m\n\u001b[1;32m    946\u001b[0m     defaults\u001b[38;5;241m=\u001b[39m{\u001b[38;5;124m\"\u001b[39m\u001b[38;5;124mdelimiter\u001b[39m\u001b[38;5;124m\"\u001b[39m: \u001b[38;5;124m\"\u001b[39m\u001b[38;5;124m,\u001b[39m\u001b[38;5;124m\"\u001b[39m},\n\u001b[1;32m    947\u001b[0m )\n\u001b[1;32m    948\u001b[0m kwds\u001b[38;5;241m.\u001b[39mupdate(kwds_defaults)\n\u001b[0;32m--> 950\u001b[0m \u001b[38;5;28;01mreturn\u001b[39;00m \u001b[43m_read\u001b[49m\u001b[43m(\u001b[49m\u001b[43mfilepath_or_buffer\u001b[49m\u001b[43m,\u001b[49m\u001b[43m \u001b[49m\u001b[43mkwds\u001b[49m\u001b[43m)\u001b[49m\n",
      "File \u001b[0;32m/usr/local/lib/python3.10/site-packages/pandas/io/parsers/readers.py:605\u001b[0m, in \u001b[0;36m_read\u001b[0;34m(filepath_or_buffer, kwds)\u001b[0m\n\u001b[1;32m    602\u001b[0m _validate_names(kwds\u001b[38;5;241m.\u001b[39mget(\u001b[38;5;124m\"\u001b[39m\u001b[38;5;124mnames\u001b[39m\u001b[38;5;124m\"\u001b[39m, \u001b[38;5;28;01mNone\u001b[39;00m))\n\u001b[1;32m    604\u001b[0m \u001b[38;5;66;03m# Create the parser.\u001b[39;00m\n\u001b[0;32m--> 605\u001b[0m parser \u001b[38;5;241m=\u001b[39m \u001b[43mTextFileReader\u001b[49m\u001b[43m(\u001b[49m\u001b[43mfilepath_or_buffer\u001b[49m\u001b[43m,\u001b[49m\u001b[43m \u001b[49m\u001b[38;5;241;43m*\u001b[39;49m\u001b[38;5;241;43m*\u001b[39;49m\u001b[43mkwds\u001b[49m\u001b[43m)\u001b[49m\n\u001b[1;32m    607\u001b[0m \u001b[38;5;28;01mif\u001b[39;00m chunksize \u001b[38;5;129;01mor\u001b[39;00m iterator:\n\u001b[1;32m    608\u001b[0m     \u001b[38;5;28;01mreturn\u001b[39;00m parser\n",
      "File \u001b[0;32m/usr/local/lib/python3.10/site-packages/pandas/io/parsers/readers.py:1442\u001b[0m, in \u001b[0;36mTextFileReader.__init__\u001b[0;34m(self, f, engine, **kwds)\u001b[0m\n\u001b[1;32m   1439\u001b[0m     \u001b[38;5;28mself\u001b[39m\u001b[38;5;241m.\u001b[39moptions[\u001b[38;5;124m\"\u001b[39m\u001b[38;5;124mhas_index_names\u001b[39m\u001b[38;5;124m\"\u001b[39m] \u001b[38;5;241m=\u001b[39m kwds[\u001b[38;5;124m\"\u001b[39m\u001b[38;5;124mhas_index_names\u001b[39m\u001b[38;5;124m\"\u001b[39m]\n\u001b[1;32m   1441\u001b[0m \u001b[38;5;28mself\u001b[39m\u001b[38;5;241m.\u001b[39mhandles: IOHandles \u001b[38;5;241m|\u001b[39m \u001b[38;5;28;01mNone\u001b[39;00m \u001b[38;5;241m=\u001b[39m \u001b[38;5;28;01mNone\u001b[39;00m\n\u001b[0;32m-> 1442\u001b[0m \u001b[38;5;28mself\u001b[39m\u001b[38;5;241m.\u001b[39m_engine \u001b[38;5;241m=\u001b[39m \u001b[38;5;28;43mself\u001b[39;49m\u001b[38;5;241;43m.\u001b[39;49m\u001b[43m_make_engine\u001b[49m\u001b[43m(\u001b[49m\u001b[43mf\u001b[49m\u001b[43m,\u001b[49m\u001b[43m \u001b[49m\u001b[38;5;28;43mself\u001b[39;49m\u001b[38;5;241;43m.\u001b[39;49m\u001b[43mengine\u001b[49m\u001b[43m)\u001b[49m\n",
      "File \u001b[0;32m/usr/local/lib/python3.10/site-packages/pandas/io/parsers/readers.py:1735\u001b[0m, in \u001b[0;36mTextFileReader._make_engine\u001b[0;34m(self, f, engine)\u001b[0m\n\u001b[1;32m   1733\u001b[0m     \u001b[38;5;28;01mif\u001b[39;00m \u001b[38;5;124m\"\u001b[39m\u001b[38;5;124mb\u001b[39m\u001b[38;5;124m\"\u001b[39m \u001b[38;5;129;01mnot\u001b[39;00m \u001b[38;5;129;01min\u001b[39;00m mode:\n\u001b[1;32m   1734\u001b[0m         mode \u001b[38;5;241m+\u001b[39m\u001b[38;5;241m=\u001b[39m \u001b[38;5;124m\"\u001b[39m\u001b[38;5;124mb\u001b[39m\u001b[38;5;124m\"\u001b[39m\n\u001b[0;32m-> 1735\u001b[0m \u001b[38;5;28mself\u001b[39m\u001b[38;5;241m.\u001b[39mhandles \u001b[38;5;241m=\u001b[39m \u001b[43mget_handle\u001b[49m\u001b[43m(\u001b[49m\n\u001b[1;32m   1736\u001b[0m \u001b[43m    \u001b[49m\u001b[43mf\u001b[49m\u001b[43m,\u001b[49m\n\u001b[1;32m   1737\u001b[0m \u001b[43m    \u001b[49m\u001b[43mmode\u001b[49m\u001b[43m,\u001b[49m\n\u001b[1;32m   1738\u001b[0m \u001b[43m    \u001b[49m\u001b[43mencoding\u001b[49m\u001b[38;5;241;43m=\u001b[39;49m\u001b[38;5;28;43mself\u001b[39;49m\u001b[38;5;241;43m.\u001b[39;49m\u001b[43moptions\u001b[49m\u001b[38;5;241;43m.\u001b[39;49m\u001b[43mget\u001b[49m\u001b[43m(\u001b[49m\u001b[38;5;124;43m\"\u001b[39;49m\u001b[38;5;124;43mencoding\u001b[39;49m\u001b[38;5;124;43m\"\u001b[39;49m\u001b[43m,\u001b[49m\u001b[43m \u001b[49m\u001b[38;5;28;43;01mNone\u001b[39;49;00m\u001b[43m)\u001b[49m\u001b[43m,\u001b[49m\n\u001b[1;32m   1739\u001b[0m \u001b[43m    \u001b[49m\u001b[43mcompression\u001b[49m\u001b[38;5;241;43m=\u001b[39;49m\u001b[38;5;28;43mself\u001b[39;49m\u001b[38;5;241;43m.\u001b[39;49m\u001b[43moptions\u001b[49m\u001b[38;5;241;43m.\u001b[39;49m\u001b[43mget\u001b[49m\u001b[43m(\u001b[49m\u001b[38;5;124;43m\"\u001b[39;49m\u001b[38;5;124;43mcompression\u001b[39;49m\u001b[38;5;124;43m\"\u001b[39;49m\u001b[43m,\u001b[49m\u001b[43m \u001b[49m\u001b[38;5;28;43;01mNone\u001b[39;49;00m\u001b[43m)\u001b[49m\u001b[43m,\u001b[49m\n\u001b[1;32m   1740\u001b[0m \u001b[43m    \u001b[49m\u001b[43mmemory_map\u001b[49m\u001b[38;5;241;43m=\u001b[39;49m\u001b[38;5;28;43mself\u001b[39;49m\u001b[38;5;241;43m.\u001b[39;49m\u001b[43moptions\u001b[49m\u001b[38;5;241;43m.\u001b[39;49m\u001b[43mget\u001b[49m\u001b[43m(\u001b[49m\u001b[38;5;124;43m\"\u001b[39;49m\u001b[38;5;124;43mmemory_map\u001b[39;49m\u001b[38;5;124;43m\"\u001b[39;49m\u001b[43m,\u001b[49m\u001b[43m \u001b[49m\u001b[38;5;28;43;01mFalse\u001b[39;49;00m\u001b[43m)\u001b[49m\u001b[43m,\u001b[49m\n\u001b[1;32m   1741\u001b[0m \u001b[43m    \u001b[49m\u001b[43mis_text\u001b[49m\u001b[38;5;241;43m=\u001b[39;49m\u001b[43mis_text\u001b[49m\u001b[43m,\u001b[49m\n\u001b[1;32m   1742\u001b[0m \u001b[43m    \u001b[49m\u001b[43merrors\u001b[49m\u001b[38;5;241;43m=\u001b[39;49m\u001b[38;5;28;43mself\u001b[39;49m\u001b[38;5;241;43m.\u001b[39;49m\u001b[43moptions\u001b[49m\u001b[38;5;241;43m.\u001b[39;49m\u001b[43mget\u001b[49m\u001b[43m(\u001b[49m\u001b[38;5;124;43m\"\u001b[39;49m\u001b[38;5;124;43mencoding_errors\u001b[39;49m\u001b[38;5;124;43m\"\u001b[39;49m\u001b[43m,\u001b[49m\u001b[43m \u001b[49m\u001b[38;5;124;43m\"\u001b[39;49m\u001b[38;5;124;43mstrict\u001b[39;49m\u001b[38;5;124;43m\"\u001b[39;49m\u001b[43m)\u001b[49m\u001b[43m,\u001b[49m\n\u001b[1;32m   1743\u001b[0m \u001b[43m    \u001b[49m\u001b[43mstorage_options\u001b[49m\u001b[38;5;241;43m=\u001b[39;49m\u001b[38;5;28;43mself\u001b[39;49m\u001b[38;5;241;43m.\u001b[39;49m\u001b[43moptions\u001b[49m\u001b[38;5;241;43m.\u001b[39;49m\u001b[43mget\u001b[49m\u001b[43m(\u001b[49m\u001b[38;5;124;43m\"\u001b[39;49m\u001b[38;5;124;43mstorage_options\u001b[39;49m\u001b[38;5;124;43m\"\u001b[39;49m\u001b[43m,\u001b[49m\u001b[43m \u001b[49m\u001b[38;5;28;43;01mNone\u001b[39;49;00m\u001b[43m)\u001b[49m\u001b[43m,\u001b[49m\n\u001b[1;32m   1744\u001b[0m \u001b[43m\u001b[49m\u001b[43m)\u001b[49m\n\u001b[1;32m   1745\u001b[0m \u001b[38;5;28;01massert\u001b[39;00m \u001b[38;5;28mself\u001b[39m\u001b[38;5;241m.\u001b[39mhandles \u001b[38;5;129;01mis\u001b[39;00m \u001b[38;5;129;01mnot\u001b[39;00m \u001b[38;5;28;01mNone\u001b[39;00m\n\u001b[1;32m   1746\u001b[0m f \u001b[38;5;241m=\u001b[39m \u001b[38;5;28mself\u001b[39m\u001b[38;5;241m.\u001b[39mhandles\u001b[38;5;241m.\u001b[39mhandle\n",
      "File \u001b[0;32m/usr/local/lib/python3.10/site-packages/pandas/io/common.py:856\u001b[0m, in \u001b[0;36mget_handle\u001b[0;34m(path_or_buf, mode, encoding, compression, memory_map, is_text, errors, storage_options)\u001b[0m\n\u001b[1;32m    851\u001b[0m \u001b[38;5;28;01melif\u001b[39;00m \u001b[38;5;28misinstance\u001b[39m(handle, \u001b[38;5;28mstr\u001b[39m):\n\u001b[1;32m    852\u001b[0m     \u001b[38;5;66;03m# Check whether the filename is to be opened in binary mode.\u001b[39;00m\n\u001b[1;32m    853\u001b[0m     \u001b[38;5;66;03m# Binary mode does not support 'encoding' and 'newline'.\u001b[39;00m\n\u001b[1;32m    854\u001b[0m     \u001b[38;5;28;01mif\u001b[39;00m ioargs\u001b[38;5;241m.\u001b[39mencoding \u001b[38;5;129;01mand\u001b[39;00m \u001b[38;5;124m\"\u001b[39m\u001b[38;5;124mb\u001b[39m\u001b[38;5;124m\"\u001b[39m \u001b[38;5;129;01mnot\u001b[39;00m \u001b[38;5;129;01min\u001b[39;00m ioargs\u001b[38;5;241m.\u001b[39mmode:\n\u001b[1;32m    855\u001b[0m         \u001b[38;5;66;03m# Encoding\u001b[39;00m\n\u001b[0;32m--> 856\u001b[0m         handle \u001b[38;5;241m=\u001b[39m \u001b[38;5;28;43mopen\u001b[39;49m\u001b[43m(\u001b[49m\n\u001b[1;32m    857\u001b[0m \u001b[43m            \u001b[49m\u001b[43mhandle\u001b[49m\u001b[43m,\u001b[49m\n\u001b[1;32m    858\u001b[0m \u001b[43m            \u001b[49m\u001b[43mioargs\u001b[49m\u001b[38;5;241;43m.\u001b[39;49m\u001b[43mmode\u001b[49m\u001b[43m,\u001b[49m\n\u001b[1;32m    859\u001b[0m \u001b[43m            \u001b[49m\u001b[43mencoding\u001b[49m\u001b[38;5;241;43m=\u001b[39;49m\u001b[43mioargs\u001b[49m\u001b[38;5;241;43m.\u001b[39;49m\u001b[43mencoding\u001b[49m\u001b[43m,\u001b[49m\n\u001b[1;32m    860\u001b[0m \u001b[43m            \u001b[49m\u001b[43merrors\u001b[49m\u001b[38;5;241;43m=\u001b[39;49m\u001b[43merrors\u001b[49m\u001b[43m,\u001b[49m\n\u001b[1;32m    861\u001b[0m \u001b[43m            \u001b[49m\u001b[43mnewline\u001b[49m\u001b[38;5;241;43m=\u001b[39;49m\u001b[38;5;124;43m\"\u001b[39;49m\u001b[38;5;124;43m\"\u001b[39;49m\u001b[43m,\u001b[49m\n\u001b[1;32m    862\u001b[0m \u001b[43m        \u001b[49m\u001b[43m)\u001b[49m\n\u001b[1;32m    863\u001b[0m     \u001b[38;5;28;01melse\u001b[39;00m:\n\u001b[1;32m    864\u001b[0m         \u001b[38;5;66;03m# Binary mode\u001b[39;00m\n\u001b[1;32m    865\u001b[0m         handle \u001b[38;5;241m=\u001b[39m \u001b[38;5;28mopen\u001b[39m(handle, ioargs\u001b[38;5;241m.\u001b[39mmode)\n",
      "\u001b[0;31mFileNotFoundError\u001b[0m: [Errno 2] No such file or directory: 'sample_data/census-ageincome-joint-small.csv'"
     ]
    }
   ],
   "source": [
    "us_census = pd.read_csv(\"sample_data/census-ageincome-joint-small.csv\", index_col=0).astype(int)\n",
    "census_density = (1./us_census.sum().sum())*us_census\n",
    "n_age, n_inc = us_census.shape"
   ]
  },
  {
   "cell_type": "code",
   "execution_count": null,
   "metadata": {
    "id": "CSo8xEvdLHOI"
   },
   "outputs": [],
   "source": [
    "def draw_from_census(n:int, normalize:bool=True) -> pd.DataFrame:\n",
    "    census_distr = multinomial(n=1, p=census_density.to_numpy().flatten())\n",
    "    census_draws = census_distr.rvs(n)\n",
    "    dem_ids = np.array([np.argwhere(census_draws[k,:].reshape(n_age, n_inc))[0] for k in range(census_draws.shape[0])]).astype(float)\n",
    "    if normalize:\n",
    "        dem_ids[:,0] = dem_ids[:,0]/(n_age-1)\n",
    "        dem_ids[:,1] = dem_ids[:,1]/(n_inc-1)\n",
    "    return pd.DataFrame.from_dict({'age': dem_ids[:,0], 'income': dem_ids[:,1]})\n",
    "\n",
    "def draw_from_normal(n: int) -> pd.DataFrame:\n",
    "    return pd.DataFrame.from_dict({'age': norm.rvs(loc=0, scale=1, size=n), 'income': norm.rvs(loc=0, scale=1, size=n)})\n",
    "\n",
    "def simulate_consumers(n:int=500, scale:float=1, sample_demographics:str='norm') -> pd.DataFrame:\n",
    "    cons_df = pd.Series(data=gumbel_r.rvs(scale=scale, size=n), name='eps')\n",
    "    if sample_demographics=='norm':\n",
    "        demographics = draw_from_normal(n)\n",
    "    elif sample_demographics=='census':\n",
    "        demographics = draw_from_census(n)\n",
    "    cons_df = pd.concat([cons_df, demographics], axis=1)\n",
    "    return cons_df"
   ]
  },
  {
   "cell_type": "code",
   "execution_count": null,
   "metadata": {
    "id": "l1cVd61KNmHp"
   },
   "outputs": [],
   "source": [
    "cons = simulate_consumers(n=100)"
   ]
  },
  {
   "cell_type": "code",
   "execution_count": null,
   "metadata": {
    "id": "d3Llt-3TNmHp"
   },
   "outputs": [],
   "source": [
    "def MC_share_estimation(delta_est:pd.Series, mu_est:pd.DataFrame):\n",
    "    \"\"\"\n",
    "    Implements a Monte-Carlo estimator of sigma_{jt}\n",
    "    delta_est must be a Series indexed by the same MultiIndex((cdid,prodid)) as df\n",
    "    \"\"\"\n",
    "    # assert_index_equal(delta_est.index, mu_est.index)\n",
    "\n",
    "    normlzr = 1 + np.exp(mu_est.add(delta_est, axis='index')).groupby(by='mktid').sum()\n",
    "    return np.exp(mu_est.add(delta_est, axis='index')).divide(\n",
    "        normlzr,\n",
    "        axis='index'\n",
    "    ).mean(axis=1)\n",
    "\n",
    "\n",
    "class NFP(GMM):\n",
    "    \"\"\"\n",
    "    Implements the nested fixed-point method\n",
    "    Arguments:\n",
    "        mkt_df: pd.DataFrame at the mkt*prod*firm level containing data, including instruments to be used for 2SLS\n",
    "        cons: pd.DataFrame containing consumer data\n",
    "        instruments: list of field names from mkt_df to use as instruments in the 2SLS process\n",
    "        theta2_0: initial guess of theta2\n",
    "        tol_fp: tolerance on the variation on mean variation used to stop the fixed-point iteration\n",
    "        tol_ol: tolerance on the variation of theta=(theta1, theta2) used to stop the outer-loop of the algorithm\n",
    "    Returns:\n",
    "        theta_1: np.array\n",
    "        theta_2: np.array\n",
    "        dmd_s\n",
    "    \"\"\"\n",
    "    def __init__(self, mkt_df: pd.DataFrame, cons: pd.DataFrame, instruments: list, tol_fp: float=1e-6, tol_gmm: float=1e-6, verbose=False):\n",
    "        endog = mkt_df[\"log_share\"]\n",
    "        exog = mkt_df[[\"price\", \"xvar\"]]\n",
    "        instrument = mkt_df[instruments + [\"xvar\"]]\n",
    "        super(NFP,self).__init__(endog, exog, instrument, k_moms=2+len(instruments), k_params=2)\n",
    "        self.mkt_data = mkt_df.copy()\n",
    "        self.cons_data  = cons.copy()\n",
    "        self.tol_fp = tol_fp\n",
    "        self.xtol = [tol_gmm, tol_gmm]\n",
    "\n",
    "        self.X = sm_.add_constant(self.mkt_data[[\"price\", \"xvar\"]])\n",
    "        self.instrument_list = instruments\n",
    "        self.Z = sm_.add_constant(self.mkt_data[self.instrument_list + [\"xvar\"]])\n",
    "\n",
    "        # Compute weighting matrix\n",
    "        self.inv_weights = np.dot(self.Z.T,self.Z)\n",
    "\n",
    "        self.verbose = verbose\n",
    "\n",
    "    def mean_val_guess(self, instrument='wvar'):\n",
    "        \"\"\"\n",
    "        Returns a pd.Series at the scale of mkt*prod (no firms!)\n",
    "        \"\"\"\n",
    "        delta_est = {}\n",
    "        for mktprod, df_mktprod in self.mkt_data.groupby(by=['mktid', 'prodid']):\n",
    "            #logit_2sls0 = run_2SLS(df_mktprod, [\"wvar\"])\n",
    "            logit_ols0 = sm.ols(formula=\"log_share ~ price + xvar\", data=df).fit()\n",
    "            constant, alpha, beta = logit_ols0.params\n",
    "            #alpha, beta = IV2SLS(endog=df_mktprod[\"log_share\"], exog=df_mktprod[[\"price\", \"xvar\"]], instrument=df_mktprod[[instrument, \"xvar\"]]).fit()\n",
    "            delta_est[mktprod] = (constant+alpha*df_mktprod[\"price\"]+beta*df_mktprod[\"xvar\"]).iloc[0]\n",
    "        return pd.Series(delta_est).rename_axis(index=['mktid', 'prodid'])\n",
    "\n",
    "    def idiosyncratic_coefs(self, theta2: np.array):\n",
    "        \"\"\"Computes Pi*D\"\"\"\n",
    "        Pi = np.array([[theta2[0],0],[0,0],[0,theta2[1]]])\n",
    "        return np.dot(self.cons_data[['age','income']].to_numpy(), Pi.T)\n",
    "\n",
    "    def idiosyncratic_valuations(self, theta2: np.array):\n",
    "        is_val_est = self.idiosyncratic_coefs(theta2)\n",
    "        cust_vals = np.dot(self.X.to_numpy(),is_val_est.T)\n",
    "        return pd.DataFrame(cust_vals, index=self.mkt_data.index, columns=[\"cust{0:d}\".format(k) for k in range(is_val_est.shape[0])])\n",
    "\n",
    "    def NFP_contr_map(self, expdel, is_vals):\n",
    "        return expdel*self.mkt_data[\"share\"]/MC_share_estimation(np.log(expdel), is_vals)\n",
    "\n",
    "    def est_delta(self, delta0:pd.Series, is_vals:pd.DataFrame, tol:float=1e-6):\n",
    "        \"\"\"\n",
    "        Iterates the contraction mapping until the error between shares and share estimates\n",
    "        is smaller than tol, for the standard euclidean distance, with the sampling measure.\n",
    "        \"\"\"\n",
    "        assert tol>0\n",
    "        expdel = delta0.apply(np.exp)\n",
    "\n",
    "        while True:\n",
    "            expdel_next = self.NFP_contr_map(expdel, is_vals)\n",
    "            err = np.linalg.norm(expdel_next - expdel, np.Inf)\n",
    "            if err < tol:\n",
    "                break\n",
    "            expdel = expdel_next\n",
    "\n",
    "        return np.log(expdel)\n",
    "\n",
    "    def momcond(self, theta2: np.array):\n",
    "        \"\"\"\n",
    "        Generates the empirical loss corresponding to the outer-loop GMM\n",
    "        of the Nested-Fixed Point algorithm\n",
    "        Arguments:\n",
    "            theta_2: estimated value of idiosyncratic valuation parameters\n",
    "        Returns:\n",
    "            1. Empirical loss on moment conditions\n",
    "            2. Estimation of coefficients for the mean valuation\n",
    "            3. Estimation of demand shifters\n",
    "        \"\"\"\n",
    "        if self.verbose:\n",
    "            print(\"momcond evaluation at theta2=({0:.2e},{1:.2e})\".format(theta2[0], theta2[1]))\n",
    "        # 1. From an estimate of theta2, recover the idiosyncratic valuations\n",
    "        is_vals = self.idiosyncratic_valuations(theta2)\n",
    "\n",
    "        # 2. From an initial guess of mean valuations from a \"Step 0\" IV, call the Fixed-Point procedure\n",
    "        # until convergence to estimate mean valuations delta\n",
    "        if hasattr(self, \"delta\"):\n",
    "            delta0 = self.delta\n",
    "        else:\n",
    "            delta0 = self.mean_val_guess()\n",
    "        self.delta = self.est_delta(delta0, is_vals, tol=self.tol_fp)\n",
    "\n",
    "        # 3. Use 2SLS to estimate theta1\n",
    "        tsls = IV2SLS(endog=self.delta, exog=self.X, instrument=self.Z).fit()\n",
    "        self.theta1_est = tsls.params\n",
    "        self.dmd_shifters = tsls.resid\n",
    "\n",
    "        #4. Recover empirical loss function\n",
    "        self.moms = np.dot(self.Z.T, self.dmd_shifters.T).reshape([1,self.nmoms])\n",
    "        return self.moms\n",
    "    \n",
    "    def fit(self, *args, **kwargs):\n",
    "        gmmres = super(NFP, self).fit(*args,inv_weights=self.inv_weights,**kwargs)\n",
    "        results = {\n",
    "            'theta1_est': self.theta1_est,\n",
    "            'theta2_est': gmmres.params,\n",
    "            'dmdshift_est': self.dmd_shifters,\n",
    "            'mu_est': self.idiosyncratic_valuations(gmmres.params),\n",
    "            'delta_est': self.delta,\n",
    "            'moms': self.moms,\n",
    "        }\n",
    "        return results\n",
    "    "
   ]
  },
  {
   "cell_type": "code",
   "execution_count": null,
   "metadata": {
    "colab": {
     "base_uri": "https://localhost:8080/"
    },
    "id": "7W1-2jh9OQmM",
    "outputId": "9ec6285c-d5ec-4b66-a651-edb3e44410c8"
   },
   "outputs": [],
   "source": [
    "nfp = NFP(df, cons, instruments=[\"hausman_iv\", \"diff_iv\", \"diff_iv_prodband0\", \"diff_iv_prodband1\", \"diff_iv_prodband2\", \"wvar\"], tol_fp=1e-4)\n",
    "theta2_0=np.random.rand(1,2)"
   ]
  },
  {
   "cell_type": "code",
   "execution_count": null,
   "metadata": {
    "colab": {
     "base_uri": "https://localhost:8080/",
     "height": 329
    },
    "id": "_2A4LmzbUyop",
    "outputId": "40943179-296e-47e3-d986-04b5beecb6e6"
   },
   "outputs": [],
   "source": [
    "nfp.verbose = False\n",
    "nfp_res = nfp.fit(theta2_0, optim_method=\"nm\", maxiter=0)"
   ]
  },
  {
   "cell_type": "code",
   "execution_count": null,
   "metadata": {
    "id": "iROZynw6OQoe"
   },
   "outputs": [],
   "source": [
    "nfp_res"
   ]
  },
  {
   "cell_type": "code",
   "execution_count": null,
   "metadata": {
    "id": "DtBTUWKrOQrT"
   },
   "outputs": [],
   "source": []
  },
  {
   "cell_type": "code",
   "execution_count": null,
   "metadata": {
    "id": "0vx091x3OQtb"
   },
   "outputs": [],
   "source": []
  },
  {
   "cell_type": "code",
   "execution_count": null,
   "metadata": {
    "id": "djYL-TTkOQvj"
   },
   "outputs": [],
   "source": []
  },
  {
   "cell_type": "code",
   "execution_count": null,
   "metadata": {
    "id": "UKJBo-zyOQxz"
   },
   "outputs": [],
   "source": []
  },
  {
   "cell_type": "code",
   "execution_count": null,
   "metadata": {
    "id": "ubz1pFbkOQ_Q"
   },
   "outputs": [],
   "source": []
  },
  {
   "cell_type": "code",
   "execution_count": null,
   "metadata": {
    "id": "aF0mtnrHORCF"
   },
   "outputs": [],
   "source": []
  },
  {
   "cell_type": "code",
   "execution_count": null,
   "metadata": {
    "id": "EIGOwA-SOREc"
   },
   "outputs": [],
   "source": []
  },
  {
   "cell_type": "code",
   "execution_count": null,
   "metadata": {
    "id": "-c4WSFHvOUPr"
   },
   "outputs": [],
   "source": []
  },
  {
   "cell_type": "markdown",
   "metadata": {
    "id": "I3cU1VOeMYAX"
   },
   "source": [
    "## Supply Side Inference"
   ]
  },
  {
   "cell_type": "code",
   "execution_count": null,
   "metadata": {
    "colab": {
     "base_uri": "https://localhost:8080/",
     "height": 319
    },
    "id": "pbq7uRvIOIun",
    "outputId": "1b0070e4-6d66-4d6b-f835-366d126dc93a"
   },
   "outputs": [
    {
     "name": "stdout",
     "output_type": "stream",
     "text": [
      "6\n"
     ]
    },
    {
     "data": {
      "text/html": [
       "\n",
       "  <div id=\"df-deff3649-c7b1-42f9-a9e3-2e859b472642\">\n",
       "    <div class=\"colab-df-container\">\n",
       "      <div>\n",
       "<style scoped>\n",
       "    .dataframe tbody tr th:only-of-type {\n",
       "        vertical-align: middle;\n",
       "    }\n",
       "\n",
       "    .dataframe tbody tr th {\n",
       "        vertical-align: top;\n",
       "    }\n",
       "\n",
       "    .dataframe thead tr th {\n",
       "        text-align: left;\n",
       "    }\n",
       "\n",
       "    .dataframe thead tr:last-of-type th {\n",
       "        text-align: right;\n",
       "    }\n",
       "</style>\n",
       "<table border=\"1\" class=\"dataframe\">\n",
       "  <thead>\n",
       "    <tr>\n",
       "      <th></th>\n",
       "      <th>firmid</th>\n",
       "      <th colspan=\"3\" halign=\"left\">1</th>\n",
       "      <th colspan=\"3\" halign=\"left\">2</th>\n",
       "    </tr>\n",
       "    <tr>\n",
       "      <th></th>\n",
       "      <th>prodid</th>\n",
       "      <th>1</th>\n",
       "      <th>2</th>\n",
       "      <th>3</th>\n",
       "      <th>6</th>\n",
       "      <th>7</th>\n",
       "      <th>8</th>\n",
       "    </tr>\n",
       "    <tr>\n",
       "      <th>firmid</th>\n",
       "      <th>prodid</th>\n",
       "      <th></th>\n",
       "      <th></th>\n",
       "      <th></th>\n",
       "      <th></th>\n",
       "      <th></th>\n",
       "      <th></th>\n",
       "    </tr>\n",
       "  </thead>\n",
       "  <tbody>\n",
       "    <tr>\n",
       "      <th rowspan=\"3\" valign=\"top\">1</th>\n",
       "      <th>1</th>\n",
       "      <td>-10.728490</td>\n",
       "      <td>3.816719</td>\n",
       "      <td>0.001702</td>\n",
       "      <td>0.126995</td>\n",
       "      <td>0.005344</td>\n",
       "      <td>0.559493</td>\n",
       "    </tr>\n",
       "    <tr>\n",
       "      <th>2</th>\n",
       "      <td>0.046603</td>\n",
       "      <td>-3.580804</td>\n",
       "      <td>0.001702</td>\n",
       "      <td>0.126995</td>\n",
       "      <td>0.005344</td>\n",
       "      <td>0.559493</td>\n",
       "    </tr>\n",
       "    <tr>\n",
       "      <th>3</th>\n",
       "      <td>0.046603</td>\n",
       "      <td>3.816719</td>\n",
       "      <td>-14.731987</td>\n",
       "      <td>0.126995</td>\n",
       "      <td>0.005344</td>\n",
       "      <td>0.559493</td>\n",
       "    </tr>\n",
       "    <tr>\n",
       "      <th rowspan=\"3\" valign=\"top\">2</th>\n",
       "      <th>6</th>\n",
       "      <td>0.046603</td>\n",
       "      <td>3.816719</td>\n",
       "      <td>0.001702</td>\n",
       "      <td>-9.918915</td>\n",
       "      <td>0.005344</td>\n",
       "      <td>0.559493</td>\n",
       "    </tr>\n",
       "    <tr>\n",
       "      <th>7</th>\n",
       "      <td>0.046603</td>\n",
       "      <td>3.816719</td>\n",
       "      <td>0.001702</td>\n",
       "      <td>0.126995</td>\n",
       "      <td>-14.682552</td>\n",
       "      <td>0.559493</td>\n",
       "    </tr>\n",
       "    <tr>\n",
       "      <th>8</th>\n",
       "      <td>0.046603</td>\n",
       "      <td>3.816719</td>\n",
       "      <td>0.001702</td>\n",
       "      <td>0.126995</td>\n",
       "      <td>0.005344</td>\n",
       "      <td>-8.421256</td>\n",
       "    </tr>\n",
       "  </tbody>\n",
       "</table>\n",
       "</div>\n",
       "      <button class=\"colab-df-convert\" onclick=\"convertToInteractive('df-deff3649-c7b1-42f9-a9e3-2e859b472642')\"\n",
       "              title=\"Convert this dataframe to an interactive table.\"\n",
       "              style=\"display:none;\">\n",
       "        \n",
       "  <svg xmlns=\"http://www.w3.org/2000/svg\" height=\"24px\"viewBox=\"0 0 24 24\"\n",
       "       width=\"24px\">\n",
       "    <path d=\"M0 0h24v24H0V0z\" fill=\"none\"/>\n",
       "    <path d=\"M18.56 5.44l.94 2.06.94-2.06 2.06-.94-2.06-.94-.94-2.06-.94 2.06-2.06.94zm-11 1L8.5 8.5l.94-2.06 2.06-.94-2.06-.94L8.5 2.5l-.94 2.06-2.06.94zm10 10l.94 2.06.94-2.06 2.06-.94-2.06-.94-.94-2.06-.94 2.06-2.06.94z\"/><path d=\"M17.41 7.96l-1.37-1.37c-.4-.4-.92-.59-1.43-.59-.52 0-1.04.2-1.43.59L10.3 9.45l-7.72 7.72c-.78.78-.78 2.05 0 2.83L4 21.41c.39.39.9.59 1.41.59.51 0 1.02-.2 1.41-.59l7.78-7.78 2.81-2.81c.8-.78.8-2.07 0-2.86zM5.41 20L4 18.59l7.72-7.72 1.47 1.35L5.41 20z\"/>\n",
       "  </svg>\n",
       "      </button>\n",
       "      \n",
       "  <style>\n",
       "    .colab-df-container {\n",
       "      display:flex;\n",
       "      flex-wrap:wrap;\n",
       "      gap: 12px;\n",
       "    }\n",
       "\n",
       "    .colab-df-convert {\n",
       "      background-color: #E8F0FE;\n",
       "      border: none;\n",
       "      border-radius: 50%;\n",
       "      cursor: pointer;\n",
       "      display: none;\n",
       "      fill: #1967D2;\n",
       "      height: 32px;\n",
       "      padding: 0 0 0 0;\n",
       "      width: 32px;\n",
       "    }\n",
       "\n",
       "    .colab-df-convert:hover {\n",
       "      background-color: #E2EBFA;\n",
       "      box-shadow: 0px 1px 2px rgba(60, 64, 67, 0.3), 0px 1px 3px 1px rgba(60, 64, 67, 0.15);\n",
       "      fill: #174EA6;\n",
       "    }\n",
       "\n",
       "    [theme=dark] .colab-df-convert {\n",
       "      background-color: #3B4455;\n",
       "      fill: #D2E3FC;\n",
       "    }\n",
       "\n",
       "    [theme=dark] .colab-df-convert:hover {\n",
       "      background-color: #434B5C;\n",
       "      box-shadow: 0px 1px 3px 1px rgba(0, 0, 0, 0.15);\n",
       "      filter: drop-shadow(0px 1px 2px rgba(0, 0, 0, 0.3));\n",
       "      fill: #FFFFFF;\n",
       "    }\n",
       "  </style>\n",
       "\n",
       "      <script>\n",
       "        const buttonEl =\n",
       "          document.querySelector('#df-deff3649-c7b1-42f9-a9e3-2e859b472642 button.colab-df-convert');\n",
       "        buttonEl.style.display =\n",
       "          google.colab.kernel.accessAllowed ? 'block' : 'none';\n",
       "\n",
       "        async function convertToInteractive(key) {\n",
       "          const element = document.querySelector('#df-deff3649-c7b1-42f9-a9e3-2e859b472642');\n",
       "          const dataTable =\n",
       "            await google.colab.kernel.invokeFunction('convertToInteractive',\n",
       "                                                     [key], {});\n",
       "          if (!dataTable) return;\n",
       "\n",
       "          const docLinkHtml = 'Like what you see? Visit the ' +\n",
       "            '<a target=\"_blank\" href=https://colab.research.google.com/notebooks/data_table.ipynb>data table notebook</a>'\n",
       "            + ' to learn more about interactive tables.';\n",
       "          element.innerHTML = '';\n",
       "          dataTable['output_type'] = 'display_data';\n",
       "          await google.colab.output.renderOutput(dataTable, element);\n",
       "          const docLink = document.createElement('div');\n",
       "          docLink.innerHTML = docLinkHtml;\n",
       "          element.appendChild(docLink);\n",
       "        }\n",
       "      </script>\n",
       "    </div>\n",
       "  </div>\n",
       "  "
      ],
      "text/plain": [
       "firmid                 1                              2                     \n",
       "prodid                 1         2          3         6          7         8\n",
       "firmid prodid                                                               \n",
       "1      1      -10.728490  3.816719   0.001702  0.126995   0.005344  0.559493\n",
       "       2        0.046603 -3.580804   0.001702  0.126995   0.005344  0.559493\n",
       "       3        0.046603  3.816719 -14.731987  0.126995   0.005344  0.559493\n",
       "2      6        0.046603  3.816719   0.001702 -9.918915   0.005344  0.559493\n",
       "       7        0.046603  3.816719   0.001702  0.126995 -14.682552  0.559493\n",
       "       8        0.046603  3.816719   0.001702  0.126995   0.005344 -8.421256"
      ]
     },
     "execution_count": 36,
     "metadata": {},
     "output_type": "execute_result"
    }
   ],
   "source": [
    "get_logit_elasticities(4)"
   ]
  },
  {
   "cell_type": "code",
   "execution_count": null,
   "metadata": {
    "colab": {
     "base_uri": "https://localhost:8080/"
    },
    "id": "wdtaM90nzaLq",
    "outputId": "e9ce423f-1da9-41b5-e335-4155f8da5686"
   },
   "outputs": [
    {
     "name": "stdout",
     "output_type": "stream",
     "text": [
      "7\n"
     ]
    }
   ],
   "source": [
    "# export elasticities (question 12)\n",
    "matrix_elasticities = get_logit_elasticities(4)\n",
    "\n",
    "with open('table_12.tex','w') as tf:\n",
    "    tf.write(matrix_elasticities.to_latex())\n",
    "    tf.close()"
   ]
  },
  {
   "cell_type": "markdown",
   "metadata": {
    "id": "ZSGIUNbnNXJ2"
   },
   "source": [
    "### Marginal Costs"
   ]
  },
  {
   "cell_type": "code",
   "execution_count": null,
   "metadata": {
    "colab": {
     "base_uri": "https://localhost:8080/"
    },
    "id": "NgirXfNJNUPk",
    "outputId": "1889ceb1-c2ec-4576-f6b1-338de38a8280"
   },
   "outputs": [
    {
     "name": "stdout",
     "output_type": "stream",
     "text": [
      "7\n"
     ]
    },
    {
     "data": {
      "text/plain": [
       "array([[1., 0., 0., 0., 0., 0., 0.],\n",
       "       [0., 1., 1., 0., 0., 0., 0.],\n",
       "       [0., 1., 1., 0., 0., 0., 0.],\n",
       "       [0., 0., 0., 1., 0., 0., 0.],\n",
       "       [0., 0., 0., 0., 1., 1., 1.],\n",
       "       [0., 0., 0., 0., 1., 1., 1.],\n",
       "       [0., 0., 0., 0., 1., 1., 1.]])"
      ]
     },
     "execution_count": 38,
     "metadata": {},
     "output_type": "execute_result"
    }
   ],
   "source": [
    "def ownership(mktid):\n",
    "    \"input: market id, demand derivative matrix\"\n",
    "    \"output: ownership matrix\"\n",
    "    dqdp = get_logit_elasticities(mktid)\n",
    "    dqdp = dqdp.reset_index()\n",
    "    F = dqdp.firmid.unique()\n",
    "    J = dqdp.prodid.unique()\n",
    "    Ω = np.zeros((len(J),len(J)))\n",
    "    for ji,j in enumerate(J):\n",
    "        for ki,k in enumerate(J):\n",
    "            if dqdp[dqdp.prodid==j].firmid.item() == dqdp[dqdp.prodid==k].firmid.item(): \n",
    "                Ω[ji,ki] = 1\n",
    "    return Ω\n",
    "ownership(1)"
   ]
  },
  {
   "cell_type": "code",
   "execution_count": null,
   "metadata": {
    "colab": {
     "base_uri": "https://localhost:8080/",
     "height": 972
    },
    "id": "UKH7TgWmMaJn",
    "outputId": "bd980c50-f6c2-48c6-861f-557f7e1f7263"
   },
   "outputs": [
    {
     "name": "stdout",
     "output_type": "stream",
     "text": [
      "7\n",
      "7\n",
      "7\n",
      "7\n",
      "7\n",
      "7\n",
      "11\n",
      "11\n",
      "11\n",
      "11\n",
      "8\n",
      "8\n",
      "6\n",
      "6\n",
      "12\n",
      "12\n",
      "10\n",
      "10\n",
      "10\n",
      "10\n",
      "10\n",
      "10\n",
      "9\n",
      "9\n",
      "6\n",
      "6\n",
      "11\n",
      "11\n",
      "11\n",
      "11\n",
      "11\n",
      "11\n",
      "9\n",
      "9\n",
      "8\n",
      "8\n",
      "12\n",
      "12\n",
      "6\n",
      "6\n"
     ]
    },
    {
     "data": {
      "text/html": [
       "\n",
       "  <div id=\"df-d2cbe803-361f-449b-878b-f009bfb0e85d\">\n",
       "    <div class=\"colab-df-container\">\n",
       "      <div>\n",
       "<style scoped>\n",
       "    .dataframe tbody tr th:only-of-type {\n",
       "        vertical-align: middle;\n",
       "    }\n",
       "\n",
       "    .dataframe tbody tr th {\n",
       "        vertical-align: top;\n",
       "    }\n",
       "\n",
       "    .dataframe thead th {\n",
       "        text-align: right;\n",
       "    }\n",
       "</style>\n",
       "<table border=\"1\" class=\"dataframe\">\n",
       "  <thead>\n",
       "    <tr style=\"text-align: right;\">\n",
       "      <th></th>\n",
       "      <th></th>\n",
       "      <th></th>\n",
       "      <th>price</th>\n",
       "      <th>share</th>\n",
       "      <th>xvar</th>\n",
       "      <th>wvar</th>\n",
       "      <th>log_share</th>\n",
       "      <th>hausman_iv</th>\n",
       "      <th>mc</th>\n",
       "    </tr>\n",
       "    <tr>\n",
       "      <th>prodid</th>\n",
       "      <th>firmid</th>\n",
       "      <th>mktid</th>\n",
       "      <th></th>\n",
       "      <th></th>\n",
       "      <th></th>\n",
       "      <th></th>\n",
       "      <th></th>\n",
       "      <th></th>\n",
       "      <th></th>\n",
       "    </tr>\n",
       "  </thead>\n",
       "  <tbody>\n",
       "    <tr>\n",
       "      <th>5</th>\n",
       "      <th>1</th>\n",
       "      <th>1</th>\n",
       "      <td>2.606675</td>\n",
       "      <td>0.227237</td>\n",
       "      <td>2.202134</td>\n",
       "      <td>-0.273457</td>\n",
       "      <td>-1.481762</td>\n",
       "      <td>2.997245</td>\n",
       "      <td>2.565374</td>\n",
       "    </tr>\n",
       "    <tr>\n",
       "      <th>7</th>\n",
       "      <th>2</th>\n",
       "      <th>1</th>\n",
       "      <td>3.783296</td>\n",
       "      <td>0.015946</td>\n",
       "      <td>2.755761</td>\n",
       "      <td>0.164740</td>\n",
       "      <td>-4.138520</td>\n",
       "      <td>3.950095</td>\n",
       "      <td>3.781216</td>\n",
       "    </tr>\n",
       "    <tr>\n",
       "      <th>8</th>\n",
       "      <th>2</th>\n",
       "      <th>1</th>\n",
       "      <td>2.498175</td>\n",
       "      <td>0.175231</td>\n",
       "      <td>1.952670</td>\n",
       "      <td>-0.370695</td>\n",
       "      <td>-1.741651</td>\n",
       "      <td>2.964054</td>\n",
       "      <td>2.466597</td>\n",
       "    </tr>\n",
       "    <tr>\n",
       "      <th>14</th>\n",
       "      <th>3</th>\n",
       "      <th>1</th>\n",
       "      <td>2.396051</td>\n",
       "      <td>0.149334</td>\n",
       "      <td>1.860606</td>\n",
       "      <td>-0.561297</td>\n",
       "      <td>-1.901567</td>\n",
       "      <td>3.679174</td>\n",
       "      <td>2.369228</td>\n",
       "    </tr>\n",
       "    <tr>\n",
       "      <th>16</th>\n",
       "      <th>4</th>\n",
       "      <th>1</th>\n",
       "      <td>2.683033</td>\n",
       "      <td>0.179254</td>\n",
       "      <td>2.317975</td>\n",
       "      <td>-0.640421</td>\n",
       "      <td>-1.718950</td>\n",
       "      <td>3.114423</td>\n",
       "      <td>2.649777</td>\n",
       "    </tr>\n",
       "  </tbody>\n",
       "</table>\n",
       "</div>\n",
       "      <button class=\"colab-df-convert\" onclick=\"convertToInteractive('df-d2cbe803-361f-449b-878b-f009bfb0e85d')\"\n",
       "              title=\"Convert this dataframe to an interactive table.\"\n",
       "              style=\"display:none;\">\n",
       "        \n",
       "  <svg xmlns=\"http://www.w3.org/2000/svg\" height=\"24px\"viewBox=\"0 0 24 24\"\n",
       "       width=\"24px\">\n",
       "    <path d=\"M0 0h24v24H0V0z\" fill=\"none\"/>\n",
       "    <path d=\"M18.56 5.44l.94 2.06.94-2.06 2.06-.94-2.06-.94-.94-2.06-.94 2.06-2.06.94zm-11 1L8.5 8.5l.94-2.06 2.06-.94-2.06-.94L8.5 2.5l-.94 2.06-2.06.94zm10 10l.94 2.06.94-2.06 2.06-.94-2.06-.94-.94-2.06-.94 2.06-2.06.94z\"/><path d=\"M17.41 7.96l-1.37-1.37c-.4-.4-.92-.59-1.43-.59-.52 0-1.04.2-1.43.59L10.3 9.45l-7.72 7.72c-.78.78-.78 2.05 0 2.83L4 21.41c.39.39.9.59 1.41.59.51 0 1.02-.2 1.41-.59l7.78-7.78 2.81-2.81c.8-.78.8-2.07 0-2.86zM5.41 20L4 18.59l7.72-7.72 1.47 1.35L5.41 20z\"/>\n",
       "  </svg>\n",
       "      </button>\n",
       "      \n",
       "  <style>\n",
       "    .colab-df-container {\n",
       "      display:flex;\n",
       "      flex-wrap:wrap;\n",
       "      gap: 12px;\n",
       "    }\n",
       "\n",
       "    .colab-df-convert {\n",
       "      background-color: #E8F0FE;\n",
       "      border: none;\n",
       "      border-radius: 50%;\n",
       "      cursor: pointer;\n",
       "      display: none;\n",
       "      fill: #1967D2;\n",
       "      height: 32px;\n",
       "      padding: 0 0 0 0;\n",
       "      width: 32px;\n",
       "    }\n",
       "\n",
       "    .colab-df-convert:hover {\n",
       "      background-color: #E2EBFA;\n",
       "      box-shadow: 0px 1px 2px rgba(60, 64, 67, 0.3), 0px 1px 3px 1px rgba(60, 64, 67, 0.15);\n",
       "      fill: #174EA6;\n",
       "    }\n",
       "\n",
       "    [theme=dark] .colab-df-convert {\n",
       "      background-color: #3B4455;\n",
       "      fill: #D2E3FC;\n",
       "    }\n",
       "\n",
       "    [theme=dark] .colab-df-convert:hover {\n",
       "      background-color: #434B5C;\n",
       "      box-shadow: 0px 1px 3px 1px rgba(0, 0, 0, 0.15);\n",
       "      filter: drop-shadow(0px 1px 2px rgba(0, 0, 0, 0.3));\n",
       "      fill: #FFFFFF;\n",
       "    }\n",
       "  </style>\n",
       "\n",
       "      <script>\n",
       "        const buttonEl =\n",
       "          document.querySelector('#df-d2cbe803-361f-449b-878b-f009bfb0e85d button.colab-df-convert');\n",
       "        buttonEl.style.display =\n",
       "          google.colab.kernel.accessAllowed ? 'block' : 'none';\n",
       "\n",
       "        async function convertToInteractive(key) {\n",
       "          const element = document.querySelector('#df-d2cbe803-361f-449b-878b-f009bfb0e85d');\n",
       "          const dataTable =\n",
       "            await google.colab.kernel.invokeFunction('convertToInteractive',\n",
       "                                                     [key], {});\n",
       "          if (!dataTable) return;\n",
       "\n",
       "          const docLinkHtml = 'Like what you see? Visit the ' +\n",
       "            '<a target=\"_blank\" href=https://colab.research.google.com/notebooks/data_table.ipynb>data table notebook</a>'\n",
       "            + ' to learn more about interactive tables.';\n",
       "          element.innerHTML = '';\n",
       "          dataTable['output_type'] = 'display_data';\n",
       "          await google.colab.output.renderOutput(dataTable, element);\n",
       "          const docLink = document.createElement('div');\n",
       "          docLink.innerHTML = docLinkHtml;\n",
       "          element.appendChild(docLink);\n",
       "        }\n",
       "      </script>\n",
       "    </div>\n",
       "  </div>\n",
       "  "
      ],
      "text/plain": [
       "                        price     share      xvar      wvar  log_share  \\\n",
       "prodid firmid mktid                                                      \n",
       "5      1      1      2.606675  0.227237  2.202134 -0.273457  -1.481762   \n",
       "7      2      1      3.783296  0.015946  2.755761  0.164740  -4.138520   \n",
       "8      2      1      2.498175  0.175231  1.952670 -0.370695  -1.741651   \n",
       "14     3      1      2.396051  0.149334  1.860606 -0.561297  -1.901567   \n",
       "16     4      1      2.683033  0.179254  2.317975 -0.640421  -1.718950   \n",
       "\n",
       "                     hausman_iv        mc  \n",
       "prodid firmid mktid                        \n",
       "5      1      1        2.997245  2.565374  \n",
       "7      2      1        3.950095  3.781216  \n",
       "8      2      1        2.964054  2.466597  \n",
       "14     3      1        3.679174  2.369228  \n",
       "16     4      1        3.114423  2.649777  "
      ]
     },
     "execution_count": 39,
     "metadata": {},
     "output_type": "execute_result"
    }
   ],
   "source": [
    "def imputeMaginalCost(df):\n",
    "    df2 = df.reset_index()\n",
    "    M = df2.mktid.unique()\n",
    "    df2['mc']=0\n",
    "    for mi,m in enumerate(M):\n",
    "        dqdp = get_logit_elasticities(m)\n",
    "        prodid = df2[df2.mktid==m]['prodid']\n",
    "        firmid = df2[df2.mktid==m]['firmid']\n",
    "        p = df2[df2.mktid==m]['price']\n",
    "        s = df2[df2.mktid==m]['share']\n",
    "        Ω = ownership(m)\n",
    "        c = p + np.dot(np.linalg.inv(Ω*dqdp.T),s)\n",
    "        df2.loc[(df2.mktid==m), 'mc']=c\n",
    "    df2 = df2.set_index(['prodid', 'firmid', 'mktid'])\n",
    "    return df2\n",
    "df2 = imputeMaginalCost(df)\n",
    "df2.head()"
   ]
  },
  {
   "cell_type": "markdown",
   "metadata": {
    "id": "PBeH3Q8cNluO"
   },
   "source": [
    "### Tax analysis"
   ]
  },
  {
   "cell_type": "code",
   "execution_count": null,
   "metadata": {
    "colab": {
     "base_uri": "https://localhost:8080/",
     "height": 972
    },
    "id": "aw5tZdLaNmtL",
    "outputId": "4ff00d84-b8ac-4f20-d1f8-60d82d4d4f2e"
   },
   "outputs": [
    {
     "name": "stdout",
     "output_type": "stream",
     "text": [
      "7\n",
      "7\n",
      "7\n",
      "7\n",
      "7\n",
      "7\n",
      "11\n",
      "11\n",
      "11\n",
      "11\n",
      "8\n",
      "8\n",
      "6\n",
      "6\n",
      "12\n",
      "12\n",
      "10\n",
      "10\n",
      "10\n",
      "10\n",
      "10\n",
      "10\n",
      "9\n",
      "9\n",
      "6\n",
      "6\n",
      "11\n",
      "11\n",
      "11\n",
      "11\n",
      "11\n",
      "11\n",
      "9\n",
      "9\n",
      "8\n",
      "8\n",
      "12\n",
      "12\n",
      "6\n",
      "6\n"
     ]
    },
    {
     "data": {
      "text/html": [
       "\n",
       "  <div id=\"df-827169fe-e428-4b91-b639-ec5fe37c4d56\">\n",
       "    <div class=\"colab-df-container\">\n",
       "      <div>\n",
       "<style scoped>\n",
       "    .dataframe tbody tr th:only-of-type {\n",
       "        vertical-align: middle;\n",
       "    }\n",
       "\n",
       "    .dataframe tbody tr th {\n",
       "        vertical-align: top;\n",
       "    }\n",
       "\n",
       "    .dataframe thead th {\n",
       "        text-align: right;\n",
       "    }\n",
       "</style>\n",
       "<table border=\"1\" class=\"dataframe\">\n",
       "  <thead>\n",
       "    <tr style=\"text-align: right;\">\n",
       "      <th></th>\n",
       "      <th></th>\n",
       "      <th></th>\n",
       "      <th>price</th>\n",
       "      <th>share</th>\n",
       "      <th>xvar</th>\n",
       "      <th>wvar</th>\n",
       "      <th>log_share</th>\n",
       "      <th>hausman_iv</th>\n",
       "      <th>mc</th>\n",
       "      <th>mc2</th>\n",
       "      <th>upp</th>\n",
       "    </tr>\n",
       "    <tr>\n",
       "      <th>prodid</th>\n",
       "      <th>firmid</th>\n",
       "      <th>mktid</th>\n",
       "      <th></th>\n",
       "      <th></th>\n",
       "      <th></th>\n",
       "      <th></th>\n",
       "      <th></th>\n",
       "      <th></th>\n",
       "      <th></th>\n",
       "      <th></th>\n",
       "      <th></th>\n",
       "    </tr>\n",
       "  </thead>\n",
       "  <tbody>\n",
       "    <tr>\n",
       "      <th>5</th>\n",
       "      <th>1</th>\n",
       "      <th>1</th>\n",
       "      <td>2.606675</td>\n",
       "      <td>0.227237</td>\n",
       "      <td>2.202134</td>\n",
       "      <td>-0.273457</td>\n",
       "      <td>-1.481762</td>\n",
       "      <td>2.997245</td>\n",
       "      <td>2.565374</td>\n",
       "      <td>3.065374</td>\n",
       "      <td>0.5</td>\n",
       "    </tr>\n",
       "    <tr>\n",
       "      <th>7</th>\n",
       "      <th>2</th>\n",
       "      <th>1</th>\n",
       "      <td>3.783296</td>\n",
       "      <td>0.015946</td>\n",
       "      <td>2.755761</td>\n",
       "      <td>0.164740</td>\n",
       "      <td>-4.138520</td>\n",
       "      <td>3.950095</td>\n",
       "      <td>3.781216</td>\n",
       "      <td>4.281216</td>\n",
       "      <td>0.5</td>\n",
       "    </tr>\n",
       "    <tr>\n",
       "      <th>8</th>\n",
       "      <th>2</th>\n",
       "      <th>1</th>\n",
       "      <td>2.498175</td>\n",
       "      <td>0.175231</td>\n",
       "      <td>1.952670</td>\n",
       "      <td>-0.370695</td>\n",
       "      <td>-1.741651</td>\n",
       "      <td>2.964054</td>\n",
       "      <td>2.466597</td>\n",
       "      <td>2.966597</td>\n",
       "      <td>0.5</td>\n",
       "    </tr>\n",
       "    <tr>\n",
       "      <th>14</th>\n",
       "      <th>3</th>\n",
       "      <th>1</th>\n",
       "      <td>2.396051</td>\n",
       "      <td>0.149334</td>\n",
       "      <td>1.860606</td>\n",
       "      <td>-0.561297</td>\n",
       "      <td>-1.901567</td>\n",
       "      <td>3.679174</td>\n",
       "      <td>2.369228</td>\n",
       "      <td>2.869228</td>\n",
       "      <td>0.5</td>\n",
       "    </tr>\n",
       "    <tr>\n",
       "      <th>16</th>\n",
       "      <th>4</th>\n",
       "      <th>1</th>\n",
       "      <td>2.683033</td>\n",
       "      <td>0.179254</td>\n",
       "      <td>2.317975</td>\n",
       "      <td>-0.640421</td>\n",
       "      <td>-1.718950</td>\n",
       "      <td>3.114423</td>\n",
       "      <td>2.649777</td>\n",
       "      <td>3.149777</td>\n",
       "      <td>0.5</td>\n",
       "    </tr>\n",
       "  </tbody>\n",
       "</table>\n",
       "</div>\n",
       "      <button class=\"colab-df-convert\" onclick=\"convertToInteractive('df-827169fe-e428-4b91-b639-ec5fe37c4d56')\"\n",
       "              title=\"Convert this dataframe to an interactive table.\"\n",
       "              style=\"display:none;\">\n",
       "        \n",
       "  <svg xmlns=\"http://www.w3.org/2000/svg\" height=\"24px\"viewBox=\"0 0 24 24\"\n",
       "       width=\"24px\">\n",
       "    <path d=\"M0 0h24v24H0V0z\" fill=\"none\"/>\n",
       "    <path d=\"M18.56 5.44l.94 2.06.94-2.06 2.06-.94-2.06-.94-.94-2.06-.94 2.06-2.06.94zm-11 1L8.5 8.5l.94-2.06 2.06-.94-2.06-.94L8.5 2.5l-.94 2.06-2.06.94zm10 10l.94 2.06.94-2.06 2.06-.94-2.06-.94-.94-2.06-.94 2.06-2.06.94z\"/><path d=\"M17.41 7.96l-1.37-1.37c-.4-.4-.92-.59-1.43-.59-.52 0-1.04.2-1.43.59L10.3 9.45l-7.72 7.72c-.78.78-.78 2.05 0 2.83L4 21.41c.39.39.9.59 1.41.59.51 0 1.02-.2 1.41-.59l7.78-7.78 2.81-2.81c.8-.78.8-2.07 0-2.86zM5.41 20L4 18.59l7.72-7.72 1.47 1.35L5.41 20z\"/>\n",
       "  </svg>\n",
       "      </button>\n",
       "      \n",
       "  <style>\n",
       "    .colab-df-container {\n",
       "      display:flex;\n",
       "      flex-wrap:wrap;\n",
       "      gap: 12px;\n",
       "    }\n",
       "\n",
       "    .colab-df-convert {\n",
       "      background-color: #E8F0FE;\n",
       "      border: none;\n",
       "      border-radius: 50%;\n",
       "      cursor: pointer;\n",
       "      display: none;\n",
       "      fill: #1967D2;\n",
       "      height: 32px;\n",
       "      padding: 0 0 0 0;\n",
       "      width: 32px;\n",
       "    }\n",
       "\n",
       "    .colab-df-convert:hover {\n",
       "      background-color: #E2EBFA;\n",
       "      box-shadow: 0px 1px 2px rgba(60, 64, 67, 0.3), 0px 1px 3px 1px rgba(60, 64, 67, 0.15);\n",
       "      fill: #174EA6;\n",
       "    }\n",
       "\n",
       "    [theme=dark] .colab-df-convert {\n",
       "      background-color: #3B4455;\n",
       "      fill: #D2E3FC;\n",
       "    }\n",
       "\n",
       "    [theme=dark] .colab-df-convert:hover {\n",
       "      background-color: #434B5C;\n",
       "      box-shadow: 0px 1px 3px 1px rgba(0, 0, 0, 0.15);\n",
       "      filter: drop-shadow(0px 1px 2px rgba(0, 0, 0, 0.3));\n",
       "      fill: #FFFFFF;\n",
       "    }\n",
       "  </style>\n",
       "\n",
       "      <script>\n",
       "        const buttonEl =\n",
       "          document.querySelector('#df-827169fe-e428-4b91-b639-ec5fe37c4d56 button.colab-df-convert');\n",
       "        buttonEl.style.display =\n",
       "          google.colab.kernel.accessAllowed ? 'block' : 'none';\n",
       "\n",
       "        async function convertToInteractive(key) {\n",
       "          const element = document.querySelector('#df-827169fe-e428-4b91-b639-ec5fe37c4d56');\n",
       "          const dataTable =\n",
       "            await google.colab.kernel.invokeFunction('convertToInteractive',\n",
       "                                                     [key], {});\n",
       "          if (!dataTable) return;\n",
       "\n",
       "          const docLinkHtml = 'Like what you see? Visit the ' +\n",
       "            '<a target=\"_blank\" href=https://colab.research.google.com/notebooks/data_table.ipynb>data table notebook</a>'\n",
       "            + ' to learn more about interactive tables.';\n",
       "          element.innerHTML = '';\n",
       "          dataTable['output_type'] = 'display_data';\n",
       "          await google.colab.output.renderOutput(dataTable, element);\n",
       "          const docLink = document.createElement('div');\n",
       "          docLink.innerHTML = docLinkHtml;\n",
       "          element.appendChild(docLink);\n",
       "        }\n",
       "      </script>\n",
       "    </div>\n",
       "  </div>\n",
       "  "
      ],
      "text/plain": [
       "                        price     share      xvar      wvar  log_share  \\\n",
       "prodid firmid mktid                                                      \n",
       "5      1      1      2.606675  0.227237  2.202134 -0.273457  -1.481762   \n",
       "7      2      1      3.783296  0.015946  2.755761  0.164740  -4.138520   \n",
       "8      2      1      2.498175  0.175231  1.952670 -0.370695  -1.741651   \n",
       "14     3      1      2.396051  0.149334  1.860606 -0.561297  -1.901567   \n",
       "16     4      1      2.683033  0.179254  2.317975 -0.640421  -1.718950   \n",
       "\n",
       "                     hausman_iv        mc       mc2  upp  \n",
       "prodid firmid mktid                                       \n",
       "5      1      1        2.997245  2.565374  3.065374  0.5  \n",
       "7      2      1        3.950095  3.781216  4.281216  0.5  \n",
       "8      2      1        2.964054  2.466597  2.966597  0.5  \n",
       "14     3      1        3.679174  2.369228  2.869228  0.5  \n",
       "16     4      1        3.114423  2.649777  3.149777  0.5  "
      ]
     },
     "execution_count": 40,
     "metadata": {},
     "output_type": "execute_result"
    }
   ],
   "source": [
    "df2['mc2'] = df2['mc']+0.5\n",
    "def UPP(df):    \n",
    "    df2 = df.reset_index()\n",
    "    M = df2.mktid.unique()\n",
    "    df2['upp']=0\n",
    "    for mi,m in enumerate(M):\n",
    "        dqdp = get_logit_elasticities(m)\n",
    "        prodid = df2[df2.mktid==m]['prodid']\n",
    "        firmid = df2[df2.mktid==m]['firmid']\n",
    "        p = df2[df2.mktid==m]['price']\n",
    "        s = df2[df2.mktid==m]['share']\n",
    "        c = df2[df2.mktid==m]['mc2']\n",
    "        Ω = ownership(m)\n",
    "        df2.loc[(df2.mktid==m), 'upp']=-p+c-np.dot(np.linalg.inv(Ω*dqdp.T),s)\n",
    "    df2 = df2.set_index(['prodid', 'firmid', 'mktid'])\n",
    "    return df2\n",
    "df2 = UPP(df2)\n",
    "df2.head()"
   ]
  },
  {
   "cell_type": "code",
   "execution_count": null,
   "metadata": {
    "colab": {
     "base_uri": "https://localhost:8080/",
     "height": 972
    },
    "id": "QdmRaVNgbMY5",
    "outputId": "a8ba39ae-501d-4f4b-c251-992aa28777ef"
   },
   "outputs": [
    {
     "name": "stdout",
     "output_type": "stream",
     "text": [
      "7\n",
      "7\n",
      "7\n",
      "7\n",
      "7\n",
      "7\n",
      "11\n",
      "11\n",
      "11\n",
      "11\n",
      "8\n",
      "8\n",
      "6\n",
      "6\n",
      "12\n",
      "12\n",
      "10\n",
      "10\n",
      "10\n",
      "10\n",
      "10\n",
      "10\n",
      "9\n",
      "9\n",
      "6\n",
      "6\n",
      "11\n",
      "11\n",
      "11\n",
      "11\n",
      "11\n",
      "11\n",
      "9\n",
      "9\n",
      "8\n",
      "8\n",
      "12\n",
      "12\n",
      "6\n",
      "6\n"
     ]
    },
    {
     "data": {
      "text/html": [
       "\n",
       "  <div id=\"df-b62b0f05-59a2-4c41-9d40-2344eab9f783\">\n",
       "    <div class=\"colab-df-container\">\n",
       "      <div>\n",
       "<style scoped>\n",
       "    .dataframe tbody tr th:only-of-type {\n",
       "        vertical-align: middle;\n",
       "    }\n",
       "\n",
       "    .dataframe tbody tr th {\n",
       "        vertical-align: top;\n",
       "    }\n",
       "\n",
       "    .dataframe thead th {\n",
       "        text-align: right;\n",
       "    }\n",
       "</style>\n",
       "<table border=\"1\" class=\"dataframe\">\n",
       "  <thead>\n",
       "    <tr style=\"text-align: right;\">\n",
       "      <th></th>\n",
       "      <th></th>\n",
       "      <th></th>\n",
       "      <th>price</th>\n",
       "      <th>share</th>\n",
       "      <th>xvar</th>\n",
       "      <th>wvar</th>\n",
       "      <th>log_share</th>\n",
       "      <th>hausman_iv</th>\n",
       "      <th>mc</th>\n",
       "      <th>mc2</th>\n",
       "      <th>upp</th>\n",
       "      <th>p2</th>\n",
       "    </tr>\n",
       "    <tr>\n",
       "      <th>prodid</th>\n",
       "      <th>firmid</th>\n",
       "      <th>mktid</th>\n",
       "      <th></th>\n",
       "      <th></th>\n",
       "      <th></th>\n",
       "      <th></th>\n",
       "      <th></th>\n",
       "      <th></th>\n",
       "      <th></th>\n",
       "      <th></th>\n",
       "      <th></th>\n",
       "      <th></th>\n",
       "    </tr>\n",
       "  </thead>\n",
       "  <tbody>\n",
       "    <tr>\n",
       "      <th>5</th>\n",
       "      <th>1</th>\n",
       "      <th>1</th>\n",
       "      <td>2.606675</td>\n",
       "      <td>0.227237</td>\n",
       "      <td>2.202134</td>\n",
       "      <td>-0.273457</td>\n",
       "      <td>-1.481762</td>\n",
       "      <td>2.997245</td>\n",
       "      <td>2.565374</td>\n",
       "      <td>3.065374</td>\n",
       "      <td>0.5</td>\n",
       "      <td>3.065374</td>\n",
       "    </tr>\n",
       "    <tr>\n",
       "      <th>7</th>\n",
       "      <th>2</th>\n",
       "      <th>1</th>\n",
       "      <td>3.783296</td>\n",
       "      <td>0.015946</td>\n",
       "      <td>2.755761</td>\n",
       "      <td>0.164740</td>\n",
       "      <td>-4.138520</td>\n",
       "      <td>3.950095</td>\n",
       "      <td>3.781216</td>\n",
       "      <td>4.281216</td>\n",
       "      <td>0.5</td>\n",
       "      <td>4.281216</td>\n",
       "    </tr>\n",
       "    <tr>\n",
       "      <th>8</th>\n",
       "      <th>2</th>\n",
       "      <th>1</th>\n",
       "      <td>2.498175</td>\n",
       "      <td>0.175231</td>\n",
       "      <td>1.952670</td>\n",
       "      <td>-0.370695</td>\n",
       "      <td>-1.741651</td>\n",
       "      <td>2.964054</td>\n",
       "      <td>2.466597</td>\n",
       "      <td>2.966597</td>\n",
       "      <td>0.5</td>\n",
       "      <td>2.966597</td>\n",
       "    </tr>\n",
       "    <tr>\n",
       "      <th>14</th>\n",
       "      <th>3</th>\n",
       "      <th>1</th>\n",
       "      <td>2.396051</td>\n",
       "      <td>0.149334</td>\n",
       "      <td>1.860606</td>\n",
       "      <td>-0.561297</td>\n",
       "      <td>-1.901567</td>\n",
       "      <td>3.679174</td>\n",
       "      <td>2.369228</td>\n",
       "      <td>2.869228</td>\n",
       "      <td>0.5</td>\n",
       "      <td>2.869228</td>\n",
       "    </tr>\n",
       "    <tr>\n",
       "      <th>16</th>\n",
       "      <th>4</th>\n",
       "      <th>1</th>\n",
       "      <td>2.683033</td>\n",
       "      <td>0.179254</td>\n",
       "      <td>2.317975</td>\n",
       "      <td>-0.640421</td>\n",
       "      <td>-1.718950</td>\n",
       "      <td>3.114423</td>\n",
       "      <td>2.649777</td>\n",
       "      <td>3.149777</td>\n",
       "      <td>0.5</td>\n",
       "      <td>3.149777</td>\n",
       "    </tr>\n",
       "  </tbody>\n",
       "</table>\n",
       "</div>\n",
       "      <button class=\"colab-df-convert\" onclick=\"convertToInteractive('df-b62b0f05-59a2-4c41-9d40-2344eab9f783')\"\n",
       "              title=\"Convert this dataframe to an interactive table.\"\n",
       "              style=\"display:none;\">\n",
       "        \n",
       "  <svg xmlns=\"http://www.w3.org/2000/svg\" height=\"24px\"viewBox=\"0 0 24 24\"\n",
       "       width=\"24px\">\n",
       "    <path d=\"M0 0h24v24H0V0z\" fill=\"none\"/>\n",
       "    <path d=\"M18.56 5.44l.94 2.06.94-2.06 2.06-.94-2.06-.94-.94-2.06-.94 2.06-2.06.94zm-11 1L8.5 8.5l.94-2.06 2.06-.94-2.06-.94L8.5 2.5l-.94 2.06-2.06.94zm10 10l.94 2.06.94-2.06 2.06-.94-2.06-.94-.94-2.06-.94 2.06-2.06.94z\"/><path d=\"M17.41 7.96l-1.37-1.37c-.4-.4-.92-.59-1.43-.59-.52 0-1.04.2-1.43.59L10.3 9.45l-7.72 7.72c-.78.78-.78 2.05 0 2.83L4 21.41c.39.39.9.59 1.41.59.51 0 1.02-.2 1.41-.59l7.78-7.78 2.81-2.81c.8-.78.8-2.07 0-2.86zM5.41 20L4 18.59l7.72-7.72 1.47 1.35L5.41 20z\"/>\n",
       "  </svg>\n",
       "      </button>\n",
       "      \n",
       "  <style>\n",
       "    .colab-df-container {\n",
       "      display:flex;\n",
       "      flex-wrap:wrap;\n",
       "      gap: 12px;\n",
       "    }\n",
       "\n",
       "    .colab-df-convert {\n",
       "      background-color: #E8F0FE;\n",
       "      border: none;\n",
       "      border-radius: 50%;\n",
       "      cursor: pointer;\n",
       "      display: none;\n",
       "      fill: #1967D2;\n",
       "      height: 32px;\n",
       "      padding: 0 0 0 0;\n",
       "      width: 32px;\n",
       "    }\n",
       "\n",
       "    .colab-df-convert:hover {\n",
       "      background-color: #E2EBFA;\n",
       "      box-shadow: 0px 1px 2px rgba(60, 64, 67, 0.3), 0px 1px 3px 1px rgba(60, 64, 67, 0.15);\n",
       "      fill: #174EA6;\n",
       "    }\n",
       "\n",
       "    [theme=dark] .colab-df-convert {\n",
       "      background-color: #3B4455;\n",
       "      fill: #D2E3FC;\n",
       "    }\n",
       "\n",
       "    [theme=dark] .colab-df-convert:hover {\n",
       "      background-color: #434B5C;\n",
       "      box-shadow: 0px 1px 3px 1px rgba(0, 0, 0, 0.15);\n",
       "      filter: drop-shadow(0px 1px 2px rgba(0, 0, 0, 0.3));\n",
       "      fill: #FFFFFF;\n",
       "    }\n",
       "  </style>\n",
       "\n",
       "      <script>\n",
       "        const buttonEl =\n",
       "          document.querySelector('#df-b62b0f05-59a2-4c41-9d40-2344eab9f783 button.colab-df-convert');\n",
       "        buttonEl.style.display =\n",
       "          google.colab.kernel.accessAllowed ? 'block' : 'none';\n",
       "\n",
       "        async function convertToInteractive(key) {\n",
       "          const element = document.querySelector('#df-b62b0f05-59a2-4c41-9d40-2344eab9f783');\n",
       "          const dataTable =\n",
       "            await google.colab.kernel.invokeFunction('convertToInteractive',\n",
       "                                                     [key], {});\n",
       "          if (!dataTable) return;\n",
       "\n",
       "          const docLinkHtml = 'Like what you see? Visit the ' +\n",
       "            '<a target=\"_blank\" href=https://colab.research.google.com/notebooks/data_table.ipynb>data table notebook</a>'\n",
       "            + ' to learn more about interactive tables.';\n",
       "          element.innerHTML = '';\n",
       "          dataTable['output_type'] = 'display_data';\n",
       "          await google.colab.output.renderOutput(dataTable, element);\n",
       "          const docLink = document.createElement('div');\n",
       "          docLink.innerHTML = docLinkHtml;\n",
       "          element.appendChild(docLink);\n",
       "        }\n",
       "      </script>\n",
       "    </div>\n",
       "  </div>\n",
       "  "
      ],
      "text/plain": [
       "                        price     share      xvar      wvar  log_share  \\\n",
       "prodid firmid mktid                                                      \n",
       "5      1      1      2.606675  0.227237  2.202134 -0.273457  -1.481762   \n",
       "7      2      1      3.783296  0.015946  2.755761  0.164740  -4.138520   \n",
       "8      2      1      2.498175  0.175231  1.952670 -0.370695  -1.741651   \n",
       "14     3      1      2.396051  0.149334  1.860606 -0.561297  -1.901567   \n",
       "16     4      1      2.683033  0.179254  2.317975 -0.640421  -1.718950   \n",
       "\n",
       "                     hausman_iv        mc       mc2  upp        p2  \n",
       "prodid firmid mktid                                                 \n",
       "5      1      1        2.997245  2.565374  3.065374  0.5  3.065374  \n",
       "7      2      1        3.950095  3.781216  4.281216  0.5  4.281216  \n",
       "8      2      1        2.964054  2.466597  2.966597  0.5  2.966597  \n",
       "14     3      1        3.679174  2.369228  2.869228  0.5  2.869228  \n",
       "16     4      1        3.114423  2.649777  3.149777  0.5  3.149777  "
      ]
     },
     "execution_count": 41,
     "metadata": {},
     "output_type": "execute_result"
    }
   ],
   "source": [
    "def imputeNewPrices(df):\n",
    "    df2 = df.reset_index()\n",
    "    M = df2.mktid.unique()\n",
    "    df2['p2']=0\n",
    "    for mi,m in enumerate(M):\n",
    "        dqdp = get_logit_elasticities(m)\n",
    "        prodid = df2[df2.mktid==m]['prodid']\n",
    "        firmid = df2[df2.mktid==m]['firmid']\n",
    "        s = df2[df2.mktid==m]['share']\n",
    "        Ω = ownership(m)\n",
    "        c = df2[df2.mktid==m]['mc2']\n",
    "        p = c - np.dot(np.linalg.inv(Ω*dqdp.T),s)\n",
    "        df2.loc[(df2.mktid==m), 'p2']=c\n",
    "    df2 = df2.set_index(['prodid', 'firmid', 'mktid'])\n",
    "    return df2\n",
    "df2 = imputeNewPrices(df2)\n",
    "df2.head()"
   ]
  },
  {
   "cell_type": "code",
   "execution_count": null,
   "metadata": {
    "id": "Th3VqGRx46Vi"
   },
   "outputs": [],
   "source": [
    "# Scatter plot of price against marginal cost\n",
    "plt.scatter(df2['price'], df2['mc'])\n",
    "plt.gca().set(ylabel='Price', xlabel='Marginal Cost')\n",
    "plt.savefig(\"price_mc.png\")\n",
    "plt.show()\n",
    "\n",
    "# Scatter plot price againse zi(theta_hat)"
   ]
  },
  {
   "cell_type": "markdown",
   "metadata": {
    "id": "TcIu0qK-ya7s"
   },
   "source": [
    "### Tax Incidence and HHI-Avg Price Inc"
   ]
  },
  {
   "cell_type": "code",
   "execution_count": null,
   "metadata": {
    "colab": {
     "base_uri": "https://localhost:8080/"
    },
    "id": "xuNaF-lyycd-",
    "outputId": "ecbb1181-ee04-478b-8019-71adfe2a71df"
   },
   "outputs": [
    {
     "data": {
      "text/plain": [
       "array([3.34914309, 3.23713147, 3.27885881, 5.30979802, 5.23772406,\n",
       "       3.80774482, 2.87629361, 5.7532185 , 4.87163783, 4.6295724 ,\n",
       "       4.78575167, 4.23139538, 2.9247716 , 5.19264814, 4.94043306,\n",
       "       5.260922  , 4.25476659, 3.81968388, 5.68494322, 2.84483671])"
      ]
     },
     "execution_count": 42,
     "metadata": {},
     "output_type": "execute_result"
    }
   ],
   "source": [
    "df2['ti']=df2['p2']-df2['price']\n",
    "avgPriceInc = np.array(df2.reset_index().groupby('mktid').sum()['ti'])\n",
    "avgPriceInc"
   ]
  },
  {
   "cell_type": "code",
   "execution_count": null,
   "metadata": {
    "colab": {
     "base_uri": "https://localhost:8080/",
     "height": 394
    },
    "id": "oK9r5Ldfyflk",
    "outputId": "1d7f19d0-e3ca-4d28-a316-42f4719a549b"
   },
   "outputs": [
    {
     "data": {
      "image/png": "[encoded data removed]",
      "text/plain": [
       "<Figure size 1080x432 with 1 Axes>"
      ]
     },
     "metadata": {},
     "output_type": "display_data"
    }
   ],
   "source": [
    "def calculateHHI(df):\n",
    "    df2 = df.reset_index()\n",
    "    M = df2.mktid.unique()\n",
    "    HHI = []\n",
    "    for mi,m in enumerate(M):\n",
    "        s = np.array(df2[df2.mktid==m]['share'])\n",
    "        HHI.append(np.sum(s**2))\n",
    "    return HHI\n",
    "\n",
    "HHI = np.array(calculateHHI(df))\n",
    "\n",
    "plt.scatter(avgPriceInc, HHI)\n",
    "plt.gca().set(ylabel='Avg Price Increase', xlabel='HHI')\n",
    "plt.savefig(\"hhi.png\")\n",
    "plt.show()"
   ]
  },
  {
   "cell_type": "markdown",
   "metadata": {
    "id": "CXN8alViNm_9"
   },
   "source": [
    "### Marginal Cost Determinants"
   ]
  },
  {
   "cell_type": "code",
   "execution_count": null,
   "metadata": {
    "colab": {
     "base_uri": "https://localhost:8080/"
    },
    "id": "wbQsZf_mNseo",
    "outputId": "72b54912-7570-4d20-aa98-e0243405e1a4"
   },
   "outputs": [
    {
     "name": "stdout",
     "output_type": "stream",
     "text": [
      "                            OLS Regression Results                            \n",
      "==============================================================================\n",
      "Dep. Variable:                     mc   R-squared:                       0.230\n",
      "Model:                            OLS   Adj. R-squared:                  0.226\n",
      "Method:                 Least Squares   F-statistic:                     53.70\n",
      "Date:                Tue, 31 Jan 2023   Prob (F-statistic):           7.59e-12\n",
      "Time:                        07:08:13   Log-Likelihood:                -189.01\n",
      "No. Observations:                 182   AIC:                             382.0\n",
      "Df Residuals:                     180   BIC:                             388.4\n",
      "Df Model:                           1                                         \n",
      "Covariance Type:            nonrobust                                         \n",
      "==============================================================================\n",
      "                 coef    std err          t      P>|t|      [0.025      0.975]\n",
      "------------------------------------------------------------------------------\n",
      "Intercept      3.0573      0.051     59.996      0.000       2.957       3.158\n",
      "wvar           0.7810      0.107      7.328      0.000       0.571       0.991\n",
      "==============================================================================\n",
      "Omnibus:                        6.942   Durbin-Watson:                   1.856\n",
      "Prob(Omnibus):                  0.031   Jarque-Bera (JB):                6.824\n",
      "Skew:                           0.471   Prob(JB):                       0.0330\n",
      "Kurtosis:                       3.115   Cond. No.                         2.09\n",
      "==============================================================================\n",
      "\n",
      "Notes:\n",
      "[1] Standard Errors assume that the covariance matrix of the errors is correctly specified.\n"
     ]
    }
   ],
   "source": [
    "mc_ols = sm.ols(formula=\"mc ~ wvar\", data=df2).fit()\n",
    "print(mc_ols.summary())"
   ]
  },
  {
   "cell_type": "code",
   "execution_count": null,
   "metadata": {
    "colab": {
     "base_uri": "https://localhost:8080/",
     "height": 423
    },
    "id": "YsM2S6AHNwR4",
    "outputId": "2daca368-c7ae-46be-c305-e4a888f441eb"
   },
   "outputs": [
    {
     "data": {
      "image/png": "[encoded data removed]",
      "text/plain": [
       "<Figure size 1080x432 with 1 Axes>"
      ]
     },
     "metadata": {},
     "output_type": "display_data"
    }
   ],
   "source": [
    "# Partial Regression Plot of logshare-E[logshare|xvar] on price-E[price|xvar]\n",
    "import statsmodels.api as sm_\n",
    "fig = sm_.graphics.plot_partregress(\"mc\", \"wvar\", [], data=df2, obs_labels = False)\n",
    "fig.tight_layout(pad=1.0)\n",
    "plt.savefig(\"partialreg.png\")"
   ]
  },
  {
   "cell_type": "code",
   "execution_count": null,
   "metadata": {
    "id": "HpLF_EQbzcx0"
   },
   "outputs": [],
   "source": []
  }
 ],
 "metadata": {
  "colab": {
   "collapsed_sections": [
    "DnBhW5HVNmHk",
    "7pPnQrZ5egIQ",
    "gfMJ3QY6NmHm",
    "bR0bUy0Ueicb",
    "4SA02TNoqu33",
    "bT9LPnqv2EW_",
    "Ic41fK8y2O9r"
   ],
   "provenance": []
  },
  "kernelspec": {
   "display_name": "Python 3 (ipykernel)",
   "language": "python",
   "name": "python3"
  },
  "language_info": {
   "codemirror_mode": {
    "name": "ipython",
    "version": 3
   },
   "file_extension": ".py",
   "mimetype": "text/x-python",
   "name": "python",
   "nbconvert_exporter": "python",
   "pygments_lexer": "ipython3",
   "version": "3.10.9"
  },
  "vscode": {
   "interpreter": {
    "hash": "aee8b7b246df8f9039afb4144a1f6fd8d2ca17a180786b69acc140d282b71a49"
   }
  }
 },
 "nbformat": 4,
 "nbformat_minor": 1
}
