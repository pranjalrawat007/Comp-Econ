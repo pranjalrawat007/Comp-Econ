{
 "cells": [
  {
   "cell_type": "markdown",
   "metadata": {},
   "source": [
    "# Deep learning solution method with all-in-one expectation operator\n",
    "\n",
    "- This companion notebook presents one of the deep learning methods for solving dynamic economic models introduced by Maliar, Maliar and Winant (2019) in the paper \"Will Artificial Intelligence Replace Computational Economists Any Time Soon?\", CEPR working paper DP 14024, (https://lmaliar.ws.gc.cuny.edu/files/2019/10/CEPR-DP14024.pdf).\n",
    "- In the paper, we offer a unified approach for casting three fundamental objects of economic dynamics -- lifetime reward, Bellman equation and Euler equation -- into objective functions of the deep learning framework. \n",
    "- In this notebook, we illustrate only one of the three approaches -- the Euler residual minimization. \n",
    "- We solve a cannonical consumption-saving problem with occasionally binding borrowing constraint and four exogenous stochastic shocks. \n",
    "- We parameterize the agent's decision function with a multilayer neural network, and we perform training using stochastic optimization, namely, in each iteration, we train the model on just one or few grid points that are randomly drawn from the state space (instead of conventional fixed grid with a potentially large number of grid points constructed by a discretization of the state-space). \n",
    "- Our objective function -- the sum of squared residuals in the Euler equation -- has two types of expectation operators, one is with respect to current state variables (which arises because grid points that are randomly drawn from the state space), and the other is with respect to future state variables (which arises because next-period shocks are randomly drawn from the given distributions).\n",
    "- We construct an all-in-one expectation method that merges the two expectation operators into one. Namely, we use two independent random draws for evaluating two terms of a squared residual -- this method eliminates the correlation between the terms and pulls the expectation operator out of the square. Our all-in-one expectation operator allows for efficient parallel calculations and reduces greately the cost of training deep neural networks.\n",
    "- In our 5-dimensional problem, we obtain a solution in a mintue or so. Importantly, our DL method is highly scalable and can solve very large models intractable with other methods. In particular, in the paper, we solve Krusell and Smith's (1998) model with 1,000 of heterogeneous agents by constructing decision function of 2,001 state variables."
   ]
  },
  {
   "cell_type": "markdown",
   "metadata": {},
   "source": [
    "## TensorFlow and libraries\n",
    "\n",
    "[TensorFlow](https://www.tensorflow.org/) is a deep learning library. It can be used to train neural networks, but also to produce computational graphs (aka programs), which can be differentiated automatically, optimized and ran on very scalable architecture.\n",
    "Version 2.0 introduces a new way to build graph, which allows for a more intuitive graph definition, essentially by writing numpy-like code. We can install it using:\n",
    "`pip install tensorflow==2.0.0`"
   ]
  },
  {
   "cell_type": "code",
   "execution_count": 1,
   "metadata": {},
   "outputs": [
    {
     "name": "stderr",
     "output_type": "stream",
     "text": [
      "2023-01-28 17:07:05.875291: I tensorflow/core/platform/cpu_feature_guard.cc:193] This TensorFlow binary is optimized with oneAPI Deep Neural Network Library (oneDNN) to use the following CPU instructions in performance-critical operations:  AVX2 FMA\n",
      "To enable them in other operations, rebuild TensorFlow with the appropriate compiler flags.\n"
     ]
    }
   ],
   "source": [
    "import tensorflow as tf"
   ]
  },
  {
   "cell_type": "markdown",
   "metadata": {},
   "source": [
    "This notebook uses several libraries. Any missing library x can be installed using `pip install x`"
   ]
  },
  {
   "cell_type": "code",
   "execution_count": 2,
   "metadata": {
    "lines_to_next_cell": 0
   },
   "outputs": [],
   "source": [
    "import numpy as np\n",
    "from math import sqrt\n",
    "from matplotlib import pyplot as plt\n",
    "from tqdm import tqdm as tqdm         # tqdm is a nice library to visualize ongoing loops\n",
    "import datetime\n",
    "# followint lines are used for indicative typing\n",
    "from typing import Tuple\n",
    "class Vector: pass"
   ]
  },
  {
   "cell_type": "markdown",
   "metadata": {},
   "source": [
    "\n"
   ]
  },
  {
   "cell_type": "markdown",
   "metadata": {},
   "source": [
    "## The model\n",
    "\n",
    "We consider the following consumption-saving problem: \n",
    "\n",
    "$$\n",
    "\\begin{gather*}\n",
    "\\underset{\\left\\{ c_{t},w_{t+1}\\right\\}_{t=0}^{\\infty }}{\\max }E_{0}\\left[\n",
    "\\sum_{t=0}^{\\infty }\\exp (\\delta_{t})\\beta ^{t}u\\left( {c_{t}}\\right)\\right]  \\\\\n",
    "\\text{s.t. }w_{t+1}=\\left( w_{t}-c_{t}\\right) \\overline{r}\\exp (r_{t+1})+\\exp\n",
    "(y_{t+1}), \\\\\n",
    "c_{t}\\leq w_{t},\n",
    "\\end{gather*}\n",
    "$$\n",
    "\n",
    "\n",
    "where $c_{t}$ is consumption; $w_{t}$ is the beginning-of-period\n",
    "cash-on-hand; $\\beta \\in \\left[ 0,1\\right)$ is a subjective discount\n",
    "factor;  $\\overline{r}\\in \\left( 0,\\frac{1}{\\beta }\\right)$ is a (gross)\n",
    "constant interest rate; and initial condition $\\left( z,w\\right)$ is given.\n",
    "There is an occasionally binding inequality constraint: consumption $c_{t}$\n",
    "cannot exceed cash-on-hand $w_{t}$. There are four different exogenous\n",
    "state variables, namely, shocks to the interest rate $r_{t}$, discount factor $\\delta_t$,\n",
    "transitory component of income $q_{t}$ and permanent\n",
    "component of income $p_{t}$. The total income is $y_{t}=\\exp(p_{t})\\exp(q_{t})$. All\n",
    "exogenous variables  follow AR(1) processes: \n",
    "\n",
    "\n",
    "$$\n",
    "\\begin{eqnarray*}\n",
    "{y_{t+1}} &=&\\rho_{y}{y_{t}}+\\sigma_{y}\\epsilon^{y}_{t+1}, \\\\\n",
    "{p_{t+1}} &=&\\rho_{p}{p_{t}}+\\sigma_{p}\\epsilon^{p}_{t+1}, \\\\\n",
    "{r_{t+1}} &=&\\rho_{r}{r_{t}}+\\sigma_{r}\\epsilon^{r}_{t+1}, \\\\\n",
    "{\\delta_{t+1}} &=&\\rho_{\\delta }{\\delta_{t}}+\\sigma_{\\delta }\\epsilon^{\\delta}_{t+1},\n",
    "\\end{eqnarray*}\n",
    "$$\n",
    "\n",
    "\n",
    "where $\\epsilon^i_t \\sim \\mathcal{N}\\left( 0,1\\right)$. We assume the Cobb-Douglas utility function $u\\left( {c_{t}}\\right) =\\frac{1}{1-\\gamma }\\left( c_{t}^{1-\\gamma }-1\\right)$."
   ]
  },
  {
   "cell_type": "code",
   "execution_count": 3,
   "metadata": {
    "lines_to_next_cell": 2
   },
   "outputs": [],
   "source": [
    "# Model parameters\n",
    "\n",
    "β = 0.9 \n",
    "γ = 2.0 \n",
    "# σ = 0.1  \n",
    "# ρ = 0.9\n",
    "σ_r = 0.001\n",
    "ρ_r = 0.2\n",
    "σ_p = 0.0001\n",
    "ρ_p = 0.999\n",
    "σ_q = 0.001\n",
    "ρ_q = 0.9\n",
    "σ_δ = 0.001\n",
    "ρ_δ = 0.2\n",
    "rbar = 1.04"
   ]
  },
  {
   "cell_type": "markdown",
   "metadata": {},
   "source": [
    "## Stochastic solution domain\n",
    "\n",
    "Our DL framework converts a dynamic stochastic model into a static optimization problem. We will solve the static problem on a random grid of points which are drawn from the following 5-dimentional domain:\n",
    "\n",
    "- $y, p, r, \\delta$ are drawn from their ergodic distribution (recall that for an AR(1) process $z$ with autocorrelation $\\rho$ and conditional standard deviation $\\sigma$, the ergodic distribution is normal with zero mean and standard deviation $\\sigma_z= \\frac{\\sigma}{\\sqrt{1-\\rho^2}}$).\n",
    "- $w$ is drawn from a uniform distribution within an interval: $w\\in[w_{\\min}, w_{\\max}]$."
   ]
  },
  {
   "cell_type": "code",
   "execution_count": 4,
   "metadata": {},
   "outputs": [],
   "source": [
    "# Standard deviations for ergodic distributions of exogenous state variables\n",
    "σ_e_r = σ_r/(1-ρ_r**2)**0.5\n",
    "σ_e_p = σ_p/(1-ρ_p**2)**0.5\n",
    "σ_e_q = σ_q/(1-ρ_q**2)**0.5\n",
    "σ_e_δ = σ_δ/(1-ρ_δ**2)**0.5\n",
    "\n",
    "# bounds for endogenous state variable\n",
    "wmin = 0.1\n",
    "wmax = 4.0"
   ]
  },
  {
   "cell_type": "markdown",
   "metadata": {},
   "source": [
    "In the recursive form, the solution can be characterized by the Kuhn-Tucker\n",
    "(KT) conditions \n",
    "\n",
    "$$\n",
    "\\begin{equation*}\n",
    "a\\geq 0,\\quad b\\geq 0\\quad and\\quad ab=0,\n",
    "\\end{equation*}\n",
    "$$\n",
    "\n",
    "where $a$ is the share of wealth that goes to savings and $b$ is the\n",
    "Lagrange multiplier\n",
    "\n",
    "$$\n",
    "\\begin{eqnarray*}\n",
    "a &\\equiv &w-c, \\\\\n",
    "b &\\equiv &u^{\\prime }(c)-\\beta \\overline{r}E_{\\epsilon }\\left[ u^{\\prime\n",
    "}\\left( c^{\\prime }\\right) \\exp \\left( \\delta ^{\\prime }-\\delta +r^{\\prime\n",
    "}\\right) \\right] .\n",
    "\\end{eqnarray*}\n",
    "$$\n",
    "\n",
    "(In the absence of borrowing constraint $b=0$, the KT conditions lead to the familiar\n",
    "Euler equation). \n",
    "\n",
    "Inequality constraints are not directly compatible with the deep learning\n",
    "framework developed in the paper, so we reformulate the KT conditions as a set of equations that hold with equality. We use a smooth representation of the KT conditions, called\n",
    "the Fischer-Burmeister (FB) function, which is differentiable \n",
    "\n",
    "$$\n",
    "\\begin{equation*}\n",
    "\\Psi_{FB}\\left( a,b\\right) =a+b-\\sqrt{a^{2}+b^{2}}=0.\n",
    "\\end{equation*}\n",
    "$$\n",
    "\n",
    "The restriction $\\Psi_{FB}\\left( a,b\\right) =0$ is also equivalent to the\n",
    "KT conditions. \n",
    "\n",
    "For numerical treatment, we rewrite the $\\Psi_{FB}$ function in the following\n",
    "unit-free form \n",
    "\n",
    "$$\n",
    "\\begin{equation*}\n",
    "\\Psi_{FB}\\left( 1-\\zeta ,1-h\\right) =(1-\\zeta)+(1-h)-\\sqrt{(1-\\zeta)^{2}+(1-h)^{2}}=0,\n",
    "\\end{equation*}\n",
    "$$\n",
    "\n",
    "where $\\zeta $ and $h$ are respectively the consumption share and normalized\n",
    "Lagrange multiplier \n",
    "\n",
    "$$\n",
    "\\begin{eqnarray*}\n",
    "\\zeta  &\\equiv &\\frac{c}{w}, \\\\\n",
    "h &\\equiv &\\beta \\overline{r}E_{\\epsilon }\\left[ \\frac{u^{\\prime }\\left(\n",
    "c^{\\prime }\\right) }{u^{\\prime }(c)}\\exp \\left( \\delta ^{\\prime }-\\delta\n",
    "+r^{\\prime }\\right) \\right] .\n",
    "\\end{eqnarray*}\n",
    "$$\n",
    "\n",
    "In particular, $\\zeta $ belongs to the interval $\\left[ 0,1\\right] $ which\n",
    "is a convenient domain for defining neural network. In turn, $h$ is always positive and is normalized \n",
    "to be around one: we will parameterize it with neural network in the way \n",
    "that ensures that it is nonnegative."
   ]
  },
  {
   "cell_type": "code",
   "execution_count": 5,
   "metadata": {},
   "outputs": [],
   "source": [
    "# Here is the  Fischer-Burmeister (FB) in TensorFlow:\n",
    "min_FB = lambda a,b: a+b-tf.sqrt(a**2+b**2)"
   ]
  },
  {
   "cell_type": "markdown",
   "metadata": {},
   "source": [
    "## Parameterizing decision functions with neural network\n",
    "\n",
    "There are many different decision functions that we can approximate for characterizing the solution, including\n",
    "consumption, next-period income, etc. We chose to approximate the two functions that\n",
    "we defined earlier: the share of consumption, $\\zeta \\equiv \\frac{c}{w}$, and the\n",
    "normalized Lagrange multiplier $h$.\n",
    "Since the model is stationary, \n",
    "we look for a decision rule \n",
    "\n",
    "$$\n",
    "\\begin{equation*}\n",
    "\\left( \n",
    "\\begin{matrix}\n",
    "\\zeta  \\\\ \n",
    "h%\n",
    "\\end{matrix}%\n",
    "\\right) =\\varphi (s;\\theta ),\n",
    "\\end{equation*}\n",
    "$$\n",
    "\n",
    "where $s=(r, \\delta, q, p, w)$ is the 5-dimensional state space, and $\\varphi$ is a function to be determined.\n",
    "\n",
    "A common approach in computational economics is to approximate an unknown function $\\varphi$ using some flexible function family $\\varphi(...;\\theta)$ parameterized by a vector of coefficients $\\theta$, e.g., a polynomial family. Neural networks are just a special family of approximating functions. A distinctive feature of neural networks is that they have a nonlinear dependence of the approximation function on the coefficients $\\theta$. TensorFlow contains a submodule keras, which makes it easy to build such a network. Below, we build the multilayer perceptrion: a 2 hidden layers 32x32x32x2 network with relu activation functions and linear outputs"
   ]
  },
  {
   "cell_type": "code",
   "execution_count": 6,
   "metadata": {},
   "outputs": [
    {
     "name": "stderr",
     "output_type": "stream",
     "text": [
      "2023-01-28 17:07:11.877559: I tensorflow/core/platform/cpu_feature_guard.cc:193] This TensorFlow binary is optimized with oneAPI Deep Neural Network Library (oneDNN) to use the following CPU instructions in performance-critical operations:  AVX2 FMA\n",
      "To enable them in other operations, rebuild TensorFlow with the appropriate compiler flags.\n"
     ]
    }
   ],
   "source": [
    "# construction of neural network\n",
    "layers = [\n",
    "    tf.keras.layers.Dense(32, activation='relu', input_dim=5, bias_initializer='he_uniform'),\n",
    "    tf.keras.layers.Dense(32, activation='relu'),\n",
    "    tf.keras.layers.Dense(32, activation='relu'),\n",
    "    tf.keras.layers.Dense(2, activation=tf.keras.activations.linear)\n",
    "]\n",
    "perceptron = tf.keras.Sequential(layers)"
   ]
  },
  {
   "cell_type": "code",
   "execution_count": 7,
   "metadata": {},
   "outputs": [
    {
     "data": {
      "image/png": "[encoded data removed]",
      "text/plain": [
       "<IPython.core.display.Image object>"
      ]
     },
     "execution_count": 7,
     "metadata": {},
     "output_type": "execute_result"
    }
   ],
   "source": [
    "# this cell requires graphviz (replace by UML plot)\n",
    "tf.keras.utils.plot_model(perceptron, to_file='model.png', show_shapes=True)"
   ]
  },
  {
   "cell_type": "markdown",
   "metadata": {},
   "source": [
    "Next, we create the decision rule which takes as input 5 vectors of the same size $n$ for the states $r$, $\\delta$, $q$, $p$, $w$ and returns two vectors of size $n$ for $\\zeta$ and $h$, respectively. We use different nonlinear transformations for the two decision functions, namely, sigmoid/logistic and exponential ones:\n",
    "\n",
    "\n",
    "$$\n",
    "\\begin{equation*}\n",
    "\\varphi(s;\\theta)=\\left(\\begin{matrix}\\frac{1}{1+e^{-\\mathcal{N}_1(s;\\theta)}}\\\\ \n",
    "\\exp(\\mathcal{N}_2(s;\\theta))\\end{matrix}\\right)\n",
    "\\end{equation*}\n",
    "$$\n",
    "\n",
    "\n",
    "where $\\mathcal{N}_1$ and $\\mathcal{N}_2$ denote first and second component of neural network output. This transformation ensures $\\zeta\\in[0,1]$ and $h>0$"
   ]
  },
  {
   "cell_type": "code",
   "execution_count": 8,
   "metadata": {},
   "outputs": [],
   "source": [
    "def dr(r: Vector, δ: Vector, q: Vector, p: Vector, w: Vector)-> Tuple[Vector, Vector]:\n",
    "\n",
    "    # we normalize exogenous state variables by their 2 standard deviations \n",
    "    # so that they are typically between -1 and 1 \n",
    "    r = r/σ_e_r/2\n",
    "    δ = δ/σ_e_δ/2\n",
    "    q = q/σ_e_q/2\n",
    "    p = p/σ_e_p/2\n",
    "    \n",
    "    # we normalze income to be between -1 and 1\n",
    "    w = (w-wmin)/(wmax-wmin)*2.0-1.0\n",
    "\n",
    "    # we prepare input to the perceptron\n",
    "    s = tf.concat([_e[:,None] for _e in [r,δ,q,p,w]], axis=1) # equivalent to np.column_stack\n",
    "\n",
    "    x = perceptron(s) # n x 2 matrix \n",
    "\n",
    "    # consumption share is always in [0,1]\n",
    "    ζ = tf.sigmoid( x[:,0])\n",
    "    \n",
    "    # expectation of marginal consumption is always positive\n",
    "    h = tf.exp( x[:,1] )\n",
    "    \n",
    "    return (ζ, h)"
   ]
  },
  {
   "cell_type": "markdown",
   "metadata": {},
   "source": [
    "Finally, as an illustration, we plot the initial guess of decision rules against $w$. Note that the coefficients of the perceptron are initialized with random values, so that each run will provide a different plot. Here, we are using TensorFlow in an eager mode, i.e., calculations are returned immediately, so that the library essentially behaves in the same way as numpy, and is in fact mostly compatible with it."
   ]
  },
  {
   "cell_type": "code",
   "execution_count": 9,
   "metadata": {},
   "outputs": [],
   "source": [
    "wvec = np.linspace(wmin, wmax, 100)\n",
    "# r,p,q,δ are zero-mean\n",
    "ζvec, hvec = dr(wvec*0, wvec*0, wvec*0, wvec*0, wvec)"
   ]
  },
  {
   "cell_type": "code",
   "execution_count": 10,
   "metadata": {},
   "outputs": [
    {
     "data": {
      "image/png": "[encoded data removed]",
      "text/plain": [
       "<Figure size 640x480 with 1 Axes>"
      ]
     },
     "metadata": {},
     "output_type": "display_data"
    }
   ],
   "source": [
    "plt.plot(wvec, wvec, linestyle='--', color='black')\n",
    "plt.plot(wvec, wvec*ζvec)\n",
    "plt.xlabel(\"$w_t$\")\n",
    "plt.ylabel(\"$c_t$\")\n",
    "plt.title(\"Initial Guess\")\n",
    "plt.grid()"
   ]
  },
  {
   "cell_type": "markdown",
   "metadata": {},
   "source": [
    "## Residuals in the model's equations \n",
    "\n",
    "To identify the unknown decision functions for $\\zeta$ and $h$, we use two modelp's equations,\n",
    "namely, the definition of normalized Lagrange multiplier and the FB function representing the KT conditions, respectively:\n",
    "\n",
    "$$\n",
    "\\begin{gather*}\n",
    "h=\\beta \\overline{r}E_{\\epsilon }\\left[ \\frac{u^{\\prime }\\left(\n",
    "c^{\\prime }\\right) }{u^{\\prime }(c)}\\exp \\left(   \\delta ^{\\prime }-\\delta\n",
    "+r^{\\prime }\\right)  \\right] , \\\\\n",
    "\\Psi_{FB}\\left( 1-\\zeta ,1-h\\right) =0\n",
    "\\end{gather*}\n",
    "$$\n",
    "\n",
    "where $\\epsilon'=(\\epsilon'_r,\\epsilon'_\\delta,\\epsilon'_q,\\epsilon'_p)$.\n",
    "\n",
    "We do not need to include the definition $\\zeta = \\frac{c}{w}$ because we will impose it to hold exactly in the solution by setting $c=w\\zeta $ and $c^{\\prime }=w^{\\prime }\\zeta ^{\\prime }$.\n",
    "\n",
    "We next construct the residuals in the above two equations which we will minimize. For given vectors of current state $s=(r,\\delta ,q,p,w)$ we use next-period shocks $\\epsilon'$ to compute realized residuals:\n",
    "\n",
    "$$\n",
    "\\begin{equation*}\n",
    "\\begin{matrix}\n",
    "R_1(s,\\epsilon')=\\beta \\overline{r} \\frac{u^{\\prime }\\left(\n",
    "c^{\\prime }\\right) }{u^{\\prime }(c)}\\exp \\left( \\delta ^{\\prime }-\\delta\n",
    "+r^{\\prime }\\right) -h,\n",
    "\\\\ \n",
    "R_2(s)=\\Psi_{FB}\\left( 1-\\zeta ,1-h\\right), \n",
    "\\end{matrix}\n",
    "\\end{equation*}\n",
    "$$\n",
    "\n",
    "where the transition equation is $w^{\\prime }=\\left( w-c\\right) \\overline{r%\n",
    "}\\exp (r)+\\exp (y)$."
   ]
  },
  {
   "cell_type": "code",
   "execution_count": 11,
   "metadata": {
    "lines_to_next_cell": 0
   },
   "outputs": [],
   "source": [
    "def Residuals(e_r: Vector, e_δ: Vector, e_q: Vector, e_p: Vector, r: Vector, δ: Vector, q: Vector, p: Vector, w: Vector):\n",
    "\n",
    "    # all inputs are expected to have the same size n\n",
    "    n = tf.size(r)\n",
    "\n",
    "    # arguments correspond to the values of the states today\n",
    "    ζ, h = dr(r, δ, q, p, w)\n",
    "    c = ζ*w\n",
    "\n",
    "    # transitions of the exogenous processes\n",
    "    rnext = r*ρ_r + e_r\n",
    "    δnext = δ*ρ_δ + e_δ\n",
    "    pnext = p*ρ_p + e_p\n",
    "    qnext = q*ρ_q + e_q\n",
    "    # (epsilon = (rnext, δnext, pnext, qnext))\n",
    "    \n",
    "    # transition of endogenous states (next denotes variables at t+1)\n",
    "    wnext = tf.exp(pnext)*tf.exp(qnext) + (w-c)*rbar*tf.exp(rnext)\n",
    "\n",
    "    ζnext, hnext = dr(rnext, δnext, qnext, pnext, wnext)\n",
    "    cnext = ζnext*wnext\n",
    "\n",
    "\n",
    "    R1 = β*tf.exp(δnext-δ)*(cnext/c)**(-γ)*rbar*tf.exp(rnext) - h\n",
    "    R2 = min_FB(1-h,1-ζ)\n",
    "\n",
    "    return (R1, R2)"
   ]
  },
  {
   "cell_type": "markdown",
   "metadata": {},
   "source": [
    "## The expected squared sum of residuals\n",
    "\n",
    "We construct the objective function for minimization as the squared sum of\n",
    "two residuals in the two model's equations on a given 5-dimensional domain $s=(r,\\delta ,q,p,w)$: \n",
    "\n",
    "$$\n",
    "\\begin{equation*}\n",
    "\\Xi (\\theta )=E_{s}\\left[ \\left( E_{\\epsilon }\\left[ R_1(s,\\epsilon')\\ \\right] \\right) ^{2}+v\\left( R_2(s)\\right) ^{2}\\right] ,\n",
    "\\end{equation*}\n",
    "$$\n",
    "\n",
    "where $v$ is the exogenous relative weights of the two residuals in the\n",
    "objective function. We placed the first residual $R_1(s,\\epsilon')$ under the expectation\n",
    "operator $E_{\\epsilon }$ across next-period shocks $\\epsilon' =\\left(\n",
    "\\epsilon' _{r},\\epsilon' _{\\delta },\\epsilon' _{q},\\epsilon' _{p}\\right) $ as is\n",
    "required by the definition of $h$; the second residual $R_2(s)$ does not include random variables  \n",
    "and requires no expectation operator. The value of the objective function $\\Xi (\\theta )$\n",
    "depends on the coefficients $\\theta $ because these coefficients determine the choices via  \n",
    "\n",
    "$$\n",
    "\\begin{equation*}\n",
    "\\left( \n",
    "\\begin{matrix}\n",
    "\\zeta  \\\\ \n",
    "h%\n",
    "\\end{matrix}%\n",
    "\\right) =\\varphi (s;\\theta ).\n",
    "\\end{equation*}\n",
    "$$\n",
    "\n",
    "A shortcoming of the constructed objective function is that it requires\n",
    "a potentially costly evaluation of two nested expectation operators: for\n",
    "each random grid point $s=(r,\\delta ,q,p,w)$, we need to construct a\n",
    "separate approximation of the expectation function $E_{\\epsilon }\\left[\n",
    " R_1(s,\\epsilon')\\right] $ by considering a potentially large\n",
    "number of next period shocks $\\epsilon' =\\left( \\epsilon' _{r},\\epsilon'\n",
    "_{\\delta },\\epsilon' _{q},\\epsilon' _{p}\\right) $. In particular, if there are \n",
    "$n$ grid points and $J$ next-period shocks, we have $n\\times J$ function\n",
    "evaluations."
   ]
  },
  {
   "cell_type": "markdown",
   "metadata": {},
   "source": [
    "## All-in-one expectation function\n",
    "\n",
    "In the paper, we introduce a technique which we call an all-in-one expectation operator\n",
    "that makes it possible to merge the two expectation operators into a single\n",
    "one. This technique relies on a simple result from probability theory that\n",
    "says that for two random variables $a$ and $b$, which are independent and\n",
    "follow the same distribution, we have $E[a]^{2}=E[a]E[b]=E[ab]$. \n",
    "\n",
    "Therefore, we replace $\\left( E_{\\epsilon }\\left[  R_1(s,\\epsilon')\\right] \\right) ^{2}$ by the product of two residuals constructed\n",
    "by using two uncorrelated random draws $\\epsilon' _{1}$ and $\\epsilon' _{2}$,\n",
    "and therefore, we can pull the expectation out of squares \n",
    "\n",
    "\n",
    "$$\n",
    "\\begin{equation*}\n",
    "E_{\\epsilon _{1}}\\left[ R_1(s,\\epsilon'_1)\\right]\n",
    "E_{\\epsilon _{2}}\\left[  R_1(s,\\epsilon'_2)\\right]\n",
    "=E_{\\epsilon _{1},\\epsilon _{2}}\\left[ R_1(s,\\epsilon'_1)R_1(s,\\epsilon'_2) \\right]. \n",
    "\\end{equation*}\n",
    "$$\n",
    "\n",
    "With that result, we can re-write the objective function as just one\n",
    "expectation operator: \n",
    "\n",
    "$$\n",
    "\\begin{equation*}\n",
    "\\Xi (\\theta )=E_{s,\\epsilon _{1},\\epsilon _{2}}\\left[ \\underset{\\xi (\\omega\n",
    ";\\theta )}{\\underbrace{R_{1}\\left( s,\\epsilon'\n",
    "_{1}\\right) R_{1}\\left(\n",
    "s,\\epsilon' _{2}\\right) +v\\left(\n",
    "R_{2}\\left( s\\right) \\right) ^{2}}}\\right] \\equiv E_{\\omega }\\left[ \\xi\n",
    "(\\omega ;\\theta )\\right],\n",
    "\\end{equation*}\n",
    "$$\n",
    "\n",
    "where $\\omega =(s,\\epsilon' _{1},\\epsilon' _{2})$. Therefore, we wrote the\n",
    "objective function of the deep learning method as a single expectation\n",
    "operator $E_{\\omega }\\left[ \\xi (\\omega ;\\theta )\\right] $ of a function $%\n",
    "\\xi (\\omega ;\\theta )$ that depends on a vector-valued random variable $%\n",
    "\\omega $. We approximate $\\Xi (\\theta )$ by using Monte Carlo simulation:\n",
    "\n",
    "$$\n",
    "\\begin{equation*}\n",
    "\\Xi (\\theta )\\approx \\Xi ^{n}(\\theta )=\\frac{1}{n}\\sum_{i=1}^{n}\\xi (\\omega\n",
    "_{i};\\theta ),\n",
    "\\end{equation*}\n",
    "$$\n",
    "\n",
    "i.e., we draw $n$ random draws of $\\omega =(s,\\epsilon' _{1},\\epsilon' _{2})$\n",
    "and compute the average of the objective function"
   ]
  },
  {
   "cell_type": "code",
   "execution_count": 12,
   "metadata": {},
   "outputs": [],
   "source": [
    "def Ξ(n): # objective function for DL training\n",
    "\n",
    "    # randomly drawing current states\n",
    "    r = tf.random.normal(shape=(n,), stddev=σ_e_r)\n",
    "    δ = tf.random.normal(shape=(n,), stddev=σ_e_δ)\n",
    "    p = tf.random.normal(shape=(n,), stddev=σ_e_p)\n",
    "    q = tf.random.normal(shape=(n,), stddev=σ_e_q)\n",
    "    w = tf.random.uniform(shape=(n,), minval=wmin, maxval=wmax)\n",
    " \n",
    "    # randomly drawing 1st realization for shocks\n",
    "    e1_r = tf.random.normal(shape=(n,), stddev=σ_r)\n",
    "    e1_δ = tf.random.normal(shape=(n,), stddev=σ_δ)\n",
    "    e1_p = tf.random.normal(shape=(n,), stddev=σ_p)\n",
    "    e1_q = tf.random.normal(shape=(n,), stddev=σ_q)\n",
    "\n",
    "    # randomly drawing 2nd realization for shocks\n",
    "    e2_r = tf.random.normal(shape=(n,), stddev=σ_r)\n",
    "    e2_δ = tf.random.normal(shape=(n,), stddev=σ_δ)\n",
    "    e2_p = tf.random.normal(shape=(n,), stddev=σ_p)\n",
    "    e2_q = tf.random.normal(shape=(n,), stddev=σ_q)\n",
    "    \n",
    "    # residuals for n random grid points under 2 realizations of shocks\n",
    "    R1_e1, R2_e1 = Residuals(e1_r, e1_δ, e1_p, e1_q, r, δ, q, p, w)\n",
    "    R1_e2, R2_e2 = Residuals(e2_r, e2_δ, e2_p, e2_q, r, δ, q, p, w)\n",
    "\n",
    "    # construct all-in-one expectation operator\n",
    "    R_squared = R1_e1*R1_e2 + R2_e1*R2_e2 \n",
    "    \n",
    "    # compute average across n random draws\n",
    "    return tf.reduce_mean(R_squared)"
   ]
  },
  {
   "cell_type": "markdown",
   "metadata": {},
   "source": [
    "So far, we have been using TensorFlow in the eager execution mode as if it was numpy: result of each operation is computed immediately."
   ]
  },
  {
   "cell_type": "code",
   "execution_count": 13,
   "metadata": {},
   "outputs": [
    {
     "data": {
      "text/plain": [
       "<tf.Tensor: shape=(), dtype=float32, numpy=0.33896434>"
      ]
     },
     "execution_count": 13,
     "metadata": {},
     "output_type": "execute_result"
    }
   ],
   "source": [
    "n = 128\n",
    "v = Ξ(n)\n",
    "v"
   ]
  },
  {
   "cell_type": "markdown",
   "metadata": {},
   "source": [
    "Note that the intermediate results are still stored as special tensorflow objects (tensors) and they can be converted to a regular value easily."
   ]
  },
  {
   "cell_type": "code",
   "execution_count": 14,
   "metadata": {},
   "outputs": [
    {
     "data": {
      "text/plain": [
       "0.33896434"
      ]
     },
     "execution_count": 14,
     "metadata": {},
     "output_type": "execute_result"
    }
   ],
   "source": [
    "v.numpy()"
   ]
  },
  {
   "cell_type": "markdown",
   "metadata": {},
   "source": [
    "# Model training\n",
    "\n",
    "We are now ready to perform minimization of the objective $\\Xi_n$, hence to solve (or to train) the model using stochastic optimization - the stochastic gradient descent method, and in particular, its version called Adam.\n",
    "\n",
    "Some readers might have noticed that we have never defined in this notebook a vector of coefficients $\\theta$ in the code and that the objective function $\\Xi_n$ doesn't seem to depend on it, but on $n$ only.\n",
    "\n",
    "This is not quite true. The coefficients $\\theta$ have actually been created, and initialized with random values. They are attached to the perceptron object and stored in the computational graph created by TensorFlow. We can easily recover these variables and print these values."
   ]
  },
  {
   "cell_type": "code",
   "execution_count": 15,
   "metadata": {},
   "outputs": [
    {
     "name": "stdout",
     "output_type": "stream",
     "text": [
      "[<tf.Variable 'dense/kernel:0' shape=(5, 32) dtype=float32, numpy=\n",
      "array([[ 0.2545132 ,  0.02506438,  0.1552571 ,  0.1225034 ,  0.3797984 ,\n",
      "        -0.05010071,  0.25448853, -0.16206495,  0.12976569,  0.08559567,\n",
      "        -0.29681727, -0.03129625,  0.3065641 ,  0.20710766, -0.21801534,\n",
      "        -0.30839026, -0.29309362,  0.1876595 , -0.16822147, -0.15498808,\n",
      "         0.32515305, -0.04191464,  0.24757236,  0.2033906 ,  0.22789657,\n",
      "         0.23478246,  0.34750164, -0.0624274 , -0.26448393,  0.2774499 ,\n",
      "        -0.10661274, -0.15645194],\n",
      "       [-0.1342091 ,  0.16377908, -0.17758885,  0.22779018,  0.10064107,\n",
      "         0.19676226,  0.00821957, -0.10586503,  0.05948988, -0.36521894,\n",
      "        -0.09028968, -0.22027013, -0.21970809, -0.3182715 ,  0.3932773 ,\n",
      "        -0.15829359, -0.24204367, -0.35268557, -0.1118134 ,  0.32984447,\n",
      "         0.34948957,  0.06619701,  0.28459907, -0.32677603,  0.281569  ,\n",
      "         0.28735262, -0.16763274, -0.27744925, -0.3255156 ,  0.10542637,\n",
      "         0.29393506,  \n"
     ]
    }
   ],
   "source": [
    "θ = perceptron.trainable_variables\n",
    "print( str(θ)[:1000] ) # we truncate output"
   ]
  },
  {
   "cell_type": "markdown",
   "metadata": {},
   "source": [
    "Now it is time to choose an optimizer. In TensorFlow, the optimizer object is in charge of performing the optimization steps, given the computed gradient. For the stochastic gradient descent, the updating rule would be:\n",
    "$$\\theta \\leftarrow \\theta(1-\\lambda) - \\lambda\\nabla_{\\theta} \\Xi_n(\\theta)$$\n",
    "where $\\lambda$ is a learning rate.\n",
    "For Adam, the learning rate evolves over time and can be specific to each coefficient."
   ]
  },
  {
   "cell_type": "code",
   "execution_count": 16,
   "metadata": {
    "lines_to_next_cell": 2
   },
   "outputs": [],
   "source": [
    "from tensorflow.keras.optimizers import Adam, SGD"
   ]
  },
  {
   "cell_type": "code",
   "execution_count": 17,
   "metadata": {},
   "outputs": [],
   "source": [
    "variables = perceptron.trainable_variables\n",
    "optimizer = Adam()\n",
    "# optimizer = SGD(λ=0.1) # SGD can be used in place of Adam"
   ]
  },
  {
   "cell_type": "markdown",
   "metadata": {},
   "source": [
    "We use the GradientTape functionality from TensorFlow to compute the gradient from the objective, and supply it to the optimizer. Also, to speed up computation, we specifically instruct TensorFlow to run each training step in a \"graph\" mode. This is done by using a`tf.function` decorator. As a result, all the computations will be pre-optimized in the graph and will be ran efficiently in a scalable way."
   ]
  },
  {
   "cell_type": "code",
   "execution_count": 18,
   "metadata": {},
   "outputs": [],
   "source": [
    "@tf.function\n",
    "def training_step():\n",
    "\n",
    "    with tf.GradientTape() as tape:\n",
    "        xx = Ξ(n)\n",
    "\n",
    "    grads = tape.gradient(xx, θ)\n",
    "    optimizer.apply_gradients(zip(grads,θ))\n",
    "\n",
    "    return xx"
   ]
  },
  {
   "cell_type": "markdown",
   "metadata": {},
   "source": [
    "We repeat the training_step K times with the following function (each training step is called an epoch)."
   ]
  },
  {
   "cell_type": "code",
   "execution_count": 19,
   "metadata": {},
   "outputs": [],
   "source": [
    "def train_me(K):\n",
    "\n",
    "    vals = []\n",
    "    for k in tqdm(tf.range(K)):\n",
    "        val = training_step()\n",
    "        vals.append(val.numpy())\n",
    "        \n",
    "    return vals"
   ]
  },
  {
   "cell_type": "code",
   "execution_count": 20,
   "metadata": {},
   "outputs": [
    {
     "name": "stderr",
     "output_type": "stream",
     "text": [
      "\r",
      "  0%|                                                               | 0/50000 [00:00<?, ?it/s]"
     ]
    },
    {
     "name": "stdout",
     "output_type": "stream",
     "text": [
      "WARNING:tensorflow:From /usr/local/lib/python3.10/site-packages/tensorflow/python/autograph/pyct/static_analysis/liveness.py:83: Analyzer.lamba_check (from tensorflow.python.autograph.pyct.static_analysis.liveness) is deprecated and will be removed after 2023-09-23.\n",
      "Instructions for updating:\n",
      "Lambda fuctions will be no more assumed to be used in the statement where they are used, or at least in the same block. https://github.com/tensorflow/tensorflow/issues/56089\n"
     ]
    },
    {
     "name": "stderr",
     "output_type": "stream",
     "text": [
      "100%|██████████████████████████████████████████████████| 50000/50000 [01:51<00:00, 447.38it/s]\n"
     ]
    }
   ],
   "source": [
    "# with writer.as_default():\n",
    "results = train_me(50000)"
   ]
  },
  {
   "cell_type": "markdown",
   "metadata": {},
   "source": [
    "On a modern CPU, optimization should be done within a few minutes. It would be dramatically faster on hardware adapted to deep-learning. To see how the training has performed, we can plot the empirical errors against the number of epochs."
   ]
  },
  {
   "cell_type": "code",
   "execution_count": 21,
   "metadata": {},
   "outputs": [
    {
     "data": {
      "image/png": "[encoded data removed]",
      "text/plain": [
       "<Figure size 640x480 with 1 Axes>"
      ]
     },
     "metadata": {},
     "output_type": "display_data"
    }
   ],
   "source": [
    "plt.plot(np.sqrt( results) )\n",
    "plt.xscale('log')\n",
    "plt.yscale('log')\n",
    "plt.grid()"
   ]
  },
  {
   "cell_type": "markdown",
   "metadata": {},
   "source": [
    "In the training graph, one can see that errors are decreasing until they reach $2*10^{-5}$ on average (the errors are volatile both because they depend on a specific random draw and because only two such random draws are used to approximate the expectation function). The numbers in the graph represent the mean of the squared residuals. If we take the square root, we get $5*10^{-3}$ for the $L_2$ norm, wich is still quite accurate approximation for a model with 5 states variables and a kinked solution. We show the constructed decision rule below."
   ]
  },
  {
   "cell_type": "code",
   "execution_count": 22,
   "metadata": {},
   "outputs": [
    {
     "data": {
      "image/png": "[encoded data removed]",
      "text/plain": [
       "<Figure size 640x480 with 1 Axes>"
      ]
     },
     "metadata": {},
     "output_type": "display_data"
    }
   ],
   "source": [
    "wvec = np.linspace(wmin, wmax, 100)\n",
    "ζvec, hvec = dr(wvec*0, wvec*0, wvec*0, wvec*0, wvec)\n",
    "\n",
    "plt.title(\"Multidimensional Consumption-Savings (decision rule)\")\n",
    "plt.plot(wvec, wvec, linestyle='--', color='black')\n",
    "plt.plot(wvec, wvec*ζvec)\n",
    "plt.xlabel(\"$w_t$\")\n",
    "plt.ylabel(\"$c_t$\")\n",
    "plt.grid()"
   ]
  },
  {
   "cell_type": "markdown",
   "metadata": {},
   "source": [
    "```\n",
    "  ___ ___                        _____           ._.\n",
    " /   |   \\_____ ___  __ ____   _/ ____\\_ __  ____| |\n",
    "/    ~    \\__  \\\\  \\/ // __ \\  \\   __\\  |  \\/    \\ |\n",
    "\\    Y    // __ \\\\   /\\  ___/   |  | |  |  /   |  \\|\n",
    " \\___|_  /(____  /\\_/  \\___  >  |__| |____/|___|  /_\n",
    "       \\/      \\/          \\/                   \\/\\/\n",
    "```"
   ]
  },
  {
   "cell_type": "code",
   "execution_count": 24,
   "metadata": {},
   "outputs": [
    {
     "data": {
      "image/png": "[encoded data removed]",
      "text/plain": [
       "<Figure size 640x480 with 1 Axes>"
      ]
     },
     "metadata": {},
     "output_type": "display_data"
    }
   ],
   "source": [
    "plt.title(\"Multidimensional Consumption-Savings (decision rule)\")\n",
    "plt.plot(wvec, hvec)\n",
    "plt.xlabel(\"$w_t$\")\n",
    "plt.ylabel(\"$h_t$\")\n",
    "plt.grid()"
   ]
  },
  {
   "cell_type": "code",
   "execution_count": null,
   "metadata": {},
   "outputs": [],
   "source": []
  },
  {
   "cell_type": "code",
   "execution_count": null,
   "metadata": {},
   "outputs": [],
   "source": []
  }
 ],
 "metadata": {
  "jupytext": {
   "cell_metadata_filter": "-all",
   "encoding": "# -*- coding: utf-8 -*-",
   "main_language": "python",
   "notebook_metadata_filter": "-all"
  },
  "kernelspec": {
   "display_name": "Python 3 (ipykernel)",
   "language": "python",
   "name": "python3"
  },
  "language_info": {
   "codemirror_mode": {
    "name": "ipython",
    "version": 3
   },
   "file_extension": ".py",
   "mimetype": "text/x-python",
   "name": "python",
   "nbconvert_exporter": "python",
   "pygments_lexer": "ipython3",
   "version": "3.10.9"
  }
 },
 "nbformat": 4,
 "nbformat_minor": 4
}
