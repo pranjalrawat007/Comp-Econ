{
 "cells": [
  {
   "cell_type": "markdown",
   "id": "c5edf6bf",
   "metadata": {},
   "source": [
    "# Cake eating - optimized"
   ]
  },
  {
   "cell_type": "code",
   "execution_count": 192,
   "id": "b9274aa9",
   "metadata": {},
   "outputs": [],
   "source": [
    "import tensorflow as tf\n",
    "import numpy as np\n",
    "from math import sqrt\n",
    "from matplotlib import pyplot as plt\n",
    "from tqdm import tqdm as tqdm         # tqdm is a nice library to visualize ongoing loops\n",
    "import datetime\n",
    "# followint lines are used for indicative typing\n",
    "from typing import Tuple\n",
    "class Vector: pass"
   ]
  },
  {
   "cell_type": "code",
   "execution_count": 234,
   "id": "b52bd049",
   "metadata": {},
   "outputs": [
    {
     "name": "stdout",
     "output_type": "stream",
     "text": [
      "(200, 1) (200, 1)\n"
     ]
    },
    {
     "data": {
      "text/plain": [
       "[<matplotlib.lines.Line2D at 0x159bdf820>]"
      ]
     },
     "execution_count": 234,
     "metadata": {},
     "output_type": "execute_result"
    },
    {
     "data": {
      "image/png": "[encoded data removed]",
      "text/plain": [
       "<Figure size 640x480 with 1 Axes>"
      ]
     },
     "metadata": {},
     "output_type": "display_data"
    }
   ],
   "source": [
    "# Model parameters\n",
    "β = 0.9 \n",
    "xmin=0.0001\n",
    "xmax=1.0\n",
    "min_FB = lambda a,b: a+b-tf.sqrt(a**2+b**2)\n",
    "layers = [\n",
    "    tf.keras.layers.Normalization(axis=-1, input_dim=1, mean=None, variance=None, invert=False),\n",
    "    tf.keras.layers.Dense(64, activation='leaky_relu',  bias_initializer='he_uniform'),\n",
    "    tf.keras.layers.Dense(64, activation='leaky_relu',  bias_initializer='he_uniform'),\n",
    "    tf.keras.layers.Dense(64, activation='leaky_relu',  bias_initializer='he_uniform'),\n",
    "    tf.keras.layers.Dense(1, activation=tf.keras.activations.linear)\n",
    "]\n",
    "perceptron = tf.keras.Sequential(layers)\n",
    "λ=2\n",
    "def model(x:Vector)->Tuple[Vector]:\n",
    "    c = perceptron(x)\n",
    "    return c\n",
    "\n",
    "xvec = np.power(np.linspace(xmin**(1/λ),xmax**(1/λ),200,dtype='float32'),λ).reshape(-1,1)\n",
    "print(xvec.shape, model(xvec).shape)\n",
    "plt.plot(xvec, model(xvec), label = 'c(x)')"
   ]
  },
  {
   "cell_type": "code",
   "execution_count": 235,
   "id": "9df9e8f3",
   "metadata": {},
   "outputs": [
    {
     "data": {
      "text/plain": [
       "0.14708848"
      ]
     },
     "execution_count": 235,
     "metadata": {},
     "output_type": "execute_result"
    }
   ],
   "source": [
    "def residuals(x:Vector):\n",
    "    c=model(x)\n",
    "    xp=x-c\n",
    "    cp=model(xp)\n",
    "    R = min_FB(x-c,c**(-1)-β*cp**(-1))\n",
    "    return R\n",
    "\n",
    "residuals(xvec);\n",
    "\n",
    "def J(n):\n",
    "    x = tf.random.uniform(shape=(n,1),minval=xmin,maxval=xmax)\n",
    "    R = residuals(x)\n",
    "    R_squared = R*R\n",
    "    return tf.reduce_mean(R_squared)\n",
    "\n",
    "n = 5000\n",
    "v = J(n)\n",
    "v.numpy()"
   ]
  },
  {
   "cell_type": "code",
   "execution_count": 236,
   "id": "f908764e",
   "metadata": {},
   "outputs": [
    {
     "name": "stdout",
     "output_type": "stream",
     "text": [
      "[<tf.Variable 'dense_104/kernel:0' shape=(1, 64) dtype=float32, numpy=\n",
      "array([[ 0.18889314, -0.2563056 ,  0.28267157,  0.28711152,  0.01342753,\n",
      "        -0.01567668,  0.16954961, -0.06183796, -0.1310641 , -0.23843706,\n",
      "         0.16044113, -0.27836898,  0.16016594,  0.2055251 , -0.2584477 ,\n",
      "        -0.06841189, -0.00883359,  0.12721792,  0.03613806, -0.13966808,\n",
      "        -0.2441894 ,  0.22679114, -0.2029765 ,  0.2392391 ,  0.17524603,\n",
      "         0.07473075,  0.10872772,  0.04900658,  0.26105273, -0.22253188,\n",
      "         0.01376632,  0.14225197, -0.17787224,  0.07639638, -0.08345157,\n",
      "        -0.21004865, -0.17306063, -0.24862702,  0.0716081 ,  0.2577663 ,\n",
      "         0.25696117,  0.15724745, -0.0204809 ,  0.16683194,  0.0961498 ,\n",
      "        -0.21163681,  0.0851889 , -0.05130038,  0.21903348,  0.21613878,\n",
      "         0.14305738, -0.29902223,  0.03057593,  0.14202118,  0.06873271,\n",
      "        -0.17852229,  0.03087705,  0.27030307,  0.1021814 ,  0.12791008,\n",
      "         0.25159514, -0.03912288,  0.12199697, -0.179\n"
     ]
    }
   ],
   "source": [
    "θ = perceptron.trainable_variables\n",
    "print(str(θ)[:1000])"
   ]
  },
  {
   "cell_type": "code",
   "execution_count": 237,
   "id": "36db991f",
   "metadata": {},
   "outputs": [],
   "source": [
    "from tensorflow.keras.optimizers import Adam, SGD\n",
    "variables = perceptron.trainable_variables\n",
    "optimizer = SGD()\n",
    "#optimizer.lr.assign(0.00001)"
   ]
  },
  {
   "cell_type": "code",
   "execution_count": 238,
   "id": "f8c9ca77",
   "metadata": {},
   "outputs": [],
   "source": [
    "@tf.function\n",
    "def training_step():\n",
    "    \n",
    "    with tf.GradientTape() as tape:\n",
    "        xx = J(n)\n",
    "        \n",
    "    grads = tape.gradient(xx,θ)\n",
    "    optimizer.apply_gradients(zip(grads,θ))\n",
    "    \n",
    "    return xx\n",
    "\n",
    "def train_me(K):\n",
    "    vals=[]\n",
    "    for k in tqdm(tf.range(K)):\n",
    "        val=training_step()\n",
    "        vals.append(val.numpy())\n",
    "    return vals"
   ]
  },
  {
   "cell_type": "code",
   "execution_count": null,
   "id": "1bad2a1b",
   "metadata": {},
   "outputs": [
    {
     "name": "stderr",
     "output_type": "stream",
     "text": [
      " 88%|██████████████████████████████████▏    | 4385/5000 [01:19<00:10, 57.90it/s]"
     ]
    }
   ],
   "source": [
    "results = train_me(5000)"
   ]
  },
  {
   "cell_type": "code",
   "execution_count": 253,
   "id": "d516b6a4",
   "metadata": {},
   "outputs": [
    {
     "name": "stderr",
     "output_type": "stream",
     "text": [
      "100%|█████████████████████████████████████████| 500/500 [00:08<00:00, 57.94it/s]\n"
     ]
    }
   ],
   "source": [
    "results = train_me(500)"
   ]
  },
  {
   "cell_type": "code",
   "execution_count": null,
   "id": "4e1a181b",
   "metadata": {},
   "outputs": [],
   "source": [
    "plt.plot(np.sqrt(results))\n",
    "plt.xscale('log')\n",
    "plt.yscale('log')\n",
    "plt.grid()"
   ]
  },
  {
   "cell_type": "code",
   "execution_count": 1,
   "id": "b6c62490",
   "metadata": {},
   "outputs": [
    {
     "ename": "NameError",
     "evalue": "name 'plt' is not defined",
     "output_type": "error",
     "traceback": [
      "\u001b[0;31m---------------------------------------------------------------------------\u001b[0m",
      "\u001b[0;31mNameError\u001b[0m                                 Traceback (most recent call last)",
      "Cell \u001b[0;32mIn [1], line 1\u001b[0m\n\u001b[0;32m----> 1\u001b[0m \u001b[43mplt\u001b[49m\u001b[38;5;241m.\u001b[39mplot(xvec,model(xvec),label\u001b[38;5;241m=\u001b[39m\u001b[38;5;124m'\u001b[39m\u001b[38;5;124mSolved c(x)\u001b[39m\u001b[38;5;124m'\u001b[39m)\n\u001b[1;32m      2\u001b[0m plt\u001b[38;5;241m.\u001b[39mplot(xvec,(\u001b[38;5;241m1\u001b[39m\u001b[38;5;241m-\u001b[39mβ)\u001b[38;5;241m*\u001b[39mxvec, \u001b[38;5;124m'\u001b[39m\u001b[38;5;124mbo\u001b[39m\u001b[38;5;124m'\u001b[39m, label\u001b[38;5;241m=\u001b[39m\u001b[38;5;124m'\u001b[39m\u001b[38;5;124mTrue c(x)\u001b[39m\u001b[38;5;124m'\u001b[39m)\n\u001b[1;32m      3\u001b[0m plt\u001b[38;5;241m.\u001b[39mxlim([\u001b[38;5;241m0\u001b[39m,\u001b[38;5;241m1\u001b[39m])\n",
      "\u001b[0;31mNameError\u001b[0m: name 'plt' is not defined"
     ]
    }
   ],
   "source": [
    "plt.plot(xvec,model(xvec),label='Solved c(x)')\n",
    "plt.plot(xvec,(1-β)*xvec, 'bo', label='True c(x)')\n",
    "plt.xlim([0,1])\n",
    "plt.ylim([0,1])\n",
    "plt.show()"
   ]
  },
  {
   "cell_type": "code",
   "execution_count": null,
   "id": "f197345b",
   "metadata": {},
   "outputs": [],
   "source": []
  }
 ],
 "metadata": {
  "kernelspec": {
   "display_name": "Python 3 (ipykernel)",
   "language": "python",
   "name": "python3"
  },
  "language_info": {
   "codemirror_mode": {
    "name": "ipython",
    "version": 3
   },
   "file_extension": ".py",
   "mimetype": "text/x-python",
   "name": "python",
   "nbconvert_exporter": "python",
   "pygments_lexer": "ipython3",
   "version": "3.10.9"
  }
 },
 "nbformat": 4,
 "nbformat_minor": 5
}
