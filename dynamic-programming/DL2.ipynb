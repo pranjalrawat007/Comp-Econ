{
 "cells": [
  {
   "cell_type": "code",
   "execution_count": 84,
   "id": "86bcfa6a",
   "metadata": {},
   "outputs": [],
   "source": [
    "import torch as to\n",
    "to.set_printoptions(precision=3)\n",
    "to.autograd.set_detect_anomaly(True)\n",
    "import matplotlib.pyplot as plt\n",
    "import numpy as np"
   ]
  },
  {
   "cell_type": "code",
   "execution_count": 85,
   "id": "54e4f00d",
   "metadata": {},
   "outputs": [
    {
     "name": "stdout",
     "output_type": "stream",
     "text": [
      "tensor([[10.],\n",
      "        [ 1.]])\n"
     ]
    }
   ],
   "source": [
    "# Example 1\n",
    "β = 0.95\n",
    "r = 0.1\n",
    "a0 = 10\n",
    "T = 1\n",
    "a = to.ones(T+1)\n",
    "a[0] = a0\n",
    "a = a.reshape(-1, 1)\n",
    "print(a)"
   ]
  },
  {
   "cell_type": "code",
   "execution_count": 119,
   "id": "f0d22dca",
   "metadata": {},
   "outputs": [
    {
     "data": {
      "text/plain": [
       "(torch.Size([11, 1]), torch.Size([11, 1]))"
      ]
     },
     "execution_count": 119,
     "metadata": {},
     "output_type": "execute_result"
    }
   ],
   "source": [
    "# Shallow Neural Network\n",
    "cpolicy = to.nn.Sequential(to.nn.Linear(1, 1))\n",
    "input = to.rand(11, 1)\n",
    "input.shape, cpolicy(input).shape"
   ]
  },
  {
   "cell_type": "code",
   "execution_count": 141,
   "id": "44723989",
   "metadata": {},
   "outputs": [
    {
     "data": {
      "text/plain": [
       "tensor([[False]])"
      ]
     },
     "execution_count": 141,
     "metadata": {},
     "output_type": "execute_result"
    }
   ],
   "source": [
    "-1000 * cpolicy(a0)>a0 * (cpolicy(a0)<0)"
   ]
  },
  {
   "cell_type": "code",
   "execution_count": 125,
   "id": "6018b9ff",
   "metadata": {},
   "outputs": [
    {
     "data": {
      "text/plain": [
       "[<matplotlib.lines.Line2D at 0x1166e7910>]"
      ]
     },
     "execution_count": 125,
     "metadata": {},
     "output_type": "execute_result"
    },
    {
     "data": {
      "image/png": "[encoded data removed]",
      "text/plain": [
       "<Figure size 640x480 with 1 Axes>"
      ]
     },
     "metadata": {},
     "output_type": "display_data"
    }
   ],
   "source": [
    "obj_val = []\n",
    "a0=to.tensor(10.0).reshape(1,-1)\n",
    "for i in range(10):\n",
    "    loss = to.tensor(0.0).reshape(1,1)\n",
    "    loss = -(cpolicy(a0)+β*cpolicy(r*(a0-cpolicy(a0)))+to.where((cpolicy(a0)>a0) & (cpolicy(a0)<0),-1000))\n",
    "    obj_val.append(-loss.item())\n",
    "    optimizer = to.optim.SGD(cpolicy.parameters(), lr=0.01)\n",
    "    optimizer.zero_grad()\n",
    "    loss.backward(retain_graph=True)\n",
    "    optimizer.step()\n",
    "plt.plot(obj_val)"
   ]
  },
  {
   "cell_type": "code",
   "execution_count": 126,
   "id": "f665b56f",
   "metadata": {},
   "outputs": [
    {
     "data": {
      "text/plain": [
       "(tensor([[14.826]], grad_fn=<AddmmBackward0>),\n",
       " tensor([[-0.362]], grad_fn=<AddmmBackward0>))"
      ]
     },
     "execution_count": 126,
     "metadata": {},
     "output_type": "execute_result"
    }
   ],
   "source": [
    "cpolicy(a0), cpolicy(r*(a0-cpolicy(a0)))"
   ]
  },
  {
   "cell_type": "code",
   "execution_count": 73,
   "id": "468afd4a",
   "metadata": {},
   "outputs": [],
   "source": [
    "loss = to.tensor(0.0).reshape(1,1)\n",
    "loss = cpolicy(a[0])+β*cpolicy(r*(a[0]-cpolicy(a[0])))"
   ]
  },
  {
   "cell_type": "code",
   "execution_count": 69,
   "id": "e9611045",
   "metadata": {
    "scrolled": true
   },
   "outputs": [
    {
     "name": "stdout",
     "output_type": "stream",
     "text": [
      "0 10.0 0.618694007396698 3.8130598068237305\n",
      "1 0.618694007396698 -0.05029570683836937 4.878628253936768\n",
      "2 -0.05029570683836937 -0.09800198674201965 5.7177042961120605\n",
      "3 -0.09800198674201965 -0.10140396654605865 6.503092288970947\n",
      "4 -0.10140396654605865 -0.10164656490087509 7.248415946960449\n",
      "5 -0.10164656490087509 -0.10166386514902115 7.956419467926025\n",
      "6 -0.10166386514902115 -0.10166510194540024 8.629018783569336\n",
      "7 -0.10166510194540024 -0.1016651913523674 9.267988204956055\n",
      "8 -0.1016651913523674 -0.1016651913523674 9.875009536743164\n",
      "9 -0.1016651913523674 -0.1016651913523674 10.451679229736328\n",
      "10 -0.1016651913523674 -0.1016651913523674 10.999515533447266\n",
      "11 -0.1016651913523674 -0.1016651913523674 11.519960403442383\n",
      "12 -0.1016651913523674 -0.1016651913523674 12.014382362365723\n",
      "13 -0.1016651913523674 -0.1016651913523674 12.48408317565918\n",
      "14 -0.1016651913523674 -0.1016651913523674 12.930299758911133\n",
      "15 -0.1016651913523674 -0.1016651913523674 13.354205131530762\n",
      "16 -0.1016651913523674 -0.1016651913523674 13.756915092468262\n",
      "17 -0.1016651913523674 -0.1016651913523674 14.139490127563477\n",
      "18 -0.1016651913523674 -0.1016651913523674 14.502936363220215\n",
      "19 -0.1016651913523674 -0.1016651913523674 14.848210334777832\n",
      "tensor([[14.848]], grad_fn=<AsStridedBackward0>)\n"
     ]
    }
   ],
   "source": [
    "loss = to.tensor(0.0).reshape(1,1)\n",
    "for t in range(T):\n",
    "    a[t+1] = r*(a[t]-cpolicy(a[t]))\n",
    "    loss += (β**t)*cpolicy(a[t])\n",
    "    print(t, a[t].item(), a[t+1].item(),loss.item())\n",
    "print(loss)"
   ]
  },
  {
   "cell_type": "code",
   "execution_count": 88,
   "id": "7681b4fc",
   "metadata": {},
   "outputs": [
    {
     "name": "stdout",
     "output_type": "stream",
     "text": [
      "10.260541915893555\n",
      "8.668085098266602\n",
      "7.134973526000977\n",
      "5.658967018127441\n",
      "4.237910747528076\n",
      "2.869731903076172\n",
      "1.552435278892517\n",
      "0.28410065174102783\n",
      "-0.9371193647384644\n",
      "-2.1130025386810303\n",
      "-3.2452597618103027\n",
      "-4.335537433624268\n",
      "-5.385418891906738\n",
      "-6.39642858505249\n",
      "-7.3700337409973145\n",
      "-8.307644844055176\n",
      "-9.21062183380127\n",
      "-10.080269813537598\n",
      "-10.917847633361816\n",
      "-11.724564552307129\n",
      "-12.501585960388184\n",
      "-13.250033378601074\n",
      "-13.97098159790039\n",
      "-14.665470123291016\n",
      "-15.334498405456543\n",
      "-15.979024887084961\n",
      "-16.599977493286133\n",
      "-17.198244094848633\n",
      "-17.774677276611328\n",
      "-18.330106735229492\n",
      "-18.86532211303711\n",
      "-19.381084442138672\n",
      "-19.878131866455078\n",
      "-20.35717010498047\n",
      "-20.818876266479492\n",
      "-21.263904571533203\n",
      "-21.692886352539062\n",
      "-22.106426239013672\n",
      "-22.50510597229004\n",
      "-22.889488220214844\n",
      "-23.260108947753906\n",
      "-23.617488861083984\n",
      "-23.962133407592773\n",
      "-24.29451560974121\n",
      "-24.615100860595703\n",
      "-24.924335479736328\n",
      "-25.222646713256836\n",
      "-25.510446548461914\n",
      "-25.78813362121582\n",
      "-26.056087493896484\n",
      "-26.31467628479004\n",
      "-26.564252853393555\n",
      "-26.80515480041504\n",
      "-27.037717819213867\n",
      "-27.26224708557129\n",
      "-27.479053497314453\n",
      "-27.68842315673828\n",
      "-27.890634536743164\n",
      "-28.085968017578125\n",
      "-28.274673461914062\n",
      "-28.457008361816406\n",
      "-28.63320541381836\n",
      "-28.80350112915039\n",
      "-28.968116760253906\n",
      "-29.127267837524414\n",
      "-29.281158447265625\n",
      "-29.42999267578125\n",
      "-29.573955535888672\n",
      "-29.71323013305664\n",
      "-29.847999572753906\n",
      "-29.97842788696289\n",
      "-30.10468292236328\n",
      "-30.2269229888916\n",
      "-30.345294952392578\n",
      "-30.459945678710938\n",
      "-30.571020126342773\n",
      "-30.67864990234375\n",
      "-30.78296661376953\n",
      "-30.88409423828125\n",
      "-30.98215103149414\n",
      "-31.077253341674805\n",
      "-31.16952133178711\n",
      "-31.259050369262695\n",
      "-31.345947265625\n",
      "-31.430316925048828\n",
      "-31.512252807617188\n",
      "-31.591838836669922\n",
      "-31.669170379638672\n",
      "-31.744335174560547\n",
      "-31.81740951538086\n",
      "-31.88847541809082\n",
      "-31.957611083984375\n",
      "-32.02488327026367\n",
      "-32.090362548828125\n",
      "-32.15412139892578\n",
      "-32.216224670410156\n",
      "-32.2767333984375\n",
      "-32.33570098876953\n",
      "-32.39319610595703\n",
      "-32.44927215576172\n"
     ]
    }
   ],
   "source": [
    "for i in range(10):\n",
    "    loss = to.tensor(0.0).reshape(1,1)\n",
    "    loss = -cpolicy(a[0])-β*cpolicy(r*(a[0]-cpolicy(a[0])))\n",
    "    print(-loss.item())\n",
    "    optimizer = to.optim.SGD(cpolicy.parameters(), lr=0.01)\n",
    "    optimizer.zero_grad()\n",
    "    loss.backward(retain_graph=True)\n",
    "    optimizer.step()"
   ]
  },
  {
   "cell_type": "code",
   "execution_count": null,
   "id": "03c4481b",
   "metadata": {},
   "outputs": [],
   "source": []
  },
  {
   "cell_type": "code",
   "execution_count": null,
   "id": "85c177d3",
   "metadata": {},
   "outputs": [],
   "source": []
  },
  {
   "cell_type": "code",
   "execution_count": null,
   "id": "17416086",
   "metadata": {},
   "outputs": [],
   "source": []
  }
 ],
 "metadata": {
  "kernelspec": {
   "display_name": "Python 3 (ipykernel)",
   "language": "python",
   "name": "python3"
  },
  "language_info": {
   "codemirror_mode": {
    "name": "ipython",
    "version": 3
   },
   "file_extension": ".py",
   "mimetype": "text/x-python",
   "name": "python",
   "nbconvert_exporter": "python",
   "pygments_lexer": "ipython3",
   "version": "3.10.9"
  }
 },
 "nbformat": 4,
 "nbformat_minor": 5
}
