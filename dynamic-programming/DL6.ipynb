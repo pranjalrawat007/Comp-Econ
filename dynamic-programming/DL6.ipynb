{
 "cells": [
  {
   "cell_type": "markdown",
   "id": "c5edf6bf",
   "metadata": {},
   "source": [
    "# Consumption-Savings with Deep Learning methods"
   ]
  },
  {
   "cell_type": "code",
   "execution_count": 13,
   "id": "b9274aa9",
   "metadata": {},
   "outputs": [],
   "source": [
    "import tensorflow as tf\n",
    "import numpy as np\n",
    "from math import sqrt\n",
    "from matplotlib import pyplot as plt\n",
    "from tqdm import tqdm as tqdm         # tqdm is a nice library to visualize ongoing loops\n",
    "import datetime\n",
    "# followint lines are used for indicative typing\n",
    "from typing import Tuple\n",
    "class Vector: pass"
   ]
  },
  {
   "cell_type": "code",
   "execution_count": 14,
   "id": "4a0a803f",
   "metadata": {},
   "outputs": [
    {
     "data": {
      "text/plain": [
       "Text(0.5, 1.0, 'test')"
      ]
     },
     "execution_count": 14,
     "metadata": {},
     "output_type": "execute_result"
    },
    {
     "data": {
      "image/png": "[encoded data removed]",
      "text/plain": [
       "<Figure size 640x480 with 1 Axes>"
      ]
     },
     "metadata": {},
     "output_type": "display_data"
    }
   ],
   "source": [
    "# Model parameters\n",
    "r = 1.04\n",
    "γ = 2.0\n",
    "β = 0.9 \n",
    "σ = 0.0001\n",
    "wmin=0.1\n",
    "wmax=4.0\n",
    "min_FB = lambda a,b: a+b-tf.sqrt(a**2+b**2)\n",
    "layers = [\n",
    "    tf.keras.layers.Dense(32, activation='relu', input_dim=2, bias_initializer='he_uniform'),\n",
    "    tf.keras.layers.Dense(32, activation='relu'),\n",
    "    tf.keras.layers.Dense(32, activation='relu'),\n",
    "    tf.keras.layers.Dense(2, activation=tf.keras.activations.linear)\n",
    "]\n",
    "perceptron = tf.keras.Sequential(layers)\n",
    "\n",
    "def model(y:Vector,w:Vector)->Tuple[Vector,Vector]:\n",
    "    y = y/σ/2.0\n",
    "    w = (w-wmin)/(wmax-wmin)*2.0-1.0\n",
    "    s = tf.concat([i[:,None] for i in [y,w]],axis=1)\n",
    "    x = perceptron(s)\n",
    "    sh = tf.sigmoid(x[:,0])\n",
    "    h = tf.exp(x[:,1])\n",
    "    return (sh,h)\n",
    "\n",
    "wvec = np.linspace(wmin,wmax,100,dtype='float32')\n",
    "shvec, hvec = model(wvec*0,wvec*0)\n",
    "\n",
    "plt.plot(wvec, wvec, label = 'k')\n",
    "plt.plot(wvec, hvec, label='h(k)')\n",
    "plt.plot(wvec, shvec*wvec, label = 'c(k)')\n",
    "plt.legend()\n",
    "plt.title('test')"
   ]
  },
  {
   "cell_type": "code",
   "execution_count": 15,
   "id": "8f7b26ce",
   "metadata": {},
   "outputs": [
    {
     "data": {
      "text/plain": [
       "(<tf.Tensor: shape=(100,), dtype=float32, numpy=\n",
       " array([-1.53765322e+04, -6.23274875e+05, -2.52645880e+07, -1.02403539e+09,\n",
       "        -4.15101338e+10, -1.68250730e+12, -6.81992446e+13, -2.76453489e+15,\n",
       "        -1.12046506e+17, -4.54179556e+18, -1.84112536e+20, -7.46332758e+21,\n",
       "        -3.02497636e+23, -1.22628386e+25, -4.97004907e+26, -2.01451290e+28,\n",
       "        -8.16693238e+29, -3.31000432e+31, -1.34156413e+33, -5.43776997e+34,\n",
       "        -2.20449811e+36, -8.93577759e+37,            -inf,            -inf,\n",
       "                   -inf,            -inf,            -inf,            -inf,\n",
       "                   -inf,            -inf,            -inf,            -inf,\n",
       "                   -inf,            -inf,            -inf,            -inf,\n",
       "                   -inf,            -inf,            -inf,            -inf,\n",
       "                   -inf,            -inf,            -inf,            -inf,\n",
       "                   -inf,            -inf,            -inf,            -inf,\n",
       "                   -inf,            -inf,            -inf,            -inf,\n",
       "                   -inf,            -inf,            -inf,            -inf,\n",
       "                   -inf,            -inf,            -inf,            -inf,\n",
       "                   -inf,            -inf,            -inf,            -inf,\n",
       "                   -inf,            -inf,            -inf,            -inf,\n",
       "                   -inf,            -inf,            -inf,            -inf,\n",
       "                   -inf,            -inf,            -inf,            -inf,\n",
       "                   -inf,            -inf,            -inf,            -inf,\n",
       "                   -inf,            -inf,            -inf,            -inf,\n",
       "                   -inf,            -inf,            -inf,            -inf,\n",
       "                   -inf,            -inf,            -inf,            -inf,\n",
       "                   -inf,            -inf,            -inf,            -inf,\n",
       "                   -inf,            -inf,            -inf,            -inf],\n",
       "       dtype=float32)>,\n",
       " <tf.Tensor: shape=(100,), dtype=float32, numpy=\n",
       " array([-3.0751080e+04, -1.2465478e+06, -5.0529176e+07, -2.0480708e+09,\n",
       "        -8.3020268e+10, -3.3650146e+12, -1.3639849e+14, -5.5290698e+15,\n",
       "        -2.2409301e+17, -9.0835911e+18,           -inf,           -inf,\n",
       "                  -inf,           -inf,           -inf,           -inf,\n",
       "                  -inf,           -inf,           -inf,           -inf,\n",
       "                  -inf,           -inf,           -inf,           -inf,\n",
       "                  -inf,           -inf,           -inf,           -inf,\n",
       "                  -inf,           -inf,           -inf,           -inf,\n",
       "                  -inf,           -inf,           -inf,           -inf,\n",
       "                  -inf,           -inf,           -inf,           -inf,\n",
       "                  -inf,           -inf,           -inf,           -inf,\n",
       "                  -inf,           -inf,           -inf,           -inf,\n",
       "                  -inf,           -inf,           -inf,           -inf,\n",
       "                  -inf,           -inf,           -inf,           -inf,\n",
       "                  -inf,           -inf,           -inf,           -inf,\n",
       "                  -inf,           -inf,           -inf,           -inf,\n",
       "                  -inf,           -inf,           -inf,           -inf,\n",
       "                  -inf,           -inf,           -inf,           -inf,\n",
       "                  -inf,           -inf,           -inf,           -inf,\n",
       "                  -inf,           -inf,           -inf,           -inf,\n",
       "                  -inf,           -inf,           -inf,           -inf,\n",
       "                  -inf,           -inf,           -inf,           -inf,\n",
       "                  -inf,           -inf,           -inf,           -inf,\n",
       "                  -inf,           -inf,           -inf,           -inf,\n",
       "                  -inf,           -inf,           -inf,           -inf],\n",
       "       dtype=float32)>)"
      ]
     },
     "execution_count": 15,
     "metadata": {},
     "output_type": "execute_result"
    }
   ],
   "source": [
    "def residuals(e:Vector,y:Vector,w:Vector):\n",
    "    n = tf.size(y)\n",
    "    sh,h=model(y,w)\n",
    "    c=sh*w\n",
    "    yp=e\n",
    "    wp=tf.exp(yp)+(w-c)*r\n",
    "    shp,hp=model(yp,wp)\n",
    "    cp = shp*wp\n",
    "    R1 = β*(cp/c)**(-γ)*r-h\n",
    "    R2 = min_FB(1-h,1-sh)\n",
    "    return (R1,R2)\n",
    "\n",
    "residuals(wvec,wvec,wvec)"
   ]
  },
  {
   "cell_type": "code",
   "execution_count": 16,
   "id": "8f34a028",
   "metadata": {},
   "outputs": [],
   "source": [
    "def J(n):\n",
    "    y = tf.random.normal(shape=(n,),stddev=σ)\n",
    "    w = tf.random.uniform(shape=(n,),minval=wmin,maxval=wmax)\n",
    "    e1 = tf.random.normal(shape=(n,),stddev=σ)\n",
    "    e2 = tf.random.normal(shape=(n,),stddev=σ)\n",
    "    R1_e1, R2_e1 = residuals(e1, y, w)\n",
    "    R1_e2, R2_e2 = residuals(e2, y, w)\n",
    "    R_squared = R1_e1*R1_e2+R2_e1*R2_e2\n",
    "    return tf.reduce_mean(R_squared)"
   ]
  },
  {
   "cell_type": "code",
   "execution_count": 17,
   "id": "5bbc8815",
   "metadata": {},
   "outputs": [
    {
     "data": {
      "text/plain": [
       "0.31687826"
      ]
     },
     "execution_count": 17,
     "metadata": {},
     "output_type": "execute_result"
    }
   ],
   "source": [
    "n = 128\n",
    "v = J(100)\n",
    "v.numpy()"
   ]
  },
  {
   "cell_type": "code",
   "execution_count": 18,
   "id": "f908764e",
   "metadata": {},
   "outputs": [
    {
     "name": "stdout",
     "output_type": "stream",
     "text": [
      "[<tf.Variable 'dense_4/kernel:0' shape=(2, 32) dtype=float32, numpy=\n",
      "array([[-0.1520639 , -0.34688425, -0.24204741, -0.37981638,  0.24004808,\n",
      "         0.2502664 ,  0.22724035,  0.29348537, -0.11779699, -0.0739069 ,\n",
      "         0.15488848,  0.10064039, -0.17095219,  0.2430627 ,  0.39487788,\n",
      "        -0.30986923,  0.05561414,  0.11973509, -0.08647054,  0.2687687 ,\n",
      "         0.18591478,  0.16534045, -0.2328416 , -0.27903527, -0.4012964 ,\n",
      "        -0.12585431, -0.32529664,  0.1316692 ,  0.07381704,  0.36370793,\n",
      "        -0.40596336, -0.06754911],\n",
      "       [ 0.03693917, -0.19303346,  0.4122775 , -0.38988233,  0.02790824,\n",
      "        -0.05386451,  0.29503056,  0.11915728, -0.18089005,  0.29875943,\n",
      "        -0.14297235,  0.11856589, -0.24304546,  0.28521547,  0.3243616 ,\n",
      "        -0.25935173,  0.3097938 , -0.15813696,  0.4051074 , -0.0022608 ,\n",
      "         0.16415861,  0.05094796, -0.3921001 , -0.0494886 ,  0.4153001 ,\n",
      "         0.03816178, -0.30773813,  0.02922097, -0.40411597, -0.17199071,\n",
      "         0.10020772,\n"
     ]
    }
   ],
   "source": [
    "θ = perceptron.trainable_variables\n",
    "print(str(θ)[:1000])"
   ]
  },
  {
   "cell_type": "code",
   "execution_count": 19,
   "id": "36db991f",
   "metadata": {},
   "outputs": [],
   "source": [
    "from tensorflow.keras.optimizers import Adam, SGD\n",
    "variables = perceptron.trainable_variables\n",
    "optimizer = Adam()"
   ]
  },
  {
   "cell_type": "code",
   "execution_count": null,
   "id": "f8c9ca77",
   "metadata": {},
   "outputs": [
    {
     "name": "stderr",
     "output_type": "stream",
     "text": [
      " 59%|██████████████████████▍               | 2945/5000 [00:11<00:04, 464.76it/s]"
     ]
    }
   ],
   "source": [
    "@tf.function\n",
    "def training_step():\n",
    "    \n",
    "    with tf.GradientTape() as tape:\n",
    "        xx = J(n)\n",
    "        \n",
    "    grads = tape.gradient(xx,θ)\n",
    "    optimizer.apply_gradients(zip(grads,θ))\n",
    "    \n",
    "    return xx\n",
    "\n",
    "def train_me(K):\n",
    "    vals=[]\n",
    "    for k in tqdm(tf.range(K)):\n",
    "        val=training_step()\n",
    "        vals.append(val.numpy())\n",
    "    return vals\n",
    "\n",
    "results = train_me(5000)"
   ]
  },
  {
   "cell_type": "code",
   "execution_count": null,
   "id": "4e1a181b",
   "metadata": {},
   "outputs": [],
   "source": [
    "plt.plot(np.sqrt(results))\n",
    "plt.xscale('log')\n",
    "plt.yscale('log')\n",
    "plt.grid()"
   ]
  },
  {
   "cell_type": "code",
   "execution_count": null,
   "id": "b6c62490",
   "metadata": {},
   "outputs": [],
   "source": [
    "wvec = np.linspace(wmin,wmax,100,dtype='float32')\n",
    "shvec,hvec = model(wvec*0,wvec)\n",
    "plt.title('c(a,0)')\n",
    "plt.plot(wvec,wvec)\n",
    "plt.plot(wvec,shvec*wvec)\n",
    "plt.show()"
   ]
  },
  {
   "cell_type": "code",
   "execution_count": null,
   "id": "de1bf1ca",
   "metadata": {},
   "outputs": [],
   "source": [
    "import numpy as np\n",
    "K = np.linspace(0,3,1000)\n",
    "K^α+(1-δ)*K"
   ]
  },
  {
   "cell_type": "code",
   "execution_count": null,
   "id": "63887e09",
   "metadata": {},
   "outputs": [],
   "source": []
  },
  {
   "cell_type": "code",
   "execution_count": null,
   "id": "bc283891",
   "metadata": {},
   "outputs": [],
   "source": []
  },
  {
   "cell_type": "code",
   "execution_count": null,
   "id": "d313d210",
   "metadata": {},
   "outputs": [],
   "source": []
  },
  {
   "cell_type": "code",
   "execution_count": null,
   "id": "ff2d1c9d",
   "metadata": {},
   "outputs": [],
   "source": []
  }
 ],
 "metadata": {
  "kernelspec": {
   "display_name": "Python 3 (ipykernel)",
   "language": "python",
   "name": "python3"
  },
  "language_info": {
   "codemirror_mode": {
    "name": "ipython",
    "version": 3
   },
   "file_extension": ".py",
   "mimetype": "text/x-python",
   "name": "python",
   "nbconvert_exporter": "python",
   "pygments_lexer": "ipython3",
   "version": "3.10.9"
  }
 },
 "nbformat": 4,
 "nbformat_minor": 5
}
