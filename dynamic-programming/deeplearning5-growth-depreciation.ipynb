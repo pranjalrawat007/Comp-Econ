{
 "cells": [
  {
   "cell_type": "markdown",
   "id": "c5edf6bf",
   "metadata": {},
   "source": [
    "# Optimal Growth - with depreciation"
   ]
  },
  {
   "cell_type": "code",
   "execution_count": 34,
   "id": "b9274aa9",
   "metadata": {},
   "outputs": [],
   "source": [
    "import tensorflow as tf\n",
    "import numpy as np\n",
    "from math import sqrt\n",
    "from matplotlib import pyplot as plt\n",
    "from tqdm import tqdm as tqdm\n",
    "import datetime\n",
    "from typing import Tuple\n",
    "class Vector: pass"
   ]
  },
  {
   "cell_type": "code",
   "execution_count": 35,
   "id": "d72d2678",
   "metadata": {},
   "outputs": [
    {
     "name": "stdout",
     "output_type": "stream",
     "text": [
      "37.98925353815225\n",
      "(200, 1) (200, 1)\n"
     ]
    }
   ],
   "source": [
    "# Model parameters\n",
    "β = 0.99\n",
    "α = 0.36\n",
    "δ = 0.025\n",
    "σ = 2.0\n",
    "Kss = ((1/β-1+δ)/α)**(1/(α-1))\n",
    "print(Kss)\n",
    "xmin=Kss*0.9\n",
    "xmax=Kss*1.1\n",
    "min_FB = lambda a,b: a+b-tf.sqrt(a**2+b**2)\n",
    "layers = [\n",
    "    tf.keras.layers.Normalization(axis=-1, input_dim=1, mean=0, variance=1, invert=False),\n",
    "    tf.keras.layers.Dense(32, activation='leaky_relu',  bias_initializer='he_uniform'),\n",
    "    tf.keras.layers.Dense(32, activation='leaky_relu',  bias_initializer='he_uniform'),\n",
    "    tf.keras.layers.Dense(1, activation=tf.keras.activations.linear)\n",
    "]\n",
    "perceptron = tf.keras.Sequential(layers)\n",
    "\n",
    "def model(x:Vector)->Tuple[Vector]:\n",
    "    sh = perceptron(x)\n",
    "    return sh\n",
    "\n",
    "λ=1\n",
    "xvec = np.power(np.linspace(xmin**(1/λ),xmax**(1/λ),200,dtype='float32'),λ).reshape(-1,1)\n",
    "#print(xvec)\n",
    "print(xvec.shape, model(xvec).shape)\n",
    "#plt.plot(xvec, model(xvec), label = 'c(x)')"
   ]
  },
  {
   "cell_type": "code",
   "execution_count": 36,
   "id": "b4eaf5c4",
   "metadata": {},
   "outputs": [
    {
     "data": {
      "text/plain": [
       "2.8724844e-05"
      ]
     },
     "execution_count": 36,
     "metadata": {},
     "output_type": "execute_result"
    }
   ],
   "source": [
    "def residuals(k:Vector):\n",
    "    c=model(k)\n",
    "    kp=k**α+(1-δ)*k-c\n",
    "    cp=model(kp)\n",
    "    R = min_FB(k**α+(1-δ)*k-c,c**(-σ)-β*cp**(-σ)*(α*kp**(α-1)+1-δ))\n",
    "    return R\n",
    "\n",
    "#print(residuals(xvec));\n",
    "\n",
    "def J(n):\n",
    "    x = tf.random.uniform(shape=(n,1),minval=xmin,maxval=xmax)\n",
    "    R = residuals(x)\n",
    "    R_squared = R*R\n",
    "    return tf.reduce_mean(R_squared)\n",
    "\n",
    "n = 500\n",
    "v = J(n)\n",
    "v.numpy()"
   ]
  },
  {
   "cell_type": "code",
   "execution_count": 37,
   "id": "f908764e",
   "metadata": {},
   "outputs": [
    {
     "name": "stdout",
     "output_type": "stream",
     "text": [
      "[<tf.Variable 'dense_9/kernel:0' shape=(1, 32) dtype=float32, numpy=\n",
      "array([[ 0.10170412, -0.3874669 ,  0.09960634,  0.37203932, -0.10336709,\n",
      "         0.37822735,  0.34791762, -0.08435091,  0.22047251, -0.35333827,\n",
      "         0.3776064 ,  0.148853  , -0.09162179, -0.27770323,  0.08052284,\n",
      "        -0.30950648, -0.33573985, -0.08919978,  0.12269783,  0.16597861,\n",
      "         0.3052823 , -0.20413572, -0.26318967, -0.05651331,  0.08615655,\n",
      "         0.17498142,  0.04768905, -0.12754762,  0.21124178,  0.22130269,\n",
      "        -0.04483753, -0.0919649 ]], dtype=float32)>, <tf.Variable 'dense_9/bias:0' shape=(32,) dtype=float32, numpy=\n",
      "array([ 0.01454347,  0.20949885,  0.32737216, -0.33612442, -0.35717437,\n",
      "        0.30126354, -0.00757128,  0.23917016, -0.19253276, -0.3266939 ,\n",
      "       -0.41275084,  0.41625878, -0.3011741 , -0.35180092,  0.26000395,\n",
      "        0.09386405, -0.17568159,  0.24958965,  0.19540402, -0.16107741,\n",
      "        0.24684414,  0.27072087,  0.3032798 ,  0.35416552,  0.32525876,\n",
      "       -0.248706\n"
     ]
    }
   ],
   "source": [
    "θ = perceptron.trainable_variables\n",
    "print(str(θ)[:1000])"
   ]
  },
  {
   "cell_type": "code",
   "execution_count": 80,
   "id": "36db991f",
   "metadata": {},
   "outputs": [
    {
     "data": {
      "text/plain": [
       "<tf.Variable 'UnreadVariable' shape=() dtype=float32, numpy=1e-07>"
      ]
     },
     "execution_count": 80,
     "metadata": {},
     "output_type": "execute_result"
    }
   ],
   "source": [
    "from tensorflow.keras.optimizers import Adam, SGD\n",
    "variables = perceptron.trainable_variables\n",
    "optimizer = Adam()\n",
    "optimizer.lr.assign(0.0000001)"
   ]
  },
  {
   "cell_type": "code",
   "execution_count": 81,
   "id": "f8c9ca77",
   "metadata": {},
   "outputs": [],
   "source": [
    "@tf.function\n",
    "def training_step():\n",
    "    \n",
    "    with tf.GradientTape() as tape:\n",
    "        xx = J(n)\n",
    "        \n",
    "    grads = tape.gradient(xx,θ)\n",
    "    optimizer.apply_gradients(zip(grads,θ))\n",
    "    return xx\n",
    "\n",
    "def train_me(K):\n",
    "    vals=[]\n",
    "    for k in tqdm(tf.range(K)):\n",
    "        val=training_step()\n",
    "        vals.append(val.numpy())\n",
    "    return vals"
   ]
  },
  {
   "cell_type": "code",
   "execution_count": 12,
   "id": "75582de2",
   "metadata": {},
   "outputs": [
    {
     "name": "stderr",
     "output_type": "stream",
     "text": [
      "\r",
      "  0%|                                                | 0/150000 [00:00<?, ?it/s]"
     ]
    },
    {
     "name": "stdout",
     "output_type": "stream",
     "text": [
      "WARNING:tensorflow:From /usr/local/lib/python3.10/site-packages/tensorflow/python/autograph/pyct/static_analysis/liveness.py:83: Analyzer.lamba_check (from tensorflow.python.autograph.pyct.static_analysis.liveness) is deprecated and will be removed after 2023-09-23.\n",
      "Instructions for updating:\n",
      "Lambda fuctions will be no more assumed to be used in the statement where they are used, or at least in the same block. https://github.com/tensorflow/tensorflow/issues/56089\n"
     ]
    },
    {
     "name": "stderr",
     "output_type": "stream",
     "text": [
      "100%|██████████████████████████████████| 150000/150000 [05:22<00:00, 465.33it/s]\n"
     ]
    }
   ],
   "source": [
    "results = train_me(150000)"
   ]
  },
  {
   "cell_type": "code",
   "execution_count": 82,
   "id": "113efa52",
   "metadata": {},
   "outputs": [
    {
     "name": "stderr",
     "output_type": "stream",
     "text": [
      "100%|██████████████████████████████████████| 5000/5000 [00:10<00:00, 476.30it/s]\n"
     ]
    }
   ],
   "source": [
    "results = train_me(5000)"
   ]
  },
  {
   "cell_type": "code",
   "execution_count": 83,
   "id": "4e1a181b",
   "metadata": {},
   "outputs": [
    {
     "data": {
      "image/png": "[encoded data removed]",
      "text/plain": [
       "<Figure size 640x480 with 1 Axes>"
      ]
     },
     "metadata": {},
     "output_type": "display_data"
    }
   ],
   "source": [
    "plt.plot(np.sqrt(results))\n",
    "plt.xscale('log')\n",
    "plt.yscale('log')\n",
    "plt.grid()"
   ]
  },
  {
   "cell_type": "code",
   "execution_count": 84,
   "id": "b6c62490",
   "metadata": {},
   "outputs": [
    {
     "data": {
      "image/png": "[encoded data removed]",
      "text/plain": [
       "<Figure size 640x480 with 1 Axes>"
      ]
     },
     "metadata": {},
     "output_type": "display_data"
    }
   ],
   "source": [
    "plt.plot(xvec,(xvec**α+(1-δ)*xvec)-model(xvec),label='Solved c(x)',c='b')\n",
    "plt.xlim([xmin,xmax])\n",
    "plt.show()"
   ]
  },
  {
   "cell_type": "code",
   "execution_count": 85,
   "id": "ea86267a",
   "metadata": {},
   "outputs": [
    {
     "data": {
      "image/png": "[encoded data removed]",
      "text/plain": [
       "<Figure size 640x480 with 1 Axes>"
      ]
     },
     "metadata": {},
     "output_type": "display_data"
    }
   ],
   "source": [
    "plt.plot(xvec,model(xvec),label='Solved c(x)',c='b')\n",
    "plt.xlim([xmin,xmax])\n",
    "plt.show()"
   ]
  },
  {
   "cell_type": "code",
   "execution_count": 86,
   "id": "ac46d0a6",
   "metadata": {},
   "outputs": [
    {
     "data": {
      "text/plain": [
       "<tf.Tensor: shape=(200, 1), dtype=float32, numpy=\n",
       "array([[2.6260536],\n",
       "       [2.6273165],\n",
       "       [2.6285791],\n",
       "       [2.629841 ],\n",
       "       [2.6311042],\n",
       "       [2.632367 ],\n",
       "       [2.6336296],\n",
       "       [2.6348913],\n",
       "       [2.6361535],\n",
       "       [2.637415 ],\n",
       "       [2.638678 ],\n",
       "       [2.6399398],\n",
       "       [2.6412027],\n",
       "       [2.6424649],\n",
       "       [2.6437268],\n",
       "       [2.6449897],\n",
       "       [2.646252 ],\n",
       "       [2.6475146],\n",
       "       [2.6487775],\n",
       "       [2.6500406],\n",
       "       [2.6513023],\n",
       "       [2.6525648],\n",
       "       [2.6538262],\n",
       "       [2.6550882],\n",
       "       [2.6563506],\n",
       "       [2.657614 ],\n",
       "       [2.6588752],\n",
       "       [2.6601377],\n",
       "       [2.6614003],\n",
       "       [2.662663 ],\n",
       "       [2.6639237],\n",
       "       [2.6651874],\n",
       "       [2.6664495],\n",
       "       [2.6677127],\n",
       "       [2.668975 ],\n",
       "       [2.6702378],\n",
       "       [2.6715007],\n",
       "       [2.6727622],\n",
       "       [2.6740243],\n",
       "       [2.675288 ],\n",
       "       [2.6765485],\n",
       "       [2.6778116],\n",
       "       [2.6790738],\n",
       "       [2.680335 ],\n",
       "       [2.6815984],\n",
       "       [2.682862 ],\n",
       "       [2.6841238],\n",
       "       [2.6853862],\n",
       "       [2.6866472],\n",
       "       [2.6879098],\n",
       "       [2.689173 ],\n",
       "       [2.6904347],\n",
       "       [2.6916983],\n",
       "       [2.6929607],\n",
       "       [2.6942236],\n",
       "       [2.6954856],\n",
       "       [2.696747 ],\n",
       "       [2.6980097],\n",
       "       [2.699272 ],\n",
       "       [2.7005346],\n",
       "       [2.701797 ],\n",
       "       [2.7030592],\n",
       "       [2.7043211],\n",
       "       [2.705584 ],\n",
       "       [2.7068453],\n",
       "       [2.7081096],\n",
       "       [2.7093709],\n",
       "       [2.7106335],\n",
       "       [2.7118957],\n",
       "       [2.7131588],\n",
       "       [2.7144213],\n",
       "       [2.715681 ],\n",
       "       [2.716946 ],\n",
       "       [2.7182071],\n",
       "       [2.7194686],\n",
       "       [2.720731 ],\n",
       "       [2.7219946],\n",
       "       [2.7232575],\n",
       "       [2.7245204],\n",
       "       [2.7257822],\n",
       "       [2.7270453],\n",
       "       [2.728307 ],\n",
       "       [2.729569 ],\n",
       "       [2.7308314],\n",
       "       [2.7320943],\n",
       "       [2.7333562],\n",
       "       [2.7346177],\n",
       "       [2.7358804],\n",
       "       [2.7371428],\n",
       "       [2.7384055],\n",
       "       [2.7396684],\n",
       "       [2.7409294],\n",
       "       [2.7421935],\n",
       "       [2.7434545],\n",
       "       [2.7447178],\n",
       "       [2.7459795],\n",
       "       [2.7472422],\n",
       "       [2.7485049],\n",
       "       [2.7497656],\n",
       "       [2.7510297],\n",
       "       [2.7522929],\n",
       "       [2.753554 ],\n",
       "       [2.7548177],\n",
       "       [2.7560775],\n",
       "       [2.7573428],\n",
       "       [2.7586036],\n",
       "       [2.7598658],\n",
       "       [2.7611284],\n",
       "       [2.7623897],\n",
       "       [2.763653 ],\n",
       "       [2.7649155],\n",
       "       [2.7661774],\n",
       "       [2.7674396],\n",
       "       [2.7687016],\n",
       "       [2.7699647],\n",
       "       [2.771228 ],\n",
       "       [2.7724898],\n",
       "       [2.773753 ],\n",
       "       [2.775017 ],\n",
       "       [2.7762768],\n",
       "       [2.777539 ],\n",
       "       [2.778801 ],\n",
       "       [2.7800636],\n",
       "       [2.781325 ],\n",
       "       [2.7825882],\n",
       "       [2.7838516],\n",
       "       [2.7851133],\n",
       "       [2.7863765],\n",
       "       [2.7876375],\n",
       "       [2.7889   ],\n",
       "       [2.7901614],\n",
       "       [2.7914255],\n",
       "       [2.7926872],\n",
       "       [2.7939498],\n",
       "       [2.7952127],\n",
       "       [2.7964728],\n",
       "       [2.7977376],\n",
       "       [2.799    ],\n",
       "       [2.8002615],\n",
       "       [2.8015244],\n",
       "       [2.8027875],\n",
       "       [2.8040493],\n",
       "       [2.8053114],\n",
       "       [2.8065732],\n",
       "       [2.807837 ],\n",
       "       [2.809098 ],\n",
       "       [2.8103607],\n",
       "       [2.8116238],\n",
       "       [2.8128848],\n",
       "       [2.814147 ],\n",
       "       [2.8154104],\n",
       "       [2.816673 ],\n",
       "       [2.8179355],\n",
       "       [2.8191965],\n",
       "       [2.8204598],\n",
       "       [2.821721 ],\n",
       "       [2.8229842],\n",
       "       [2.8242462],\n",
       "       [2.8255093],\n",
       "       [2.8267725],\n",
       "       [2.8280346],\n",
       "       [2.829295 ],\n",
       "       [2.8305585],\n",
       "       [2.8318207],\n",
       "       [2.833085 ],\n",
       "       [2.834346 ],\n",
       "       [2.8356092],\n",
       "       [2.836871 ],\n",
       "       [2.8381333],\n",
       "       [2.8393953],\n",
       "       [2.8406575],\n",
       "       [2.8419197],\n",
       "       [2.8431833],\n",
       "       [2.8444452],\n",
       "       [2.8457055],\n",
       "       [2.8469703],\n",
       "       [2.8482332],\n",
       "       [2.8494947],\n",
       "       [2.850757 ],\n",
       "       [2.8520205],\n",
       "       [2.8532815],\n",
       "       [2.8545444],\n",
       "       [2.8558056],\n",
       "       [2.857068 ],\n",
       "       [2.858331 ],\n",
       "       [2.859594 ],\n",
       "       [2.860857 ],\n",
       "       [2.8621175],\n",
       "       [2.8633807],\n",
       "       [2.8646426],\n",
       "       [2.865905 ],\n",
       "       [2.867167 ],\n",
       "       [2.86843  ],\n",
       "       [2.869692 ],\n",
       "       [2.8709557],\n",
       "       [2.8722177],\n",
       "       [2.873479 ],\n",
       "       [2.8747404],\n",
       "       [2.8760042],\n",
       "       [2.8772671]], dtype=float32)>"
      ]
     },
     "execution_count": 86,
     "metadata": {},
     "output_type": "execute_result"
    }
   ],
   "source": [
    "model(xvec)"
   ]
  },
  {
   "cell_type": "code",
   "execution_count": 87,
   "id": "a16b8322",
   "metadata": {},
   "outputs": [
    {
     "data": {
      "text/plain": [
       "<tf.Tensor: shape=(200, 1), dtype=float32, numpy=\n",
       "array([[34.27571 ],\n",
       "       [34.31311 ],\n",
       "       [34.350506],\n",
       "       [34.387897],\n",
       "       [34.425293],\n",
       "       [34.462685],\n",
       "       [34.500076],\n",
       "       [34.537464],\n",
       "       [34.574856],\n",
       "       [34.612244],\n",
       "       [34.649628],\n",
       "       [34.68702 ],\n",
       "       [34.724407],\n",
       "       [34.761787],\n",
       "       [34.799168],\n",
       "       [34.83655 ],\n",
       "       [34.873936],\n",
       "       [34.911312],\n",
       "       [34.948696],\n",
       "       [34.986073],\n",
       "       [35.023445],\n",
       "       [35.060825],\n",
       "       [35.0982  ],\n",
       "       [35.135574],\n",
       "       [35.172947],\n",
       "       [35.21032 ],\n",
       "       [35.247696],\n",
       "       [35.285065],\n",
       "       [35.32243 ],\n",
       "       [35.359802],\n",
       "       [35.397167],\n",
       "       [35.434536],\n",
       "       [35.4719  ],\n",
       "       [35.509262],\n",
       "       [35.546627],\n",
       "       [35.583992],\n",
       "       [35.621353],\n",
       "       [35.658707],\n",
       "       [35.696075],\n",
       "       [35.73343 ],\n",
       "       [35.77079 ],\n",
       "       [35.808147],\n",
       "       [35.8455  ],\n",
       "       [35.882854],\n",
       "       [35.92021 ],\n",
       "       [35.957565],\n",
       "       [35.994915],\n",
       "       [36.032265],\n",
       "       [36.069622],\n",
       "       [36.10697 ],\n",
       "       [36.144314],\n",
       "       [36.181664],\n",
       "       [36.21901 ],\n",
       "       [36.256355],\n",
       "       [36.293697],\n",
       "       [36.331047],\n",
       "       [36.36839 ],\n",
       "       [36.405727],\n",
       "       [36.44307 ],\n",
       "       [36.48041 ],\n",
       "       [36.517746],\n",
       "       [36.555084],\n",
       "       [36.592422],\n",
       "       [36.629757],\n",
       "       [36.6671  ],\n",
       "       [36.704426],\n",
       "       [36.741764],\n",
       "       [36.7791  ],\n",
       "       [36.81643 ],\n",
       "       [36.85376 ],\n",
       "       [36.891087],\n",
       "       [36.92842 ],\n",
       "       [36.965748],\n",
       "       [37.00307 ],\n",
       "       [37.0404  ],\n",
       "       [37.07773 ],\n",
       "       [37.115047],\n",
       "       [37.15237 ],\n",
       "       [37.189697],\n",
       "       [37.22702 ],\n",
       "       [37.264336],\n",
       "       [37.30166 ],\n",
       "       [37.33898 ],\n",
       "       [37.376293],\n",
       "       [37.413612],\n",
       "       [37.45093 ],\n",
       "       [37.488243],\n",
       "       [37.525562],\n",
       "       [37.562874],\n",
       "       [37.600185],\n",
       "       [37.637497],\n",
       "       [37.674812],\n",
       "       [37.71212 ],\n",
       "       [37.749428],\n",
       "       [37.78674 ],\n",
       "       [37.82405 ],\n",
       "       [37.861355],\n",
       "       [37.89866 ],\n",
       "       [37.935966],\n",
       "       [37.97327 ],\n",
       "       [38.01057 ],\n",
       "       [38.04788 ],\n",
       "       [38.085175],\n",
       "       [38.12248 ],\n",
       "       [38.15978 ],\n",
       "       [38.197083],\n",
       "       [38.234375],\n",
       "       [38.27167 ],\n",
       "       [38.30897 ],\n",
       "       [38.346268],\n",
       "       [38.38356 ],\n",
       "       [38.420853],\n",
       "       [38.45815 ],\n",
       "       [38.495438],\n",
       "       [38.53273 ],\n",
       "       [38.57002 ],\n",
       "       [38.607307],\n",
       "       [38.6446  ],\n",
       "       [38.68189 ],\n",
       "       [38.719177],\n",
       "       [38.756462],\n",
       "       [38.793747],\n",
       "       [38.831036],\n",
       "       [38.868317],\n",
       "       [38.9056  ],\n",
       "       [38.942883],\n",
       "       [38.98016 ],\n",
       "       [39.017445],\n",
       "       [39.05473 ],\n",
       "       [39.092003],\n",
       "       [39.129284],\n",
       "       [39.16656 ],\n",
       "       [39.20384 ],\n",
       "       [39.24111 ],\n",
       "       [39.278385],\n",
       "       [39.315662],\n",
       "       [39.352932],\n",
       "       [39.39021 ],\n",
       "       [39.427475],\n",
       "       [39.464745],\n",
       "       [39.502018],\n",
       "       [39.539288],\n",
       "       [39.576557],\n",
       "       [39.613823],\n",
       "       [39.65109 ],\n",
       "       [39.688362],\n",
       "       [39.725624],\n",
       "       [39.76289 ],\n",
       "       [39.80015 ],\n",
       "       [39.83741 ],\n",
       "       [39.874676],\n",
       "       [39.911938],\n",
       "       [39.949196],\n",
       "       [39.986458],\n",
       "       [40.023716],\n",
       "       [40.060978],\n",
       "       [40.098232],\n",
       "       [40.135487],\n",
       "       [40.172745],\n",
       "       [40.21    ],\n",
       "       [40.247253],\n",
       "       [40.284508],\n",
       "       [40.32176 ],\n",
       "       [40.35901 ],\n",
       "       [40.396263],\n",
       "       [40.433514],\n",
       "       [40.470757],\n",
       "       [40.508007],\n",
       "       [40.545258],\n",
       "       [40.582504],\n",
       "       [40.619755],\n",
       "       [40.656998],\n",
       "       [40.694244],\n",
       "       [40.731487],\n",
       "       [40.76873 ],\n",
       "       [40.805973],\n",
       "       [40.843212],\n",
       "       [40.880455],\n",
       "       [40.917694],\n",
       "       [40.954933],\n",
       "       [40.99217 ],\n",
       "       [41.02941 ],\n",
       "       [41.066647],\n",
       "       [41.103886],\n",
       "       [41.141125],\n",
       "       [41.178356],\n",
       "       [41.215584],\n",
       "       [41.252823],\n",
       "       [41.29006 ],\n",
       "       [41.327286],\n",
       "       [41.364517],\n",
       "       [41.40175 ],\n",
       "       [41.438976],\n",
       "       [41.476208],\n",
       "       [41.513435],\n",
       "       [41.550663],\n",
       "       [41.58789 ],\n",
       "       [41.62512 ],\n",
       "       [41.662342],\n",
       "       [41.699562]], dtype=float32)>"
      ]
     },
     "execution_count": 87,
     "metadata": {},
     "output_type": "execute_result"
    }
   ],
   "source": [
    "(xvec**α+(1-δ)*xvec)-model(xvec)"
   ]
  },
  {
   "cell_type": "code",
   "execution_count": null,
   "id": "839079b0",
   "metadata": {},
   "outputs": [],
   "source": []
  }
 ],
 "metadata": {
  "kernelspec": {
   "display_name": "Python 3 (ipykernel)",
   "language": "python",
   "name": "python3"
  },
  "language_info": {
   "codemirror_mode": {
    "name": "ipython",
    "version": 3
   },
   "file_extension": ".py",
   "mimetype": "text/x-python",
   "name": "python",
   "nbconvert_exporter": "python",
   "pygments_lexer": "ipython3",
   "version": "3.10.9"
  }
 },
 "nbformat": 4,
 "nbformat_minor": 5
}
