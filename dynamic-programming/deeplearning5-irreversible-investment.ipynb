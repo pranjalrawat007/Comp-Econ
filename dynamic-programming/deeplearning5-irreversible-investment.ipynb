{
 "cells": [
  {
   "cell_type": "markdown",
   "id": "c5edf6bf",
   "metadata": {},
   "source": [
    "# Optimal Growth - Irreversible Investment"
   ]
  },
  {
   "cell_type": "code",
   "execution_count": 78,
   "id": "b9274aa9",
   "metadata": {},
   "outputs": [],
   "source": [
    "import tensorflow as tf\n",
    "import numpy as np\n",
    "from math import sqrt\n",
    "from matplotlib import pyplot as plt\n",
    "from tqdm import tqdm as tqdm\n",
    "import datetime\n",
    "from typing import Tuple\n",
    "class Vector: pass"
   ]
  },
  {
   "cell_type": "code",
   "execution_count": 97,
   "id": "d72d2678",
   "metadata": {},
   "outputs": [
    {
     "name": "stdout",
     "output_type": "stream",
     "text": [
      "37.98925353815241 0.9497313384538103\n",
      "(200, 1)\n",
      "(200, 2)\n"
     ]
    },
    {
     "name": "stderr",
     "output_type": "stream",
     "text": [
      "2023-01-26 16:59:15.160469: W tensorflow/core/framework/op_kernel.cc:1830] OP_REQUIRES failed at strided_slice_op.cc:111 : INVALID_ARGUMENT: slice index 2 of dimension 1 out of bounds.\n"
     ]
    },
    {
     "ename": "InvalidArgumentError",
     "evalue": "{{function_node __wrapped__StridedSlice_device_/job:localhost/replica:0/task:0/device:CPU:0}} slice index 2 of dimension 1 out of bounds. [Op:StridedSlice] name: strided_slice/",
     "output_type": "error",
     "traceback": [
      "\u001b[0;31m---------------------------------------------------------------------------\u001b[0m",
      "\u001b[0;31mInvalidArgumentError\u001b[0m                      Traceback (most recent call last)",
      "Cell \u001b[0;32mIn [97], line 39\u001b[0m\n\u001b[1;32m     34\u001b[0m xvec \u001b[38;5;241m=\u001b[39m np\u001b[38;5;241m.\u001b[39mpower(np\u001b[38;5;241m.\u001b[39mlinspace(xmin\u001b[38;5;241m*\u001b[39m\u001b[38;5;241m*\u001b[39m(\u001b[38;5;241m1\u001b[39m\u001b[38;5;241m/\u001b[39mλ),xmax\u001b[38;5;241m*\u001b[39m\u001b[38;5;241m*\u001b[39m(\u001b[38;5;241m1\u001b[39m\u001b[38;5;241m/\u001b[39mλ),\u001b[38;5;241m200\u001b[39m,dtype\u001b[38;5;241m=\u001b[39m\u001b[38;5;124m'\u001b[39m\u001b[38;5;124mfloat32\u001b[39m\u001b[38;5;124m'\u001b[39m),λ)\u001b[38;5;241m.\u001b[39mreshape(\u001b[38;5;241m-\u001b[39m\u001b[38;5;241m1\u001b[39m,\u001b[38;5;241m1\u001b[39m)\n\u001b[1;32m     35\u001b[0m \u001b[38;5;66;03m#print(xvec)\u001b[39;00m\n\u001b[1;32m     36\u001b[0m \u001b[38;5;66;03m#print(xvec.shape, model(xvec).shape)\u001b[39;00m\n\u001b[1;32m     37\u001b[0m \u001b[38;5;66;03m#plt.plot(xvec, model(xvec), label = 'c(x)')\u001b[39;00m\n\u001b[0;32m---> 39\u001b[0m c, h \u001b[38;5;241m=\u001b[39m \u001b[43mmodel\u001b[49m\u001b[43m(\u001b[49m\u001b[43mxvec\u001b[49m\u001b[43m)\u001b[49m\n\u001b[1;32m     40\u001b[0m \u001b[38;5;28mprint\u001b[39m(tf\u001b[38;5;241m.\u001b[39mshape(c), tf\u001b[38;5;241m.\u001b[39mshape(h))\n\u001b[1;32m     41\u001b[0m plt\u001b[38;5;241m.\u001b[39mplot(xvec,c,label\u001b[38;5;241m=\u001b[39m\u001b[38;5;124m'\u001b[39m\u001b[38;5;124mSolved c(x)\u001b[39m\u001b[38;5;124m'\u001b[39m,c\u001b[38;5;241m=\u001b[39m\u001b[38;5;124m'\u001b[39m\u001b[38;5;124mb\u001b[39m\u001b[38;5;124m'\u001b[39m)\n",
      "Cell \u001b[0;32mIn [97], line 30\u001b[0m, in \u001b[0;36mmodel\u001b[0;34m(x)\u001b[0m\n\u001b[1;32m     28\u001b[0m \u001b[38;5;28mprint\u001b[39m(s\u001b[38;5;241m.\u001b[39mshape)\n\u001b[1;32m     29\u001b[0m c \u001b[38;5;241m=\u001b[39m tf\u001b[38;5;241m.\u001b[39mexp(s[:,\u001b[38;5;241m1\u001b[39m])\n\u001b[0;32m---> 30\u001b[0m h \u001b[38;5;241m=\u001b[39m tf\u001b[38;5;241m.\u001b[39mexp(\u001b[43ms\u001b[49m\u001b[43m[\u001b[49m\u001b[43m:\u001b[49m\u001b[43m,\u001b[49m\u001b[38;5;241;43m2\u001b[39;49m\u001b[43m]\u001b[49m)\n\u001b[1;32m     31\u001b[0m \u001b[38;5;28mprint\u001b[39m(c\u001b[38;5;241m.\u001b[39mshape)\n\u001b[1;32m     32\u001b[0m \u001b[38;5;28;01mreturn\u001b[39;00m (c,h)\n",
      "File \u001b[0;32m/usr/local/lib/python3.10/site-packages/tensorflow/python/util/traceback_utils.py:153\u001b[0m, in \u001b[0;36mfilter_traceback.<locals>.error_handler\u001b[0;34m(*args, **kwargs)\u001b[0m\n\u001b[1;32m    151\u001b[0m \u001b[38;5;28;01mexcept\u001b[39;00m \u001b[38;5;167;01mException\u001b[39;00m \u001b[38;5;28;01mas\u001b[39;00m e:\n\u001b[1;32m    152\u001b[0m   filtered_tb \u001b[38;5;241m=\u001b[39m _process_traceback_frames(e\u001b[38;5;241m.\u001b[39m__traceback__)\n\u001b[0;32m--> 153\u001b[0m   \u001b[38;5;28;01mraise\u001b[39;00m e\u001b[38;5;241m.\u001b[39mwith_traceback(filtered_tb) \u001b[38;5;28;01mfrom\u001b[39;00m \u001b[38;5;28mNone\u001b[39m\n\u001b[1;32m    154\u001b[0m \u001b[38;5;28;01mfinally\u001b[39;00m:\n\u001b[1;32m    155\u001b[0m   \u001b[38;5;28;01mdel\u001b[39;00m filtered_tb\n",
      "File \u001b[0;32m/usr/local/lib/python3.10/site-packages/tensorflow/python/framework/ops.py:7215\u001b[0m, in \u001b[0;36mraise_from_not_ok_status\u001b[0;34m(e, name)\u001b[0m\n\u001b[1;32m   7213\u001b[0m \u001b[38;5;28;01mdef\u001b[39;00m \u001b[38;5;21mraise_from_not_ok_status\u001b[39m(e, name):\n\u001b[1;32m   7214\u001b[0m   e\u001b[38;5;241m.\u001b[39mmessage \u001b[38;5;241m+\u001b[39m\u001b[38;5;241m=\u001b[39m (\u001b[38;5;124m\"\u001b[39m\u001b[38;5;124m name: \u001b[39m\u001b[38;5;124m\"\u001b[39m \u001b[38;5;241m+\u001b[39m name \u001b[38;5;28;01mif\u001b[39;00m name \u001b[38;5;129;01mis\u001b[39;00m \u001b[38;5;129;01mnot\u001b[39;00m \u001b[38;5;28;01mNone\u001b[39;00m \u001b[38;5;28;01melse\u001b[39;00m \u001b[38;5;124m\"\u001b[39m\u001b[38;5;124m\"\u001b[39m)\n\u001b[0;32m-> 7215\u001b[0m   \u001b[38;5;28;01mraise\u001b[39;00m core\u001b[38;5;241m.\u001b[39m_status_to_exception(e) \u001b[38;5;28;01mfrom\u001b[39;00m \u001b[38;5;28mNone\u001b[39m\n",
      "\u001b[0;31mInvalidArgumentError\u001b[0m: {{function_node __wrapped__StridedSlice_device_/job:localhost/replica:0/task:0/device:CPU:0}} slice index 2 of dimension 1 out of bounds. [Op:StridedSlice] name: strided_slice/"
     ]
    }
   ],
   "source": [
    "# Model parameters\n",
    "β = 0.99\n",
    "α = 0.36\n",
    "δ = 0.025\n",
    "σ = 2.0\n",
    "ϕ = 0.975\n",
    "ρ = 0.90; \n",
    "phi = 0.975; \n",
    "Kss = ((1/β+δ-1)/(α))**(1/(α-1))\n",
    "Iss = δ*Kss;\n",
    "Imin = ϕ*Iss;\n",
    "print(Kss, Iss)\n",
    "xmin=Kss*0.9\n",
    "xmax=Kss*1.1\n",
    "min_FB = lambda a,b: a+b-tf.sqrt(a**2+b**2)\n",
    "layers = [\n",
    "    tf.keras.layers.Normalization(axis=-1, input_dim=1, mean=0, variance=1, invert=False),\n",
    "    tf.keras.layers.Dense(32, activation='tanh',  bias_initializer='he_uniform'),\n",
    "    tf.keras.layers.Dense(32, activation='tanh',  bias_initializer='he_uniform'),\n",
    "    tf.keras.layers.Dense(2, activation=tf.keras.activations.linear)\n",
    "]\n",
    "perceptron = tf.keras.Sequential(layers)\n",
    "\n",
    "def model(x:Vector)->Tuple[Vector,Vector]:\n",
    "    #x = tf.concat([i[:,None] for i in [x]], axis=1)\n",
    "    s = perceptron(x)\n",
    "    print(x.shape)\n",
    "    print(s.shape)\n",
    "    c = tf.exp(s[:,1])\n",
    "    h = tf.exp(s[:,2])\n",
    "    print(c.shape)\n",
    "    return (c,h)\n",
    "λ=1\n",
    "xvec = np.power(np.linspace(xmin**(1/λ),xmax**(1/λ),200,dtype='float32'),λ).reshape(-1,1)\n",
    "#print(xvec)\n",
    "#print(xvec.shape, model(xvec).shape)\n",
    "#plt.plot(xvec, model(xvec), label = 'c(x)')\n",
    "\n",
    "c, h = model(xvec)\n",
    "print(tf.shape(c), tf.shape(h))\n",
    "plt.plot(xvec,c,label='Solved c(x)',c='b')\n",
    "plt.xlim([xmin,xmax])\n",
    "plt.show()"
   ]
  },
  {
   "cell_type": "code",
   "execution_count": 86,
   "id": "b4eaf5c4",
   "metadata": {},
   "outputs": [
    {
     "name": "stdout",
     "output_type": "stream",
     "text": [
      "tf.Tensor([200   1], shape=(2,), dtype=int32)\n",
      "tf.Tensor([200], shape=(1,), dtype=int32)\n",
      "tf.Tensor([200 200], shape=(2,), dtype=int32)\n"
     ]
    },
    {
     "ename": "ValueError",
     "evalue": "Exception encountered when calling layer 'sequential_16' (type Sequential).\n\nInput 0 of layer \"dense_46\" is incompatible with the layer: expected axis -1 of input shape to have value 1, but received input with shape (200, 200)\n\nCall arguments received by layer 'sequential_16' (type Sequential):\n  • inputs=tf.Tensor(shape=(200, 200), dtype=float32)\n  • training=None\n  • mask=None",
     "output_type": "error",
     "traceback": [
      "\u001b[0;31m---------------------------------------------------------------------------\u001b[0m",
      "\u001b[0;31mValueError\u001b[0m                                Traceback (most recent call last)",
      "Cell \u001b[0;32mIn [86], line 20\u001b[0m\n\u001b[1;32m     16\u001b[0m     R_squared \u001b[38;5;241m=\u001b[39m R1\u001b[38;5;241m*\u001b[39mR1\u001b[38;5;241m+\u001b[39mR2\u001b[38;5;241m*\u001b[39mR2\n\u001b[1;32m     17\u001b[0m     \u001b[38;5;28;01mreturn\u001b[39;00m tf\u001b[38;5;241m.\u001b[39mreduce_mean(R_squared)\n\u001b[0;32m---> 20\u001b[0m \u001b[43mresiduals\u001b[49m\u001b[43m(\u001b[49m\u001b[43mxvec\u001b[49m\u001b[43m)\u001b[49m;\n\u001b[1;32m     21\u001b[0m n \u001b[38;5;241m=\u001b[39m \u001b[38;5;241m500\u001b[39m\n\u001b[1;32m     22\u001b[0m v \u001b[38;5;241m=\u001b[39m J(n)\n",
      "Cell \u001b[0;32mIn [86], line 7\u001b[0m, in \u001b[0;36mresiduals\u001b[0;34m(k)\u001b[0m\n\u001b[1;32m      5\u001b[0m kp\u001b[38;5;241m=\u001b[39mk\u001b[38;5;241m*\u001b[39m\u001b[38;5;241m*\u001b[39mα\u001b[38;5;241m+\u001b[39m(\u001b[38;5;241m1\u001b[39m\u001b[38;5;241m-\u001b[39mδ)\u001b[38;5;241m*\u001b[39mk\u001b[38;5;241m-\u001b[39mc\n\u001b[1;32m      6\u001b[0m \u001b[38;5;28mprint\u001b[39m(tf\u001b[38;5;241m.\u001b[39mshape(kp))\n\u001b[0;32m----> 7\u001b[0m cp,hp\u001b[38;5;241m=\u001b[39m\u001b[43mmodel\u001b[49m\u001b[43m(\u001b[49m\u001b[43mkp\u001b[49m\u001b[43m)\u001b[49m\n\u001b[1;32m      8\u001b[0m R1 \u001b[38;5;241m=\u001b[39m min_FB(k\u001b[38;5;241m*\u001b[39m\u001b[38;5;241m*\u001b[39mα\u001b[38;5;241m+\u001b[39m(\u001b[38;5;241m1\u001b[39m\u001b[38;5;241m-\u001b[39mδ)\u001b[38;5;241m*\u001b[39mk\u001b[38;5;241m-\u001b[39mc, c\u001b[38;5;241m*\u001b[39m\u001b[38;5;241m*\u001b[39m(\u001b[38;5;241m-\u001b[39mσ)\u001b[38;5;241m-\u001b[39mβ\u001b[38;5;241m*\u001b[39m(α\u001b[38;5;241m*\u001b[39mkp\u001b[38;5;241m*\u001b[39m\u001b[38;5;241m*\u001b[39m(α\u001b[38;5;241m-\u001b[39m\u001b[38;5;241m1\u001b[39m)\u001b[38;5;241m+\u001b[39m\u001b[38;5;241m1\u001b[39m\u001b[38;5;241m-\u001b[39mδ)\u001b[38;5;241m*\u001b[39mc\u001b[38;5;241m*\u001b[39m\u001b[38;5;241m*\u001b[39m(\u001b[38;5;241m-\u001b[39mσ)\u001b[38;5;241m-\u001b[39m(\u001b[38;5;241m1\u001b[39m\u001b[38;5;241m-\u001b[39mδ)\u001b[38;5;241m*\u001b[39mhp\u001b[38;5;241m-\u001b[39mh)\n\u001b[1;32m      9\u001b[0m R2 \u001b[38;5;241m=\u001b[39m min_FB(h,kp\u001b[38;5;241m-\u001b[39m(\u001b[38;5;241m1\u001b[39m\u001b[38;5;241m-\u001b[39mδ)\u001b[38;5;241m*\u001b[39mk\u001b[38;5;241m-\u001b[39mϕ\u001b[38;5;241m*\u001b[39mIss)\n",
      "Cell \u001b[0;32mIn [79], line 26\u001b[0m, in \u001b[0;36mmodel\u001b[0;34m(x)\u001b[0m\n\u001b[1;32m     24\u001b[0m \u001b[38;5;28;01mdef\u001b[39;00m \u001b[38;5;21mmodel\u001b[39m(x:Vector)\u001b[38;5;241m-\u001b[39m\u001b[38;5;241m>\u001b[39mTuple[Vector,Vector]:\n\u001b[1;32m     25\u001b[0m     s \u001b[38;5;241m=\u001b[39m tf\u001b[38;5;241m.\u001b[39mconcat([_e[:,\u001b[38;5;28;01mNone\u001b[39;00m] \u001b[38;5;28;01mfor\u001b[39;00m _e \u001b[38;5;129;01min\u001b[39;00m [x]], axis\u001b[38;5;241m=\u001b[39m\u001b[38;5;241m1\u001b[39m)\n\u001b[0;32m---> 26\u001b[0m     s \u001b[38;5;241m=\u001b[39m \u001b[43mperceptron\u001b[49m\u001b[43m(\u001b[49m\u001b[43mx\u001b[49m\u001b[43m)\u001b[49m\n\u001b[1;32m     27\u001b[0m     c \u001b[38;5;241m=\u001b[39m tf\u001b[38;5;241m.\u001b[39mexp(s[:,\u001b[38;5;241m1\u001b[39m])\n\u001b[1;32m     28\u001b[0m     h \u001b[38;5;241m=\u001b[39m tf\u001b[38;5;241m.\u001b[39msigmoid(s[:,\u001b[38;5;241m1\u001b[39m])\n",
      "File \u001b[0;32m/usr/local/lib/python3.10/site-packages/keras/utils/traceback_utils.py:70\u001b[0m, in \u001b[0;36mfilter_traceback.<locals>.error_handler\u001b[0;34m(*args, **kwargs)\u001b[0m\n\u001b[1;32m     67\u001b[0m     filtered_tb \u001b[38;5;241m=\u001b[39m _process_traceback_frames(e\u001b[38;5;241m.\u001b[39m__traceback__)\n\u001b[1;32m     68\u001b[0m     \u001b[38;5;66;03m# To get the full stack trace, call:\u001b[39;00m\n\u001b[1;32m     69\u001b[0m     \u001b[38;5;66;03m# `tf.debugging.disable_traceback_filtering()`\u001b[39;00m\n\u001b[0;32m---> 70\u001b[0m     \u001b[38;5;28;01mraise\u001b[39;00m e\u001b[38;5;241m.\u001b[39mwith_traceback(filtered_tb) \u001b[38;5;28;01mfrom\u001b[39;00m \u001b[38;5;28mNone\u001b[39m\n\u001b[1;32m     71\u001b[0m \u001b[38;5;28;01mfinally\u001b[39;00m:\n\u001b[1;32m     72\u001b[0m     \u001b[38;5;28;01mdel\u001b[39;00m filtered_tb\n",
      "File \u001b[0;32m/usr/local/lib/python3.10/site-packages/keras/engine/input_spec.py:277\u001b[0m, in \u001b[0;36massert_input_compatibility\u001b[0;34m(input_spec, inputs, layer_name)\u001b[0m\n\u001b[1;32m    272\u001b[0m             value \u001b[38;5;241m=\u001b[39m value\u001b[38;5;241m.\u001b[39mvalue\n\u001b[1;32m    273\u001b[0m         \u001b[38;5;28;01mif\u001b[39;00m value \u001b[38;5;129;01mis\u001b[39;00m \u001b[38;5;129;01mnot\u001b[39;00m \u001b[38;5;28;01mNone\u001b[39;00m \u001b[38;5;129;01mand\u001b[39;00m shape_as_list[\u001b[38;5;28mint\u001b[39m(axis)] \u001b[38;5;129;01mnot\u001b[39;00m \u001b[38;5;129;01min\u001b[39;00m {\n\u001b[1;32m    274\u001b[0m             value,\n\u001b[1;32m    275\u001b[0m             \u001b[38;5;28;01mNone\u001b[39;00m,\n\u001b[1;32m    276\u001b[0m         }:\n\u001b[0;32m--> 277\u001b[0m             \u001b[38;5;28;01mraise\u001b[39;00m \u001b[38;5;167;01mValueError\u001b[39;00m(\n\u001b[1;32m    278\u001b[0m                 \u001b[38;5;124mf\u001b[39m\u001b[38;5;124m'\u001b[39m\u001b[38;5;124mInput \u001b[39m\u001b[38;5;132;01m{\u001b[39;00minput_index\u001b[38;5;132;01m}\u001b[39;00m\u001b[38;5;124m of layer \u001b[39m\u001b[38;5;124m\"\u001b[39m\u001b[38;5;132;01m{\u001b[39;00mlayer_name\u001b[38;5;132;01m}\u001b[39;00m\u001b[38;5;124m\"\u001b[39m\u001b[38;5;124m is \u001b[39m\u001b[38;5;124m'\u001b[39m\n\u001b[1;32m    279\u001b[0m                 \u001b[38;5;124mf\u001b[39m\u001b[38;5;124m\"\u001b[39m\u001b[38;5;124mincompatible with the layer: expected axis \u001b[39m\u001b[38;5;132;01m{\u001b[39;00maxis\u001b[38;5;132;01m}\u001b[39;00m\u001b[38;5;124m \u001b[39m\u001b[38;5;124m\"\u001b[39m\n\u001b[1;32m    280\u001b[0m                 \u001b[38;5;124mf\u001b[39m\u001b[38;5;124m\"\u001b[39m\u001b[38;5;124mof input shape to have value \u001b[39m\u001b[38;5;132;01m{\u001b[39;00mvalue\u001b[38;5;132;01m}\u001b[39;00m\u001b[38;5;124m, \u001b[39m\u001b[38;5;124m\"\u001b[39m\n\u001b[1;32m    281\u001b[0m                 \u001b[38;5;124m\"\u001b[39m\u001b[38;5;124mbut received input with \u001b[39m\u001b[38;5;124m\"\u001b[39m\n\u001b[1;32m    282\u001b[0m                 \u001b[38;5;124mf\u001b[39m\u001b[38;5;124m\"\u001b[39m\u001b[38;5;124mshape \u001b[39m\u001b[38;5;132;01m{\u001b[39;00mdisplay_shape(x\u001b[38;5;241m.\u001b[39mshape)\u001b[38;5;132;01m}\u001b[39;00m\u001b[38;5;124m\"\u001b[39m\n\u001b[1;32m    283\u001b[0m             )\n\u001b[1;32m    284\u001b[0m \u001b[38;5;66;03m# Check shape.\u001b[39;00m\n\u001b[1;32m    285\u001b[0m \u001b[38;5;28;01mif\u001b[39;00m spec\u001b[38;5;241m.\u001b[39mshape \u001b[38;5;129;01mis\u001b[39;00m \u001b[38;5;129;01mnot\u001b[39;00m \u001b[38;5;28;01mNone\u001b[39;00m \u001b[38;5;129;01mand\u001b[39;00m shape\u001b[38;5;241m.\u001b[39mrank \u001b[38;5;129;01mis\u001b[39;00m \u001b[38;5;129;01mnot\u001b[39;00m \u001b[38;5;28;01mNone\u001b[39;00m:\n",
      "\u001b[0;31mValueError\u001b[0m: Exception encountered when calling layer 'sequential_16' (type Sequential).\n\nInput 0 of layer \"dense_46\" is incompatible with the layer: expected axis -1 of input shape to have value 1, but received input with shape (200, 200)\n\nCall arguments received by layer 'sequential_16' (type Sequential):\n  • inputs=tf.Tensor(shape=(200, 200), dtype=float32)\n  • training=None\n  • mask=None"
     ]
    }
   ],
   "source": [
    "def residuals(k:Vector):\n",
    "    print(tf.shape(k))\n",
    "    c,h=model(k)\n",
    "    print(tf.shape(c))\n",
    "    kp=k**α+(1-δ)*k-c\n",
    "    print(tf.shape(kp))\n",
    "    cp,hp=model(kp)\n",
    "    R1 = min_FB(k**α+(1-δ)*k-c, c**(-σ)-β*(α*kp**(α-1)+1-δ)*c**(-σ)-(1-δ)*hp-h)\n",
    "    R2 = min_FB(h,kp-(1-δ)*k-ϕ*Iss)\n",
    "    return R1,R2\n",
    "\n",
    "def J(n):\n",
    "    x = tf.random.uniform(shape=(n,),minval=xmin,maxval=xmax)\n",
    "    print(tf.shape(x))\n",
    "    R1,R2 = residuals(x)\n",
    "    R_squared = R1*R1+R2*R2\n",
    "    return tf.reduce_mean(R_squared)\n",
    "\n",
    "\n",
    "residuals(xvec);\n",
    "n = 500\n",
    "v = J(n)\n",
    "v.numpy()"
   ]
  },
  {
   "cell_type": "code",
   "execution_count": 57,
   "id": "f908764e",
   "metadata": {},
   "outputs": [
    {
     "name": "stdout",
     "output_type": "stream",
     "text": [
      "[<tf.Variable 'dense_43/kernel:0' shape=(1, 32) dtype=float32, numpy=\n",
      "array([[-0.26736104,  0.38324273, -0.2906385 ,  0.3835762 , -0.24267763,\n",
      "        -0.09865853, -0.03071505,  0.02082253, -0.3327399 , -0.11066654,\n",
      "        -0.14385411,  0.2934587 , -0.19626078, -0.24344598,  0.25222653,\n",
      "         0.33113152, -0.10367158,  0.16038108,  0.2533387 ,  0.02662334,\n",
      "         0.39287716,  0.05671877,  0.4213335 , -0.13042486,  0.04600564,\n",
      "         0.10865384, -0.06402135,  0.2306816 , -0.36691737,  0.21153712,\n",
      "         0.26355493,  0.29234672]], dtype=float32)>, <tf.Variable 'dense_43/bias:0' shape=(32,) dtype=float32, numpy=\n",
      "array([-0.06564498, -0.3641058 ,  0.41374066,  0.04095978, -0.01644865,\n",
      "       -0.31585976,  0.10828063,  0.00793985,  0.14197287,  0.14352927,\n",
      "        0.28266308, -0.11429015, -0.11001822,  0.19586894, -0.09731859,\n",
      "       -0.06442276, -0.3651328 , -0.33371288, -0.01921183, -0.20896222,\n",
      "        0.37645796, -0.1995219 ,  0.23483577, -0.15987346,  0.04285729,\n",
      "       -0.2030\n"
     ]
    }
   ],
   "source": [
    "θ = perceptron.trainable_variables\n",
    "print(str(θ)[:1000])"
   ]
  },
  {
   "cell_type": "code",
   "execution_count": 66,
   "id": "36db991f",
   "metadata": {},
   "outputs": [],
   "source": [
    "from tensorflow.keras.optimizers import Adam, SGD\n",
    "variables = perceptron.trainable_variables\n",
    "optimizer = SGD()\n",
    "#optimizer.lr.assign(0.0000001)"
   ]
  },
  {
   "cell_type": "code",
   "execution_count": 67,
   "id": "f8c9ca77",
   "metadata": {},
   "outputs": [],
   "source": [
    "@tf.function\n",
    "def training_step():\n",
    "    \n",
    "    with tf.GradientTape() as tape:\n",
    "        xx = J(n)\n",
    "        \n",
    "    grads = tape.gradient(xx,θ)\n",
    "    optimizer.apply_gradients(zip(grads,θ))\n",
    "    return xx\n",
    "\n",
    "def train_me(K):\n",
    "    vals=[]\n",
    "    for k in tqdm(tf.range(K)):\n",
    "        val=training_step()\n",
    "        vals.append(val.numpy())\n",
    "    return vals"
   ]
  },
  {
   "cell_type": "code",
   "execution_count": 68,
   "id": "113efa52",
   "metadata": {},
   "outputs": [
    {
     "name": "stderr",
     "output_type": "stream",
     "text": [
      "\r",
      "  0%|                                                  | 0/5000 [00:00<?, ?it/s]"
     ]
    },
    {
     "name": "stdout",
     "output_type": "stream",
     "text": [
      "Tensor(\"Shape:0\", shape=(1,), dtype=int32)\n",
      "Tensor(\"Shape:0\", shape=(1,), dtype=int32)\n"
     ]
    },
    {
     "name": "stderr",
     "output_type": "stream",
     "text": [
      "100%|██████████████████████████████████████| 5000/5000 [00:11<00:00, 438.98it/s]\n"
     ]
    }
   ],
   "source": [
    "results = train_me(5000)"
   ]
  },
  {
   "cell_type": "code",
   "execution_count": 69,
   "id": "4e1a181b",
   "metadata": {},
   "outputs": [
    {
     "data": {
      "image/png": "[encoded data removed]",
      "text/plain": [
       "<Figure size 640x480 with 1 Axes>"
      ]
     },
     "metadata": {},
     "output_type": "display_data"
    }
   ],
   "source": [
    "plt.plot(np.sqrt(results))\n",
    "plt.xscale('log')\n",
    "plt.yscale('log')\n",
    "plt.grid()"
   ]
  },
  {
   "cell_type": "code",
   "execution_count": 73,
   "id": "b6c62490",
   "metadata": {},
   "outputs": [
    {
     "data": {
      "image/png": "[encoded data removed]",
      "text/plain": [
       "<Figure size 640x480 with 1 Axes>"
      ]
     },
     "metadata": {},
     "output_type": "display_data"
    }
   ],
   "source": [
    "c, h = model(xvec)\n",
    "plt.plot(xvec,c,label='Solved c(x)',c='b')\n",
    "plt.xlim([xmin,xmax])\n",
    "plt.show()"
   ]
  },
  {
   "cell_type": "code",
   "execution_count": 75,
   "id": "4599f03f",
   "metadata": {},
   "outputs": [
    {
     "data": {
      "image/png": "[encoded data removed]",
      "text/plain": [
       "<Figure size 640x480 with 1 Axes>"
      ]
     },
     "metadata": {},
     "output_type": "display_data"
    }
   ],
   "source": [
    "c,h=model(xvec)\n",
    "plt.plot(xvec,xvec**α+(1-δ)*xvec,label='c(x)',c='b')\n",
    "plt.xlim([xmin,xmax])\n",
    "plt.show()"
   ]
  },
  {
   "cell_type": "code",
   "execution_count": 76,
   "id": "e401e294",
   "metadata": {},
   "outputs": [
    {
     "name": "stdout",
     "output_type": "stream",
     "text": [
      "tf.Tensor([200   1], shape=(2,), dtype=int32)\n",
      "tf.Tensor([200], shape=(1,), dtype=int32)\n"
     ]
    },
    {
     "ename": "ValueError",
     "evalue": "Exception encountered when calling layer 'sequential_15' (type Sequential).\n\nInput 0 of layer \"dense_43\" is incompatible with the layer: expected axis -1 of input shape to have value 1, but received input with shape (200, 200)\n\nCall arguments received by layer 'sequential_15' (type Sequential):\n  • inputs=tf.Tensor(shape=(200, 200), dtype=float32)\n  • training=None\n  • mask=None",
     "output_type": "error",
     "traceback": [
      "\u001b[0;31m---------------------------------------------------------------------------\u001b[0m",
      "\u001b[0;31mValueError\u001b[0m                                Traceback (most recent call last)",
      "Cell \u001b[0;32mIn [76], line 5\u001b[0m\n\u001b[1;32m      3\u001b[0m \u001b[38;5;28mprint\u001b[39m(tf\u001b[38;5;241m.\u001b[39mshape(c))\n\u001b[1;32m      4\u001b[0m kp\u001b[38;5;241m=\u001b[39mxvec\u001b[38;5;241m*\u001b[39m\u001b[38;5;241m*\u001b[39mα\u001b[38;5;241m+\u001b[39m(\u001b[38;5;241m1\u001b[39m\u001b[38;5;241m-\u001b[39mδ)\u001b[38;5;241m*\u001b[39mxvec\u001b[38;5;241m-\u001b[39mc\n\u001b[0;32m----> 5\u001b[0m cp,hp\u001b[38;5;241m=\u001b[39m\u001b[43mmodel\u001b[49m\u001b[43m(\u001b[49m\u001b[43mkp\u001b[49m\u001b[43m)\u001b[49m\n\u001b[1;32m      6\u001b[0m invst \u001b[38;5;241m=\u001b[39m kp\u001b[38;5;241m-\u001b[39m(\u001b[38;5;241m1\u001b[39m\u001b[38;5;241m-\u001b[39mδ)\u001b[38;5;241m*\u001b[39mxvec\u001b[38;5;241m-\u001b[39mϕ\u001b[38;5;241m*\u001b[39mIss\n\u001b[1;32m      7\u001b[0m plt\u001b[38;5;241m.\u001b[39mplot(xvec,invst,label\u001b[38;5;241m=\u001b[39m\u001b[38;5;124m'\u001b[39m\u001b[38;5;124mSolved c(x)\u001b[39m\u001b[38;5;124m'\u001b[39m,c\u001b[38;5;241m=\u001b[39m\u001b[38;5;124m'\u001b[39m\u001b[38;5;124mb\u001b[39m\u001b[38;5;124m'\u001b[39m)\n",
      "Cell \u001b[0;32mIn [55], line 26\u001b[0m, in \u001b[0;36mmodel\u001b[0;34m(x)\u001b[0m\n\u001b[1;32m     24\u001b[0m \u001b[38;5;28;01mdef\u001b[39;00m \u001b[38;5;21mmodel\u001b[39m(x:Vector)\u001b[38;5;241m-\u001b[39m\u001b[38;5;241m>\u001b[39mTuple[Vector,Vector]:\n\u001b[1;32m     25\u001b[0m     s \u001b[38;5;241m=\u001b[39m tf\u001b[38;5;241m.\u001b[39mconcat([_e[:,\u001b[38;5;28;01mNone\u001b[39;00m] \u001b[38;5;28;01mfor\u001b[39;00m _e \u001b[38;5;129;01min\u001b[39;00m [x]], axis\u001b[38;5;241m=\u001b[39m\u001b[38;5;241m1\u001b[39m)\n\u001b[0;32m---> 26\u001b[0m     s \u001b[38;5;241m=\u001b[39m \u001b[43mperceptron\u001b[49m\u001b[43m(\u001b[49m\u001b[43mx\u001b[49m\u001b[43m)\u001b[49m\n\u001b[1;32m     27\u001b[0m     c \u001b[38;5;241m=\u001b[39m tf\u001b[38;5;241m.\u001b[39mexp(s[:,\u001b[38;5;241m1\u001b[39m])\n\u001b[1;32m     28\u001b[0m     h \u001b[38;5;241m=\u001b[39m tf\u001b[38;5;241m.\u001b[39msigmoid(s[:,\u001b[38;5;241m1\u001b[39m])\n",
      "File \u001b[0;32m/usr/local/lib/python3.10/site-packages/keras/utils/traceback_utils.py:70\u001b[0m, in \u001b[0;36mfilter_traceback.<locals>.error_handler\u001b[0;34m(*args, **kwargs)\u001b[0m\n\u001b[1;32m     67\u001b[0m     filtered_tb \u001b[38;5;241m=\u001b[39m _process_traceback_frames(e\u001b[38;5;241m.\u001b[39m__traceback__)\n\u001b[1;32m     68\u001b[0m     \u001b[38;5;66;03m# To get the full stack trace, call:\u001b[39;00m\n\u001b[1;32m     69\u001b[0m     \u001b[38;5;66;03m# `tf.debugging.disable_traceback_filtering()`\u001b[39;00m\n\u001b[0;32m---> 70\u001b[0m     \u001b[38;5;28;01mraise\u001b[39;00m e\u001b[38;5;241m.\u001b[39mwith_traceback(filtered_tb) \u001b[38;5;28;01mfrom\u001b[39;00m \u001b[38;5;28mNone\u001b[39m\n\u001b[1;32m     71\u001b[0m \u001b[38;5;28;01mfinally\u001b[39;00m:\n\u001b[1;32m     72\u001b[0m     \u001b[38;5;28;01mdel\u001b[39;00m filtered_tb\n",
      "File \u001b[0;32m/usr/local/lib/python3.10/site-packages/keras/engine/input_spec.py:277\u001b[0m, in \u001b[0;36massert_input_compatibility\u001b[0;34m(input_spec, inputs, layer_name)\u001b[0m\n\u001b[1;32m    272\u001b[0m             value \u001b[38;5;241m=\u001b[39m value\u001b[38;5;241m.\u001b[39mvalue\n\u001b[1;32m    273\u001b[0m         \u001b[38;5;28;01mif\u001b[39;00m value \u001b[38;5;129;01mis\u001b[39;00m \u001b[38;5;129;01mnot\u001b[39;00m \u001b[38;5;28;01mNone\u001b[39;00m \u001b[38;5;129;01mand\u001b[39;00m shape_as_list[\u001b[38;5;28mint\u001b[39m(axis)] \u001b[38;5;129;01mnot\u001b[39;00m \u001b[38;5;129;01min\u001b[39;00m {\n\u001b[1;32m    274\u001b[0m             value,\n\u001b[1;32m    275\u001b[0m             \u001b[38;5;28;01mNone\u001b[39;00m,\n\u001b[1;32m    276\u001b[0m         }:\n\u001b[0;32m--> 277\u001b[0m             \u001b[38;5;28;01mraise\u001b[39;00m \u001b[38;5;167;01mValueError\u001b[39;00m(\n\u001b[1;32m    278\u001b[0m                 \u001b[38;5;124mf\u001b[39m\u001b[38;5;124m'\u001b[39m\u001b[38;5;124mInput \u001b[39m\u001b[38;5;132;01m{\u001b[39;00minput_index\u001b[38;5;132;01m}\u001b[39;00m\u001b[38;5;124m of layer \u001b[39m\u001b[38;5;124m\"\u001b[39m\u001b[38;5;132;01m{\u001b[39;00mlayer_name\u001b[38;5;132;01m}\u001b[39;00m\u001b[38;5;124m\"\u001b[39m\u001b[38;5;124m is \u001b[39m\u001b[38;5;124m'\u001b[39m\n\u001b[1;32m    279\u001b[0m                 \u001b[38;5;124mf\u001b[39m\u001b[38;5;124m\"\u001b[39m\u001b[38;5;124mincompatible with the layer: expected axis \u001b[39m\u001b[38;5;132;01m{\u001b[39;00maxis\u001b[38;5;132;01m}\u001b[39;00m\u001b[38;5;124m \u001b[39m\u001b[38;5;124m\"\u001b[39m\n\u001b[1;32m    280\u001b[0m                 \u001b[38;5;124mf\u001b[39m\u001b[38;5;124m\"\u001b[39m\u001b[38;5;124mof input shape to have value \u001b[39m\u001b[38;5;132;01m{\u001b[39;00mvalue\u001b[38;5;132;01m}\u001b[39;00m\u001b[38;5;124m, \u001b[39m\u001b[38;5;124m\"\u001b[39m\n\u001b[1;32m    281\u001b[0m                 \u001b[38;5;124m\"\u001b[39m\u001b[38;5;124mbut received input with \u001b[39m\u001b[38;5;124m\"\u001b[39m\n\u001b[1;32m    282\u001b[0m                 \u001b[38;5;124mf\u001b[39m\u001b[38;5;124m\"\u001b[39m\u001b[38;5;124mshape \u001b[39m\u001b[38;5;132;01m{\u001b[39;00mdisplay_shape(x\u001b[38;5;241m.\u001b[39mshape)\u001b[38;5;132;01m}\u001b[39;00m\u001b[38;5;124m\"\u001b[39m\n\u001b[1;32m    283\u001b[0m             )\n\u001b[1;32m    284\u001b[0m \u001b[38;5;66;03m# Check shape.\u001b[39;00m\n\u001b[1;32m    285\u001b[0m \u001b[38;5;28;01mif\u001b[39;00m spec\u001b[38;5;241m.\u001b[39mshape \u001b[38;5;129;01mis\u001b[39;00m \u001b[38;5;129;01mnot\u001b[39;00m \u001b[38;5;28;01mNone\u001b[39;00m \u001b[38;5;129;01mand\u001b[39;00m shape\u001b[38;5;241m.\u001b[39mrank \u001b[38;5;129;01mis\u001b[39;00m \u001b[38;5;129;01mnot\u001b[39;00m \u001b[38;5;28;01mNone\u001b[39;00m:\n",
      "\u001b[0;31mValueError\u001b[0m: Exception encountered when calling layer 'sequential_15' (type Sequential).\n\nInput 0 of layer \"dense_43\" is incompatible with the layer: expected axis -1 of input shape to have value 1, but received input with shape (200, 200)\n\nCall arguments received by layer 'sequential_15' (type Sequential):\n  • inputs=tf.Tensor(shape=(200, 200), dtype=float32)\n  • training=None\n  • mask=None"
     ]
    }
   ],
   "source": [
    "c,h=model(xvec)\n",
    "print(tf.shape(xvec))\n",
    "print(tf.shape(c))\n",
    "kp=xvec**α+(1-δ)*xvec-c\n",
    "cp,hp=model(kp)\n",
    "invst = kp-(1-δ)*xvec-ϕ*Iss\n",
    "plt.plot(xvec,invst,label='Solved c(x)',c='b')\n",
    "plt.xlim([xmin,xmax])\n",
    "plt.show()"
   ]
  },
  {
   "cell_type": "code",
   "execution_count": 147,
   "id": "14c3b85e",
   "metadata": {},
   "outputs": [
    {
     "data": {
      "text/plain": [
       "<tf.Tensor: shape=(2,), dtype=int32, numpy=array([200,   1], dtype=int32)>"
      ]
     },
     "execution_count": 147,
     "metadata": {},
     "output_type": "execute_result"
    }
   ],
   "source": [
    "tf.shape(xvec)"
   ]
  },
  {
   "cell_type": "code",
   "execution_count": 41,
   "id": "d3d3cbaf",
   "metadata": {},
   "outputs": [
    {
     "data": {
      "text/plain": [
       "<tf.Tensor: shape=(200,), dtype=float32, numpy=\n",
       "array([0.08020786, 0.08033138, 0.08045516, 0.08057906, 0.08070326,\n",
       "       0.08082759, 0.08095222, 0.0810769 , 0.08120181, 0.08132678,\n",
       "       0.08145225, 0.08157762, 0.08170342, 0.08182924, 0.08195527,\n",
       "       0.08208152, 0.08220809, 0.08233467, 0.08246148, 0.08258862,\n",
       "       0.08271578, 0.08284324, 0.08297087, 0.08309868, 0.08322675,\n",
       "       0.08335499, 0.08348338, 0.08361203, 0.08374087, 0.08386979,\n",
       "       0.08399904, 0.08412843, 0.08425809, 0.08438786, 0.08451791,\n",
       "       0.08464808, 0.08477847, 0.08490911, 0.08503991, 0.08517101,\n",
       "       0.08530208, 0.0854336 , 0.08556525, 0.08569705, 0.08582912,\n",
       "       0.08596125, 0.08609373, 0.08622646, 0.08635911, 0.08649231,\n",
       "       0.08662548, 0.08675908, 0.08689267, 0.08702652, 0.08716066,\n",
       "       0.08729492, 0.08742933, 0.0875641 , 0.08769898, 0.08783409,\n",
       "       0.08796954, 0.08810486, 0.08824073, 0.08837663, 0.08851277,\n",
       "       0.08864935, 0.08878582, 0.08892246, 0.08905955, 0.08919671,\n",
       "       0.08933405, 0.08947179, 0.08960957, 0.08974779, 0.08988598,\n",
       "       0.09002446, 0.09016325, 0.09030211, 0.09044123, 0.09058066,\n",
       "       0.09072009, 0.09085988, 0.0909998 , 0.09114014, 0.09128045,\n",
       "       0.09142113, 0.09156196, 0.09170304, 0.09184435, 0.09198574,\n",
       "       0.09212743, 0.09226946, 0.09241166, 0.09255403, 0.09269661,\n",
       "       0.09283933, 0.09298245, 0.09312566, 0.0932692 , 0.0934129 ,\n",
       "       0.09355684, 0.09370095, 0.09384527, 0.0939898 , 0.09413466,\n",
       "       0.09427968, 0.0944249 , 0.09457046, 0.09471609, 0.09486201,\n",
       "       0.09500821, 0.09515464, 0.09530123, 0.09544796, 0.09559502,\n",
       "       0.09574237, 0.09588978, 0.09603756, 0.0961855 , 0.0963338 ,\n",
       "       0.09648219, 0.09663077, 0.09677958, 0.09692875, 0.09707811,\n",
       "       0.09722763, 0.09737746, 0.09752751, 0.09767774, 0.09782837,\n",
       "       0.09797896, 0.09812979, 0.098281  , 0.09843256, 0.09858416,\n",
       "       0.09873597, 0.09888811, 0.09904044, 0.09919315, 0.09934597,\n",
       "       0.09949902, 0.0996523 , 0.09980576, 0.09995952, 0.10011353,\n",
       "       0.10026772, 0.10042239, 0.10057703, 0.10073204, 0.10088713,\n",
       "       0.10104254, 0.10119821, 0.10135412, 0.1015103 , 0.10166664,\n",
       "       0.10182332, 0.10198025, 0.10213729, 0.10229474, 0.10245225,\n",
       "       0.10261002, 0.10276835, 0.10292658, 0.1030852 , 0.103244  ,\n",
       "       0.10340296, 0.10356237, 0.10372195, 0.10388165, 0.10404162,\n",
       "       0.10420197, 0.10436243, 0.10452337, 0.10468445, 0.10484561,\n",
       "       0.10500722, 0.10516897, 0.10533094, 0.10549333, 0.1056557 ,\n",
       "       0.10581864, 0.10598148, 0.1061449 , 0.10630845, 0.10647213,\n",
       "       0.10663632, 0.10680064, 0.10696521, 0.10712985, 0.1072949 ,\n",
       "       0.10746033, 0.10762579, 0.10779153, 0.1079577 , 0.10812405,\n",
       "       0.10829048, 0.1084575 , 0.10862441, 0.10879192, 0.10895961],\n",
       "      dtype=float32)>"
      ]
     },
     "execution_count": 41,
     "metadata": {},
     "output_type": "execute_result"
    }
   ],
   "source": [
    "c"
   ]
  },
  {
   "cell_type": "code",
   "execution_count": 148,
   "id": "8b84bc5c",
   "metadata": {},
   "outputs": [
    {
     "data": {
      "text/plain": [
       "<tf.Tensor: shape=(200, 200), dtype=float32, numpy=\n",
       "array([[36.77087 , 36.7711  , 36.771328, ..., 36.809834, 36.81    ,\n",
       "        36.81017 ],\n",
       "       [36.809532, 36.80976 , 36.80999 , ..., 36.848495, 36.848663,\n",
       "        36.84883 ],\n",
       "       [36.84819 , 36.84842 , 36.848648, ..., 36.887154, 36.88732 ,\n",
       "        36.88749 ],\n",
       "       ...,\n",
       "       [44.368965, 44.369194, 44.369423, ..., 44.40793 , 44.408096,\n",
       "        44.408264],\n",
       "       [44.40745 , 44.40768 , 44.40791 , ..., 44.446415, 44.446583,\n",
       "        44.44675 ],\n",
       "       [44.445934, 44.446163, 44.446392, ..., 44.484898, 44.485065,\n",
       "        44.485233]], dtype=float32)>"
      ]
     },
     "execution_count": 148,
     "metadata": {},
     "output_type": "execute_result"
    }
   ],
   "source": [
    "kp"
   ]
  },
  {
   "cell_type": "code",
   "execution_count": null,
   "id": "180eb82b",
   "metadata": {},
   "outputs": [],
   "source": []
  }
 ],
 "metadata": {
  "kernelspec": {
   "display_name": "Python 3 (ipykernel)",
   "language": "python",
   "name": "python3"
  },
  "language_info": {
   "codemirror_mode": {
    "name": "ipython",
    "version": 3
   },
   "file_extension": ".py",
   "mimetype": "text/x-python",
   "name": "python",
   "nbconvert_exporter": "python",
   "pygments_lexer": "ipython3",
   "version": "3.10.9"
  }
 },
 "nbformat": 4,
 "nbformat_minor": 5
}
