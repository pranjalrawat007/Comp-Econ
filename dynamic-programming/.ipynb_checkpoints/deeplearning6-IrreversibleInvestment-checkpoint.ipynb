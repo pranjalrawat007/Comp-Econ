{
 "cells": [
  {
   "cell_type": "markdown",
   "id": "c5edf6bf",
   "metadata": {},
   "source": [
    "# Stochatic Optimal Growth"
   ]
  },
  {
   "cell_type": "code",
   "execution_count": 214,
   "id": "b9274aa9",
   "metadata": {},
   "outputs": [],
   "source": [
    "import tensorflow as tf\n",
    "import numpy as np\n",
    "from math import sqrt\n",
    "from matplotlib import pyplot as plt\n",
    "from tqdm import tqdm as tqdm\n",
    "import datetime\n",
    "from typing import Tuple\n",
    "class Vector: pass"
   ]
  },
  {
   "cell_type": "code",
   "execution_count": 216,
   "id": "d72d2678",
   "metadata": {},
   "outputs": [
    {
     "name": "stdout",
     "output_type": "stream",
     "text": [
      "37.98925353815225 0.9497313384538062\n",
      "tf.Tensor([100], shape=(1,), dtype=int32) tf.Tensor([100], shape=(1,), dtype=int32)\n"
     ]
    },
    {
     "data": {
      "text/plain": [
       "[<matplotlib.lines.Line2D at 0x15a04ac80>]"
      ]
     },
     "execution_count": 216,
     "metadata": {},
     "output_type": "execute_result"
    },
    {
     "data": {
      "image/png": "[encoded data removed]",
      "text/plain": [
       "<Figure size 640x480 with 1 Axes>"
      ]
     },
     "metadata": {},
     "output_type": "display_data"
    }
   ],
   "source": [
    "# Model parameters\n",
    "β = 0.99\n",
    "α = 0.36\n",
    "δ = 0.025\n",
    "σ = 2.0\n",
    "ϕ = 0.99\n",
    "\n",
    "Kss = ((1/β-1+δ)/α)**(1/(α-1));\n",
    "xmin = Kss*0.9;\n",
    "xmax = Kss*1.1;\n",
    "\n",
    "Iss = δ*Kss;\n",
    "Imin = ϕ*Iss;\n",
    "print(Kss, Iss)\n",
    "\n",
    "σ_z = 0.01\n",
    "ρ_z = 0.9\n",
    "σ_e_z = σ_z/(1-ρ_z**2)**0.5\n",
    "\n",
    "min_FB = lambda a,b: a+b-tf.sqrt(a**2+b**2)\n",
    "layers = [\n",
    "    tf.keras.layers.Normalization(axis=-1, input_dim=2, mean=0, variance=1, invert=False),\n",
    "    tf.keras.layers.Dense(32, activation='leaky_relu',  bias_initializer='he_uniform'),\n",
    "    tf.keras.layers.Dense(32, activation='leaky_relu',  bias_initializer='he_uniform'),\n",
    "    tf.keras.layers.Dense(2, activation=tf.keras.activations.linear)\n",
    "]\n",
    "perceptron = tf.keras.Sequential(layers)\n",
    "\n",
    "def model(k:Vector,z:Vector)->Tuple[Vector,Vector]:\n",
    "    s = tf.concat([i[:,None] for i in [k,z]], axis=1) # equivalent to np.column_stack\n",
    "    x = perceptron(s)\n",
    "    sh = tf.sigmoid(x[:,0])\n",
    "    h = tf.exp(x[:,1])\n",
    "    return (sh,h)\n",
    "\n",
    "λ=1\n",
    "xvec = np.linspace(xmin,xmax,100,dtype='float32').reshape(-1,)\n",
    "zvec = np.linspace(-2*σ_e_z,2*σ_e_z,100,dtype='float32').reshape(-1,)\n",
    "sh, h = model(xvec,zvec)\n",
    "c = sh*(xvec**α+(1-δ)*xvec)\n",
    "print(tf.shape(c),tf.shape(h))\n",
    "plt.plot(xvec, c, label = 'c(k,z)')"
   ]
  },
  {
   "cell_type": "code",
   "execution_count": 206,
   "id": "b4eaf5c4",
   "metadata": {},
   "outputs": [
    {
     "data": {
      "text/plain": [
       "0.95939493"
      ]
     },
     "execution_count": 206,
     "metadata": {},
     "output_type": "execute_result"
    }
   ],
   "source": [
    "def residuals(k:Vector, z:Vector, ez:Vector):\n",
    "    # Equations: \n",
    "    # 1) Euler: u'(c) - h = βE[u'(c')(f'(k,z)+(1-δ)) - (1-δ)h']\n",
    "    # 2) Budget: c+k' = f(k,z)\n",
    "    # 3) Complimentary Slackness: h(k'-(1-δ)k-Imin)=0, k'-(1-δ)k-Imin>=0, h>=0\n",
    "    \n",
    "    # h_ is normalized multiplier: h_ = h/c^(-σ)\n",
    "    # -> Euler: h_ = β * u'(c)^-1 * E[u'(c')(f'(k,z)+(1-δ)h_')]\n",
    "    # h = 0 means h_ = 0, h = c^(-σ) means h_ = 1, \n",
    "        \n",
    "    # sh is share of minimum in total investment: (I-Imin)/I = (k'-(1-δ)k-Imin)/I = sh ==> Inv = Imin/(1-sh)\n",
    "    # sh = 0 means k'-(1-δ)k-Imin = 0, sh=1 means k'-(1-δ)k-Imin rises to infty\n",
    "    # sh has to kept between 0 and 1\n",
    "    \n",
    "    # h(k'-(1-δ)k-Imin) = h_*sh = 0\n",
    "    \n",
    "    sh,h=model(k,tf.exp(z))  \n",
    "    Inv = Imin/(1-sh)\n",
    "    kp = Inv+(1-δ)*k\n",
    "    c = tf.exp(z)*k**α-Inv\n",
    "    zp = z*ρ_z+ez\n",
    "    shp,hp=model(kp,tf.exp(zp))\n",
    "    Invp = Imin/(1-shp)\n",
    "    kpp = Invp+(1-δ)*kp\n",
    "    cp = tf.exp(zp)*kp**α-Invp\n",
    "    \n",
    "    R1 = min_FB(1-h,1-sh)\n",
    "    R2 = 1- c**(σ)*β*((tf.exp(zp)*α*kp**(α-1)+(1-δ)-(1-δ)*hp)*cp**(-σ))-h\n",
    "    return R1, R2\n",
    "\n",
    "def J(n):\n",
    "    z = tf.random.normal(shape=(n,), stddev=σ_e_z)\n",
    "    k = tf.random.uniform(shape=(n,),minval=xmin,maxval=xmax)\n",
    "    ez1 = tf.random.normal(shape=(n,), stddev=σ_z)\n",
    "    ez2 = tf.random.normal(shape=(n,), stddev=σ_z)\n",
    "    R1_e1,R2_e1 = residuals(k,z,ez1)\n",
    "    R1_e2,R2_e2 = residuals(k,z,ez2)\n",
    "    R_squared = R1_e1*R1_e2+R2_e1*R2_e2\n",
    "    return tf.reduce_mean(R_squared)\n",
    "\n",
    "n = 5000\n",
    "v = J(n)\n",
    "v.numpy()"
   ]
  },
  {
   "cell_type": "code",
   "execution_count": 207,
   "id": "f9f65d0e",
   "metadata": {},
   "outputs": [
    {
     "name": "stdout",
     "output_type": "stream",
     "text": [
      "[<tf.Variable 'dense_138/kernel:0' shape=(2, 32) dtype=float32, numpy=\n",
      "array([[-0.0329129 , -0.13535288,  0.29808074,  0.09764934,  0.31163347,\n",
      "        -0.30907866,  0.12387907,  0.29037637, -0.3258851 ,  0.23075888,\n",
      "        -0.2165754 , -0.1372984 , -0.39757833, -0.29883924,  0.34998974,\n",
      "        -0.14382385, -0.23914558, -0.03055338, -0.39413032, -0.3753628 ,\n",
      "         0.10967545, -0.0159714 ,  0.33848035, -0.15703519,  0.22522211,\n",
      "         0.06622381, -0.12124821, -0.0710291 , -0.02710379,  0.1876278 ,\n",
      "         0.4032987 ,  0.37067112],\n",
      "       [ 0.33768559, -0.25009698,  0.35571316,  0.05546504, -0.02766952,\n",
      "        -0.2293936 ,  0.00603117, -0.30394825,  0.16891901,  0.16242808,\n",
      "         0.35345018,  0.06634691, -0.09661272,  0.00582546, -0.25889996,\n",
      "         0.10371646, -0.12413579, -0.00186179, -0.40455833, -0.33469957,\n",
      "        -0.38282207, -0.15519075, -0.2108229 , -0.01532381, -0.34437034,\n",
      "        -0.01393937, -0.19498454,  0.40841138,  0.2081945 ,  0.32786506,\n",
      "        -0.0109725\n"
     ]
    }
   ],
   "source": [
    "θ = perceptron.trainable_variables\n",
    "print(str(θ)[:1000])"
   ]
  },
  {
   "cell_type": "code",
   "execution_count": 208,
   "id": "36db991f",
   "metadata": {},
   "outputs": [
    {
     "data": {
      "text/plain": [
       "<tf.Variable 'UnreadVariable' shape=() dtype=float32, numpy=0.001>"
      ]
     },
     "execution_count": 208,
     "metadata": {},
     "output_type": "execute_result"
    }
   ],
   "source": [
    "from tensorflow.keras.optimizers import Adam, SGD\n",
    "variables = perceptron.trainable_variables\n",
    "optimizer = Adam()\n",
    "optimizer.lr.assign(0.001)"
   ]
  },
  {
   "cell_type": "code",
   "execution_count": 209,
   "id": "f8c9ca77",
   "metadata": {},
   "outputs": [],
   "source": [
    "@tf.function\n",
    "def training_step():\n",
    "    \n",
    "    with tf.GradientTape() as tape:\n",
    "        xx = J(n)\n",
    "        \n",
    "    grads = tape.gradient(xx,θ)\n",
    "    optimizer.apply_gradients(zip(grads,θ))\n",
    "    return xx\n",
    "\n",
    "def train_me(K):\n",
    "    vals=[]\n",
    "    for k in tqdm(tf.range(K)):\n",
    "        val=training_step()\n",
    "        vals.append(val.numpy())\n",
    "    return vals"
   ]
  },
  {
   "cell_type": "code",
   "execution_count": 210,
   "id": "113efa52",
   "metadata": {},
   "outputs": [
    {
     "name": "stderr",
     "output_type": "stream",
     "text": [
      "100%|███████████████████████████████████████████████████████| 500/500 [00:11<00:00, 44.43it/s]\n"
     ]
    }
   ],
   "source": [
    "results = train_me(500)"
   ]
  },
  {
   "cell_type": "code",
   "execution_count": 211,
   "id": "4e1a181b",
   "metadata": {},
   "outputs": [
    {
     "name": "stderr",
     "output_type": "stream",
     "text": [
      "/var/folders/xt/r947d5fd2yz1_fkptq29sn8r0000gn/T/ipykernel_8206/3593405677.py:2: UserWarning: Data has no positive values, and therefore cannot be log-scaled.\n",
      "  plt.xscale('log')\n"
     ]
    },
    {
     "data": {
      "image/png": "[encoded data removed]",
      "text/plain": [
       "<Figure size 640x480 with 1 Axes>"
      ]
     },
     "metadata": {},
     "output_type": "display_data"
    }
   ],
   "source": [
    "plt.plot(np.sqrt(results))\n",
    "plt.xscale('log')\n",
    "plt.yscale('log')\n",
    "plt.grid()"
   ]
  },
  {
   "cell_type": "code",
   "execution_count": 212,
   "id": "b5013ea5",
   "metadata": {},
   "outputs": [
    {
     "data": {
      "text/plain": [
       "[<matplotlib.lines.Line2D at 0x154f14400>]"
      ]
     },
     "execution_count": 212,
     "metadata": {},
     "output_type": "execute_result"
    },
    {
     "data": {
      "image/png": "[encoded data removed]",
      "text/plain": [
       "<Figure size 640x480 with 1 Axes>"
      ]
     },
     "metadata": {},
     "output_type": "display_data"
    },
    {
     "data": {
      "image/png": "[encoded data removed]",
      "text/plain": [
       "<Figure size 640x480 with 1 Axes>"
      ]
     },
     "metadata": {},
     "output_type": "display_data"
    }
   ],
   "source": [
    "sh1, h1 = model(xvec, zvec*0+2*σ_e_z)\n",
    "sh2, h2 = model(xvec, zvec*0-2*σ_e_z)\n",
    "plt.figure(1)\n",
    "plt.plot(xvec,sh1,label='Solved sh1',c='b', marker ='o')\n",
    "plt.plot(xvec,sh1,label='Solved c(k,2σ_e_z)',c='g')\n",
    "\n",
    "plt.figure(2)\n",
    "plt.plot(xvec,h1,label='Solved c(k,2σ_e_z)',c='b', marker ='o')\n",
    "plt.plot(xvec,h1,label='Solved c(k,2σ_e_z)',c='g')\n"
   ]
  },
  {
   "cell_type": "code",
   "execution_count": 213,
   "id": "d4e724c8",
   "metadata": {},
   "outputs": [
    {
     "data": {
      "text/plain": [
       "array([0.9551535 , 0.95603937, 0.9569259 , 0.9578133 , 0.9587016 ,\n",
       "       0.9595907 , 0.9604805 , 0.96137124, 0.96226275, 0.9631552 ,\n",
       "       0.9640483 , 0.9649424 , 0.9658372 , 0.9667329 , 0.9676294 ,\n",
       "       0.9685268 , 0.969425  , 0.9703239 , 0.9712239 , 0.9721245 ,\n",
       "       0.973026  , 0.97392833, 0.9748316 , 0.9757355 , 0.9766404 ,\n",
       "       0.9775461 , 0.9784526 , 0.97936   , 0.9802683 , 0.9811772 ,\n",
       "       0.9820872 , 0.9829979 , 0.9839095 , 0.984822  , 0.98573524,\n",
       "       0.98664933, 0.9875644 , 0.9884802 , 0.9893968 , 0.9903144 ,\n",
       "       0.9912328 , 0.9921521 , 0.99307215, 0.99399304, 0.99491477,\n",
       "       0.99583745, 0.99676096, 0.9976854 , 0.99861056, 0.9995367 ,\n",
       "       1.0004635 , 1.0013913 , 1.0023199 , 1.0032495 , 1.00418   ,\n",
       "       1.0051111 , 1.0060432 , 1.0069762 , 1.00791   , 1.0088449 ,\n",
       "       1.0097803 , 1.0107168 , 1.011654  , 1.0125923 , 1.0135312 ,\n",
       "       1.0144712 , 1.015412  , 1.0163536 , 1.0172961 , 1.0182395 ,\n",
       "       1.0191838 , 1.020129  , 1.0210749 , 1.0220219 , 1.0229697 ,\n",
       "       1.0239184 , 1.0248678 , 1.0258183 , 1.0267696 , 1.0277218 ,\n",
       "       1.028675  , 1.0296288 , 1.0305836 , 1.0315393 , 1.0324961 ,\n",
       "       1.0334535 , 1.0344119 , 1.0353712 , 1.0363313 , 1.0372924 ,\n",
       "       1.0382544 , 1.0392171 , 1.0401809 , 1.0411454 , 1.042111  ,\n",
       "       1.0430773 , 1.0440447 , 1.045013  , 1.0459821 , 1.0469521 ],\n",
       "      dtype=float32)"
      ]
     },
     "execution_count": 213,
     "metadata": {},
     "output_type": "execute_result"
    }
   ],
   "source": [
    "np.exp(zvec)"
   ]
  },
  {
   "cell_type": "code",
   "execution_count": null,
   "id": "110cb31b",
   "metadata": {},
   "outputs": [],
   "source": []
  },
  {
   "cell_type": "code",
   "execution_count": null,
   "id": "f9f8e0b7",
   "metadata": {},
   "outputs": [],
   "source": []
  }
 ],
 "metadata": {
  "kernelspec": {
   "display_name": "Python 3 (ipykernel)",
   "language": "python",
   "name": "python3"
  },
  "language_info": {
   "codemirror_mode": {
    "name": "ipython",
    "version": 3
   },
   "file_extension": ".py",
   "mimetype": "text/x-python",
   "name": "python",
   "nbconvert_exporter": "python",
   "pygments_lexer": "ipython3",
   "version": "3.10.9"
  }
 },
 "nbformat": 4,
 "nbformat_minor": 5
}
