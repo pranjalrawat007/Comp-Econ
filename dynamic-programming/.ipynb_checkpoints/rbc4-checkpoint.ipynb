{
 "cells": [
  {
   "cell_type": "markdown",
   "id": "e6be7f73",
   "metadata": {},
   "source": [
    "# RBC with Tax (Coleman 1991)"
   ]
  },
  {
   "cell_type": "markdown",
   "id": "d54b91bc",
   "metadata": {},
   "source": [
    "Household: \n",
    "- $V(k,K,z) = \\max_{c,k'} \\{u(c)+βE[V(k',K',z')|z]\\}$\n",
    "- $u(c) = c^{(1-\\sigma)}/(1-\\sigma)$\n",
    "- $c+k'=(1-\\tau(K,z))(f(K,z)+(k-K)(f_1(K,z)+(1-\\delta)k+d(K,z)=y(k,K,z)$\n",
    "- $c,k' \\in [0,y(k,K,z)]$\n",
    "- $f(k,z) = zk^\\alpha$\n",
    "- $f_{1}(k,z) = z\\alpha k^{\\alpha-1}$\n",
    "- $F(k,z) = zk^\\alpha +(1-\\delta)k$\n",
    "\n",
    "Tax: \n",
    "- Tax Policy: $\\tau(K,z)$ s.t. $(1-\\tau(K,z))f_1(K,z)$ falling in $K$\n",
    "- Transfer: $d(K,z) = \\tau(K,z)$\n",
    "\n",
    "Solution: \n",
    "- Find $k_{ss}$ from $1=\\beta*(1-\\tau(k_{ss},E[z])\\alpha k_{ss}^{\\alpha-1}+1-\\delta)$ \n",
    "- Guess $c_{t}(k,z)$ in $[k_{ss}*0.9, k_{ss}*1.1]$x$Z$\n",
    "- Define $H(k,z)=(1-\\delta)+(1-\\tau(k,z))f_{1}(k,z)$\n",
    "- For each $k,z$, update $c_{t+1}(k,z)$ with $c$ that solves: $u'(c)-\\beta E[u'(c_{t}(f(k,z)-c,z')) H(f(k,z)-c,z')|z]=0$ until convergence\n",
    "- Store policy rules $c(k,z)$ and $k'(k,z) = f(k,z)+(1-\\delta)k - c(k,z)$\n",
    "- From initial $k_{0},z_{0}$ simulate economy with $k_{t+1}=k'(k_{t},z_{t})$ and $c_{t}=c(k_{t},z_{t})$"
   ]
  },
  {
   "cell_type": "code",
   "execution_count": null,
   "id": "54b8144c",
   "metadata": {},
   "outputs": [],
   "source": [
    "using LinearAlgebra, Statistics\n",
    "using BenchmarkTools, Interpolations, LaTeXStrings, Parameters, Plots, QuantEcon, Roots\n",
    "using Optim, Random\n",
    "using BenchmarkTools, Interpolations, Parameters, Plots, QuantEcon, Roots\n",
    "σ = 2.0;\n",
    "β = 0.99;\n",
    "α = 0.36;\n",
    "δ = 0.025;\n",
    "τ = 0.1;\n",
    "Z = [0.99 1.01]\n",
    "P = Array([0.9 0.1; 0.1 0.9])\n",
    "up(c) = c^(-σ)\n",
    "f(k,z) = z*k^α\n",
    "F(k,z) = z*k^α+(1-δ)*k\n",
    "fp(k,z) = z*α*k^(α-1)\n",
    "H(k,z) = (1-τ)*fp(k,z)+(1-δ)\n",
    "Kss = ((1/β+δ-1)/(α*(1-τ)))^(1/(α-1))\n",
    "Css = Kss^α-δ*Kss\n",
    "println((Kss,Css))\n",
    "K = Array(range(Kss*0.9, Kss*1.1, 200))\n",
    "    \n",
    "function coleman!(Kg1, Kg2, g1, g2, K, β, up, f, fp)\n",
    "    c1 = LinearInterpolation(K, g1, extrapolation_bc = Line()) # c(k,z1)\n",
    "    c2 = LinearInterpolation(K, g2, extrapolation_bc = Line()) # c(k,z2)\n",
    "    for (i,k) in enumerate(K)\n",
    "        function h1(c) # Euler at k,z1\n",
    "            kp = F(k,Z[1])-c \n",
    "            val1 = up.(c1.(kp)).* H(kp,Z[1]) #z'=z[1]\n",
    "            val2 = up.(c2.(kp)).* H(kp,Z[2]) #z'=z[2]\n",
    "            return up(c) - β*(P[1,1]*val1+P[1,2]*val2)\n",
    "        end\n",
    "        function h2(c) # Euler at k,z2\n",
    "            kp = F(k,Z[2])-c \n",
    "            val1 = up.(c1.(kp)).* H(kp,Z[1]) #z'=z[1]\n",
    "            val2 = up.(c2.(kp)).* H(kp,Z[2]) #z'=z[2]\n",
    "            return up(c) - β*(P[2,1]*val1+P[2,2]*val2)\n",
    "        end\n",
    "        Kg1[i] = find_zero(h1, (1e-10, F(k,Z[1])-1e-10)) # Update c(k,z1)\n",
    "        Kg2[i] = find_zero(h2, (1e-10, F(k,Z[2])-1e-10)) # Update c(k,z2)\n",
    "    end\n",
    "    return Kg1,Kg2\n",
    "end\n",
    "coleman(g1, g2, K, β, up, f, fp) = coleman!(similar(g1), similar(g2), g1, g2, K, β, up, f, fp)\n",
    "\n",
    "function timeIteration(c1_init, c2_init)\n",
    "    c1 = c1_init\n",
    "    c2 = c2_init\n",
    "    error=1\n",
    "    while error>1e-6\n",
    "        new_c1, new_c2 = coleman(c1, c2, K, β, up, f, fp)\n",
    "        error = norm(c1-new_c1)+norm(c2-new_c2)\n",
    "        c1 = new_c1\n",
    "        c2 = new_c2        \n",
    "    end\n",
    "    return c1,c2\n",
    "end\n",
    "c1,c2 = timeIteration(1/13*K, 1/13*K)"
   ]
  },
  {
   "cell_type": "code",
   "execution_count": null,
   "id": "316c7f69",
   "metadata": {},
   "outputs": [],
   "source": [
    "k1 = F.(K,Z[1]) - c1;\n",
    "k2 = F.(K,Z[2]) - c2;\n",
    "KP = hcat(k1,k2)\n",
    "CP = hcat(c1,c2)\n",
    "plot(K, KP, label=\"k'(k,z)\")"
   ]
  },
  {
   "cell_type": "code",
   "execution_count": null,
   "id": "33b166bf",
   "metadata": {},
   "outputs": [],
   "source": [
    "plot(K, CP, label=\"c(k,z)\")"
   ]
  },
  {
   "cell_type": "code",
   "execution_count": null,
   "id": "927ead50",
   "metadata": {},
   "outputs": [],
   "source": [
    "# Simulate\n",
    "using QuantEcon\n",
    "k0 = Kss\n",
    "z0 = Z[1]\n",
    "T = 1000\n",
    "ZIND = simulate(MarkovChain(P), T);\n",
    "KIND = simulate(MarkovChain(P), T);\n",
    "KPATH = k0*Array(1:T)\n",
    "ZPATH = z0*Array(1:T-1);\n",
    "for i in 1:T-1\n",
    "    z = ZIND[i]\n",
    "    KIND[i] = partialsortperm(abs.(K .- KPATH[i]), 1)\n",
    "    KPATH[i+1] = KP[KIND[i], z]\n",
    "    ZPATH[i] = Z[z]\n",
    "    #println((z, KIND[i], KPATH[i], KPATH[i+1], ZPATH[i]))\n",
    "end\n",
    "display(plot(ZPATH))\n",
    "display(plot(KPATH))"
   ]
  },
  {
   "cell_type": "code",
   "execution_count": null,
   "id": "1d8d6344",
   "metadata": {},
   "outputs": [],
   "source": []
  }
 ],
 "metadata": {
  "kernelspec": {
   "display_name": "Julia 1.7.2",
   "language": "julia",
   "name": "julia-1.7"
  },
  "language_info": {
   "file_extension": ".jl",
   "mimetype": "application/julia",
   "name": "julia",
   "version": "1.7.2"
  }
 },
 "nbformat": 4,
 "nbformat_minor": 5
}
