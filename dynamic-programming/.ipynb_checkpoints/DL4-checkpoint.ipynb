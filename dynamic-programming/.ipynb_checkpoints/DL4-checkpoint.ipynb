{
 "cells": [
  {
   "cell_type": "markdown",
   "id": "619edc80",
   "metadata": {},
   "source": [
    "# Optimal Growth"
   ]
  },
  {
   "cell_type": "code",
   "execution_count": 1,
   "id": "9e0ea214",
   "metadata": {},
   "outputs": [
    {
     "name": "stderr",
     "output_type": "stream",
     "text": [
      "2023-01-24 23:14:52.161272: I tensorflow/core/platform/cpu_feature_guard.cc:193] This TensorFlow binary is optimized with oneAPI Deep Neural Network Library (oneDNN) to use the following CPU instructions in performance-critical operations:  AVX2 FMA\n",
      "To enable them in other operations, rebuild TensorFlow with the appropriate compiler flags.\n"
     ]
    }
   ],
   "source": [
    "import tensorflow as tf\n",
    "import numpy as np\n",
    "from math import sqrt\n",
    "from matplotlib import pyplot as plt\n",
    "from tqdm import tqdm as tqdm         # tqdm is a nice library to visualize ongoing loops\n",
    "import datetime\n",
    "# followint lines are used for indicative typing\n",
    "from typing import Tuple\n",
    "class Vector: pass"
   ]
  },
  {
   "cell_type": "code",
   "execution_count": 2,
   "id": "082f6b90",
   "metadata": {},
   "outputs": [
    {
     "name": "stdout",
     "output_type": "stream",
     "text": [
      "Kss 37.989253538152255\n"
     ]
    },
    {
     "name": "stderr",
     "output_type": "stream",
     "text": [
      "2023-01-24 23:14:57.748859: I tensorflow/core/platform/cpu_feature_guard.cc:193] This TensorFlow binary is optimized with oneAPI Deep Neural Network Library (oneDNN) to use the following CPU instructions in performance-critical operations:  AVX2 FMA\n",
      "To enable them in other operations, rebuild TensorFlow with the appropriate compiler flags.\n"
     ]
    },
    {
     "data": {
      "text/plain": [
       "Text(0.5, 1.0, 'test')"
      ]
     },
     "execution_count": 2,
     "metadata": {},
     "output_type": "execute_result"
    },
    {
     "data": {
      "image/png": "[encoded data removed]",
      "text/plain": [
       "<Figure size 640x480 with 1 Axes>"
      ]
     },
     "metadata": {},
     "output_type": "display_data"
    }
   ],
   "source": [
    "# Params\n",
    "β = 0.99\n",
    "α = 0.36\n",
    "δ = 0.025\n",
    "γ = 2.0\n",
    "σ = 0.0001\n",
    "Z = np.array([0.99, 1.01])\n",
    "P = np.array([[0.9, 0.1],[0.1, 0.9]])\n",
    "Kss = (α/(1/β-1+δ))**(1/(1-α))\n",
    "print('Kss', Kss)\n",
    "\n",
    "kmin=Kss*0.8\n",
    "kmax=Kss*1.2\n",
    "kvec = np.linspace(kmin,kmax,100,dtype='float32')\n",
    "\n",
    "min_FB = lambda a,b: a+b-tf.sqrt(a**2+b**2)\n",
    "layers = [\n",
    "    tf.keras.layers.Dense(32, activation='relu', input_dim=2, bias_initializer='he_uniform'),\n",
    "    tf.keras.layers.Dense(32, activation='relu'),\n",
    "    tf.keras.layers.Dense(32, activation='relu'),\n",
    "    tf.keras.layers.Dense(2, activation=tf.keras.activations.linear)\n",
    "]\n",
    "perceptron = tf.keras.Sequential(layers)\n",
    "\n",
    "def model(k:Vector, z:Vector)->Tuple[Vector,Vector]:\n",
    "    z = z/σ/2.0\n",
    "    k = (k-kmin)/(kmax-kmin)*2.0-1.0\n",
    "    s = tf.concat([i[:,None] for i in [k,z]],axis=1)\n",
    "    x = perceptron(s)\n",
    "    sh = tf.sigmoid(x[:,0])\n",
    "    return sh\n",
    "\n",
    "shvec = model(kvec*0,kvec*0)\n",
    "cvec = shvec*kvec\n",
    "\n",
    "plt.plot(kvec, kvec, label = 'k')\n",
    "plt.plot(kvec, cvec, label = 'c(k)')\n",
    "plt.legend()\n",
    "plt.title('test')"
   ]
  },
  {
   "cell_type": "code",
   "execution_count": 4,
   "id": "37928a7d",
   "metadata": {},
   "outputs": [
    {
     "data": {
      "text/plain": [
       "<tf.Tensor: shape=(100,), dtype=float32, numpy=\n",
       "array([inf, inf, inf, inf, inf, inf, inf, inf, inf, inf, inf, inf, inf,\n",
       "       inf, inf, inf, inf, inf, inf, inf, inf, inf, inf, inf, inf, inf,\n",
       "       inf, inf, inf, inf, inf, inf, inf, inf, inf, inf, inf, inf, inf,\n",
       "       inf, inf, inf, inf, inf, inf, inf, inf, inf, inf, inf, inf, inf,\n",
       "       inf, inf, inf, inf, inf, inf, inf, inf, inf, inf, inf, inf, inf,\n",
       "       inf, inf, inf, inf, inf, inf, inf, inf, inf, inf, inf, inf, inf,\n",
       "       inf, inf, inf, inf, inf, inf, inf, inf, inf, inf, inf, inf, inf,\n",
       "       inf, inf, inf, inf, inf, inf, inf, inf, inf], dtype=float32)>"
      ]
     },
     "execution_count": 4,
     "metadata": {},
     "output_type": "execute_result"
    }
   ],
   "source": [
    "def residuals(e:Vector,z:Vector,k:Vector):\n",
    "    n = tf.size(z)\n",
    "    sh = model(k,z)\n",
    "    c=sh*k\n",
    "    zp=e\n",
    "    kp=z*k**α+(1-δ)*k-c\n",
    "    shp=model(kp,zp)\n",
    "    cp=shp*kp\n",
    "    R=c**(-γ)+β*cp**(-γ)*(α*kp**(α-1)+(1-δ))\n",
    "    return R\n",
    "\n",
    "residuals(kvec,kvec,kvec)"
   ]
  },
  {
   "cell_type": "code",
   "execution_count": 5,
   "id": "43876949",
   "metadata": {},
   "outputs": [],
   "source": [
    "def J(n):\n",
    "    z = tf.random.normal(shape=(n,),stddev=σ)\n",
    "    k = tf.random.uniform(shape=(n,),minval=kmin,maxval=kmax)\n",
    "    e1 = tf.random.normal(shape=(n,),stddev=σ)\n",
    "    e2 = tf.random.normal(shape=(n,),stddev=σ)\n",
    "    R1 = residuals(e1, z, k)\n",
    "    R2 = residuals(e1, z, k)\n",
    "    R_squared = R1*R2\n",
    "    return tf.reduce_mean(R_squared)"
   ]
  },
  {
   "cell_type": "code",
   "execution_count": 8,
   "id": "5c3a0b2a",
   "metadata": {},
   "outputs": [
    {
     "data": {
      "text/plain": [
       "0.0011032341"
      ]
     },
     "execution_count": 8,
     "metadata": {},
     "output_type": "execute_result"
    }
   ],
   "source": [
    "n = 128\n",
    "v = J(200000)\n",
    "v.numpy()"
   ]
  },
  {
   "cell_type": "code",
   "execution_count": 9,
   "id": "cc76061f",
   "metadata": {},
   "outputs": [
    {
     "name": "stdout",
     "output_type": "stream",
     "text": [
      "[<tf.Variable 'dense/kernel:0' shape=(2, 32) dtype=float32, numpy=\n",
      "array([[ 0.06695729, -0.2288666 ,  0.27996162, -0.26732796, -0.23040901,\n",
      "         0.05728382,  0.10183486,  0.4026923 ,  0.29079917, -0.11466572,\n",
      "        -0.27933532,  0.19329002,  0.03684834, -0.03589815, -0.01893076,\n",
      "        -0.3694202 ,  0.00715664,  0.12828389,  0.29133412,  0.09246716,\n",
      "        -0.29163158,  0.20227292, -0.1924218 ,  0.10409299, -0.3554896 ,\n",
      "         0.37573323, -0.01924413,  0.08485404, -0.20190455,  0.31925234,\n",
      "        -0.07213935,  0.40963838],\n",
      "       [ 0.0331544 , -0.3789407 ,  0.20696661, -0.33153686, -0.24029438,\n",
      "        -0.12517217,  0.22034577,  0.22345349,  0.29154596, -0.37407583,\n",
      "        -0.12947765, -0.23961753, -0.10794857, -0.20556115, -0.3353547 ,\n",
      "        -0.25076148,  0.37047806, -0.26476985, -0.1365107 ,  0.10974237,\n",
      "        -0.2476336 ,  0.25967255,  0.19520745, -0.26011342, -0.21133412,\n",
      "        -0.00756276,  0.2653683 ,  0.17140278,  0.15816137, -0.12118465,\n",
      "        -0.36021337,  \n"
     ]
    }
   ],
   "source": [
    "θ = perceptron.trainable_variables\n",
    "print(str(θ)[:1000])"
   ]
  },
  {
   "cell_type": "code",
   "execution_count": 10,
   "id": "34280a18",
   "metadata": {},
   "outputs": [],
   "source": [
    "from tensorflow.keras.optimizers import Adam, SGD\n",
    "variables = perceptron.trainable_variables\n",
    "optimizer = Adam()"
   ]
  },
  {
   "cell_type": "code",
   "execution_count": 11,
   "id": "4c6e201d",
   "metadata": {},
   "outputs": [
    {
     "name": "stderr",
     "output_type": "stream",
     "text": [
      "100%|████████████████████████████████████| 50000/50000 [01:37<00:00, 511.10it/s]\n"
     ]
    }
   ],
   "source": [
    "@tf.function\n",
    "def training_step():\n",
    "    \n",
    "    with tf.GradientTape() as tape:\n",
    "        xx = J(n)\n",
    "        \n",
    "    grads = tape.gradient(xx,θ)\n",
    "    optimizer.apply_gradients(zip(grads,θ))\n",
    "    \n",
    "    return xx\n",
    "\n",
    "def train_me(K):\n",
    "    vals=[]\n",
    "    for k in tqdm(tf.range(K)):\n",
    "        val=training_step()\n",
    "        vals.append(val.numpy())\n",
    "    return vals\n",
    "\n",
    "results = train_me(50000)"
   ]
  },
  {
   "cell_type": "code",
   "execution_count": 13,
   "id": "c2fd0924",
   "metadata": {},
   "outputs": [
    {
     "data": {
      "image/png": "[encoded data removed]",
      "text/plain": [
       "<Figure size 640x480 with 1 Axes>"
      ]
     },
     "metadata": {},
     "output_type": "display_data"
    }
   ],
   "source": [
    "plt.plot(np.sqrt(results))\n",
    "plt.xscale('log')\n",
    "plt.yscale('log')\n",
    "plt.grid()"
   ]
  },
  {
   "cell_type": "code",
   "execution_count": 17,
   "id": "ab2bfb38",
   "metadata": {},
   "outputs": [
    {
     "data": {
      "image/png": "[encoded data removed]",
      "text/plain": [
       "<Figure size 640x480 with 1 Axes>"
      ]
     },
     "metadata": {},
     "output_type": "display_data"
    }
   ],
   "source": [
    "kvec = np.linspace(kmin,kmax,100,dtype='float32')\n",
    "shvec = model(kvec*0,kvec)\n",
    "plt.title('c(k,z)')\n",
    "plt.plot(kvec,shvec*kvec)\n",
    "plt.show()"
   ]
  },
  {
   "cell_type": "code",
   "execution_count": null,
   "id": "2cefe18d",
   "metadata": {},
   "outputs": [],
   "source": []
  }
 ],
 "metadata": {
  "kernelspec": {
   "display_name": "Python 3 (ipykernel)",
   "language": "python",
   "name": "python3"
  },
  "language_info": {
   "codemirror_mode": {
    "name": "ipython",
    "version": 3
   },
   "file_extension": ".py",
   "mimetype": "text/x-python",
   "name": "python",
   "nbconvert_exporter": "python",
   "pygments_lexer": "ipython3",
   "version": "3.10.9"
  }
 },
 "nbformat": 4,
 "nbformat_minor": 5
}
