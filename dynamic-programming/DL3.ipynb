{
 "cells": [
  {
   "cell_type": "markdown",
   "id": "c5edf6bf",
   "metadata": {},
   "source": [
    "# Consumption-Savings with Deep Learning methods"
   ]
  },
  {
   "cell_type": "code",
   "execution_count": 31,
   "id": "b9274aa9",
   "metadata": {},
   "outputs": [],
   "source": [
    "import tensorflow as tf\n",
    "import numpy as np\n",
    "from math import sqrt\n",
    "from matplotlib import pyplot as plt\n",
    "from tqdm import tqdm as tqdm         # tqdm is a nice library to visualize ongoing loops\n",
    "import datetime\n",
    "# followint lines are used for indicative typing\n",
    "from typing import Tuple\n",
    "class Vector: pass"
   ]
  },
  {
   "cell_type": "code",
   "execution_count": 32,
   "id": "5db749d9",
   "metadata": {},
   "outputs": [
    {
     "name": "stdout",
     "output_type": "stream",
     "text": [
      "37.98925353815241\n",
      "37.98925353815241 34.19032818433717 41.788178891967654\n"
     ]
    }
   ],
   "source": [
    "# Model parameters\n",
    "α = 0.36\n",
    "δ = 0.025\n",
    "γ = 2.0\n",
    "β = 0.99\n",
    "σ = 0.0001\n",
    "Kss = ((1/β+δ-1)/α)**(1/(α-1))\n",
    "print(Kss)\n",
    "wmin=Kss*0.9\n",
    "wmax=Kss*1.1\n",
    "print(Kss, wmin, wmax)"
   ]
  },
  {
   "cell_type": "code",
   "execution_count": 33,
   "id": "4a0a803f",
   "metadata": {},
   "outputs": [
    {
     "data": {
      "text/plain": [
       "Text(0.5, 1.0, 'test')"
      ]
     },
     "execution_count": 33,
     "metadata": {},
     "output_type": "execute_result"
    },
    {
     "data": {
      "image/png": "[encoded data removed]",
      "text/plain": [
       "<Figure size 640x480 with 1 Axes>"
      ]
     },
     "metadata": {},
     "output_type": "display_data"
    }
   ],
   "source": [
    "min_FB = lambda a,b: a+b-tf.sqrt(a**2+b**2)\n",
    "layers = [\n",
    "    tf.keras.layers.Dense(32, activation='relu', input_dim=2, bias_initializer='he_uniform'),\n",
    "    tf.keras.layers.Dense(32, activation='relu'),\n",
    "    tf.keras.layers.Dense(32, activation='relu'),\n",
    "    tf.keras.layers.Dense(1, activation=tf.keras.activations.linear)\n",
    "]\n",
    "perceptron = tf.keras.Sequential(layers)\n",
    "\n",
    "def model(y:Vector,w:Vector)->Tuple[Vector]:\n",
    "    y = y/σ/2.0\n",
    "    w = (w-Kss)/(Kss*0.5)\n",
    "    s = tf.concat([i[:,None] for i in [y,w]],axis=1)\n",
    "    c = perceptron(s)\n",
    "    return c\n",
    "\n",
    "wvec = np.linspace(wmin,wmax,500,dtype='float32')\n",
    "shvec = model(wvec*0,wvec*0)\n",
    "plt.plot(wvec, wvec, label = 'k')\n",
    "plt.plot(wvec, shvec, label = 'c(k)')\n",
    "plt.legend()\n",
    "plt.title('test')"
   ]
  },
  {
   "cell_type": "code",
   "execution_count": 34,
   "id": "8f7b26ce",
   "metadata": {},
   "outputs": [
    {
     "ename": "InvalidArgumentError",
     "evalue": "{{function_node __wrapped__ConcatV2_N_2_device_/job:localhost/replica:0/task:0/device:CPU:0}} ConcatOp : Ranks of all input tensors should match: shape[0] = [500,1] vs. shape[1] = [500,1,500] [Op:ConcatV2] name: concat",
     "output_type": "error",
     "traceback": [
      "\u001b[0;31m---------------------------------------------------------------------------\u001b[0m",
      "\u001b[0;31mInvalidArgumentError\u001b[0m                      Traceback (most recent call last)",
      "Cell \u001b[0;32mIn [34], line 10\u001b[0m\n\u001b[1;32m      7\u001b[0m     R \u001b[38;5;241m=\u001b[39m c\u001b[38;5;241m*\u001b[39m\u001b[38;5;241m*\u001b[39m(\u001b[38;5;241m-\u001b[39mγ) \u001b[38;5;241m-\u001b[39m β\u001b[38;5;241m*\u001b[39m(cp)\u001b[38;5;241m*\u001b[39m\u001b[38;5;241m*\u001b[39m(\u001b[38;5;241m-\u001b[39mγ)\u001b[38;5;241m*\u001b[39m(α\u001b[38;5;241m*\u001b[39mwp\u001b[38;5;241m*\u001b[39m\u001b[38;5;241m*\u001b[39m(α\u001b[38;5;241m-\u001b[39m\u001b[38;5;241m1\u001b[39m)\u001b[38;5;241m+\u001b[39m(\u001b[38;5;241m1\u001b[39m\u001b[38;5;241m-\u001b[39mδ))\n\u001b[1;32m      8\u001b[0m     \u001b[38;5;28;01mreturn\u001b[39;00m (R)\n\u001b[0;32m---> 10\u001b[0m \u001b[43mresiduals\u001b[49m\u001b[43m(\u001b[49m\u001b[43mwvec\u001b[49m\u001b[43m,\u001b[49m\u001b[43mwvec\u001b[49m\u001b[43m,\u001b[49m\u001b[43mwvec\u001b[49m\u001b[43m)\u001b[49m\n",
      "Cell \u001b[0;32mIn [34], line 6\u001b[0m, in \u001b[0;36mresiduals\u001b[0;34m(e, y, w)\u001b[0m\n\u001b[1;32m      4\u001b[0m yp\u001b[38;5;241m=\u001b[39me\n\u001b[1;32m      5\u001b[0m wp\u001b[38;5;241m=\u001b[39mtf\u001b[38;5;241m.\u001b[39mexp(y)\u001b[38;5;241m*\u001b[39mw\u001b[38;5;241m*\u001b[39m\u001b[38;5;241m*\u001b[39mα\u001b[38;5;241m+\u001b[39m(\u001b[38;5;241m1\u001b[39m\u001b[38;5;241m-\u001b[39mδ)\u001b[38;5;241m*\u001b[39mw\u001b[38;5;241m-\u001b[39mc\n\u001b[0;32m----> 6\u001b[0m cp\u001b[38;5;241m=\u001b[39m\u001b[43mmodel\u001b[49m\u001b[43m(\u001b[49m\u001b[43myp\u001b[49m\u001b[43m,\u001b[49m\u001b[43mwp\u001b[49m\u001b[43m)\u001b[49m\n\u001b[1;32m      7\u001b[0m R \u001b[38;5;241m=\u001b[39m c\u001b[38;5;241m*\u001b[39m\u001b[38;5;241m*\u001b[39m(\u001b[38;5;241m-\u001b[39mγ) \u001b[38;5;241m-\u001b[39m β\u001b[38;5;241m*\u001b[39m(cp)\u001b[38;5;241m*\u001b[39m\u001b[38;5;241m*\u001b[39m(\u001b[38;5;241m-\u001b[39mγ)\u001b[38;5;241m*\u001b[39m(α\u001b[38;5;241m*\u001b[39mwp\u001b[38;5;241m*\u001b[39m\u001b[38;5;241m*\u001b[39m(α\u001b[38;5;241m-\u001b[39m\u001b[38;5;241m1\u001b[39m)\u001b[38;5;241m+\u001b[39m(\u001b[38;5;241m1\u001b[39m\u001b[38;5;241m-\u001b[39mδ))\n\u001b[1;32m      8\u001b[0m \u001b[38;5;28;01mreturn\u001b[39;00m (R)\n",
      "Cell \u001b[0;32mIn [33], line 13\u001b[0m, in \u001b[0;36mmodel\u001b[0;34m(y, w)\u001b[0m\n\u001b[1;32m     11\u001b[0m y \u001b[38;5;241m=\u001b[39m y\u001b[38;5;241m/\u001b[39mσ\u001b[38;5;241m/\u001b[39m\u001b[38;5;241m2.0\u001b[39m\n\u001b[1;32m     12\u001b[0m w \u001b[38;5;241m=\u001b[39m (w\u001b[38;5;241m-\u001b[39mKss)\u001b[38;5;241m/\u001b[39m(Kss\u001b[38;5;241m*\u001b[39m\u001b[38;5;241m0.5\u001b[39m)\n\u001b[0;32m---> 13\u001b[0m s \u001b[38;5;241m=\u001b[39m \u001b[43mtf\u001b[49m\u001b[38;5;241;43m.\u001b[39;49m\u001b[43mconcat\u001b[49m\u001b[43m(\u001b[49m\u001b[43m[\u001b[49m\u001b[43mi\u001b[49m\u001b[43m[\u001b[49m\u001b[43m:\u001b[49m\u001b[43m,\u001b[49m\u001b[38;5;28;43;01mNone\u001b[39;49;00m\u001b[43m]\u001b[49m\u001b[43m \u001b[49m\u001b[38;5;28;43;01mfor\u001b[39;49;00m\u001b[43m \u001b[49m\u001b[43mi\u001b[49m\u001b[43m \u001b[49m\u001b[38;5;129;43;01min\u001b[39;49;00m\u001b[43m \u001b[49m\u001b[43m[\u001b[49m\u001b[43my\u001b[49m\u001b[43m,\u001b[49m\u001b[43mw\u001b[49m\u001b[43m]\u001b[49m\u001b[43m]\u001b[49m\u001b[43m,\u001b[49m\u001b[43maxis\u001b[49m\u001b[38;5;241;43m=\u001b[39;49m\u001b[38;5;241;43m1\u001b[39;49m\u001b[43m)\u001b[49m\n\u001b[1;32m     14\u001b[0m c \u001b[38;5;241m=\u001b[39m perceptron(s)\n\u001b[1;32m     15\u001b[0m \u001b[38;5;28;01mreturn\u001b[39;00m c\n",
      "File \u001b[0;32m/usr/local/lib/python3.10/site-packages/tensorflow/python/util/traceback_utils.py:153\u001b[0m, in \u001b[0;36mfilter_traceback.<locals>.error_handler\u001b[0;34m(*args, **kwargs)\u001b[0m\n\u001b[1;32m    151\u001b[0m \u001b[38;5;28;01mexcept\u001b[39;00m \u001b[38;5;167;01mException\u001b[39;00m \u001b[38;5;28;01mas\u001b[39;00m e:\n\u001b[1;32m    152\u001b[0m   filtered_tb \u001b[38;5;241m=\u001b[39m _process_traceback_frames(e\u001b[38;5;241m.\u001b[39m__traceback__)\n\u001b[0;32m--> 153\u001b[0m   \u001b[38;5;28;01mraise\u001b[39;00m e\u001b[38;5;241m.\u001b[39mwith_traceback(filtered_tb) \u001b[38;5;28;01mfrom\u001b[39;00m \u001b[38;5;28mNone\u001b[39m\n\u001b[1;32m    154\u001b[0m \u001b[38;5;28;01mfinally\u001b[39;00m:\n\u001b[1;32m    155\u001b[0m   \u001b[38;5;28;01mdel\u001b[39;00m filtered_tb\n",
      "File \u001b[0;32m/usr/local/lib/python3.10/site-packages/tensorflow/python/framework/ops.py:7215\u001b[0m, in \u001b[0;36mraise_from_not_ok_status\u001b[0;34m(e, name)\u001b[0m\n\u001b[1;32m   7213\u001b[0m \u001b[38;5;28;01mdef\u001b[39;00m \u001b[38;5;21mraise_from_not_ok_status\u001b[39m(e, name):\n\u001b[1;32m   7214\u001b[0m   e\u001b[38;5;241m.\u001b[39mmessage \u001b[38;5;241m+\u001b[39m\u001b[38;5;241m=\u001b[39m (\u001b[38;5;124m\"\u001b[39m\u001b[38;5;124m name: \u001b[39m\u001b[38;5;124m\"\u001b[39m \u001b[38;5;241m+\u001b[39m name \u001b[38;5;28;01mif\u001b[39;00m name \u001b[38;5;129;01mis\u001b[39;00m \u001b[38;5;129;01mnot\u001b[39;00m \u001b[38;5;28;01mNone\u001b[39;00m \u001b[38;5;28;01melse\u001b[39;00m \u001b[38;5;124m\"\u001b[39m\u001b[38;5;124m\"\u001b[39m)\n\u001b[0;32m-> 7215\u001b[0m   \u001b[38;5;28;01mraise\u001b[39;00m core\u001b[38;5;241m.\u001b[39m_status_to_exception(e) \u001b[38;5;28;01mfrom\u001b[39;00m \u001b[38;5;28mNone\u001b[39m\n",
      "\u001b[0;31mInvalidArgumentError\u001b[0m: {{function_node __wrapped__ConcatV2_N_2_device_/job:localhost/replica:0/task:0/device:CPU:0}} ConcatOp : Ranks of all input tensors should match: shape[0] = [500,1] vs. shape[1] = [500,1,500] [Op:ConcatV2] name: concat"
     ]
    }
   ],
   "source": [
    "def residuals(e:Vector,y:Vector,w:Vector):\n",
    "    n = tf.size(y)\n",
    "    c=model(y,w)\n",
    "    yp=e\n",
    "    wp=tf.exp(y)*w**α+(1-δ)*w-c\n",
    "    cp=model(yp,wp)\n",
    "    R = c**(-γ) - β*(cp)**(-γ)*(α*wp**(α-1)+(1-δ))\n",
    "    return (R)\n",
    "\n",
    "residuals(wvec,wvec,wvec)"
   ]
  },
  {
   "cell_type": "code",
   "execution_count": 22,
   "id": "8f34a028",
   "metadata": {},
   "outputs": [],
   "source": [
    "def J(n):\n",
    "    y = tf.random.normal(shape=(n,),stddev=σ)\n",
    "    w = tf.random.uniform(shape=(n,),minval=wmin,maxval=wmax)\n",
    "    e1 = tf.random.normal(shape=(n,),stddev=σ)\n",
    "    e2 = tf.random.normal(shape=(n,),stddev=σ)\n",
    "    R1_e1 = residuals(e1, y, w)\n",
    "    R1_e2 = residuals(e2, y, w)\n",
    "    R_squared = R1_e1*R1_e2\n",
    "    return tf.reduce_mean(R_squared)"
   ]
  },
  {
   "cell_type": "code",
   "execution_count": 23,
   "id": "5bbc8815",
   "metadata": {},
   "outputs": [
    {
     "data": {
      "text/plain": [
       "0.008307188"
      ]
     },
     "execution_count": 23,
     "metadata": {},
     "output_type": "execute_result"
    }
   ],
   "source": [
    "n = 128\n",
    "v = J(100)\n",
    "v.numpy()"
   ]
  },
  {
   "cell_type": "code",
   "execution_count": 24,
   "id": "f908764e",
   "metadata": {},
   "outputs": [
    {
     "name": "stdout",
     "output_type": "stream",
     "text": [
      "[<tf.Variable 'dense_12/kernel:0' shape=(2, 32) dtype=float32, numpy=\n",
      "array([[ 0.3186966 ,  0.40605453, -0.22322242, -0.1575368 ,  0.11751053,\n",
      "        -0.29022026,  0.384802  , -0.231176  , -0.19704759, -0.10644042,\n",
      "        -0.3386976 , -0.19188015,  0.32938793, -0.2543906 , -0.39972344,\n",
      "        -0.2805894 ,  0.26154247,  0.11518404,  0.27124372,  0.26288906,\n",
      "         0.17400613,  0.23768005,  0.17337158,  0.11991361, -0.12299618,\n",
      "        -0.23458941,  0.1630368 ,  0.3083057 , -0.38403013, -0.05817282,\n",
      "         0.19361016, -0.354205  ],\n",
      "       [-0.3294436 ,  0.20781085, -0.28178313, -0.28765386, -0.0814344 ,\n",
      "         0.3181521 ,  0.23970875, -0.11837089,  0.12143686,  0.19492629,\n",
      "         0.01160806, -0.40557745,  0.1890063 ,  0.16857901,  0.04396611,\n",
      "         0.29654053,  0.35355523,  0.00943267,  0.10897055,  0.22614458,\n",
      "        -0.09294733,  0.27201435,  0.21768793,  0.15720227, -0.37377095,\n",
      "         0.15217885, -0.22535674, -0.06768161,  0.26630405, -0.31303227,\n",
      "         0.18026266\n"
     ]
    }
   ],
   "source": [
    "θ = perceptron.trainable_variables\n",
    "print(str(θ)[:1000])"
   ]
  },
  {
   "cell_type": "code",
   "execution_count": 25,
   "id": "36db991f",
   "metadata": {},
   "outputs": [],
   "source": [
    "from tensorflow.keras.optimizers import Adam, SGD\n",
    "variables = perceptron.trainable_variables\n",
    "optimizer = Adam()"
   ]
  },
  {
   "cell_type": "code",
   "execution_count": 26,
   "id": "f8c9ca77",
   "metadata": {},
   "outputs": [
    {
     "name": "stderr",
     "output_type": "stream",
     "text": [
      "100%|██████████████████████████████████████| 5000/5000 [00:10<00:00, 472.69it/s]\n"
     ]
    }
   ],
   "source": [
    "@tf.function\n",
    "def training_step():\n",
    "    \n",
    "    with tf.GradientTape() as tape:\n",
    "        xx = J(n)\n",
    "        \n",
    "    grads = tape.gradient(xx,θ)\n",
    "    optimizer.apply_gradients(zip(grads,θ))\n",
    "    \n",
    "    return xx\n",
    "\n",
    "def train_me(K):\n",
    "    vals=[]\n",
    "    for k in tqdm(tf.range(K)):\n",
    "        val=training_step()\n",
    "        vals.append(val.numpy())\n",
    "    return vals\n",
    "\n",
    "results = train_me(5000)"
   ]
  },
  {
   "cell_type": "code",
   "execution_count": 27,
   "id": "4e1a181b",
   "metadata": {},
   "outputs": [
    {
     "name": "stderr",
     "output_type": "stream",
     "text": [
      "/var/folders/xt/r947d5fd2yz1_fkptq29sn8r0000gn/T/ipykernel_1260/3593405677.py:2: UserWarning: Data has no positive values, and therefore cannot be log-scaled.\n",
      "  plt.xscale('log')\n"
     ]
    },
    {
     "data": {
      "image/png": "[encoded data removed]",
      "text/plain": [
       "<Figure size 640x480 with 1 Axes>"
      ]
     },
     "metadata": {},
     "output_type": "display_data"
    }
   ],
   "source": [
    "plt.plot(np.sqrt(results))\n",
    "plt.xscale('log')\n",
    "plt.yscale('log')\n",
    "plt.grid()"
   ]
  },
  {
   "cell_type": "code",
   "execution_count": 28,
   "id": "b6c62490",
   "metadata": {},
   "outputs": [
    {
     "data": {
      "image/png": "[encoded data removed]",
      "text/plain": [
       "<Figure size 640x480 with 1 Axes>"
      ]
     },
     "metadata": {},
     "output_type": "display_data"
    }
   ],
   "source": [
    "wvec = np.linspace(wmin,wmax,100,dtype='float32')\n",
    "shvec = model(wvec*0,wvec)\n",
    "plt.title('c(a,0)')\n",
    "plt.plot(wvec,shvec, label = \"k(k,z)\")\n",
    "plt.show()"
   ]
  },
  {
   "cell_type": "code",
   "execution_count": 71,
   "id": "71ef51aa",
   "metadata": {},
   "outputs": [
    {
     "data": {
      "text/plain": [
       "[<matplotlib.lines.Line2D at 0x12f00ed70>]"
      ]
     },
     "execution_count": 71,
     "metadata": {},
     "output_type": "execute_result"
    },
    {
     "data": {
      "image/png": "[encoded data removed]",
      "text/plain": [
       "<Figure size 640x480 with 1 Axes>"
      ]
     },
     "metadata": {},
     "output_type": "display_data"
    }
   ],
   "source": [
    "plt.plot(wvec,shvec*wvec, label = 'c(k,z)')"
   ]
  },
  {
   "cell_type": "code",
   "execution_count": null,
   "id": "bd6b536e",
   "metadata": {},
   "outputs": [],
   "source": []
  }
 ],
 "metadata": {
  "kernelspec": {
   "display_name": "Python 3 (ipykernel)",
   "language": "python",
   "name": "python3"
  },
  "language_info": {
   "codemirror_mode": {
    "name": "ipython",
    "version": 3
   },
   "file_extension": ".py",
   "mimetype": "text/x-python",
   "name": "python",
   "nbconvert_exporter": "python",
   "pygments_lexer": "ipython3",
   "version": "3.10.9"
  }
 },
 "nbformat": 4,
 "nbformat_minor": 5
}
