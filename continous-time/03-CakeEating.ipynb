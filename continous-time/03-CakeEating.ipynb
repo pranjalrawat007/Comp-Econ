{
 "cells": [
  {
   "cell_type": "markdown",
   "id": "c34ce98a",
   "metadata": {},
   "source": [
    "### Deterministic Optimal Control in Continous Time\n",
    "***\n",
    "$u(t)$: control at t\\\n",
    "$x(t)$: state vector at t\\\n",
    "$x_{0}$: initial state\\\n",
    "$g(x(t),u(t))$: instantaneous rate of change in state\\\n",
    "$h(x(t),u(t))$: instantaneous reward\\\n",
    "$V(x_{0})$: cumulative discounted reward from initial state $x_{0}$\\\n",
    "$\\rho \\geq 0$: discount parameter\n",
    "\n",
    "\n",
    "$$\n",
    "V(x_{0})=\\underset{u(t)^{\\infty}_{t=0}}{max} \\int^{\\infty}_{0} e^{-\\rho t} h(x(t),u(t)) dt\\\\\n",
    "\\forall t\\geq0, \\dot{x(t)}=g(x(t),u(t))\\\\\n",
    "x(0)=x_{0}\n",
    "$$\n",
    "***\n",
    "Hamiltonian: $H(x,u,\\lambda) = h(x,u) + \\lambda g(x,u)$\\\n",
    "If $x,u,\\lambda$ are optimal paths then,\\\n",
    "(1) $H_{u}(x,u,\\lambda)=0$\\\n",
    "(2) $\\dot{\\lambda}=\\rho\\lambda-H_{x}(x,u,\\lambda)$\\\n",
    "(3) $\\dot{x}=g(x,u)$\\\n",
    "(4) $x(0) = x_{0}$\\\n",
    "(5) $\\lim_{T\\to\\infty} e^{-\\rho T}\\lambda(T)x(T) = 0$ (Transversality)"
   ]
  },
  {
   "cell_type": "markdown",
   "id": "820609d2",
   "metadata": {},
   "source": [
    "# Example 1: Cake Eating\n",
    "\n",
    "\n",
    "$h(x,u) = \\log u(t)$\\\n",
    "$g(x,u) = - u(t)$\\\n",
    "$\\rho = 1.5$\\\n",
    "$x_{0} = 1$\n",
    "\n",
    "***\n",
    "Hamiltonian: $H(x,u,\\lambda) = \\log u + \\lambda (x - u)$\\\n",
    "(1) $\\dot{u} = (1-\\rho)u $\\\n",
    "(2) $\\dot{x}=-u$\\\n",
    "(3) $x(0) = 1$\\\n",
    "(3) $\\lim_{T\\to\\infty} e^{-\\rho T}x(T)/u(T) = 0$\n",
    "\n",
    "***\n",
    "\n",
    "2-Variable, First Order ODE System:\\\n",
    "$$\n",
    "x′(t) = + 0 x(t) - 1 u(t) \\\\\n",
    "u′(t) = - 0 x(t) - 0.5 u(t) \\\\\n",
    "\\text{$x(0)=1; x(T) \\to x^*, u(T) \\to u^*$}\\\\\n",
    "t ∈ (0,T]\\\\\n",
    "$$\n",
    "\n",
    "$\\text{Steady States}: u^* = 0, x^* = 0$\n",
    "\n"
   ]
  },
  {
   "cell_type": "code",
   "execution_count": 71,
   "id": "8025daeb",
   "metadata": {},
   "outputs": [
    {
     "name": "stdout",
     "output_type": "stream",
     "text": [
      "satisfied\n",
      "0.008828828829446533 3.088970985931346e-13 1.0 0.4955855855855856\n",
      "satisfied\n",
      "0.006866866867485907 3.0950854127349807e-13 1.0 0.49656656656656656\n",
      "satisfied\n",
      "0.004904904905525262 3.101199839538621e-13 1.0 0.49754754754754754\n",
      "satisfied\n",
      "0.0029429429435644133 3.107314266342261e-13 1.0 0.4985285285285285\n",
      "satisfied\n",
      "0.0009809809816036688 3.113428693145896e-13 1.0 0.4995095095095095\n",
      "satisfied\n",
      "-0.0009809809803569634 3.119543119949532e-13 1.0 0.5004904904904904\n",
      "satisfied\n",
      "-0.0029429429423177083 3.1256575467531723e-13 1.0 0.5014714714714714\n",
      "satisfied\n",
      "-0.004904904904278452 3.131771973556811e-13 1.0 0.5024524524524524\n",
      "satisfied\n",
      "-0.0068668668662392 3.137886400360444e-13 1.0 0.5034334334334334\n",
      "satisfied\n",
      "-0.00882882882819994 3.144000827164081e-13 1.0 0.5044144144144144\n"
     ]
    }
   ],
   "source": [
    "import numpy as np\n",
    "import matplotlib.pyplot as plt\n",
    "\n",
    "# Model Parameters\n",
    "T_max = 50\n",
    "T_min = 1\n",
    "rho = 1.5\n",
    "x_ = 0\n",
    "u_ = 0\n",
    "tol = 0.01\n",
    "\n",
    "for u0 in np.linspace(0.01, 0.99, 1000):\n",
    "    X0 = np.array([1, u0])\n",
    "    A = np.array([[0, -1],[0, 1-rho]])\n",
    "    N = 100\n",
    "    def grids(T_min, T_max, N, X0):\n",
    "        X_grid = np.zeros((N+1, X0.shape[0]))\n",
    "        t_grid = np.linspace(T_min, T_max, N+1)\n",
    "        return t_grid, X_grid\n",
    "    \n",
    "    def interpolate(t_grid, X_grid, X0, A, N):\n",
    "        X_grid[0, :] = X0\n",
    "        for i in range(N):\n",
    "            for j in range(X0.shape[0]):\n",
    "                X_grid[i+1, j] = X_grid[i,j] + (t_grid[i+1]-t_grid[i]) * np.dot(A[j], X_grid[i,:])\n",
    "        return X_grid\n",
    "    \n",
    "    def terminal(X_grid):\n",
    "        xT, uT = X_grid[-1, :] \n",
    "        if (np.abs(xT-x_)<tol) and (np.abs(uT-u_)<tol):\n",
    "            print('satisfied')\n",
    "            print(xT, uT, X_grid[0, 0], X_grid[0, 1])\n",
    "\n",
    "    t_grid, X_grid = grids(T_min, T_max, N, X0)\n",
    "    X_grid = interpolate(t_grid, X_grid, X0, A, N)\n",
    "    terminal(X_grid)\n",
    "    \n",
    "    #plt.plot(t_grid, X_grid[:,0], label='x(t)')\n",
    "    #plt.plot(t_grid, X_grid[:,1], label='u(t)')\n",
    "    #plt.legend()\n",
    "    #plt.show()"
   ]
  },
  {
   "cell_type": "code",
   "execution_count": 72,
   "id": "c683af45",
   "metadata": {},
   "outputs": [
    {
     "name": "stdout",
     "output_type": "stream",
     "text": [
      "satisfied\n",
      "-0.0019999999993754584 3.12271887836081e-13 1.0 0.501\n"
     ]
    },
    {
     "data": {
      "image/png": "[encoded data removed]",
      "text/plain": [
       "<Figure size 640x480 with 1 Axes>"
      ]
     },
     "metadata": {},
     "output_type": "display_data"
    }
   ],
   "source": [
    "u0 = 0.501\n",
    "X0 = np.array([1, u0])\n",
    "A = np.array([[0, -1],[0, 1-rho]])\n",
    "N = 100\n",
    "t_grid, X_grid = grids(T_min, T_max, N, X0)\n",
    "X_grid = interpolate(t_grid, X_grid, X0, A, N)\n",
    "terminal(X_grid)\n",
    "plt.plot(t_grid, X_grid[:,0], label='x(t)')\n",
    "plt.plot(t_grid, X_grid[:,1], label='u(t)')\n",
    "plt.legend()\n",
    "plt.show()"
   ]
  },
  {
   "cell_type": "code",
   "execution_count": null,
   "id": "4e67b0df",
   "metadata": {},
   "outputs": [],
   "source": []
  }
 ],
 "metadata": {
  "kernelspec": {
   "display_name": "Python 3 (ipykernel)",
   "language": "python",
   "name": "python3"
  },
  "language_info": {
   "codemirror_mode": {
    "name": "ipython",
    "version": 3
   },
   "file_extension": ".py",
   "mimetype": "text/x-python",
   "name": "python",
   "nbconvert_exporter": "python",
   "pygments_lexer": "ipython3",
   "version": "3.10.8"
  }
 },
 "nbformat": 4,
 "nbformat_minor": 5
}
