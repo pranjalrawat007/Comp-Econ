{
 "cells": [
  {
   "cell_type": "markdown",
   "id": "29fb69e1",
   "metadata": {},
   "source": [
    "# Data and Packages"
   ]
  },
  {
   "cell_type": "code",
   "execution_count": 50,
   "id": "de221a52",
   "metadata": {},
   "outputs": [],
   "source": [
    "# Load packages\n",
    "import numpy as np\n",
    "import scipy as sp"
   ]
  },
  {
   "cell_type": "code",
   "execution_count": 51,
   "id": "fa4ce5c3",
   "metadata": {},
   "outputs": [],
   "source": [
    "# Data\n",
    "s = np.array([0.15,0.15,0.3,0.3]) # Market shares, 0.1 for outside good\n",
    "m = 0.5 # m = (p-c)/p  => c = p(1-m) # price-cost margin for 1st firm (for calibration)\n",
    "p = np.array([1,1,1,1]) # pre-merger prices\n",
    "p2f = np.array([1,2,3,4]) # product to firm mapping\n",
    "P = 1 # market price\n",
    "Q = 1 # market quantity"
   ]
  },
  {
   "cell_type": "markdown",
   "id": "f53abfbf",
   "metadata": {},
   "source": [
    "# Functions"
   ]
  },
  {
   "cell_type": "code",
   "execution_count": 37,
   "id": "84b28861",
   "metadata": {},
   "outputs": [
    {
     "data": {
      "text/plain": [
       "array([[1., 0., 0., 0.],\n",
       "       [0., 1., 0., 0.],\n",
       "       [0., 0., 1., 0.],\n",
       "       [0., 0., 0., 1.]])"
      ]
     },
     "execution_count": 37,
     "metadata": {},
     "output_type": "execute_result"
    }
   ],
   "source": [
    "def ownershipMatrix(p2f):\n",
    "    '''Converts a Jx1 vector mapping product-to-firms into JxJ Ownership matrix Ω\n",
    "        Ω_{i,j} = 1 if the same firm produces product i and j, else 0. '''\n",
    "    J = len(p2f) # Number of products\n",
    "    F = len(np.unique(p2f)) # Number of firms\n",
    "    Ω = np.zeros((J,J)) # Ownership matrix\n",
    "    \n",
    "    for i in range(J):\n",
    "        for j in range(J):\n",
    "            if p2f[i] == p2f[j]: # firm producing product i is same firm that produces product j\n",
    "                Ω[i,j] = 1\n",
    "                \n",
    "    #print('No. of products:',J)\n",
    "    #print('No. of firms:',F)\n",
    "    return  Ω \n",
    "    \n",
    "ownershipMatrix(p2f)"
   ]
  },
  {
   "cell_type": "code",
   "execution_count": 38,
   "id": "7e8ef288",
   "metadata": {},
   "outputs": [
    {
     "name": "stdout",
     "output_type": "stream",
     "text": [
      "-2.3529411764705883 [2.75840628 2.75840628 3.45155347 3.45155347]\n",
      "[[-0.3         0.05294118  0.10588235  0.10588235]\n",
      " [ 0.05294118 -0.3         0.10588235  0.10588235]\n",
      " [ 0.10588235  0.10588235 -0.49411765  0.21176471]\n",
      " [ 0.10588235  0.10588235  0.21176471 -0.49411765]]\n",
      "[[-1.          0.17647059  0.35294118  0.35294118]\n",
      " [ 0.17647059 -1.          0.35294118  0.35294118]\n",
      " [ 0.21428571  0.21428571 -1.          0.42857143]\n",
      " [ 0.21428571  0.21428571  0.42857143 -1.        ]]\n"
     ]
    }
   ],
   "source": [
    "def calibrateLogit(m,s,p,p2f):\n",
    "    '''Input: margin, shares (quantities),prices, product-to-firm mapping \n",
    "    Output: α: Calibrated price-coeff, ξ: mean non-price values, mc: marginal cost, \n",
    "    type_j: Nocke Shutz types, type: firm type, dqdp: demand derivatives, div: diversion matrix'''\n",
    "\n",
    "    Ω = ownershipMatrix(p2f) \n",
    "    J = len(p2f) \n",
    "    c1 = p[0]*(1-m) # Cost of 1st firm\n",
    "\n",
    "    # Generate Cross price derivatives\n",
    "    temp = -np.outer(s,s) #tcrossprod\n",
    "    np.fill_diagonal(temp, s*(1-s))\n",
    "\n",
    "    # Calculate α from the demand\n",
    "    if 1==len(p2f[p2f==1]):\n",
    "        α = -1/(1-s[0])/(p[0]-c1)\n",
    "    else:\n",
    "        pass\n",
    "\n",
    "    # Cross price derivatives\n",
    "    dqdp = temp*α\n",
    "\n",
    "    # Marginal costs\n",
    "    c = p + np.dot(np.linalg.inv(Ω*dqdp.T),s)\n",
    "\n",
    "    # Diversion Matrix D[k,j] = s_k / (1-sj) and -1 on diagonal\n",
    "    div = np.multiply(s,1/(1-s).reshape(-1,1))\n",
    "    np.fill_diagonal(div, -1)\n",
    "\n",
    "    # Mean Valuations\n",
    "    ξ = np.log(s/(1-np.sum(s)))-α*p\n",
    "\n",
    "    # Type\n",
    "    type_j = np.exp(ξ-α*c)\n",
    "    Type = np.bincount(p2f-1, weights=type_j)\n",
    "    \n",
    "    return α, ξ, c, type_j, Type, dqdp, div\n",
    "\n",
    "α, ξ, c, type_j, Type, dqdp, div = calibrateLogit(m,s,p,p2f)\n",
    "\n",
    "print(α, ξ)\n",
    "print(dqdp)\n",
    "print(div)"
   ]
  },
  {
   "cell_type": "code",
   "execution_count": 39,
   "id": "861b8496",
   "metadata": {},
   "outputs": [
    {
     "data": {
      "text/plain": [
       "array([0., 0., 0., 0.])"
      ]
     },
     "execution_count": 39,
     "metadata": {},
     "output_type": "execute_result"
    }
   ],
   "source": [
    "def foc(p,c,s,dqdp,Ω):\n",
    "    '''Checks the FOC conditions in the Bertrand-Nash price competition, for any generic demand derivatives. \n",
    "    Inputs: Vectors of prices, marginal costs, quantities (shares), demand derivative matrix, ownership (structure) matrix.\n",
    "    Output: Upward Pricing Pressure, or the value of FOC for each product\n",
    "    '''\n",
    "    FOC = -p + c - np.dot(np.linalg.inv(Ω*dqdp.T),s)\n",
    "    return np.round(FOC,4)\n",
    "\n",
    "foc(p,c,s,dqdp,Ω)"
   ]
  },
  {
   "cell_type": "code",
   "execution_count": 40,
   "id": "4e5d1101",
   "metadata": {},
   "outputs": [
    {
     "data": {
      "text/plain": [
       "array([0.15, 0.15, 0.3 , 0.3 ])"
      ]
     },
     "execution_count": 40,
     "metadata": {},
     "output_type": "execute_result"
    }
   ],
   "source": [
    "def quant_logit(p, α, ξ):\n",
    "    '''Input: Vector of Prices p, price elasticity α and vector of unobserved quality ξ\n",
    "    Output: Vector of shares (quantities) '''\n",
    "    s = np.exp(p*α+ξ) * (1/(1+np.sum(np.exp(p*α+ξ))))\n",
    "    return s\n",
    "\n",
    "quant_logit(p, α, ξ)"
   ]
  },
  {
   "cell_type": "code",
   "execution_count": 41,
   "id": "5ca22230",
   "metadata": {},
   "outputs": [
    {
     "data": {
      "text/plain": [
       "array([[-0.3       ,  0.05294118,  0.10588235,  0.10588235],\n",
       "       [ 0.05294118, -0.3       ,  0.10588235,  0.10588235],\n",
       "       [ 0.10588235,  0.10588235, -0.49411765,  0.21176471],\n",
       "       [ 0.10588235,  0.10588235,  0.21176471, -0.49411765]])"
      ]
     },
     "execution_count": 41,
     "metadata": {},
     "output_type": "execute_result"
    }
   ],
   "source": [
    "def dqdp_logit(p,α,ξ):\n",
    "    '''Demand derivatives for Logit Demand\n",
    "    Input: prices, price elasticity, unobserved quality\n",
    "    Output: JxJ demand derivative matrix'''\n",
    "    s = quant_logit(p, α, ξ)\n",
    "    temp = -np.outer(s,s) #tcrossprod\n",
    "    np.fill_diagonal(temp, s*(1-s))\n",
    "    dqdp = α * temp\n",
    "    return dqdp\n",
    "\n",
    "dqdp_logit(p,α,ξ)"
   ]
  },
  {
   "cell_type": "code",
   "execution_count": 42,
   "id": "85a92b4a",
   "metadata": {},
   "outputs": [
    {
     "data": {
      "text/plain": [
       "array([-0., -0., -0., -0.])"
      ]
     },
     "execution_count": 42,
     "metadata": {},
     "output_type": "execute_result"
    }
   ],
   "source": [
    "foc(p,c,quant_logit(p, α, ξ),dqdp,Ω)"
   ]
  },
  {
   "cell_type": "code",
   "execution_count": 43,
   "id": "fd42ae37",
   "metadata": {},
   "outputs": [
    {
     "data": {
      "text/plain": [
       "array([0., 0., 0., 0.])"
      ]
     },
     "execution_count": 43,
     "metadata": {},
     "output_type": "execute_result"
    }
   ],
   "source": [
    "def foc_logit(p,c,α,ξ,p2f):\n",
    "    '''Check FOC for Logit'''\n",
    "    Ω = ownershipMatrix(p2f)\n",
    "    dqdp = dqdp_logit(p,α,ξ)\n",
    "    s = quant_logit(p,α,ξ)\n",
    "    FOC = foc(p,c,s,dqdp,Ω)\n",
    "    return FOC\n",
    "\n",
    "foc_logit(p,c,α,ξ,p2f)"
   ]
  },
  {
   "cell_type": "markdown",
   "id": "63997afd",
   "metadata": {},
   "source": [
    "# Merger Simulation"
   ]
  },
  {
   "cell_type": "code",
   "execution_count": 45,
   "id": "f8cb934a",
   "metadata": {},
   "outputs": [],
   "source": [
    "# Step 1: Calibrate to obtain Structural Parameters\n",
    "α, ξ, c, type_j, Type, dqdp, div = calibrateLogit(m,s,p,p2f)"
   ]
  },
  {
   "cell_type": "code",
   "execution_count": 46,
   "id": "a7ad7599",
   "metadata": {},
   "outputs": [
    {
     "data": {
      "text/plain": [
       "array([0., 0., 0., 0.])"
      ]
     },
     "execution_count": 46,
     "metadata": {},
     "output_type": "execute_result"
    }
   ],
   "source": [
    "# Step 2: Check the FOC conditions\n",
    "foc_logit(p,c,α,ξ,p2f)"
   ]
  },
  {
   "cell_type": "code",
   "execution_count": 60,
   "id": "36353642",
   "metadata": {},
   "outputs": [],
   "source": [
    "# Step 3: Create new ownership matrix relating to post-merger situation\n",
    "p2f_new = np.array([1,1,3,4])"
   ]
  },
  {
   "cell_type": "code",
   "execution_count": 48,
   "id": "55d1e23d",
   "metadata": {},
   "outputs": [
    {
     "data": {
      "text/plain": [
       "array([0.1071, 0.1071, 0.    , 0.    ])"
      ]
     },
     "execution_count": 48,
     "metadata": {},
     "output_type": "execute_result"
    }
   ],
   "source": [
    "# Step 4: Calculate value of FOC with post-merger structure with pre-merger prices\n",
    "# This is upward pricing pressure\n",
    "foc_logit(p,c,α,ξ,p2f_new)"
   ]
  },
  {
   "cell_type": "code",
   "execution_count": 59,
   "id": "b85be30c",
   "metadata": {},
   "outputs": [
    {
     "name": "stdout",
     "output_type": "stream",
     "text": [
      "[1.07958482 1.07957795 1.0115344  1.01152829]\n"
     ]
    }
   ],
   "source": [
    "# Step 5: Calculate the Post Merger Prices\n",
    "p_new = sp.optimize.fsolve(foc_logit, x0=np.array([0,0,0,0]), args=(c,α,ξ,p2f_new))\n",
    "print(p_new)"
   ]
  },
  {
   "cell_type": "code",
   "execution_count": 62,
   "id": "1a31944c",
   "metadata": {},
   "outputs": [
    {
     "name": "stdout",
     "output_type": "stream",
     "text": [
      "[0.13335806 0.13336021 0.3130314  0.31303589]\n"
     ]
    }
   ],
   "source": [
    "# Step6: Calculate new shares/quantities\n",
    "q_new = quant_logit(p_new, α, ξ)\n",
    "print(q_new)"
   ]
  },
  {
   "cell_type": "markdown",
   "id": "1c64acc4",
   "metadata": {},
   "source": [
    "# Merger Simulation: New Cost"
   ]
  },
  {
   "cell_type": "code",
   "execution_count": 73,
   "id": "81b78429",
   "metadata": {},
   "outputs": [
    {
     "name": "stdout",
     "output_type": "stream",
     "text": [
      "[1.04201582 1.04204045 1.00612626 1.00613118]\n",
      "[0.14107725 0.14106908 0.3070163  0.30701274]\n"
     ]
    }
   ],
   "source": [
    "p_new = sp.optimize.fsolve(foc_logit, x0=np.array([0,0,0,0]), args=(c*np.array([0.9,0.9,1,1]),α,ξ,p2f_new))\n",
    "print(p_new)\n",
    "\n",
    "q_new = quant_logit(p_new, α, ξ)\n",
    "print(q_new)"
   ]
  },
  {
   "cell_type": "code",
   "execution_count": null,
   "id": "738c0dd2",
   "metadata": {},
   "outputs": [],
   "source": [
    "# Merger Simulation: Collusion"
   ]
  },
  {
   "cell_type": "code",
   "execution_count": 76,
   "id": "e3dd3d02",
   "metadata": {},
   "outputs": [
    {
     "name": "stdout",
     "output_type": "stream",
     "text": [
      "[1.7343892  1.73438126 1.62723533 1.62722111]\n",
      "[0.09174339 0.0917451  0.23610328 0.23611117]\n"
     ]
    }
   ],
   "source": [
    "p_new = sp.optimize.fsolve(foc_logit, x0=np.array([1,2,1,1]), args=(c,α,ξ,np.array([1,1,1,1])))\n",
    "print(p_new)\n",
    "\n",
    "q_new = quant_logit(p_new, α, ξ)\n",
    "print(q_new)"
   ]
  },
  {
   "cell_type": "code",
   "execution_count": null,
   "id": "b1d5672c",
   "metadata": {},
   "outputs": [],
   "source": []
  }
 ],
 "metadata": {
  "kernelspec": {
   "display_name": "Python 3 (ipykernel)",
   "language": "python",
   "name": "python3"
  },
  "language_info": {
   "codemirror_mode": {
    "name": "ipython",
    "version": 3
   },
   "file_extension": ".py",
   "mimetype": "text/x-python",
   "name": "python",
   "nbconvert_exporter": "python",
   "pygments_lexer": "ipython3",
   "version": "3.10.9"
  }
 },
 "nbformat": 4,
 "nbformat_minor": 5
}
