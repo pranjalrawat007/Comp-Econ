{
 "cells": [
  {
   "cell_type": "code",
   "execution_count": 1,
   "id": "de221a52",
   "metadata": {},
   "outputs": [],
   "source": [
    "# Load packages\n",
    "import numpy as np"
   ]
  },
  {
   "cell_type": "code",
   "execution_count": 2,
   "id": "fa4ce5c3",
   "metadata": {},
   "outputs": [],
   "source": [
    "# Data\n",
    "s = np.array([0.15,0.15,0.3,0.3]) # Market shares, 0.1 for outside good\n",
    "m = 0.5 # m = (p-c)/p  => c = p(1-m) # price-cost margin for 1st firm (for calibration)\n",
    "p = np.array([1,1,1,1]) # pre-merger prices\n",
    "p2f = np.array([1,2,3,4]) # product to firm mapping\n",
    "P = 1 # market price\n",
    "Q = 1 # market quantity"
   ]
  },
  {
   "cell_type": "code",
   "execution_count": 4,
   "id": "84b28861",
   "metadata": {},
   "outputs": [
    {
     "name": "stdout",
     "output_type": "stream",
     "text": [
      "No. of products: 4\n",
      "No. of firms: 4\n"
     ]
    },
    {
     "data": {
      "text/plain": [
       "array([[1., 0., 0., 0.],\n",
       "       [0., 1., 0., 0.],\n",
       "       [0., 0., 1., 0.],\n",
       "       [0., 0., 0., 1.]])"
      ]
     },
     "execution_count": 4,
     "metadata": {},
     "output_type": "execute_result"
    }
   ],
   "source": [
    "def ownershipMatrix(p2f):\n",
    "    '''Converts a Jx1 vector mapping product-to-firms into JxJ Ownership matrix Ω\n",
    "        Ω_{i,j} = 1 if the same firm produces product i and j, else 0. '''\n",
    "    J = len(p2f) # Number of products\n",
    "    F = len(np.unique(p2f)) # Number of firms\n",
    "    Ω = np.zeros((J,J)) # Ownership matrix\n",
    "    \n",
    "    for i in range(J):\n",
    "        for j in range(J):\n",
    "            if p2f[i] == p2f[j]: # firm producing product i is same firm that produces product j\n",
    "                Ω[i,j] = 1\n",
    "                \n",
    "    print('No. of products:',J)\n",
    "    print('No. of firms:',F)\n",
    "    return  Ω \n",
    "    \n",
    "ownershipMatrix(p2f)"
   ]
  },
  {
   "cell_type": "code",
   "execution_count": 4,
   "id": "7e8ef288",
   "metadata": {},
   "outputs": [],
   "source": [
    "def calibrateLogit(m,s,p,p2f):\n",
    "    '''Input: margin, shares (quantities),prices, product-to-firm mapping \n",
    "    Output: α: Calibrated price-coeff, a: mean non-price values, mc: marginal cost, \n",
    "    type_j: Nocke Shutz types, type: firm type, dqdp: demand derivatives, div: diversion matrix'''\n",
    "\n",
    "    Ω = ownershipMatrix(p2f) \n",
    "    J = len(p2f) \n",
    "    c1 = p[0]*(1-m) # Cost of 1st firm\n",
    "\n",
    "    # Generate Cross price derivatives\n",
    "    temp = -np.outer(s,s) #tcrossprod\n",
    "    np.fill_diagonal(temp, s*(1-s))\n",
    "\n",
    "    # Calculate α from the demand\n",
    "    if 1==len(p2f[p2f==1]):\n",
    "        α = -1/(1-s[0])/(p[0]-c1)\n",
    "        print(α)\n",
    "    else:\n",
    "        pass\n",
    "\n",
    "    # Cross price derivatives\n",
    "    dqdp = temp*α\n",
    "    print(dqdp)\n",
    "\n",
    "    # Marginal costs\n",
    "    c = p + np.dot(np.linalg.inv(Ω*dqdp.T),s)\n",
    "    print(c)\n",
    "\n",
    "    # Diversion Matrix D[k,j] = s_k / (1-sj) and -1 on diagonal\n",
    "    div = np.multiply(s,1/(1-s).reshape(-1,1))\n",
    "    np.fill_diagonal(div, -1)\n",
    "    print(div)\n",
    "\n",
    "    # Mean Valuations\n",
    "    ξ = np.log(s/(1-np.sum(s)))-α*p\n",
    "    print(ξ)\n",
    "\n",
    "    # Type\n",
    "    type_j = np.exp(ξ-α*c)\n",
    "    Type = np.bincount(p2f-1, weights=type_j)\n",
    "    print(type_j)\n",
    "    print(Type)\n",
    "\n",
    "calibrateLogit(m,s,p,p2f)"
   ]
  },
  {
   "cell_type": "code",
   "execution_count": 8,
   "id": "a41e4f9f",
   "metadata": {},
   "outputs": [
    {
     "name": "stdout",
     "output_type": "stream",
     "text": [
      "No. of products: 4\n",
      "No. of firms: 4\n",
      "-2.3529411764705883\n",
      "[[-0.3         0.05294118  0.10588235  0.10588235]\n",
      " [ 0.05294118 -0.3         0.10588235  0.10588235]\n",
      " [ 0.10588235  0.10588235 -0.49411765  0.21176471]\n",
      " [ 0.10588235  0.10588235  0.21176471 -0.49411765]]\n",
      "[0.5        0.5        0.39285714 0.39285714]\n",
      "[[-1.          0.17647059  0.35294118  0.35294118]\n",
      " [ 0.17647059 -1.          0.35294118  0.35294118]\n",
      " [ 0.21428571  0.21428571 -1.          0.42857143]\n",
      " [ 0.21428571  0.21428571  0.42857143 -1.        ]]\n",
      "[2.75840628 2.75840628 3.45155347 3.45155347]\n",
      "[51.15585089 51.15585089 79.51321331 79.51321331]\n",
      "[51.15585089 51.15585089 79.51321331 79.51321331]\n",
      "[0. 0. 0. 0.]\n"
     ]
    }
   ],
   "source": [
    "\n",
    "Ω = ownershipMatrix(p2f) \n",
    "J = len(p2f) \n",
    "c1 = p[0]*(1-m) # Cost of 1st firm\n",
    "\n",
    "# Generate Cross price derivatives\n",
    "temp = -np.outer(s,s) #tcrossprod\n",
    "np.fill_diagonal(temp, s*(1-s))\n",
    "\n",
    "# Calculate α from the demand\n",
    "if 1==len(p2f[p2f==1]):\n",
    "    α = -1/(1-s[0])/(p[0]-c1)\n",
    "    print(α)\n",
    "else:\n",
    "    pass\n",
    "\n",
    "# Cross price derivatives\n",
    "dqdp = temp*α\n",
    "print(dqdp)\n",
    "\n",
    "# Marginal costs\n",
    "c = p + np.dot(np.linalg.inv(Ω*dqdp.T),s)\n",
    "print(c)\n",
    "\n",
    "# Diversion Matrix D[k,j] = s_k / (1-sj) and -1 on diagonal\n",
    "div = np.multiply(s,1/(1-s).reshape(-1,1))\n",
    "np.fill_diagonal(div, -1)\n",
    "print(div)\n",
    "\n",
    "# Mean Valuations\n",
    "ξ = np.log(s/(1-np.sum(s)))-α*p\n",
    "print(ξ)\n",
    "\n",
    "# Type\n",
    "type_j = np.exp(ξ-α*c)\n",
    "Type = np.bincount(p2f-1, weights=type_j)\n",
    "print(type_j)\n",
    "print(Type)\n",
    "\n",
    "def focCheck(p,c,s,dqdp,Ω):\n",
    "    return -p+c-np.dot(np.linalg.inv(Ω*dqdp.T),s)\n",
    "\n",
    "print(focCheck(p,c,s,dqdp,Ω))"
   ]
  },
  {
   "cell_type": "code",
   "execution_count": 202,
   "id": "1800dd60",
   "metadata": {},
   "outputs": [
    {
     "data": {
      "text/plain": [
       "array([[1.17647059],\n",
       "       [1.17647059],\n",
       "       [1.42857143],\n",
       "       [1.42857143]])"
      ]
     },
     "execution_count": 202,
     "metadata": {},
     "output_type": "execute_result"
    }
   ],
   "source": [
    "1/(1-s).reshape(-1,1)"
   ]
  },
  {
   "cell_type": "code",
   "execution_count": 204,
   "id": "8fef2fc6",
   "metadata": {},
   "outputs": [
    {
     "data": {
      "text/plain": [
       "array([[0.17647059, 0.17647059, 0.35294118, 0.35294118],\n",
       "       [0.17647059, 0.17647059, 0.35294118, 0.35294118],\n",
       "       [0.21428571, 0.21428571, 0.42857143, 0.42857143],\n",
       "       [0.21428571, 0.21428571, 0.42857143, 0.42857143]])"
      ]
     },
     "execution_count": 204,
     "metadata": {},
     "output_type": "execute_result"
    }
   ],
   "source": [
    "np.multiply(s,1/(1-s).reshape(-1,1))"
   ]
  },
  {
   "cell_type": "code",
   "execution_count": 100,
   "id": "cfb81407",
   "metadata": {},
   "outputs": [
    {
     "name": "stdout",
     "output_type": "stream",
     "text": [
      "Help on ufunc:\n",
      "\n",
      "multiply = <ufunc 'multiply'>\n",
      "    multiply(x1, x2, /, out=None, *, where=True, casting='same_kind', order='K', dtype=None, subok=True[, signature, extobj])\n",
      "    \n",
      "    Multiply arguments element-wise.\n",
      "    \n",
      "    Parameters\n",
      "    ----------\n",
      "    x1, x2 : array_like\n",
      "        Input arrays to be multiplied.\n",
      "        If ``x1.shape != x2.shape``, they must be broadcastable to a common\n",
      "        shape (which becomes the shape of the output).\n",
      "    out : ndarray, None, or tuple of ndarray and None, optional\n",
      "        A location into which the result is stored. If provided, it must have\n",
      "        a shape that the inputs broadcast to. If not provided or None,\n",
      "        a freshly-allocated array is returned. A tuple (possible only as a\n",
      "        keyword argument) must have length equal to the number of outputs.\n",
      "    where : array_like, optional\n",
      "        This condition is broadcast over the input. At locations where the\n",
      "        condition is True, the `out` array will be set to the ufunc result.\n",
      "        Elsewhere, the `out` array will retain its original value.\n",
      "        Note that if an uninitialized `out` array is created via the default\n",
      "        ``out=None``, locations within it where the condition is False will\n",
      "        remain uninitialized.\n",
      "    **kwargs\n",
      "        For other keyword-only arguments, see the\n",
      "        :ref:`ufunc docs <ufuncs.kwargs>`.\n",
      "    \n",
      "    Returns\n",
      "    -------\n",
      "    y : ndarray\n",
      "        The product of `x1` and `x2`, element-wise.\n",
      "        This is a scalar if both `x1` and `x2` are scalars.\n",
      "    \n",
      "    Notes\n",
      "    -----\n",
      "    Equivalent to `x1` * `x2` in terms of array broadcasting.\n",
      "    \n",
      "    Examples\n",
      "    --------\n",
      "    >>> np.multiply(2.0, 4.0)\n",
      "    8.0\n",
      "    \n",
      "    >>> x1 = np.arange(9.0).reshape((3, 3))\n",
      "    >>> x2 = np.arange(3.0)\n",
      "    >>> np.multiply(x1, x2)\n",
      "    array([[  0.,   1.,   4.],\n",
      "           [  0.,   4.,  10.],\n",
      "           [  0.,   7.,  16.]])\n",
      "    \n",
      "    The ``*`` operator can be used as a shorthand for ``np.multiply`` on\n",
      "    ndarrays.\n",
      "    \n",
      "    >>> x1 = np.arange(9.0).reshape((3, 3))\n",
      "    >>> x2 = np.arange(3.0)\n",
      "    >>> x1 * x2\n",
      "    array([[  0.,   1.,   4.],\n",
      "           [  0.,   4.,  10.],\n",
      "           [  0.,   7.,  16.]])\n",
      "\n"
     ]
    }
   ],
   "source": [
    "help(np.multiply)"
   ]
  },
  {
   "cell_type": "code",
   "execution_count": null,
   "id": "4e5d1101",
   "metadata": {},
   "outputs": [],
   "source": []
  }
 ],
 "metadata": {
  "kernelspec": {
   "display_name": "Python 3 (ipykernel)",
   "language": "python",
   "name": "python3"
  },
  "language_info": {
   "codemirror_mode": {
    "name": "ipython",
    "version": 3
   },
   "file_extension": ".py",
   "mimetype": "text/x-python",
   "name": "python",
   "nbconvert_exporter": "python",
   "pygments_lexer": "ipython3",
   "version": "3.10.9"
  }
 },
 "nbformat": 4,
 "nbformat_minor": 5
}
