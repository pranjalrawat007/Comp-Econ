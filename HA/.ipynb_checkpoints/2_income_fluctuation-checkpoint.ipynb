{
 "cells": [
  {
   "cell_type": "code",
   "execution_count": 138,
   "metadata": {},
   "outputs": [],
   "source": [
    "# RANC: Income Fluctuation Problem with Occasionally Binding Constraints\n",
    "# With Time Iteration and Endogenous Grid Method\n",
    "\n",
    "# Problem: V(a,y) = max u(c)+βE[V(a',y')|y]\n",
    "# s.t. c + a' = (1+r)a + y, c>=0, a'>= lb\n",
    "# y'\\y ~ N\n",
    "# Euler: u'(c(a,y)) = β(1+r)E[u'(c(a',y'))]     (> if a'=0)\n",
    "\n",
    "# Time Iteration: from r, c(a',y'), β, P get c(a,y)\n",
    "# c(a,y) = invup  β(1+r) dot(P,u'(c(a',y')))\n",
    "\n"
   ]
  },
  {
   "cell_type": "code",
   "execution_count": 139,
   "metadata": {},
   "outputs": [],
   "source": [
    "using BenchmarkTools, Parameters, Interpolations"
   ]
  },
  {
   "cell_type": "code",
   "execution_count": 140,
   "metadata": {},
   "outputs": [
    {
     "data": {
      "text/plain": [
       "tauchen (generic function with 1 method)"
      ]
     },
     "execution_count": 140,
     "metadata": {},
     "output_type": "execute_result"
    }
   ],
   "source": [
    "# Shock Process Discretization\n",
    "using Distributions\n",
    "function tauchen(μ,σ,ρ,N)\n",
    "    σ_ = σ/(1-ρ^2)^0.5    \n",
    "    zu = μ + 3*σ\n",
    "    zl = μ - 3*σ\n",
    "    Z = collect(range(zl, zu, N))\n",
    "    M = (Z[1:end-1]+Z[2:end])/2\n",
    "    z = Normal(0, 1)\n",
    "    P = zeros(N,N)\n",
    "    for i in 2:N-1\n",
    "        for j in 2:N-1\n",
    "            P[i,j] = cdf(z, (M[j]-(1-ρ)*μ-ρ*Z[i])/σ)-cdf(z, (M[j-1]-(1-ρ)*μ-ρ*Z[i])/σ)\n",
    "        end\n",
    "    end\n",
    "\n",
    "    P[:,1] = [cdf(z, (M[1]-(1-ρ)*μ-ρ*z_)/σ) for z_ in Z]\n",
    "    P[:,end] = [(1-cdf(z, (M[end-1]-(1-ρ)*μ-ρ*z_)/σ)) for z_ in Z]\n",
    "    return Z, P\n",
    "    end"
   ]
  },
  {
   "cell_type": "code",
   "execution_count": 141,
   "metadata": {},
   "outputs": [
    {
     "data": {
      "text/plain": [
       "((10, 5), (10, 5))"
      ]
     },
     "execution_count": 141,
     "metadata": {},
     "output_type": "execute_result"
    }
   ],
   "source": [
    "# Parameters\n",
    "ub = 200 # upper bound for assets\n",
    "lb = 0 # lower bound for assets (can be negative)\n",
    "β = 0.98 # patience\n",
    "α = 0.11 # share of capital in income\n",
    "δ = 0.025 # depreciation\n",
    "γ = 0.5 # elasticity of substitution\n",
    "r = 0.05 # interest rate\n",
    "\n",
    "# Utility Function Tools\n",
    "u(c, γ) = c.^(1-γ)/(1-γ) # period utility\n",
    "up(c, γ) = c.^-γ # marginal utility\n",
    "invup(up, γ) = up.^(-1\\γ) # inverse of marginal utility\n",
    "\n",
    "# Income Process\n",
    "ρ = 0.9\n",
    "N_Y = 5\n",
    "σ = 0.13\n",
    "μ = 0\n",
    "Y, P = tauchen(μ,σ,ρ,N_Y) # Shock Space and Transition Matrix\n",
    "\n",
    "# Asset and Income Grids\n",
    "N_A = 10\n",
    "\n",
    "function getGrids(ub, lb, N_A, N_Z, Y)\n",
    "    Agrid = [i for i in range(lb, ub, N_A), j in 1:N_Y]\n",
    "    Ygrid = [i for i = 1:N_A, j in Y]\n",
    "    return Agrid, Ygrid\n",
    "end\n",
    "\n",
    "Agrid, Ygrid = getGrids(ub, lb, N_A, N_Z, Y)\n",
    "size(Agrid), size(Ygrid)"
   ]
  },
  {
   "cell_type": "code",
   "execution_count": 142,
   "metadata": {},
   "outputs": [
    {
     "data": {
      "text/plain": [
       "getAfromBudget (generic function with 2 methods)"
      ]
     },
     "execution_count": 142,
     "metadata": {},
     "output_type": "execute_result"
    }
   ],
   "source": [
    "using LinearAlgebra\n",
    "\n",
    "# Use Euler Equation to get optimal c(t), from {c(t+1), β, P, r, u, γ}.\n",
    "function getCfromEuler(γ, β, P, r, cp)\n",
    "    # Input: cp (N_A x N_Y), P (N_Y x N_Y) and (γ, β, r, u)\n",
    "    # Output: c (N_A x N_Y)\n",
    "    print(true)\n",
    "\n",
    "    diffVp = (1+r).*up(cp, γ) # V'(a',z') = (1+r)u'(c(a',z')\n",
    "    RHS = β .* diffVp * P' # βE(V'(a,z))\n",
    "    c = invup(RHS, γ) # u'^-1 (βE(V'(a,z)))\n",
    "    return c \n",
    "end \n",
    "\n",
    "# Use Budget to get Feasible Asset a(t), from future Asset a(t+1), Optimal Consumption c(t). \n",
    "function getAfromBudget(Agrid, Ygrid, r, w, c)\n",
    "    # Input: a' (N_A x N_Y matrix), y' (N_A x N_Y matrix), c (N_A x N_Y matrix), r \n",
    "    # Output: a (N_A x N_Y matrix)\n",
    "    # (1+r)a + w*y = c + a' ==> a = 1/(1+r) * (c + a' - y)\n",
    "    return 1/(1+r) .* (c .+ Agrid .- w*Ygrid)\n",
    "end"
   ]
  },
  {
   "cell_type": "code",
   "execution_count": 143,
   "metadata": {},
   "outputs": [
    {
     "name": "stdout",
     "output_type": "stream",
     "text": [
      "true"
     ]
    },
    {
     "data": {
      "text/plain": [
       "10×5 Matrix{Float64}:\n",
       " NaN        0.0      0.0      0.0      NaN\n",
       "   2.60725  2.12167  1.94226  1.72382    2.16829\n",
       "   3.10057  2.52311  2.30975  2.04998    2.57855\n",
       "   3.43134  2.79228  2.55616  2.26867    2.85363\n",
       "   3.68721  3.0005   2.74677  2.43785    3.06643\n",
       "   3.89875  3.17264  2.90436  2.57771    3.24235\n",
       "   4.08057  3.3206   3.0398   2.69792    3.39356\n",
       "   4.2409   3.45106  3.15924  2.80392    3.52689\n",
       "   4.38486  3.56821  3.26648  2.8991     3.64662\n",
       "   4.5159   3.67484  3.3641   2.98574    3.75559"
      ]
     },
     "execution_count": 143,
     "metadata": {},
     "output_type": "execute_result"
    }
   ],
   "source": [
    "c = getCfromEuler(γ, β, P, r, Agrid)"
   ]
  },
  {
   "cell_type": "code",
   "execution_count": 144,
   "metadata": {},
   "outputs": [
    {
     "data": {
      "text/plain": [
       "10-element extrapolate(interpolate((::Vector{Float64},), ::Vector{Float64}, Gridded(Linear())), Line()) with element type Float64:\n",
       " NaN\n",
       " NaN\n",
       "   3.10056525433684\n",
       "   3.4313395078256095\n",
       "   3.687214260987591\n",
       "   3.8987544017165154\n",
       "   4.08057335669615\n",
       "   4.240898584522258\n",
       "   4.384861433705944\n",
       "   4.515896755866481"
      ]
     },
     "execution_count": 144,
     "metadata": {},
     "output_type": "execute_result"
    }
   ],
   "source": [
    "LinearInterpolation(Agrid[:,1], c[:,1], extrapolation_bc = Line())"
   ]
  },
  {
   "cell_type": "code",
   "execution_count": 145,
   "metadata": {},
   "outputs": [
    {
     "data": {
      "text/plain": [
       "EGM (generic function with 2 methods)"
      ]
     },
     "execution_count": 145,
     "metadata": {},
     "output_type": "execute_result"
    }
   ],
   "source": [
    "function EGM(γ, β, P, Agrid, Ygrid, N_A, N_Z, w, r, rp, cp, c_bind)\n",
    "    # input: γ, β, P, Agrid, Ygrid, N_A, N_Z, r, r', c(z,0), c(z,0)\n",
    "    # output: c, a'\n",
    "    c = getCfromEuler(γ, β, P, r, cp)\n",
    "    a = getAfromBudget(Agrid, Ygrid, r, cp)\n",
    "    \n",
    "    c_nonbind = similar(Agrid)\n",
    "    # Interpolate c(a,y) for each y, using optimal c & feasible a (given a', cp)\n",
    "    # This is optimal c if there is no active borrowing constraint\n",
    "    for i in 1:N_Z\n",
    "        interpolated_c_function = LinearInterpolation(a[:,i], c[:,i], extrapolation_bc = Line())\n",
    "        c_nonbind[:, i] = interpolated_c_function.(Agrid[:,i])\n",
    "    end\n",
    "    \n",
    "    # a[1,j] is lowest feasible asset\n",
    "    # if Agrid[:,j] < a[1,j] then borrowing constraint binds and consumption = income + borrowing\n",
    "    for j in 1:N_A\n",
    "        lb = a[1,j]\n",
    "        c[:,j] = (Agrid[:,j] .> lb) .* c_nonbind[:,j] .+ (Agrid[:,j] .<= lb).* c_bind[:,j]\n",
    "    end\n",
    "        \n",
    "    # Use c(y,a) to obtain a(y,a)\n",
    "    ap = @. (1+r)*Agrid + w*Ygrid - c\n",
    "    \n",
    "    return c, ap\n",
    "end\n",
    "    "
   ]
  },
  {
   "cell_type": "code",
   "execution_count": null,
   "metadata": {},
   "outputs": [],
   "source": [
    "function TimeIteration(r, tol=1e-8, maxiter=1000)\n",
    "    Z = ((r + δ)/α)^α # agg Y normalised to 1\n",
    "    w = ((1-α)*Z*(alpha*Z)/(r+δ))^(α/(1-α)) \n",
    "    cp = @. r*Agrid+Ygrid*w # Initial Guess, Save nothing\n",
    "    c_bind = @. (1+r)*Agrid + w*Ygrid - lb # consumption when borrowing constraint binds (a' = lb)\n",
    "    for i in 1:maxiter\n",
    "        c, ap = EGM(γ, β, P, Agrid, Ygrid, N_A, N_Z, w, r, rp, cp, c_bind)\n",
    "        if norm(c-cp,Inf)<tol\n",
    "            return egm(hh; w=w, rnext=r, r=r, cnext=c, cbinding=cbinding)\n",
    "        else\n",
    "            cp = c"
   ]
  },
  {
   "cell_type": "code",
   "execution_count": null,
   "metadata": {},
   "outputs": [],
   "source": [
    "function iterate_egm(hh; r, tol=1e-8, maxiter=1000)\n",
    "    @unpack deprec, alpha, Amat, Ymat, bc = hh\n",
    "    \n",
    "    Z = ((r + deprec)/alpha)^alpha # normalize aggregate income so that Y=1\n",
    "    w = (1-alpha)*Z*(alpha*Z/(r+deprec))^(alpha/(1-alpha)) # wage rate given guess for r\n",
    "     \n",
    "    cnext = @. r*Amat+Ymat*w # initial guess for policy function iteration \n",
    "    \n",
    "    cbinding = @. (1+r)*Amat + w*Ymat - bc # get consumption when borrowing constraint binds\n",
    "    \n",
    "    dist = 1\n",
    "    counter = 0\n",
    "    \n",
    "    for i=1:maxiter\n",
    "        c = egm(hh; w=w, rnext=r, r=r, cnext=cnext, cbinding=cbinding)[1]\n",
    "        if norm(c-cnext,Inf)<tol \n",
    "            println(\"policy function iteration successful!\")\n",
    "            return egm(hh; w=w, rnext=r, r=r, cnext=c, cbinding=cbinding)\n",
    "        else\n",
    "            cnext = c\n",
    "        end\n",
    "    end\n",
    "    \n",
    "    error(\"no policy function convergence!\")\n",
    "    \n",
    "end"
   ]
  }
 ],
 "metadata": {
  "kernelspec": {
   "display_name": "Julia 1.7.2",
   "language": "julia",
   "name": "julia-1.7"
  },
  "language_info": {
   "file_extension": ".jl",
   "mimetype": "application/julia",
   "name": "julia",
   "version": "1.7.2"
  }
 },
 "nbformat": 4,
 "nbformat_minor": 4
}
