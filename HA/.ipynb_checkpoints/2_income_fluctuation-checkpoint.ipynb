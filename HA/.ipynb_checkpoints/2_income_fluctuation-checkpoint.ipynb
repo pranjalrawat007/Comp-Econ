{
 "cells": [
  {
   "cell_type": "code",
   "execution_count": 85,
   "metadata": {},
   "outputs": [],
   "source": [
    "# Income Fluctuation Problem\n",
    "# Using Time Iteration and Endogenous Grid Method\n",
    "\n",
    "# V(a,y) = max u(c)+βE[V(a',y')|y]\n",
    "# s.t. c + a' = (1+r)a + y\n",
    "# c>=0, a'>= lb\n",
    "# y'\\y ~ N\n",
    "# Euler: u'(c(a,y)) = β(1+r)E[u'(c(a',y'))]     (> if a'=0)\n",
    "\n",
    "# Time Iteration: from r, c(a',y'), β, P get c(a,y)\n",
    "# c(a,y) = invup  β(1+r) dot(P,u'(c(a',y')))\n",
    "\n"
   ]
  },
  {
   "cell_type": "code",
   "execution_count": 86,
   "metadata": {},
   "outputs": [
    {
     "data": {
      "text/plain": [
       "tauchen (generic function with 1 method)"
      ]
     },
     "execution_count": 86,
     "metadata": {},
     "output_type": "execute_result"
    }
   ],
   "source": [
    "# Shock Process Discretization\n",
    "using Distributions\n",
    "function tauchen(μ,σ,ρ,N)\n",
    "    σ_ = σ/(1-ρ^2)^0.5    \n",
    "    zu = μ + 3*σ\n",
    "    zl = μ - 3*σ\n",
    "    Z = collect(range(zl, zu, N))\n",
    "    M = (Z[1:end-1]+Z[2:end])/2\n",
    "    z = Normal(0, 1)\n",
    "    P = zeros(N,N)\n",
    "    for i in 2:N-1\n",
    "        for j in 2:N-1\n",
    "            P[i,j] = cdf(z, (M[j]-(1-ρ)*μ-ρ*Z[i])/σ)-cdf(z, (M[j-1]-(1-ρ)*μ-ρ*Z[i])/σ)\n",
    "        end\n",
    "    end\n",
    "\n",
    "    P[:,1] = [cdf(z, (M[1]-(1-ρ)*μ-ρ*z_)/σ) for z_ in Z]\n",
    "    P[:,end] = [(1-cdf(z, (M[end-1]-(1-ρ)*μ-ρ*z_)/σ)) for z_ in Z]\n",
    "    return Z, P\n",
    "    end"
   ]
  },
  {
   "cell_type": "code",
   "execution_count": 92,
   "metadata": {},
   "outputs": [
    {
     "data": {
      "text/plain": [
       "((10, 5), (10, 5))"
      ]
     },
     "execution_count": 92,
     "metadata": {},
     "output_type": "execute_result"
    }
   ],
   "source": [
    "# Parameters\n",
    "ub = 200 # upper bound for assets\n",
    "lb = 0 # lower bound for assets (can be negative)\n",
    "β = 0.98 # patience\n",
    "α = 0.11 # share of capital in income\n",
    "δ = 0.025 # depreciation\n",
    "γ = 0.5 # elasticity of substitution\n",
    "r = 0.05 # interest rate\n",
    "\n",
    "# Utility Function Tools\n",
    "u(c, γ) = c.^(1-γ)/(1-γ) # period utility\n",
    "up(c, γ) = c.^-γ # marginal utility\n",
    "invup(up, γ) = up.^(-1\\γ) # inverse of marginal utility\n",
    "\n",
    "# Income Process\n",
    "ρ = 0.9\n",
    "N_Y = 5\n",
    "σ = 0.13\n",
    "μ = 0\n",
    "Y, P = tauchen(μ,σ,ρ,N_Y) # Shock Space and Transition Matrix\n",
    "\n",
    "# Asset and Income Grids\n",
    "N_A = 10\n",
    "\n",
    "function getGrids(ub, lb, N_A, N_Z, Y)\n",
    "    Agrid = [i for i in range(lb, ub, N_A), j in 1:N_Y]\n",
    "    Ygrid = [i for i = 1:N_A, j in Y]\n",
    "    return Agrid, Ygrid\n",
    "end\n",
    "\n",
    "Agrid, Ygrid = getGrids(ub, lb, N_A, N_Z, Y)\n",
    "size(Agrid), size(Ygrid)"
   ]
  },
  {
   "cell_type": "code",
   "execution_count": 102,
   "metadata": {},
   "outputs": [
    {
     "name": "stdout",
     "output_type": "stream",
     "text": [
      "(10, 5)(5, 5)"
     ]
    },
    {
     "data": {
      "text/plain": [
       "(10, 5)"
      ]
     },
     "execution_count": 102,
     "metadata": {},
     "output_type": "execute_result"
    }
   ],
   "source": [
    "using LinearAlgebra\n",
    "function TimeIteration(γ, β, P, r, C)\n",
    "    # Input: C_future (N_A x N_Y matrix), P (N_Y x N_Y) and constants γ, β,r,\n",
    "    # Output: C_now (N_A x N_Y matrix) \n",
    "    \n",
    "    Vprime = (1+r).*up(C, γ) # V'(a',z') = (1+r)u'(c(a',z')\n",
    "    RHS = β .* Vprime * P' # βE(V'(a,z))\n",
    "    c = invup(RHS, γ) # u'^-1 (βE(V'(a,z)))\n",
    "    return c # c(a,z) vector\n",
    "end \n",
    "\n",
    "C = Agrid\n",
    "\n",
    "TimeIteration(γ, β, P, r, C)"
   ]
  },
  {
   "cell_type": "code",
   "execution_count": 94,
   "metadata": {},
   "outputs": [
    {
     "data": {
      "text/plain": [
       "10×5 Matrix{Float64}:\n",
       "   0.0       0.0       0.0       0.0       0.0\n",
       "  21.164    21.164    21.164    21.164    21.164\n",
       "  42.328    42.328    42.328    42.328    42.328\n",
       "  63.4921   63.4921   63.4921   63.4921   63.4921\n",
       "  84.6561   84.6561   84.6561   84.6561   84.6561\n",
       " 105.82    105.82    105.82    105.82    105.82\n",
       " 126.984   126.984   126.984   126.984   126.984\n",
       " 148.148   148.148   148.148   148.148   148.148\n",
       " 169.312   169.312   169.312   169.312   169.312\n",
       " 190.476   190.476   190.476   190.476   190.476"
      ]
     },
     "execution_count": 94,
     "metadata": {},
     "output_type": "execute_result"
    }
   ],
   "source": [
    "# Get \"a\" matrix from vector c(a,z) and matrices a', z'; and r\n",
    "# obtain current assets given consumption today defined on asset grid tomorrow\n",
    "\n",
    "geta(Amat,Ymat; r,w,c) =  1/(1+r).*(c.+Amat.-w.*Ymat)\n",
    "\n",
    "function getAssets(Agrid, Ygrid, r, C)\n",
    "    # (1+r)a + z = c + a'\n",
    "    # a = 1/(1+r) * (c + a' - z)\n",
    "    return 1/(1+r) .* (C .+ Agrid .- Ygrid)\n",
    "end\n",
    "\n",
    "getAssets(Agrid, Ygrid, r, C)"
   ]
  },
  {
   "cell_type": "code",
   "execution_count": 71,
   "metadata": {},
   "outputs": [
    {
     "name": "stdout",
     "output_type": "stream",
     "text": [
      "(10,)(10, 10)"
     ]
    },
    {
     "data": {
      "text/plain": [
       "10-element Vector{Float64}:\n",
       " 1.3759680890398716\n",
       " 1.170700772119621\n",
       " 1.26663643883576\n",
       " 1.3613976559838235\n",
       " 1.4416245055522952\n",
       " 1.4973509406651988\n",
       " 1.519284256250321\n",
       " 1.512770434492169\n",
       " 1.5090215959594018\n",
       " 2.0134797261795554"
      ]
     },
     "execution_count": 71,
     "metadata": {},
     "output_type": "execute_result"
    }
   ],
   "source": [
    "C = range(1,10,10)\n",
    "TimeIteration(γ, β, P, r, C)"
   ]
  },
  {
   "cell_type": "code",
   "execution_count": null,
   "metadata": {},
   "outputs": [],
   "source": []
  }
 ],
 "metadata": {
  "kernelspec": {
   "display_name": "Julia 1.7.2",
   "language": "julia",
   "name": "julia-1.7"
  },
  "language_info": {
   "file_extension": ".jl",
   "mimetype": "application/julia",
   "name": "julia",
   "version": "1.7.2"
  }
 },
 "nbformat": 4,
 "nbformat_minor": 4
}
