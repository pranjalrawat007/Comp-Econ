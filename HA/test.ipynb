{
 "cells": [
  {
   "cell_type": "code",
   "execution_count": 1,
   "metadata": {},
   "outputs": [
    {
     "data": {
      "text/plain": [
       "rowenhorst (generic function with 1 method)"
      ]
     },
     "execution_count": 1,
     "metadata": {},
     "output_type": "execute_result"
    }
   ],
   "source": [
    "using Distributions, LinearAlgebra\n",
    "\n",
    "function rowenhorst(mean, uncond_sd, rho, num_states)\n",
    "    \"\"\"\n",
    "    Rowenhort's method to approximate AR(1) process with Markov chain (ln y_t = mu + rho y_{t-1} + e_t)\n",
    "    Note: this function also normalizes effective labour to one.\n",
    "    \n",
    "    #### Fields\n",
    "    \n",
    "    - 'mean': unconditional mean of income process\n",
    "    - 'uncond_sd': unconditional standard deviation\n",
    "    - 'rho': autocorrelation coefficient\n",
    "    - 'num_states': number of states we want discretized\n",
    "    \n",
    "    #### Returns\n",
    "    \n",
    "    - 'transition_matrix': num_states x num_states array where\n",
    "    transition_matrx[i,j] is prob. of going from i to j\n",
    "    - 'ygrid': vector of income state space of length num_states\n",
    "    \n",
    "    \"\"\"\n",
    "    \n",
    "    # construct grids\n",
    "    step_r = uncond_sd*sqrt(num_states-1)\n",
    "    ygrid = -1:2/(num_states-1):1\n",
    "    ygrid = mean .+ step_r*ygrid\n",
    "    \n",
    "    # initialize transition probabilities \n",
    "    p = (rho+1)/2\n",
    "    q = p\n",
    "    \n",
    "    transition_matrix = [p 1-p; 1-q q]\n",
    "    \n",
    "    # rowenhort's method\n",
    "    for i = 2:num_states-1\n",
    "        a1 = [transition_matrix zeros(i, 1); zeros(1, i+1)] \n",
    "        a2 = [zeros(i,1) transition_matrix; zeros(1, i+1)]\n",
    "        a3 = [zeros(1, i+1); transition_matrix zeros(i,1)]\n",
    "        a4 = [zeros(1, i+1); zeros(i,1) transition_matrix]\n",
    "        \n",
    "        transition_matrix = p*a1 + (1-p)*a2 + (1-q)*a3 + q*a4\n",
    "        transition_matrix[2:i, :] = transition_matrix[2:i, :]/2\n",
    "    end\n",
    "    \n",
    "    for i = 1:num_states\n",
    "       transition_matrix[i,:] = transition_matrix[i,:]/sum(transition_matrix[i,:])\n",
    "    end\n",
    "    \n",
    "    # get stationary distribution to normalize effective labour to L=1\n",
    "    pi = eigvecs(transition_matrix')[:,num_states]\n",
    "    \n",
    "    # normalize pi\n",
    "    pi = pi./sum(pi)\n",
    "    \n",
    "    # exponentiate\n",
    "    ygrid = exp.(ygrid)\n",
    "    \n",
    "    # normalize effective labour\n",
    "    ygrid = ygrid/sum(pi.*ygrid)\n",
    "    \n",
    "    return transition_matrix, ygrid\n",
    "end\n"
   ]
  },
  {
   "cell_type": "code",
   "execution_count": 2,
   "metadata": {},
   "outputs": [
    {
     "data": {
      "text/plain": [
       "(apoints = 500, amax = 200, beta = 0.98, alpha = 0.11, deprec = 0.025, gamma = 1, bc = 0, rho = 0.966, num_states = 7, sd = 0.13, mean = 0, uncond_sd = 0.5028195291614176, transition_matrix = [0.9022379843199956 0.09361981119088468 … 8.374316586000039e-9 2.4137569000000128e-11; 0.015603301865147443 0.9035872016735433 … 4.0355125541400147e-7 1.3957194310000061e-9; … ; 1.3957194310000061e-9 4.0355125541400147e-7 … 0.9035872016735433 0.015603301865147443; 2.4137569000000125e-11 8.374316586000037e-9 … 0.09361981119088467 0.9022379843199955], ygrid = [0.25738376293233367, 0.3880439624488877, 0.5850334732755494, 0.8820241982193845, 1.3297814941917474, 2.0048416198384222, 3.022594266947119], Amat = [0.0 0.0 … 0.0 0.0; 0.40080160320641284 0.40080160320641284 … 0.40080160320641284 0.40080160320641284; … ; 199.59919839679358 199.59919839679358 … 199.59919839679358 199.59919839679358; 200.0 200.0 … 200.0 200.0], Ymat = [0.25738376293233367 0.3880439624488877 … 2.0048416198384222 3.022594266947119; 0.25738376293233367 0.3880439624488877 … 2.0048416198384222 3.022594266947119; … ; 0.25738376293233367 0.3880439624488877 … 2.0048416198384222 3.022594266947119; 0.25738376293233367 0.3880439624488877 … 2.0048416198384222 3.022594266947119])"
      ]
     },
     "execution_count": 2,
     "metadata": {},
     "output_type": "execute_result"
    }
   ],
   "source": [
    "using Parameters, Plots, LinearAlgebra, Interpolations, BenchmarkTools\n",
    "\n",
    "Household = @with_kw (apoints = 500, #asset grid\n",
    "    amax = 200,  # asset max\n",
    "    beta = 0.98, # discount factor\n",
    "    alpha = 0.11, # capital share\n",
    "    deprec = 0.025, # depreciation rate\n",
    "    gamma = 1, # elasticity of substitution\n",
    "    bc = 0, # borrowing constraint (must be weakly negative)\n",
    "    rho = 0.966,  # autocorr of income process\n",
    "    num_states = 7, # number of states for income process\n",
    "    sd = 0.13, # stand. dev. of deviation process\n",
    "    mean = 0, # mean of income process\n",
    "    uncond_sd = 0.13/sqrt(1-rho^2), # unconditional sd\n",
    "    transition_matrix = rowenhorst(mean, uncond_sd, rho, num_states)[1], # transition matrix\n",
    "    ygrid = rowenhorst(mean, uncond_sd, rho, num_states)[2], # grid for income process\n",
    "    Amat = setgrids(bc, apoints, amax, num_states, ygrid)[1], # asset grid\n",
    "    Ymat = setgrids(bc, apoints, amax, num_states, ygrid)[2]) # income grid\n",
    "\n",
    "\n",
    "function setgrids(bc, apoints, amax, num_states, ygrid)\n",
    "    Amat = [i for i in range(bc, length = apoints, stop= amax), j in 1:num_states]\n",
    "    Ymat = [j for i = 1:apoints, j in ygrid]\n",
    "    return Amat, Ymat\n",
    "end\n",
    "\n",
    "hh = Household()"
   ]
  },
  {
   "cell_type": "code",
   "execution_count": null,
   "metadata": {},
   "outputs": [],
   "source": []
  }
 ],
 "metadata": {
  "kernelspec": {
   "display_name": "Julia 1.7.2",
   "language": "julia",
   "name": "julia-1.7"
  },
  "language_info": {
   "file_extension": ".jl",
   "mimetype": "application/julia",
   "name": "julia",
   "version": "1.7.2"
  }
 },
 "nbformat": 4,
 "nbformat_minor": 4
}
