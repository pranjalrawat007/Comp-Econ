{
 "cells": [
  {
   "cell_type": "code",
   "execution_count": 85,
   "metadata": {},
   "outputs": [],
   "source": [
    "# Income Fluctuation Problem\n",
    "# Using Time Iteration and Endogenous Grid Method\n",
    "\n",
    "# V(a,y) = max u(c)+βE[V(a',y')|y]\n",
    "# s.t. c + a' = (1+r)a + y\n",
    "# c>=0, a'>= lb\n",
    "# y'\\y ~ N\n",
    "# Euler: u'(c(a,y)) = β(1+r)E[u'(c(a',y'))]     (> if a'=0)\n",
    "\n",
    "# Time Iteration: from r, c(a',y'), β, P get c(a,y)\n",
    "# c(a,y) = invup  β(1+r) dot(P,u'(c(a',y')))\n",
    "\n"
   ]
  },
  {
   "cell_type": "code",
   "execution_count": 86,
   "metadata": {},
   "outputs": [
    {
     "data": {
      "text/plain": [
       "tauchen (generic function with 1 method)"
      ]
     },
     "execution_count": 86,
     "metadata": {},
     "output_type": "execute_result"
    }
   ],
   "source": [
    "# Shock Process Discretization\n",
    "using Distributions\n",
    "function tauchen(μ,σ,ρ,N)\n",
    "    σ_ = σ/(1-ρ^2)^0.5    \n",
    "    zu = μ + 3*σ\n",
    "    zl = μ - 3*σ\n",
    "    Z = collect(range(zl, zu, N))\n",
    "    M = (Z[1:end-1]+Z[2:end])/2\n",
    "    z = Normal(0, 1)\n",
    "    P = zeros(N,N)\n",
    "    for i in 2:N-1\n",
    "        for j in 2:N-1\n",
    "            P[i,j] = cdf(z, (M[j]-(1-ρ)*μ-ρ*Z[i])/σ)-cdf(z, (M[j-1]-(1-ρ)*μ-ρ*Z[i])/σ)\n",
    "        end\n",
    "    end\n",
    "\n",
    "    P[:,1] = [cdf(z, (M[1]-(1-ρ)*μ-ρ*z_)/σ) for z_ in Z]\n",
    "    P[:,end] = [(1-cdf(z, (M[end-1]-(1-ρ)*μ-ρ*z_)/σ)) for z_ in Z]\n",
    "    return Z, P\n",
    "    end"
   ]
  },
  {
   "cell_type": "code",
   "execution_count": 92,
   "metadata": {},
   "outputs": [
    {
     "data": {
      "text/plain": [
       "((10, 5), (10, 5))"
      ]
     },
     "execution_count": 92,
     "metadata": {},
     "output_type": "execute_result"
    }
   ],
   "source": [
    "# Parameters\n",
    "ub = 200 # upper bound for assets\n",
    "lb = 0 # lower bound for assets (can be negative)\n",
    "β = 0.98 # patience\n",
    "α = 0.11 # share of capital in income\n",
    "δ = 0.025 # depreciation\n",
    "γ = 0.5 # elasticity of substitution\n",
    "r = 0.05 # interest rate\n",
    "\n",
    "# Utility Function Tools\n",
    "u(c, γ) = c.^(1-γ)/(1-γ) # period utility\n",
    "up(c, γ) = c.^-γ # marginal utility\n",
    "invup(up, γ) = up.^(-1\\γ) # inverse of marginal utility\n",
    "\n",
    "# Income Process\n",
    "ρ = 0.9\n",
    "N_Y = 5\n",
    "σ = 0.13\n",
    "μ = 0\n",
    "Y, P = tauchen(μ,σ,ρ,N_Y) # Shock Space and Transition Matrix\n",
    "\n",
    "# Asset and Income Grids\n",
    "N_A = 10\n",
    "\n",
    "function getGrids(ub, lb, N_A, N_Z, Y)\n",
    "    Agrid = [i for i in range(lb, ub, N_A), j in 1:N_Y]\n",
    "    Ygrid = [i for i = 1:N_A, j in Y]\n",
    "    return Agrid, Ygrid\n",
    "end\n",
    "\n",
    "Agrid, Ygrid = getGrids(ub, lb, N_A, N_Z, Y)\n",
    "size(Agrid), size(Ygrid)"
   ]
  },
  {
   "cell_type": "code",
   "execution_count": 103,
   "metadata": {},
   "outputs": [
    {
     "data": {
      "text/plain": [
       "10×5 Matrix{Float64}:\n",
       " NaN        0.0      0.0      0.0      NaN\n",
       "   2.60725  2.12167  1.94226  1.72382    2.16829\n",
       "   3.10057  2.52311  2.30975  2.04998    2.57855\n",
       "   3.43134  2.79228  2.55616  2.26867    2.85363\n",
       "   3.68721  3.0005   2.74677  2.43785    3.06643\n",
       "   3.89875  3.17264  2.90436  2.57771    3.24235\n",
       "   4.08057  3.3206   3.0398   2.69792    3.39356\n",
       "   4.2409   3.45106  3.15924  2.80392    3.52689\n",
       "   4.38486  3.56821  3.26648  2.8991     3.64662\n",
       "   4.5159   3.67484  3.3641   2.98574    3.75559"
      ]
     },
     "execution_count": 103,
     "metadata": {},
     "output_type": "execute_result"
    }
   ],
   "source": [
    "using LinearAlgebra\n",
    "function TimeIteration(γ, β, P, r, C)\n",
    "    # Input: C_future (N_A x N_Y matrix), P (N_Y x N_Y) and constants γ, β,r,\n",
    "    # Output: C_now (N_A x N_Y matrix) \n",
    "    \n",
    "    Vprime = (1+r).*up(C, γ) # V'(a',z') = (1+r)u'(c(a',z')\n",
    "    RHS = β .* Vprime * P' # βE(V'(a,z))\n",
    "    c = invup(RHS, γ) # u'^-1 (βE(V'(a,z)))\n",
    "    return c # c(a,z) vector\n",
    "end \n",
    "\n",
    "C = Agrid\n",
    "\n",
    "TimeIteration(γ, β, P, r, C)"
   ]
  },
  {
   "cell_type": "code",
   "execution_count": 105,
   "metadata": {},
   "outputs": [
    {
     "data": {
      "text/plain": [
       "10×5 Matrix{Float64}:\n",
       "  -0.952381   -0.952381   -0.952381   -0.952381   -0.952381\n",
       "  40.4233     40.4233     40.4233     40.4233     40.4233\n",
       "  81.7989     81.7989     81.7989     81.7989     81.7989\n",
       " 123.175     123.175     123.175     123.175     123.175\n",
       " 164.55      164.55      164.55      164.55      164.55\n",
       " 205.926     205.926     205.926     205.926     205.926\n",
       " 247.302     247.302     247.302     247.302     247.302\n",
       " 288.677     288.677     288.677     288.677     288.677\n",
       " 330.053     330.053     330.053     330.053     330.053\n",
       " 371.429     371.429     371.429     371.429     371.429"
      ]
     },
     "execution_count": 105,
     "metadata": {},
     "output_type": "execute_result"
    }
   ],
   "source": [
    "# Get \"a\" matrix from matrices a', z', c; and r\n",
    "function getAssets(Agrid, Ygrid, r, C)\n",
    "    # Input: a' (N_A x N_Y matrix), y' (N_A x N_Y matrix), c (N_A x N_Y matrix), r \n",
    "    # Output: a (N_A x N_Y matrix)\n",
    "    # (1+r)a + y = c + a' ==> a = 1/(1+r) * (c + a' - y)\n",
    "    return 1/(1+r) .* (C .+ Agrid .- Ygrid)\n",
    "end\n",
    "\n",
    "C = Agrid\n",
    "getAssets(Agrid, Ygrid, r, C)"
   ]
  },
  {
   "cell_type": "code",
   "execution_count": 71,
   "metadata": {},
   "outputs": [
    {
     "name": "stdout",
     "output_type": "stream",
     "text": [
      "(10,)(10, 10)"
     ]
    },
    {
     "data": {
      "text/plain": [
       "10-element Vector{Float64}:\n",
       " 1.3759680890398716\n",
       " 1.170700772119621\n",
       " 1.26663643883576\n",
       " 1.3613976559838235\n",
       " 1.4416245055522952\n",
       " 1.4973509406651988\n",
       " 1.519284256250321\n",
       " 1.512770434492169\n",
       " 1.5090215959594018\n",
       " 2.0134797261795554"
      ]
     },
     "execution_count": 71,
     "metadata": {},
     "output_type": "execute_result"
    }
   ],
   "source": [
    "# obtain aggregates\n",
    "\n",
    "function getcapital(; policyfun, dist)\n",
    "    K = reshape(policyfun, (length(dist),1))\n",
    "    K = sum(K.*dist)\n",
    "    return K\n",
    "end\n",
    "\n",
    "function AggregateConsumption(c,ϕ)\n",
    "    C = reshape(c, (length(dist),1)) # flatten\n",
    "    C = sum(C.*dist) \n",
    "    return C\n",
    "\n",
    "function getconsumption(c, ϕ)\n",
    "    C = reshape(cpolicy, (length(dist),1)) \n",
    "    C = sum(C.*dist)\n",
    "    return C\n",
    "end"
   ]
  },
  {
   "cell_type": "code",
   "execution_count": null,
   "metadata": {},
   "outputs": [],
   "source": [
    "# Note: function takes both current and future interest rates as arguments.\n",
    "\n",
    "function egm(hh; w, cnext, cbinding, r, rnext)\n",
    " \"\"\"\n",
    "    use endogenous grid method to obtain c_{t} and a_{t} given c_{t+1} 'cnext'\n",
    "    \n",
    "    #### Fields\n",
    "    \n",
    "    - 'hh': household tuple\n",
    "    - 'w': wage rate\n",
    "    - 'cnext': time t+1 consumption grid\n",
    "    - 'cbinding': consumption grid when borrowing constraint binds\n",
    "    - 'r': interest rate at time t\n",
    "    - 'rnext': interest rate at time t+1\n",
    "    \n",
    "    #### Returns\n",
    "    \n",
    "    - 'c': time t consumption grid\n",
    "    - 'anext': time t policy function\n",
    "    \n",
    "\"\"\"\n",
    "    \n",
    "@unpack gamma, beta, transition_matrix, Amat, Ymat, num_states = hh\n",
    "\n",
    "# current policy functions on current grid\n",
    "c = getc(gamma, beta, transition_matrix; rnext=rnext, cnext=cnext)\n",
    "a = geta(Amat, Ymat; r=r, w=w, c=c)\n",
    "\n",
    "cnonbinding = similar(Amat)\n",
    "    \n",
    "# get consumption policy function for current grid\n",
    "for i = 1:num_states\n",
    "    cnonbinding[:,i] = LinearInterpolation(a[:,i], c[:,i], extrapolation_bc = Line()).(Amat[:,i])\n",
    "end\n",
    "\n",
    "# update elements of consumption policy when borrowing constraint binds\n",
    "# a[1,j] is the level of current assets that induces the borrowing constraint to bind exactly.\n",
    "# Therefore, whenever current assets are below a[1,j], the borrowing constraint will be STRICTLY binding.\n",
    "# Note that this uses the monotonicity of the policy rule.\n",
    "\n",
    "for j = 1:num_states\n",
    "   c[:,j] = (Amat[:,j] .> a[1,j]) .*cnonbinding[:,j] .+ (Amat[:,j] .<= a[1,j]).*cbinding[:,j]\n",
    "end\n",
    "    \n",
    "# update saving policy function with new consumption function\n",
    "anext = @. (1+r)*Amat + w*Ymat - c\n",
    "\n",
    "return c, anext\n",
    "end"
   ]
  },
  {
   "cell_type": "code",
   "execution_count": null,
   "metadata": {},
   "outputs": [],
   "source": [
    "function EGM(\n",
    "        # input: γ, β, P, Agrid, Ygrid, N_A, N_Z, r, \n",
    "        # output: "
   ]
  }
 ],
 "metadata": {
  "kernelspec": {
   "display_name": "Julia 1.7.2",
   "language": "julia",
   "name": "julia-1.7"
  },
  "language_info": {
   "file_extension": ".jl",
   "mimetype": "application/julia",
   "name": "julia",
   "version": "1.7.2"
  }
 },
 "nbformat": 4,
 "nbformat_minor": 4
}
