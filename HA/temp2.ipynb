{
 "cells": [
  {
   "cell_type": "code",
   "execution_count": 64,
   "metadata": {},
   "outputs": [
    {
     "data": {
      "text/plain": [
       "setgrids (generic function with 1 method)"
      ]
     },
     "execution_count": 64,
     "metadata": {},
     "output_type": "execute_result"
    }
   ],
   "source": [
    "using Distributions, LinearAlgebra\n",
    "import Random\n",
    "Random.seed!(1234)\n",
    "\n",
    "function rowenhorst(mean, uncond_sd, rho, num_states)\n",
    "    \"\"\"\n",
    "    Rowenhort's method to approximate AR(1) process with Markov chain (ln y_t = mu + rho y_{t-1} + e_t)\n",
    "    Note: this function also normalizes effective labour to one.\n",
    "    \n",
    "    #### Fields\n",
    "    \n",
    "    - 'mean': unconditional mean of income process\n",
    "    - 'uncond_sd': unconditional standard deviation\n",
    "    - 'rho': autocorrelation coefficient\n",
    "    - 'num_states': number of states we want discretized\n",
    "    \n",
    "    #### Returns\n",
    "    \n",
    "    - 'transition_matrix': num_states x num_states array where\n",
    "    transition_matrx[i,j] is prob. of going from i to j\n",
    "    - 'ygrid': vector of income state space of length num_states\n",
    "    \n",
    "    \"\"\"\n",
    "    \n",
    "    # construct grids\n",
    "    step_r = uncond_sd*sqrt(num_states-1)\n",
    "    ygrid = -1:2/(num_states-1):1\n",
    "    ygrid = mean .+ step_r*ygrid\n",
    "    \n",
    "    # initialize transition probabilities \n",
    "    p = (rho+1)/2\n",
    "    q = p\n",
    "    \n",
    "    transition_matrix = [p 1-p; 1-q q]\n",
    "    \n",
    "    # rowenhort's method\n",
    "    for i = 2:num_states-1\n",
    "        a1 = [transition_matrix zeros(i, 1); zeros(1, i+1)] \n",
    "        a2 = [zeros(i,1) transition_matrix; zeros(1, i+1)]\n",
    "        a3 = [zeros(1, i+1); transition_matrix zeros(i,1)]\n",
    "        a4 = [zeros(1, i+1); zeros(i,1) transition_matrix]\n",
    "        \n",
    "        transition_matrix = p*a1 + (1-p)*a2 + (1-q)*a3 + q*a4\n",
    "        transition_matrix[2:i, :] = transition_matrix[2:i, :]/2\n",
    "    end\n",
    "    \n",
    "    for i = 1:num_states\n",
    "       transition_matrix[i,:] = transition_matrix[i,:]/sum(transition_matrix[i,:])\n",
    "    end\n",
    "    \n",
    "    # get stationary distribution to normalize effective labour to L=1\n",
    "    pi = eigvecs(transition_matrix')[:,num_states]\n",
    "    \n",
    "    # normalize pi\n",
    "    pi = pi./sum(pi)\n",
    "    \n",
    "    # exponentiate\n",
    "    ygrid = exp.(ygrid)\n",
    "    \n",
    "    # normalize effective labour\n",
    "    ygrid = ygrid/sum(pi.*ygrid)\n",
    "    \n",
    "    return transition_matrix, ygrid\n",
    "end\n",
    "\n",
    "function setgrids(bc, apoints, amax, num_states, ygrid)\n",
    "    Amat = [i for i in range(bc, length = apoints, stop= amax), j in 1:num_states]\n",
    "    Ymat = [j for i = 1:apoints, j in ygrid]\n",
    "    return Amat, Ymat\n",
    "end"
   ]
  },
  {
   "cell_type": "code",
   "execution_count": 65,
   "metadata": {},
   "outputs": [
    {
     "data": {
      "text/plain": [
       "geta (generic function with 1 method)"
      ]
     },
     "execution_count": 65,
     "metadata": {},
     "output_type": "execute_result"
    }
   ],
   "source": [
    "using Parameters, Plots, LinearAlgebra, Interpolations, BenchmarkTools\n",
    "apoints = 500\n",
    "amax = 200  # asset max\n",
    "beta = 0.98 # discount factor\n",
    "alpha = 0.11 # capital share\n",
    "deprec = 0.025 # depreciation rate\n",
    "gamma = 1 # elasticity of substitution\n",
    "bc = 0 # borrowing constraint (must be weakly negative)\n",
    "rho = 0.966  # autocorr of income process\n",
    "num_states = 7; # number of states for income process\n",
    "sd = 0.13;\n",
    "mean = 0 # mean of income process\n",
    "uncond_sd = 0.13/sqrt(1-rho^2) # unconditional sd\n",
    "transition_matrix = rowenhorst(mean, uncond_sd, rho, num_states)[1] # transition matrix\n",
    "ygrid = rowenhorst(mean, uncond_sd, rho, num_states)[2] # grid for income process\n",
    "Amat = setgrids(bc, apoints, amax, num_states, ygrid)[1] # asset grid\n",
    "Ymat = setgrids(bc, apoints, amax, num_states, ygrid)[2]; # income grid\n",
    "up(c,gamma) = c.^(-gamma)\n",
    "invup(x,gamma) = x.^(-1/gamma)\n",
    "\n",
    "function getc(gamma,beta,transition_matrix; rnext,cnext)\n",
    "    upnext = beta.*(1+rnext).*up(cnext,gamma)*transition_matrix' # future marginal utility\n",
    "    c = invup(upnext,gamma) # current consumption\n",
    "    return c\n",
    "end\n",
    "\n",
    "geta(Amat,Ymat; r,w,c) =  1/(1+r).*(c.+Amat.-w.*Ymat)"
   ]
  },
  {
   "cell_type": "code",
   "execution_count": 68,
   "metadata": {},
   "outputs": [
    {
     "data": {
      "text/plain": [
       "(0.8900000000000001, 0.8816460975214567)"
      ]
     },
     "execution_count": 68,
     "metadata": {},
     "output_type": "execute_result"
    }
   ],
   "source": [
    "w, Z"
   ]
  },
  {
   "cell_type": "code",
   "execution_count": 52,
   "metadata": {},
   "outputs": [
    {
     "name": "stdout",
     "output_type": "stream",
     "text": [
      "0.010.88164609752145670.8900000000000001(500, 7)\n"
     ]
    },
    {
     "ename": "LoadError",
     "evalue": "MethodError: no method matching *(::Array{Float64, 3}, ::Adjoint{Float64, Matrix{Float64}})\n\u001b[0mClosest candidates are:\n\u001b[0m  *(::Any, ::Any, \u001b[91m::Any\u001b[39m, \u001b[91m::Any...\u001b[39m) at /Applications/Julia-1.7.app/Contents/Resources/julia/share/julia/base/operators.jl:655\n\u001b[0m  *(\u001b[91m::Union{SparseArrays.AbstractSparseMatrixCSC{TA, Ti}, SubArray{TA, 2, <:SparseArrays.AbstractSparseMatrixCSC{TA, Ti}, Tuple{Base.Slice{Base.OneTo{Int64}}, I}} where I<:AbstractUnitRange} where Ti\u001b[39m, ::Union{Adjoint{<:Any, <:Union{LowerTriangular, UnitLowerTriangular, UnitUpperTriangular, UpperTriangular, StridedMatrix, BitMatrix}}, LowerTriangular, Transpose{<:Any, <:Union{LowerTriangular, UnitLowerTriangular, UnitUpperTriangular, UpperTriangular, StridedMatrix, BitMatrix}}, UnitLowerTriangular, UnitUpperTriangular, UpperTriangular, StridedMatrix, BitMatrix}) where TA at /Applications/Julia-1.7.app/Contents/Resources/julia/share/julia/stdlib/v1.7/SparseArrays/src/linalg.jl:52\n\u001b[0m  *(\u001b[91m::LinearAlgebra.AbstractQ\u001b[39m, ::Adjoint{<:Any, <:StridedVecOrMat}) at /Applications/Julia-1.7.app/Contents/Resources/julia/share/julia/stdlib/v1.7/LinearAlgebra/src/qr.jl:710\n\u001b[0m  ...",
     "output_type": "error",
     "traceback": [
      "MethodError: no method matching *(::Array{Float64, 3}, ::Adjoint{Float64, Matrix{Float64}})\n\u001b[0mClosest candidates are:\n\u001b[0m  *(::Any, ::Any, \u001b[91m::Any\u001b[39m, \u001b[91m::Any...\u001b[39m) at /Applications/Julia-1.7.app/Contents/Resources/julia/share/julia/base/operators.jl:655\n\u001b[0m  *(\u001b[91m::Union{SparseArrays.AbstractSparseMatrixCSC{TA, Ti}, SubArray{TA, 2, <:SparseArrays.AbstractSparseMatrixCSC{TA, Ti}, Tuple{Base.Slice{Base.OneTo{Int64}}, I}} where I<:AbstractUnitRange} where Ti\u001b[39m, ::Union{Adjoint{<:Any, <:Union{LowerTriangular, UnitLowerTriangular, UnitUpperTriangular, UpperTriangular, StridedMatrix, BitMatrix}}, LowerTriangular, Transpose{<:Any, <:Union{LowerTriangular, UnitLowerTriangular, UnitUpperTriangular, UpperTriangular, StridedMatrix, BitMatrix}}, UnitLowerTriangular, UnitUpperTriangular, UpperTriangular, StridedMatrix, BitMatrix}) where TA at /Applications/Julia-1.7.app/Contents/Resources/julia/share/julia/stdlib/v1.7/SparseArrays/src/linalg.jl:52\n\u001b[0m  *(\u001b[91m::LinearAlgebra.AbstractQ\u001b[39m, ::Adjoint{<:Any, <:StridedVecOrMat}) at /Applications/Julia-1.7.app/Contents/Resources/julia/share/julia/stdlib/v1.7/LinearAlgebra/src/qr.jl:710\n\u001b[0m  ...",
      "",
      "Stacktrace:",
      " [1] getc(gamma::Int64, beta::Float64, transition_matrix::Matrix{Float64}; rnext::Float64, cnext::Array{Float64, 3})",
      "   @ Main ./In[49]:22",
      " [2] top-level scope",
      "   @ ./In[52]:14",
      " [3] eval",
      "   @ ./boot.jl:373 [inlined]",
      " [4] include_string(mapexpr::typeof(REPL.softscope), mod::Module, code::String, filename::String)",
      "   @ Base ./loading.jl:1196"
     ]
    }
   ],
   "source": [
    "r = 0.01\n",
    "tol=1e-8\n",
    "maxiter=1000\n",
    "Z = ((r + deprec)/alpha)^alpha # normalize aggregate income so that Y=1\n",
    "w = (1-alpha)*Z*(alpha*Z/(r+deprec))^(alpha/(1-alpha)) # wage rate given guess for r\n",
    "cnext = @. r*Amat+Ymat*w # initial guess for policy function iteration \n",
    "cbinding = @. (1+r)*Amat + w*Ymat - bc # get consumption when borrowing constraint binds\n",
    "rnext = r\n",
    "cpolicy = similar(Amat)\n",
    "\n",
    "println(r, Z, w, size(Amat))\n",
    "\n",
    "for i=1:maxiter\n",
    "    c = getc(gamma, beta, transition_matrix; rnext=rnext, cnext=cnext)\n",
    "    a = geta(Amat, Ymat; r=r, w=w, c=c)\n",
    "    cnonbinding = similar(Amat)\n",
    "\n",
    "    for i = 1:num_states\n",
    "        cnonbinding[:,i] = LinearInterpolation(a[:,i], c[:,i], extrapolation_bc = Line()).(Amat[:,i])\n",
    "    end\n",
    "    \n",
    "    for j = 1:num_states\n",
    "       c[:,j] = (Amat[:,j] .> a[1,j]) .*cnonbinding[:,j] .+ (Amat[:,j] .<= a[1,j]).*cbinding[:,j]\n",
    "    end\n",
    "\n",
    "    anext = @. (1+r)*Amat + w*Ymat - c\n",
    "\n",
    "    if norm(c-cnext,Inf)<tol \n",
    "        println(\"policy function iteration successful!\")\n",
    "        cpolicy = copy(c)\n",
    "        break\n",
    "    else\n",
    "        cnext = c\n",
    "    end\n",
    "end\n",
    "\n",
    "plot(Amat[:,1], cpolicy, label = ygrid', xlabel = \"assets\", ylabel = \"consumption\", title = \"consumption for various y\", legend = :bottomright)"
   ]
  },
  {
   "cell_type": "code",
   "execution_count": null,
   "metadata": {},
   "outputs": [],
   "source": []
  }
 ],
 "metadata": {
  "kernelspec": {
   "display_name": "Julia 1.7.2",
   "language": "julia",
   "name": "julia-1.7"
  },
  "language_info": {
   "file_extension": ".jl",
   "mimetype": "application/julia",
   "name": "julia",
   "version": "1.7.2"
  }
 },
 "nbformat": 4,
 "nbformat_minor": 4
}
